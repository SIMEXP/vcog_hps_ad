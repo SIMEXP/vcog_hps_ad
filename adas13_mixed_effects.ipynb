{
 "cells": [
  {
   "cell_type": "code",
   "execution_count": 1,
   "metadata": {
    "collapsed": true
   },
   "outputs": [],
   "source": [
    "adni1 <- c(read.csv(file='/Users/AngelaTam/Desktop/adsf/vbm_cog_hpc_20180131/adni1_mci_hps_long_neuropsych.csv',\n",
    "                    header=TRUE, sep=\",\")) \n",
    "adni2 <- c(read.csv(file='/Users/AngelaTam/Desktop/adsf/vbm_cog_hpc_20180131/adni2_mci_hps_long_neuropsych.csv',\n",
    "                    header=TRUE, sep=\",\"))"
   ]
  },
  {
   "cell_type": "code",
   "execution_count": 2,
   "metadata": {
    "collapsed": true
   },
   "outputs": [],
   "source": [
    "library(nlme)"
   ]
  },
  {
   "cell_type": "code",
   "execution_count": 3,
   "metadata": {
    "collapsed": true
   },
   "outputs": [],
   "source": [
    "options(contrasts=c(\"contr.sum\", \"contr.poly\"))"
   ]
  },
  {
   "cell_type": "markdown",
   "metadata": {},
   "source": [
    "## ADAS 13"
   ]
  },
  {
   "cell_type": "markdown",
   "metadata": {},
   "source": [
    "## adni1"
   ]
  },
  {
   "cell_type": "code",
   "execution_count": 4,
   "metadata": {
    "collapsed": true
   },
   "outputs": [],
   "source": [
    "fit1 <- lme(ADAS13 ~ as.factor(f_s1_only)*Month + as.factor(f_hpc)*Month, random = ~1|RID, \n",
    "            na.action=na.exclude, contrasts=c(\"contr.sum\", \"contr.poly\"), data=adni1)"
   ]
  },
  {
   "cell_type": "code",
   "execution_count": 5,
   "metadata": {},
   "outputs": [
    {
     "data": {
      "text/plain": [
       "Linear mixed-effects model fit by REML\n",
       " Data: adni1 \n",
       "       AIC     BIC    logLik\n",
       "  6614.512 6654.21 -3299.256\n",
       "\n",
       "Random effects:\n",
       " Formula: ~1 | RID\n",
       "        (Intercept) Residual\n",
       "StdDev:    4.422131 4.454948\n",
       "\n",
       "Fixed effects: ADAS13 ~ as.factor(f_s1_only) * Month + as.factor(f_hpc) * Month \n",
       "                                Value Std.Error  DF   t-value p-value\n",
       "(Intercept)                 21.672167 0.4839811 824  44.77895   0e+00\n",
       "as.factor(f_s1_only)1       -3.060739 0.4728991 232  -6.47229   0e+00\n",
       "Month                        0.287834 0.0156256 824  18.42061   0e+00\n",
       "as.factor(f_hpc)1           -5.285754 0.4018535 232 -13.15344   0e+00\n",
       "as.factor(f_s1_only)1:Month -0.049937 0.0146983 824  -3.39747   7e-04\n",
       "Month:as.factor(f_hpc)1     -0.128990 0.0129709 824  -9.94462   0e+00\n",
       " Correlation: \n",
       "                            (Intr) as.(_1_)1 Month  a.(_)1 a.(_1_)1:\n",
       "as.factor(f_s1_only)1       -0.647                                  \n",
       "Month                       -0.433  0.274                           \n",
       "as.factor(f_hpc)1           -0.442  0.397     0.200                 \n",
       "as.factor(f_s1_only)1:Month  0.284 -0.436    -0.636 -0.171          \n",
       "Month:as.factor(f_hpc)1      0.200 -0.165    -0.484 -0.434  0.367   \n",
       "\n",
       "Standardized Within-Group Residuals:\n",
       "        Min          Q1         Med          Q3         Max \n",
       "-2.95071557 -0.54452135 -0.06878393  0.48413511  6.10471753 \n",
       "\n",
       "Number of Observations: 1062\n",
       "Number of Groups: 235 "
      ]
     },
     "metadata": {},
     "output_type": "display_data"
    }
   ],
   "source": [
    "summary(fit1)"
   ]
  },
  {
   "cell_type": "code",
   "execution_count": 9,
   "metadata": {
    "collapsed": true
   },
   "outputs": [],
   "source": [
    "fit2 <- lme(ADAS13 ~ as.factor(f_s1_only)*Month + as.factor(f_hpc)*Month, random = ~1+Month|RID, \n",
    "            na.action=na.exclude, contrasts=c(\"contr.sum\", \"contr.poly\"), data=adni1)"
   ]
  },
  {
   "cell_type": "code",
   "execution_count": 10,
   "metadata": {},
   "outputs": [
    {
     "data": {
      "text/plain": [
       "Linear mixed-effects model fit by REML\n",
       " Data: adni1 \n",
       "       AIC      BIC    logLik\n",
       "  6404.562 6454.185 -3192.281\n",
       "\n",
       "Random effects:\n",
       " Formula: ~1 + Month | RID\n",
       " Structure: General positive-definite, Log-Cholesky parametrization\n",
       "            StdDev   Corr  \n",
       "(Intercept) 3.235629 (Intr)\n",
       "Month       0.211000 0.176 \n",
       "Residual    3.512972       \n",
       "\n",
       "Fixed effects: ADAS13 ~ as.factor(f_s1_only) * Month + as.factor(f_hpc) * Month \n",
       "                                Value Std.Error  DF   t-value p-value\n",
       "(Intercept)                 21.523261 0.3658865 824  58.82496  0.0000\n",
       "as.factor(f_s1_only)1       -3.021128 0.3568970 232  -8.46498  0.0000\n",
       "Month                        0.310449 0.0235397 824  13.18831  0.0000\n",
       "as.factor(f_hpc)1           -5.177348 0.3036537 232 -17.05017  0.0000\n",
       "as.factor(f_s1_only)1:Month -0.055175 0.0224548 824  -2.45717  0.0142\n",
       "Month:as.factor(f_hpc)1     -0.146808 0.0194126 824  -7.56253  0.0000\n",
       " Correlation: \n",
       "                            (Intr) as.(_1_)1 Month  a.(_)1 a.(_1_)1:\n",
       "as.factor(f_s1_only)1       -0.647                                  \n",
       "Month                       -0.158  0.096                           \n",
       "as.factor(f_hpc)1           -0.444  0.395     0.078                 \n",
       "as.factor(f_s1_only)1:Month  0.098 -0.145    -0.645 -0.053          \n",
       "Month:as.factor(f_hpc)1      0.078 -0.052    -0.467 -0.156  0.375   \n",
       "\n",
       "Standardized Within-Group Residuals:\n",
       "        Min          Q1         Med          Q3         Max \n",
       "-2.90511109 -0.48023034 -0.01865889  0.44950549  3.97636997 \n",
       "\n",
       "Number of Observations: 1062\n",
       "Number of Groups: 235 "
      ]
     },
     "metadata": {},
     "output_type": "display_data"
    }
   ],
   "source": [
    "summary(fit2)"
   ]
  },
  {
   "cell_type": "code",
   "execution_count": 11,
   "metadata": {},
   "outputs": [
    {
     "data": {
      "text/html": [
       "<table>\n",
       "<thead><tr><th></th><th scope=col>call</th><th scope=col>Model</th><th scope=col>df</th><th scope=col>AIC</th><th scope=col>BIC</th><th scope=col>logLik</th><th scope=col>Test</th><th scope=col>L.Ratio</th><th scope=col>p-value</th></tr></thead>\n",
       "<tbody>\n",
       "\t<tr><th scope=row>fit1</th><td>lme.formula(fixed = ADAS13 ~ as.factor(f_s1_only) * Month + as.factor(f_hpc) *     Month, data = adni1, random = ~1 | RID, na.action = na.exclude,     contrasts = c(\"contr.sum\", \"contr.poly\"))        </td><td>1                                                                                                                                                                                                       </td><td> 8                                                                                                                                                                                                      </td><td>6614.512                                                                                                                                                                                                </td><td>6654.210                                                                                                                                                                                                </td><td>-3299.256                                                                                                                                                                                               </td><td>                                                                                                                                                                                                        </td><td>      NA                                                                                                                                                                                                </td><td>          NA                                                                                                                                                                                            </td></tr>\n",
       "\t<tr><th scope=row>fit2</th><td>lme.formula(fixed = ADAS13 ~ as.factor(f_s1_only) * Month + as.factor(f_hpc) *     Month, data = adni1, random = ~1 + Month | RID, na.action = na.exclude,     contrasts = c(\"contr.sum\", \"contr.poly\"))</td><td>2                                                                                                                                                                                                       </td><td>10                                                                                                                                                                                                      </td><td>6404.562                                                                                                                                                                                                </td><td>6454.185                                                                                                                                                                                                </td><td>-3192.281                                                                                                                                                                                               </td><td>1 vs 2                                                                                                                                                                                                  </td><td>213.9498                                                                                                                                                                                                </td><td>3.478472e-47                                                                                                                                                                                            </td></tr>\n",
       "</tbody>\n",
       "</table>\n"
      ],
      "text/latex": [
       "\\begin{tabular}{r|lllllllll}\n",
       "  & call & Model & df & AIC & BIC & logLik & Test & L.Ratio & p-value\\\\\n",
       "\\hline\n",
       "\tfit1 & lme.formula(fixed = ADAS13 \\textasciitilde{} as.factor(f\\_s1\\_only) * Month + as.factor(f\\_hpc) *     Month, data = adni1, random = \\textasciitilde{}1 \\textbar{} RID, na.action = na.exclude,     contrasts = c(\"contr.sum\", \"contr.poly\"))         & 1                                                                                                                                                                                                                                                          &  8                                                                                                                                                                                                                                                         & 6614.512                                                                                                                                                                                                                                                   & 6654.210                                                                                                                                                                                                                                                   & -3299.256                                                                                                                                                                                                                                                  &                                                                                                                                                                                                                                                            &       NA                                                                                                                                                                                                                                                   &           NA                                                                                                                                                                                                                                              \\\\\n",
       "\tfit2 & lme.formula(fixed = ADAS13 \\textasciitilde{} as.factor(f\\_s1\\_only) * Month + as.factor(f\\_hpc) *     Month, data = adni1, random = \\textasciitilde{}1 + Month \\textbar{} RID, na.action = na.exclude,     contrasts = c(\"contr.sum\", \"contr.poly\")) & 2                                                                                                                                                                                                                                                          & 10                                                                                                                                                                                                                                                         & 6404.562                                                                                                                                                                                                                                                   & 6454.185                                                                                                                                                                                                                                                   & -3192.281                                                                                                                                                                                                                                                  & 1 vs 2                                                                                                                                                                                                                                                     & 213.9498                                                                                                                                                                                                                                                   & 3.478472e-47                                                                                                                                                                                                                                              \\\\\n",
       "\\end{tabular}\n"
      ],
      "text/markdown": [
       "\n",
       "| <!--/--> | call | Model | df | AIC | BIC | logLik | Test | L.Ratio | p-value | \n",
       "|---|---|\n",
       "| fit1 | lme.formula(fixed = ADAS13 ~ as.factor(f_s1_only) * Month + as.factor(f_hpc) *     Month, data = adni1, random = ~1 | RID, na.action = na.exclude,     contrasts = c(\"contr.sum\", \"contr.poly\"))         | 1                                                                                                                                                                                                        |  8                                                                                                                                                                                                       | 6614.512                                                                                                                                                                                                 | 6654.210                                                                                                                                                                                                 | -3299.256                                                                                                                                                                                                |                                                                                                                                                                                                          |       NA                                                                                                                                                                                                 |           NA                                                                                                                                                                                             | \n",
       "| fit2 | lme.formula(fixed = ADAS13 ~ as.factor(f_s1_only) * Month + as.factor(f_hpc) *     Month, data = adni1, random = ~1 + Month | RID, na.action = na.exclude,     contrasts = c(\"contr.sum\", \"contr.poly\")) | 2                                                                                                                                                                                                        | 10                                                                                                                                                                                                       | 6404.562                                                                                                                                                                                                 | 6454.185                                                                                                                                                                                                 | -3192.281                                                                                                                                                                                                | 1 vs 2                                                                                                                                                                                                   | 213.9498                                                                                                                                                                                                 | 3.478472e-47                                                                                                                                                                                             | \n",
       "\n",
       "\n"
      ],
      "text/plain": [
       "     call                                                                                                                                                                                                    \n",
       "fit1 lme.formula(fixed = ADAS13 ~ as.factor(f_s1_only) * Month + as.factor(f_hpc) *     Month, data = adni1, random = ~1 | RID, na.action = na.exclude,     contrasts = c(\"contr.sum\", \"contr.poly\"))        \n",
       "fit2 lme.formula(fixed = ADAS13 ~ as.factor(f_s1_only) * Month + as.factor(f_hpc) *     Month, data = adni1, random = ~1 + Month | RID, na.action = na.exclude,     contrasts = c(\"contr.sum\", \"contr.poly\"))\n",
       "     Model df AIC      BIC      logLik    Test   L.Ratio  p-value     \n",
       "fit1 1      8 6614.512 6654.210 -3299.256              NA           NA\n",
       "fit2 2     10 6404.562 6454.185 -3192.281 1 vs 2 213.9498 3.478472e-47"
      ]
     },
     "metadata": {},
     "output_type": "display_data"
    }
   ],
   "source": [
    "anova(fit1,fit2)"
   ]
  },
  {
   "cell_type": "code",
   "execution_count": 12,
   "metadata": {
    "collapsed": true
   },
   "outputs": [],
   "source": [
    "fit3 <- lme(ADAS13 ~ as.factor(f_s1_only)*Month + as.factor(f_hpc)*Month, random = ~1|RID, \n",
    "            na.action=na.exclude, contrasts=c(\"contr.sum\", \"contr.poly\"), \n",
    "            correlation=corAR1(form=~1|RID,fixed=FALSE), data=adni1)"
   ]
  },
  {
   "cell_type": "code",
   "execution_count": 13,
   "metadata": {},
   "outputs": [
    {
     "data": {
      "text/plain": [
       "Linear mixed-effects model fit by REML\n",
       " Data: adni1 \n",
       "       AIC      BIC    logLik\n",
       "  6540.311 6584.971 -3261.155\n",
       "\n",
       "Random effects:\n",
       " Formula: ~1 | RID\n",
       "        (Intercept) Residual\n",
       "StdDev:    3.340354 5.439417\n",
       "\n",
       "Correlation Structure: AR(1)\n",
       " Formula: ~1 | RID \n",
       " Parameter estimate(s):\n",
       "      Phi \n",
       "0.5041183 \n",
       "Fixed effects: ADAS13 ~ as.factor(f_s1_only) * Month + as.factor(f_hpc) * Month \n",
       "                                Value Std.Error  DF   t-value p-value\n",
       "(Intercept)                 21.566265 0.5241310 824  41.14671  0.0000\n",
       "as.factor(f_s1_only)1       -3.012478 0.5122627 232  -5.88073  0.0000\n",
       "Month                        0.302212 0.0196931 824  15.34604  0.0000\n",
       "as.factor(f_hpc)1           -5.212654 0.4351161 232 -11.97991  0.0000\n",
       "as.factor(f_s1_only)1:Month -0.054836 0.0186070 824  -2.94708  0.0033\n",
       "Month:as.factor(f_hpc)1     -0.136455 0.0163348 824  -8.35363  0.0000\n",
       " Correlation: \n",
       "                            (Intr) as.(_1_)1 Month  a.(_)1 a.(_1_)1:\n",
       "as.factor(f_s1_only)1       -0.648                                  \n",
       "Month                       -0.530  0.337                           \n",
       "as.factor(f_hpc)1           -0.442  0.397     0.242                 \n",
       "as.factor(f_s1_only)1:Month  0.348 -0.536    -0.638 -0.211          \n",
       "Month:as.factor(f_hpc)1      0.242 -0.204    -0.479 -0.531  0.371   \n",
       "\n",
       "Standardized Within-Group Residuals:\n",
       "        Min          Q1         Med          Q3         Max \n",
       "-2.64612490 -0.56018273 -0.06761437  0.45252803  5.69106507 \n",
       "\n",
       "Number of Observations: 1062\n",
       "Number of Groups: 235 "
      ]
     },
     "metadata": {},
     "output_type": "display_data"
    }
   ],
   "source": [
    "summary(fit3)"
   ]
  },
  {
   "cell_type": "code",
   "execution_count": 14,
   "metadata": {},
   "outputs": [
    {
     "data": {
      "text/html": [
       "<table>\n",
       "<thead><tr><th></th><th scope=col>call</th><th scope=col>Model</th><th scope=col>df</th><th scope=col>AIC</th><th scope=col>BIC</th><th scope=col>logLik</th><th scope=col>Test</th><th scope=col>L.Ratio</th><th scope=col>p-value</th></tr></thead>\n",
       "<tbody>\n",
       "\t<tr><th scope=row>fit2</th><td>lme.formula(fixed = ADAS13 ~ as.factor(f_s1_only) * Month + as.factor(f_hpc) *     Month, data = adni1, random = ~1 + Month | RID, na.action = na.exclude,     contrasts = c(\"contr.sum\", \"contr.poly\"))                                                  </td><td>1                                                                                                                                                                                                                                                         </td><td>10                                                                                                                                                                                                                                                        </td><td>6404.562                                                                                                                                                                                                                                                  </td><td>6454.185                                                                                                                                                                                                                                                  </td><td>-3192.281                                                                                                                                                                                                                                                 </td><td>                                                                                                                                                                                                                                                          </td><td>      NA                                                                                                                                                                                                                                                  </td><td>          NA                                                                                                                                                                                                                                              </td></tr>\n",
       "\t<tr><th scope=row>fit3</th><td>lme.formula(fixed = ADAS13 ~ as.factor(f_s1_only) * Month + as.factor(f_hpc) *     Month, data = adni1, random = ~1 | RID, correlation = corAR1(form = ~1 |     RID, fixed = FALSE), na.action = na.exclude, contrasts = c(\"contr.sum\",     \"contr.poly\"))</td><td>2                                                                                                                                                                                                                                                         </td><td> 9                                                                                                                                                                                                                                                        </td><td>6540.311                                                                                                                                                                                                                                                  </td><td>6584.971                                                                                                                                                                                                                                                  </td><td>-3261.155                                                                                                                                                                                                                                                 </td><td>1 vs 2                                                                                                                                                                                                                                                    </td><td>137.7486                                                                                                                                                                                                                                                  </td><td>8.271163e-32                                                                                                                                                                                                                                              </td></tr>\n",
       "</tbody>\n",
       "</table>\n"
      ],
      "text/latex": [
       "\\begin{tabular}{r|lllllllll}\n",
       "  & call & Model & df & AIC & BIC & logLik & Test & L.Ratio & p-value\\\\\n",
       "\\hline\n",
       "\tfit2 & lme.formula(fixed = ADAS13 \\textasciitilde{} as.factor(f\\_s1\\_only) * Month + as.factor(f\\_hpc) *     Month, data = adni1, random = \\textasciitilde{}1 + Month \\textbar{} RID, na.action = na.exclude,     contrasts = c(\"contr.sum\", \"contr.poly\"))                                                   & 1                                                                                                                                                                                                                                                                                                            & 10                                                                                                                                                                                                                                                                                                           & 6404.562                                                                                                                                                                                                                                                                                                     & 6454.185                                                                                                                                                                                                                                                                                                     & -3192.281                                                                                                                                                                                                                                                                                                    &                                                                                                                                                                                                                                                                                                              &       NA                                                                                                                                                                                                                                                                                                     &           NA                                                                                                                                                                                                                                                                                                \\\\\n",
       "\tfit3 & lme.formula(fixed = ADAS13 \\textasciitilde{} as.factor(f\\_s1\\_only) * Month + as.factor(f\\_hpc) *     Month, data = adni1, random = \\textasciitilde{}1 \\textbar{} RID, correlation = corAR1(form = \\textasciitilde{}1 \\textbar{}     RID, fixed = FALSE), na.action = na.exclude, contrasts = c(\"contr.sum\",     \"contr.poly\")) & 2                                                                                                                                                                                                                                                                                                                                       &  9                                                                                                                                                                                                                                                                                                                                      & 6540.311                                                                                                                                                                                                                                                                                                                                & 6584.971                                                                                                                                                                                                                                                                                                                                & -3261.155                                                                                                                                                                                                                                                                                                                               & 1 vs 2                                                                                                                                                                                                                                                                                                                                  & 137.7486                                                                                                                                                                                                                                                                                                                                & 8.271163e-32                                                                                                                                                                                                                                                                                                                           \\\\\n",
       "\\end{tabular}\n"
      ],
      "text/markdown": [
       "\n",
       "| <!--/--> | call | Model | df | AIC | BIC | logLik | Test | L.Ratio | p-value | \n",
       "|---|---|\n",
       "| fit2 | lme.formula(fixed = ADAS13 ~ as.factor(f_s1_only) * Month + as.factor(f_hpc) *     Month, data = adni1, random = ~1 + Month | RID, na.action = na.exclude,     contrasts = c(\"contr.sum\", \"contr.poly\"))                                                   | 1                                                                                                                                                                                                                                                          | 10                                                                                                                                                                                                                                                         | 6404.562                                                                                                                                                                                                                                                   | 6454.185                                                                                                                                                                                                                                                   | -3192.281                                                                                                                                                                                                                                                  |                                                                                                                                                                                                                                                            |       NA                                                                                                                                                                                                                                                   |           NA                                                                                                                                                                                                                                               | \n",
       "| fit3 | lme.formula(fixed = ADAS13 ~ as.factor(f_s1_only) * Month + as.factor(f_hpc) *     Month, data = adni1, random = ~1 | RID, correlation = corAR1(form = ~1 |     RID, fixed = FALSE), na.action = na.exclude, contrasts = c(\"contr.sum\",     \"contr.poly\")) | 2                                                                                                                                                                                                                                                          |  9                                                                                                                                                                                                                                                         | 6540.311                                                                                                                                                                                                                                                   | 6584.971                                                                                                                                                                                                                                                   | -3261.155                                                                                                                                                                                                                                                  | 1 vs 2                                                                                                                                                                                                                                                     | 137.7486                                                                                                                                                                                                                                                   | 8.271163e-32                                                                                                                                                                                                                                               | \n",
       "\n",
       "\n"
      ],
      "text/plain": [
       "     call                                                                                                                                                                                                                                                      \n",
       "fit2 lme.formula(fixed = ADAS13 ~ as.factor(f_s1_only) * Month + as.factor(f_hpc) *     Month, data = adni1, random = ~1 + Month | RID, na.action = na.exclude,     contrasts = c(\"contr.sum\", \"contr.poly\"))                                                  \n",
       "fit3 lme.formula(fixed = ADAS13 ~ as.factor(f_s1_only) * Month + as.factor(f_hpc) *     Month, data = adni1, random = ~1 | RID, correlation = corAR1(form = ~1 |     RID, fixed = FALSE), na.action = na.exclude, contrasts = c(\"contr.sum\",     \"contr.poly\"))\n",
       "     Model df AIC      BIC      logLik    Test   L.Ratio  p-value     \n",
       "fit2 1     10 6404.562 6454.185 -3192.281              NA           NA\n",
       "fit3 2      9 6540.311 6584.971 -3261.155 1 vs 2 137.7486 8.271163e-32"
      ]
     },
     "metadata": {},
     "output_type": "display_data"
    }
   ],
   "source": [
    "anova(fit2,fit3)"
   ]
  },
  {
   "cell_type": "markdown",
   "metadata": {},
   "source": [
    "## adni2"
   ]
  },
  {
   "cell_type": "code",
   "execution_count": 15,
   "metadata": {
    "collapsed": true
   },
   "outputs": [],
   "source": [
    "fit1 <- lme(ADAS13 ~ as.factor(f_s1_only)*Month + as.factor(f_hpc)*Month, random = ~1|RID, \n",
    "            na.action=na.exclude, contrasts=c(\"contr.sum\", \"contr.poly\"), data=adni2)"
   ]
  },
  {
   "cell_type": "code",
   "execution_count": 16,
   "metadata": {},
   "outputs": [
    {
     "data": {
      "text/plain": [
       "Linear mixed-effects model fit by REML\n",
       " Data: adni2 \n",
       "       AIC      BIC    logLik\n",
       "  6565.791 6605.683 -3274.895\n",
       "\n",
       "Random effects:\n",
       " Formula: ~1 | RID\n",
       "        (Intercept) Residual\n",
       "StdDev:    4.530752 3.953189\n",
       "\n",
       "Fixed effects: ADAS13 ~ as.factor(f_s1_only) * Month + as.factor(f_hpc) * Month \n",
       "                                Value Std.Error  DF    t-value p-value\n",
       "(Intercept)                 22.026747 0.6984867 850  31.534956       0\n",
       "as.factor(f_s1_only)1       -3.653255 0.5505493 232  -6.635655       0\n",
       "Month                        0.259522 0.0211535 850  12.268480       0\n",
       "as.factor(f_hpc)1           -7.222301 0.5154037 232 -14.012901       0\n",
       "as.factor(f_s1_only)1:Month -0.078279 0.0153654 850  -5.094501       0\n",
       "Month:as.factor(f_hpc)1     -0.175347 0.0164414 850 -10.664963       0\n",
       " Correlation: \n",
       "                            (Intr) as.(_1_)1 Month  a.(_)1 a.(_1_)1:\n",
       "as.factor(f_s1_only)1       -0.683                                  \n",
       "Month                       -0.390  0.249                           \n",
       "as.factor(f_hpc)1           -0.626  0.142     0.262                 \n",
       "as.factor(f_s1_only)1:Month  0.270 -0.394    -0.636 -0.055          \n",
       "Month:as.factor(f_hpc)1      0.248 -0.048    -0.693 -0.388  0.117   \n",
       "\n",
       "Standardized Within-Group Residuals:\n",
       "        Min          Q1         Med          Q3         Max \n",
       "-3.94123812 -0.53514230 -0.07290179  0.42136872  8.63618298 \n",
       "\n",
       "Number of Observations: 1088\n",
       "Number of Groups: 235 "
      ]
     },
     "metadata": {},
     "output_type": "display_data"
    }
   ],
   "source": [
    "summary(fit1)"
   ]
  },
  {
   "cell_type": "code",
   "execution_count": 17,
   "metadata": {
    "collapsed": true
   },
   "outputs": [],
   "source": [
    "fit2 <- lme(ADAS13 ~ as.factor(f_s1_only)*Month + as.factor(f_hpc)*Month, random = ~1+Month|RID, \n",
    "            na.action=na.exclude, contrasts=c(\"contr.sum\", \"contr.poly\"), data=adni2)"
   ]
  },
  {
   "cell_type": "code",
   "execution_count": 18,
   "metadata": {},
   "outputs": [
    {
     "data": {
      "text/plain": [
       "Linear mixed-effects model fit by REML\n",
       " Data: adni2 \n",
       "       AIC      BIC    logLik\n",
       "  6425.398 6475.264 -3202.699\n",
       "\n",
       "Random effects:\n",
       " Formula: ~1 + Month | RID\n",
       " Structure: General positive-definite, Log-Cholesky parametrization\n",
       "            StdDev    Corr  \n",
       "(Intercept) 3.5361449 (Intr)\n",
       "Month       0.1618622 0.276 \n",
       "Residual    3.3146076       \n",
       "\n",
       "Fixed effects: ADAS13 ~ as.factor(f_s1_only) * Month + as.factor(f_hpc) * Month \n",
       "                                Value Std.Error  DF   t-value p-value\n",
       "(Intercept)                 21.931710 0.5591584 850  39.22271   0.000\n",
       "as.factor(f_s1_only)1       -3.692010 0.4397372 232  -8.39595   0.000\n",
       "Month                        0.276933 0.0290986 850   9.51705   0.000\n",
       "as.factor(f_hpc)1           -7.128177 0.4132666 232 -17.24837   0.000\n",
       "as.factor(f_s1_only)1:Month -0.071714 0.0216726 850  -3.30899   0.001\n",
       "Month:as.factor(f_hpc)1     -0.193632 0.0222889 850  -8.68739   0.000\n",
       " Correlation: \n",
       "                            (Intr) as.(_1_)1 Month  a.(_)1 a.(_1_)1:\n",
       "as.factor(f_s1_only)1       -0.682                                  \n",
       "Month                       -0.110  0.055                           \n",
       "as.factor(f_hpc)1           -0.628  0.142     0.091                 \n",
       "as.factor(f_s1_only)1:Month  0.058 -0.083    -0.650 -0.010          \n",
       "Month:as.factor(f_hpc)1      0.088 -0.009    -0.674 -0.129  0.124   \n",
       "\n",
       "Standardized Within-Group Residuals:\n",
       "        Min          Q1         Med          Q3         Max \n",
       "-3.98401375 -0.51465093 -0.05194271  0.47216314  8.58176915 \n",
       "\n",
       "Number of Observations: 1088\n",
       "Number of Groups: 235 "
      ]
     },
     "metadata": {},
     "output_type": "display_data"
    }
   ],
   "source": [
    "summary(fit2)"
   ]
  },
  {
   "cell_type": "code",
   "execution_count": 17,
   "metadata": {},
   "outputs": [
    {
     "data": {
      "text/html": [
       "<table>\n",
       "<thead><tr><th></th><th scope=col>call</th><th scope=col>Model</th><th scope=col>df</th><th scope=col>AIC</th><th scope=col>BIC</th><th scope=col>logLik</th><th scope=col>Test</th><th scope=col>L.Ratio</th><th scope=col>p-value</th></tr></thead>\n",
       "<tbody>\n",
       "\t<tr><th scope=row>fit1</th><td>lme.formula(fixed = ADAS13 ~ as.factor(f_s1_only) * Month + as.factor(f_hpc) *     Month, data = adni2, random = ~1 | RID, na.action = na.exclude,     contrasts = c(\"contr.sum\", \"contr.poly\"))        </td><td>1                                                                                                                                                                                                       </td><td> 8                                                                                                                                                                                                      </td><td>6572.082                                                                                                                                                                                                </td><td>6611.982                                                                                                                                                                                                </td><td>-3278.041                                                                                                                                                                                               </td><td>                                                                                                                                                                                                        </td><td>      NA                                                                                                                                                                                                </td><td>          NA                                                                                                                                                                                            </td></tr>\n",
       "\t<tr><th scope=row>fit2</th><td>lme.formula(fixed = ADAS13 ~ as.factor(f_s1_only) * Month + as.factor(f_hpc) *     Month, data = adni2, random = ~1 + Month | RID, na.action = na.exclude,     contrasts = c(\"contr.sum\", \"contr.poly\"))</td><td>2                                                                                                                                                                                                       </td><td>10                                                                                                                                                                                                      </td><td>6430.968                                                                                                                                                                                                </td><td>6480.843                                                                                                                                                                                                </td><td>-3205.484                                                                                                                                                                                               </td><td>1 vs 2                                                                                                                                                                                                  </td><td>145.1142                                                                                                                                                                                                </td><td>3.082149e-32                                                                                                                                                                                            </td></tr>\n",
       "</tbody>\n",
       "</table>\n"
      ],
      "text/latex": [
       "\\begin{tabular}{r|lllllllll}\n",
       "  & call & Model & df & AIC & BIC & logLik & Test & L.Ratio & p-value\\\\\n",
       "\\hline\n",
       "\tfit1 & lme.formula(fixed = ADAS13 \\textasciitilde{} as.factor(f\\_s1\\_only) * Month + as.factor(f\\_hpc) *     Month, data = adni2, random = \\textasciitilde{}1 \\textbar{} RID, na.action = na.exclude,     contrasts = c(\"contr.sum\", \"contr.poly\"))         & 1                                                                                                                                                                                                                                                          &  8                                                                                                                                                                                                                                                         & 6572.082                                                                                                                                                                                                                                                   & 6611.982                                                                                                                                                                                                                                                   & -3278.041                                                                                                                                                                                                                                                  &                                                                                                                                                                                                                                                            &       NA                                                                                                                                                                                                                                                   &           NA                                                                                                                                                                                                                                              \\\\\n",
       "\tfit2 & lme.formula(fixed = ADAS13 \\textasciitilde{} as.factor(f\\_s1\\_only) * Month + as.factor(f\\_hpc) *     Month, data = adni2, random = \\textasciitilde{}1 + Month \\textbar{} RID, na.action = na.exclude,     contrasts = c(\"contr.sum\", \"contr.poly\")) & 2                                                                                                                                                                                                                                                          & 10                                                                                                                                                                                                                                                         & 6430.968                                                                                                                                                                                                                                                   & 6480.843                                                                                                                                                                                                                                                   & -3205.484                                                                                                                                                                                                                                                  & 1 vs 2                                                                                                                                                                                                                                                     & 145.1142                                                                                                                                                                                                                                                   & 3.082149e-32                                                                                                                                                                                                                                              \\\\\n",
       "\\end{tabular}\n"
      ],
      "text/markdown": [
       "\n",
       "| <!--/--> | call | Model | df | AIC | BIC | logLik | Test | L.Ratio | p-value | \n",
       "|---|---|\n",
       "| fit1 | lme.formula(fixed = ADAS13 ~ as.factor(f_s1_only) * Month + as.factor(f_hpc) *     Month, data = adni2, random = ~1 | RID, na.action = na.exclude,     contrasts = c(\"contr.sum\", \"contr.poly\"))         | 1                                                                                                                                                                                                        |  8                                                                                                                                                                                                       | 6572.082                                                                                                                                                                                                 | 6611.982                                                                                                                                                                                                 | -3278.041                                                                                                                                                                                                |                                                                                                                                                                                                          |       NA                                                                                                                                                                                                 |           NA                                                                                                                                                                                             | \n",
       "| fit2 | lme.formula(fixed = ADAS13 ~ as.factor(f_s1_only) * Month + as.factor(f_hpc) *     Month, data = adni2, random = ~1 + Month | RID, na.action = na.exclude,     contrasts = c(\"contr.sum\", \"contr.poly\")) | 2                                                                                                                                                                                                        | 10                                                                                                                                                                                                       | 6430.968                                                                                                                                                                                                 | 6480.843                                                                                                                                                                                                 | -3205.484                                                                                                                                                                                                | 1 vs 2                                                                                                                                                                                                   | 145.1142                                                                                                                                                                                                 | 3.082149e-32                                                                                                                                                                                             | \n",
       "\n",
       "\n"
      ],
      "text/plain": [
       "     call                                                                                                                                                                                                    \n",
       "fit1 lme.formula(fixed = ADAS13 ~ as.factor(f_s1_only) * Month + as.factor(f_hpc) *     Month, data = adni2, random = ~1 | RID, na.action = na.exclude,     contrasts = c(\"contr.sum\", \"contr.poly\"))        \n",
       "fit2 lme.formula(fixed = ADAS13 ~ as.factor(f_s1_only) * Month + as.factor(f_hpc) *     Month, data = adni2, random = ~1 + Month | RID, na.action = na.exclude,     contrasts = c(\"contr.sum\", \"contr.poly\"))\n",
       "     Model df AIC      BIC      logLik    Test   L.Ratio  p-value     \n",
       "fit1 1      8 6572.082 6611.982 -3278.041              NA           NA\n",
       "fit2 2     10 6430.968 6480.843 -3205.484 1 vs 2 145.1142 3.082149e-32"
      ]
     },
     "metadata": {},
     "output_type": "display_data"
    }
   ],
   "source": [
    "anova(fit1,fit2)"
   ]
  },
  {
   "cell_type": "code",
   "execution_count": 18,
   "metadata": {
    "collapsed": true
   },
   "outputs": [],
   "source": [
    "fit3 <- lme(ADAS13 ~ as.factor(f_s1_only)*Month + as.factor(f_hpc)*Month, random = ~1|RID, \n",
    "            na.action=na.exclude, contrasts=c(\"contr.sum\", \"contr.poly\"), \n",
    "            correlation=corAR1(form=~1|RID,fixed=FALSE), data=adni2)"
   ]
  },
  {
   "cell_type": "code",
   "execution_count": 19,
   "metadata": {},
   "outputs": [
    {
     "data": {
      "text/plain": [
       "Linear mixed-effects model fit by REML\n",
       " Data: adni2 \n",
       "       AIC      BIC    logLik\n",
       "  6508.875 6553.762 -3245.438\n",
       "\n",
       "Random effects:\n",
       " Formula: ~1 | RID\n",
       "        (Intercept) Residual\n",
       "StdDev:    3.831377  4.72962\n",
       "\n",
       "Correlation Structure: AR(1)\n",
       " Formula: ~1 | RID \n",
       " Parameter estimate(s):\n",
       "      Phi \n",
       "0.4695864 \n",
       "Fixed effects: ADAS13 ~ as.factor(f_s1_only) * Month + as.factor(f_hpc) * Month \n",
       "                                Value Std.Error  DF    t-value p-value\n",
       "(Intercept)                 22.071993 0.7418366 851  29.753175   0e+00\n",
       "as.factor(f_s1_only)1       -3.714157 0.5844175 232  -6.355313   0e+00\n",
       "Month                        0.269146 0.0262831 851  10.240279   0e+00\n",
       "as.factor(f_hpc)1           -7.234113 0.5476166 232 -13.210177   0e+00\n",
       "as.factor(f_s1_only)1:Month -0.077188 0.0192116 851  -4.017797   1e-04\n",
       "Month:as.factor(f_hpc)1     -0.180757 0.0203603 851  -8.877952   0e+00\n",
       " Correlation: \n",
       "                            (Intr) as.(_1_)1 Month  a.(_)1 a.(_1_)1:\n",
       "as.factor(f_s1_only)1       -0.683                                  \n",
       "Month                       -0.478  0.309                           \n",
       "as.factor(f_hpc)1           -0.626  0.142     0.317                 \n",
       "as.factor(f_s1_only)1:Month  0.333 -0.487    -0.639 -0.068          \n",
       "Month:as.factor(f_hpc)1      0.302 -0.060    -0.688 -0.474  0.119   \n",
       "\n",
       "Standardized Within-Group Residuals:\n",
       "        Min          Q1         Med          Q3         Max \n",
       "-3.47942306 -0.55491765 -0.09441032  0.41675387  7.53348852 \n",
       "\n",
       "Number of Observations: 1089\n",
       "Number of Groups: 235 "
      ]
     },
     "metadata": {},
     "output_type": "display_data"
    }
   ],
   "source": [
    "summary(fit3)"
   ]
  },
  {
   "cell_type": "code",
   "execution_count": 20,
   "metadata": {},
   "outputs": [
    {
     "data": {
      "text/html": [
       "<table>\n",
       "<thead><tr><th></th><th scope=col>call</th><th scope=col>Model</th><th scope=col>df</th><th scope=col>AIC</th><th scope=col>BIC</th><th scope=col>logLik</th><th scope=col>Test</th><th scope=col>L.Ratio</th><th scope=col>p-value</th></tr></thead>\n",
       "<tbody>\n",
       "\t<tr><th scope=row>fit2</th><td>lme.formula(fixed = ADAS13 ~ as.factor(f_s1_only) * Month + as.factor(f_hpc) *     Month, data = adni2, random = ~1 + Month | RID, na.action = na.exclude,     contrasts = c(\"contr.sum\", \"contr.poly\"))                                                  </td><td>1                                                                                                                                                                                                                                                         </td><td>10                                                                                                                                                                                                                                                        </td><td>6430.968                                                                                                                                                                                                                                                  </td><td>6480.843                                                                                                                                                                                                                                                  </td><td>-3205.484                                                                                                                                                                                                                                                 </td><td>                                                                                                                                                                                                                                                          </td><td>     NA                                                                                                                                                                                                                                                   </td><td>          NA                                                                                                                                                                                                                                              </td></tr>\n",
       "\t<tr><th scope=row>fit3</th><td>lme.formula(fixed = ADAS13 ~ as.factor(f_s1_only) * Month + as.factor(f_hpc) *     Month, data = adni2, random = ~1 | RID, correlation = corAR1(form = ~1 |     RID, fixed = FALSE), na.action = na.exclude, contrasts = c(\"contr.sum\",     \"contr.poly\"))</td><td>2                                                                                                                                                                                                                                                         </td><td> 9                                                                                                                                                                                                                                                        </td><td>6508.875                                                                                                                                                                                                                                                  </td><td>6553.762                                                                                                                                                                                                                                                  </td><td>-3245.438                                                                                                                                                                                                                                                 </td><td>1 vs 2                                                                                                                                                                                                                                                    </td><td>79.9068                                                                                                                                                                                                                                                   </td><td>3.924932e-19                                                                                                                                                                                                                                              </td></tr>\n",
       "</tbody>\n",
       "</table>\n"
      ],
      "text/latex": [
       "\\begin{tabular}{r|lllllllll}\n",
       "  & call & Model & df & AIC & BIC & logLik & Test & L.Ratio & p-value\\\\\n",
       "\\hline\n",
       "\tfit2 & lme.formula(fixed = ADAS13 \\textasciitilde{} as.factor(f\\_s1\\_only) * Month + as.factor(f\\_hpc) *     Month, data = adni2, random = \\textasciitilde{}1 + Month \\textbar{} RID, na.action = na.exclude,     contrasts = c(\"contr.sum\", \"contr.poly\"))                                                   & 1                                                                                                                                                                                                                                                                                                            & 10                                                                                                                                                                                                                                                                                                           & 6430.968                                                                                                                                                                                                                                                                                                     & 6480.843                                                                                                                                                                                                                                                                                                     & -3205.484                                                                                                                                                                                                                                                                                                    &                                                                                                                                                                                                                                                                                                              &      NA                                                                                                                                                                                                                                                                                                      &           NA                                                                                                                                                                                                                                                                                                \\\\\n",
       "\tfit3 & lme.formula(fixed = ADAS13 \\textasciitilde{} as.factor(f\\_s1\\_only) * Month + as.factor(f\\_hpc) *     Month, data = adni2, random = \\textasciitilde{}1 \\textbar{} RID, correlation = corAR1(form = \\textasciitilde{}1 \\textbar{}     RID, fixed = FALSE), na.action = na.exclude, contrasts = c(\"contr.sum\",     \"contr.poly\")) & 2                                                                                                                                                                                                                                                                                                                                       &  9                                                                                                                                                                                                                                                                                                                                      & 6508.875                                                                                                                                                                                                                                                                                                                                & 6553.762                                                                                                                                                                                                                                                                                                                                & -3245.438                                                                                                                                                                                                                                                                                                                               & 1 vs 2                                                                                                                                                                                                                                                                                                                                  & 79.9068                                                                                                                                                                                                                                                                                                                                 & 3.924932e-19                                                                                                                                                                                                                                                                                                                           \\\\\n",
       "\\end{tabular}\n"
      ],
      "text/markdown": [
       "\n",
       "| <!--/--> | call | Model | df | AIC | BIC | logLik | Test | L.Ratio | p-value | \n",
       "|---|---|\n",
       "| fit2 | lme.formula(fixed = ADAS13 ~ as.factor(f_s1_only) * Month + as.factor(f_hpc) *     Month, data = adni2, random = ~1 + Month | RID, na.action = na.exclude,     contrasts = c(\"contr.sum\", \"contr.poly\"))                                                   | 1                                                                                                                                                                                                                                                          | 10                                                                                                                                                                                                                                                         | 6430.968                                                                                                                                                                                                                                                   | 6480.843                                                                                                                                                                                                                                                   | -3205.484                                                                                                                                                                                                                                                  |                                                                                                                                                                                                                                                            |      NA                                                                                                                                                                                                                                                    |           NA                                                                                                                                                                                                                                               | \n",
       "| fit3 | lme.formula(fixed = ADAS13 ~ as.factor(f_s1_only) * Month + as.factor(f_hpc) *     Month, data = adni2, random = ~1 | RID, correlation = corAR1(form = ~1 |     RID, fixed = FALSE), na.action = na.exclude, contrasts = c(\"contr.sum\",     \"contr.poly\")) | 2                                                                                                                                                                                                                                                          |  9                                                                                                                                                                                                                                                         | 6508.875                                                                                                                                                                                                                                                   | 6553.762                                                                                                                                                                                                                                                   | -3245.438                                                                                                                                                                                                                                                  | 1 vs 2                                                                                                                                                                                                                                                     | 79.9068                                                                                                                                                                                                                                                    | 3.924932e-19                                                                                                                                                                                                                                               | \n",
       "\n",
       "\n"
      ],
      "text/plain": [
       "     call                                                                                                                                                                                                                                                      \n",
       "fit2 lme.formula(fixed = ADAS13 ~ as.factor(f_s1_only) * Month + as.factor(f_hpc) *     Month, data = adni2, random = ~1 + Month | RID, na.action = na.exclude,     contrasts = c(\"contr.sum\", \"contr.poly\"))                                                  \n",
       "fit3 lme.formula(fixed = ADAS13 ~ as.factor(f_s1_only) * Month + as.factor(f_hpc) *     Month, data = adni2, random = ~1 | RID, correlation = corAR1(form = ~1 |     RID, fixed = FALSE), na.action = na.exclude, contrasts = c(\"contr.sum\",     \"contr.poly\"))\n",
       "     Model df AIC      BIC      logLik    Test   L.Ratio p-value     \n",
       "fit2 1     10 6430.968 6480.843 -3205.484             NA           NA\n",
       "fit3 2      9 6508.875 6553.762 -3245.438 1 vs 2 79.9068 3.924932e-19"
      ]
     },
     "metadata": {},
     "output_type": "display_data"
    }
   ],
   "source": [
    "anova(fit2,fit3)"
   ]
  },
  {
   "cell_type": "markdown",
   "metadata": {},
   "source": [
    "## adni memory"
   ]
  },
  {
   "cell_type": "markdown",
   "metadata": {},
   "source": [
    "## linear mixed effects models in ADNI1"
   ]
  },
  {
   "cell_type": "code",
   "execution_count": 21,
   "metadata": {
    "collapsed": true
   },
   "outputs": [],
   "source": [
    "fit1 <- lme(ADNI_MEM ~ as.factor(f_s1_only)*Month + as.factor(f_hpc)*Month, random = ~1|RID, \n",
    "            na.action=na.exclude, contrasts=c(\"contr.sum\", \"contr.poly\"), data=adni1)"
   ]
  },
  {
   "cell_type": "code",
   "execution_count": 22,
   "metadata": {},
   "outputs": [
    {
     "data": {
      "text/plain": [
       "Linear mixed-effects model fit by REML\n",
       " Data: adni1 \n",
       "       AIC      BIC   logLik\n",
       "  1170.686 1210.674 -577.343\n",
       "\n",
       "Random effects:\n",
       " Formula: ~1 | RID\n",
       "        (Intercept)  Residual\n",
       "StdDev:   0.4358469 0.3118384\n",
       "\n",
       "Fixed effects: ADNI_MEM ~ as.factor(f_s1_only) * Month + as.factor(f_hpc) *      Month \n",
       "                                 Value  Std.Error  DF    t-value p-value\n",
       "(Intercept)                 -0.3830275 0.04232503 857  -9.049668  0.0000\n",
       "as.factor(f_s1_only)1        0.3490595 0.04138119 238   8.435221  0.0000\n",
       "Month                       -0.0161103 0.00107014 857 -15.054425  0.0000\n",
       "as.factor(f_hpc)1            0.4665287 0.03584941 238  13.013566  0.0000\n",
       "as.factor(f_s1_only)1:Month  0.0029867 0.00101304 857   2.948241  0.0033\n",
       "Month:as.factor(f_hpc)1      0.0083089 0.00089091 857   9.326326  0.0000\n",
       " Correlation: \n",
       "                            (Intr) as.(_1_)1 Month  a.(_)1 a.(_1_)1:\n",
       "as.factor(f_s1_only)1       -0.633                                  \n",
       "Month                       -0.338  0.212                           \n",
       "as.factor(f_hpc)1           -0.450  0.407     0.155                 \n",
       "as.factor(f_s1_only)1:Month  0.219 -0.340    -0.635 -0.134          \n",
       "Month:as.factor(f_hpc)1      0.158 -0.132    -0.479 -0.339  0.374   \n",
       "\n",
       "Standardized Within-Group Residuals:\n",
       "         Min           Q1          Med           Q3          Max \n",
       "-5.602405844 -0.529847550 -0.005648572  0.565710540  2.899070240 \n",
       "\n",
       "Number of Observations: 1101\n",
       "Number of Groups: 241 "
      ]
     },
     "metadata": {},
     "output_type": "display_data"
    }
   ],
   "source": [
    "summary(fit1)"
   ]
  },
  {
   "cell_type": "code",
   "execution_count": 23,
   "metadata": {
    "collapsed": true
   },
   "outputs": [],
   "source": [
    "fit2 <- lme(ADNI_MEM ~ as.factor(f_s1_only)*Month + as.factor(f_hpc)*Month, random = ~1+Month|RID, \n",
    "            na.action=na.exclude, contrasts=c(\"contr.sum\", \"contr.poly\"), data=adni1)"
   ]
  },
  {
   "cell_type": "code",
   "execution_count": 24,
   "metadata": {},
   "outputs": [
    {
     "data": {
      "text/plain": [
       "Linear mixed-effects model fit by REML\n",
       " Data: adni1 \n",
       "       AIC      BIC    logLik\n",
       "  994.4184 1044.404 -487.2092\n",
       "\n",
       "Random effects:\n",
       " Formula: ~1 + Month | RID\n",
       " Structure: General positive-definite, Log-Cholesky parametrization\n",
       "            StdDev     Corr  \n",
       "(Intercept) 0.36523045 (Intr)\n",
       "Month       0.01424076 0.202 \n",
       "Residual    0.24979697       \n",
       "\n",
       "Fixed effects: ADNI_MEM ~ as.factor(f_s1_only) * Month + as.factor(f_hpc) *      Month \n",
       "                                 Value  Std.Error  DF    t-value p-value\n",
       "(Intercept)                 -0.3747130 0.03524713 857 -10.631023  0.0000\n",
       "as.factor(f_s1_only)1        0.3440943 0.03444068 238   9.990927  0.0000\n",
       "Month                       -0.0173833 0.00156861 857 -11.081964  0.0000\n",
       "as.factor(f_hpc)1            0.4626642 0.02984158 238  15.504015  0.0000\n",
       "as.factor(f_s1_only)1:Month  0.0036218 0.00149952 857   2.415327  0.0159\n",
       "Month:as.factor(f_hpc)1      0.0090596 0.00131354 857   6.897095  0.0000\n",
       " Correlation: \n",
       "                            (Intr) as.(_1_)1 Month  a.(_)1 a.(_1_)1:\n",
       "as.factor(f_s1_only)1       -0.633                                  \n",
       "Month                       -0.057  0.033                           \n",
       "as.factor(f_hpc)1           -0.450  0.406     0.029                 \n",
       "as.factor(f_s1_only)1:Month  0.034 -0.048    -0.634 -0.015          \n",
       "Month:as.factor(f_hpc)1      0.029 -0.014    -0.470 -0.051  0.384   \n",
       "\n",
       "Standardized Within-Group Residuals:\n",
       "        Min          Q1         Med          Q3         Max \n",
       "-3.98258013 -0.50592439 -0.02409196  0.52573648  2.70228687 \n",
       "\n",
       "Number of Observations: 1101\n",
       "Number of Groups: 241 "
      ]
     },
     "metadata": {},
     "output_type": "display_data"
    }
   ],
   "source": [
    "summary(fit2)"
   ]
  },
  {
   "cell_type": "code",
   "execution_count": 25,
   "metadata": {},
   "outputs": [
    {
     "data": {
      "text/html": [
       "<table>\n",
       "<thead><tr><th></th><th scope=col>call</th><th scope=col>Model</th><th scope=col>df</th><th scope=col>AIC</th><th scope=col>BIC</th><th scope=col>logLik</th><th scope=col>Test</th><th scope=col>L.Ratio</th><th scope=col>p-value</th></tr></thead>\n",
       "<tbody>\n",
       "\t<tr><th scope=row>fit1</th><td>lme.formula(fixed = ADNI_MEM ~ as.factor(f_s1_only) * Month +     as.factor(f_hpc) * Month, data = adni1, random = ~1 | RID,     na.action = na.exclude, contrasts = c(\"contr.sum\", \"contr.poly\"))        </td><td>1                                                                                                                                                                                                         </td><td> 8                                                                                                                                                                                                        </td><td>1170.6861                                                                                                                                                                                                 </td><td>1210.674                                                                                                                                                                                                  </td><td>-577.3430                                                                                                                                                                                                 </td><td>                                                                                                                                                                                                          </td><td>      NA                                                                                                                                                                                                  </td><td>          NA                                                                                                                                                                                              </td></tr>\n",
       "\t<tr><th scope=row>fit2</th><td>lme.formula(fixed = ADNI_MEM ~ as.factor(f_s1_only) * Month +     as.factor(f_hpc) * Month, data = adni1, random = ~1 + Month |     RID, na.action = na.exclude, contrasts = c(\"contr.sum\", \"contr.poly\"))</td><td>2                                                                                                                                                                                                         </td><td>10                                                                                                                                                                                                        </td><td> 994.4184                                                                                                                                                                                                 </td><td>1044.404                                                                                                                                                                                                  </td><td>-487.2092                                                                                                                                                                                                 </td><td>1 vs 2                                                                                                                                                                                                    </td><td>180.2676                                                                                                                                                                                                  </td><td>7.167682e-40                                                                                                                                                                                              </td></tr>\n",
       "</tbody>\n",
       "</table>\n"
      ],
      "text/latex": [
       "\\begin{tabular}{r|lllllllll}\n",
       "  & call & Model & df & AIC & BIC & logLik & Test & L.Ratio & p-value\\\\\n",
       "\\hline\n",
       "\tfit1 & lme.formula(fixed = ADNI\\_MEM \\textasciitilde{} as.factor(f\\_s1\\_only) * Month +     as.factor(f\\_hpc) * Month, data = adni1, random = \\textasciitilde{}1 \\textbar{} RID,     na.action = na.exclude, contrasts = c(\"contr.sum\", \"contr.poly\"))         & 1                                                                                                                                                                                                                                                              &  8                                                                                                                                                                                                                                                             & 1170.6861                                                                                                                                                                                                                                                      & 1210.674                                                                                                                                                                                                                                                       & -577.3430                                                                                                                                                                                                                                                      &                                                                                                                                                                                                                                                                &       NA                                                                                                                                                                                                                                                       &           NA                                                                                                                                                                                                                                                  \\\\\n",
       "\tfit2 & lme.formula(fixed = ADNI\\_MEM \\textasciitilde{} as.factor(f\\_s1\\_only) * Month +     as.factor(f\\_hpc) * Month, data = adni1, random = \\textasciitilde{}1 + Month \\textbar{}     RID, na.action = na.exclude, contrasts = c(\"contr.sum\", \"contr.poly\")) & 2                                                                                                                                                                                                                                                              & 10                                                                                                                                                                                                                                                             &  994.4184                                                                                                                                                                                                                                                      & 1044.404                                                                                                                                                                                                                                                       & -487.2092                                                                                                                                                                                                                                                      & 1 vs 2                                                                                                                                                                                                                                                         & 180.2676                                                                                                                                                                                                                                                       & 7.167682e-40                                                                                                                                                                                                                                                  \\\\\n",
       "\\end{tabular}\n"
      ],
      "text/markdown": [
       "\n",
       "| <!--/--> | call | Model | df | AIC | BIC | logLik | Test | L.Ratio | p-value | \n",
       "|---|---|\n",
       "| fit1 | lme.formula(fixed = ADNI_MEM ~ as.factor(f_s1_only) * Month +     as.factor(f_hpc) * Month, data = adni1, random = ~1 | RID,     na.action = na.exclude, contrasts = c(\"contr.sum\", \"contr.poly\"))         | 1                                                                                                                                                                                                          |  8                                                                                                                                                                                                         | 1170.6861                                                                                                                                                                                                  | 1210.674                                                                                                                                                                                                   | -577.3430                                                                                                                                                                                                  |                                                                                                                                                                                                            |       NA                                                                                                                                                                                                   |           NA                                                                                                                                                                                               | \n",
       "| fit2 | lme.formula(fixed = ADNI_MEM ~ as.factor(f_s1_only) * Month +     as.factor(f_hpc) * Month, data = adni1, random = ~1 + Month |     RID, na.action = na.exclude, contrasts = c(\"contr.sum\", \"contr.poly\")) | 2                                                                                                                                                                                                          | 10                                                                                                                                                                                                         |  994.4184                                                                                                                                                                                                  | 1044.404                                                                                                                                                                                                   | -487.2092                                                                                                                                                                                                  | 1 vs 2                                                                                                                                                                                                     | 180.2676                                                                                                                                                                                                   | 7.167682e-40                                                                                                                                                                                               | \n",
       "\n",
       "\n"
      ],
      "text/plain": [
       "     call                                                                                                                                                                                                      \n",
       "fit1 lme.formula(fixed = ADNI_MEM ~ as.factor(f_s1_only) * Month +     as.factor(f_hpc) * Month, data = adni1, random = ~1 | RID,     na.action = na.exclude, contrasts = c(\"contr.sum\", \"contr.poly\"))        \n",
       "fit2 lme.formula(fixed = ADNI_MEM ~ as.factor(f_s1_only) * Month +     as.factor(f_hpc) * Month, data = adni1, random = ~1 + Month |     RID, na.action = na.exclude, contrasts = c(\"contr.sum\", \"contr.poly\"))\n",
       "     Model df AIC       BIC      logLik    Test   L.Ratio  p-value     \n",
       "fit1 1      8 1170.6861 1210.674 -577.3430              NA           NA\n",
       "fit2 2     10  994.4184 1044.404 -487.2092 1 vs 2 180.2676 7.167682e-40"
      ]
     },
     "metadata": {},
     "output_type": "display_data"
    }
   ],
   "source": [
    "anova(fit1,fit2)"
   ]
  },
  {
   "cell_type": "code",
   "execution_count": 26,
   "metadata": {
    "collapsed": true
   },
   "outputs": [],
   "source": [
    "fit3 <- lme(ADNI_MEM ~ as.factor(f_s1_only)*Month + as.factor(f_hpc)*Month, random = ~1|RID, \n",
    "            na.action=na.exclude, contrasts=c(\"contr.sum\", \"contr.poly\"), \n",
    "            correlation=corAR1(form=~1|RID,fixed=FALSE), data=adni1)"
   ]
  },
  {
   "cell_type": "code",
   "execution_count": 27,
   "metadata": {},
   "outputs": [
    {
     "data": {
      "text/plain": [
       "Linear mixed-effects model fit by REML\n",
       " Data: adni1 \n",
       "       AIC     BIC    logLik\n",
       "  1096.434 1141.42 -539.2169\n",
       "\n",
       "Random effects:\n",
       " Formula: ~1 | RID\n",
       "        (Intercept)  Residual\n",
       "StdDev:   0.3638723 0.3972941\n",
       "\n",
       "Correlation Structure: AR(1)\n",
       " Formula: ~1 | RID \n",
       " Parameter estimate(s):\n",
       "      Phi \n",
       "0.5419062 \n",
       "Fixed effects: ADNI_MEM ~ as.factor(f_s1_only) * Month + as.factor(f_hpc) *      Month \n",
       "                                 Value  Std.Error  DF    t-value p-value\n",
       "(Intercept)                 -0.3970162 0.04426272 857  -8.969539  0.0000\n",
       "as.factor(f_s1_only)1        0.3437016 0.04325936 238   7.945139  0.0000\n",
       "Month                       -0.0158936 0.00139365 857 -11.404308  0.0000\n",
       "as.factor(f_hpc)1            0.4666153 0.03749540 238  12.444602  0.0000\n",
       "as.factor(f_s1_only)1:Month  0.0033471 0.00132047 857   2.534780  0.0114\n",
       "Month:as.factor(f_hpc)1      0.0085046 0.00116419 857   7.305152  0.0000\n",
       " Correlation: \n",
       "                            (Intr) as.(_1_)1 Month  a.(_)1 a.(_1_)1:\n",
       "as.factor(f_s1_only)1       -0.633                                  \n",
       "Month                       -0.444  0.278                           \n",
       "as.factor(f_hpc)1           -0.450  0.406     0.204                 \n",
       "as.factor(f_s1_only)1:Month  0.286 -0.447    -0.633 -0.178          \n",
       "Month:as.factor(f_hpc)1      0.207 -0.175    -0.479 -0.446  0.376   \n",
       "\n",
       "Standardized Within-Group Residuals:\n",
       "        Min          Q1         Med          Q3         Max \n",
       "-4.36295142 -0.44733737  0.02323301  0.53075793  2.95025502 \n",
       "\n",
       "Number of Observations: 1101\n",
       "Number of Groups: 241 "
      ]
     },
     "metadata": {},
     "output_type": "display_data"
    }
   ],
   "source": [
    "summary(fit3)"
   ]
  },
  {
   "cell_type": "code",
   "execution_count": 28,
   "metadata": {},
   "outputs": [
    {
     "data": {
      "text/html": [
       "<table>\n",
       "<thead><tr><th></th><th scope=col>call</th><th scope=col>Model</th><th scope=col>df</th><th scope=col>AIC</th><th scope=col>BIC</th><th scope=col>logLik</th><th scope=col>Test</th><th scope=col>L.Ratio</th><th scope=col>p-value</th></tr></thead>\n",
       "<tbody>\n",
       "\t<tr><th scope=row>fit2</th><td>lme.formula(fixed = ADNI_MEM ~ as.factor(f_s1_only) * Month +     as.factor(f_hpc) * Month, data = adni1, random = ~1 + Month |     RID, na.action = na.exclude, contrasts = c(\"contr.sum\", \"contr.poly\"))                                                  </td><td>1                                                                                                                                                                                                                                                           </td><td>10                                                                                                                                                                                                                                                          </td><td> 994.4184                                                                                                                                                                                                                                                   </td><td>1044.404                                                                                                                                                                                                                                                    </td><td>-487.2092                                                                                                                                                                                                                                                   </td><td>                                                                                                                                                                                                                                                            </td><td>      NA                                                                                                                                                                                                                                                    </td><td>          NA                                                                                                                                                                                                                                                </td></tr>\n",
       "\t<tr><th scope=row>fit3</th><td>lme.formula(fixed = ADNI_MEM ~ as.factor(f_s1_only) * Month +     as.factor(f_hpc) * Month, data = adni1, random = ~1 | RID,     correlation = corAR1(form = ~1 | RID, fixed = FALSE), na.action = na.exclude,     contrasts = c(\"contr.sum\", \"contr.poly\"))</td><td>2                                                                                                                                                                                                                                                           </td><td> 9                                                                                                                                                                                                                                                          </td><td>1096.4337                                                                                                                                                                                                                                                   </td><td>1141.420                                                                                                                                                                                                                                                    </td><td>-539.2169                                                                                                                                                                                                                                                   </td><td>1 vs 2                                                                                                                                                                                                                                                      </td><td>104.0153                                                                                                                                                                                                                                                    </td><td>2.007596e-24                                                                                                                                                                                                                                                </td></tr>\n",
       "</tbody>\n",
       "</table>\n"
      ],
      "text/latex": [
       "\\begin{tabular}{r|lllllllll}\n",
       "  & call & Model & df & AIC & BIC & logLik & Test & L.Ratio & p-value\\\\\n",
       "\\hline\n",
       "\tfit2 & lme.formula(fixed = ADNI\\_MEM \\textasciitilde{} as.factor(f\\_s1\\_only) * Month +     as.factor(f\\_hpc) * Month, data = adni1, random = \\textasciitilde{}1 + Month \\textbar{}     RID, na.action = na.exclude, contrasts = c(\"contr.sum\", \"contr.poly\"))                                                   & 1                                                                                                                                                                                                                                                                                                                & 10                                                                                                                                                                                                                                                                                                               &  994.4184                                                                                                                                                                                                                                                                                                        & 1044.404                                                                                                                                                                                                                                                                                                         & -487.2092                                                                                                                                                                                                                                                                                                        &                                                                                                                                                                                                                                                                                                                  &       NA                                                                                                                                                                                                                                                                                                         &           NA                                                                                                                                                                                                                                                                                                    \\\\\n",
       "\tfit3 & lme.formula(fixed = ADNI\\_MEM \\textasciitilde{} as.factor(f\\_s1\\_only) * Month +     as.factor(f\\_hpc) * Month, data = adni1, random = \\textasciitilde{}1 \\textbar{} RID,     correlation = corAR1(form = \\textasciitilde{}1 \\textbar{} RID, fixed = FALSE), na.action = na.exclude,     contrasts = c(\"contr.sum\", \"contr.poly\")) & 2                                                                                                                                                                                                                                                                                                                                           &  9                                                                                                                                                                                                                                                                                                                                          & 1096.4337                                                                                                                                                                                                                                                                                                                                   & 1141.420                                                                                                                                                                                                                                                                                                                                    & -539.2169                                                                                                                                                                                                                                                                                                                                   & 1 vs 2                                                                                                                                                                                                                                                                                                                                      & 104.0153                                                                                                                                                                                                                                                                                                                                    & 2.007596e-24                                                                                                                                                                                                                                                                                                                               \\\\\n",
       "\\end{tabular}\n"
      ],
      "text/markdown": [
       "\n",
       "| <!--/--> | call | Model | df | AIC | BIC | logLik | Test | L.Ratio | p-value | \n",
       "|---|---|\n",
       "| fit2 | lme.formula(fixed = ADNI_MEM ~ as.factor(f_s1_only) * Month +     as.factor(f_hpc) * Month, data = adni1, random = ~1 + Month |     RID, na.action = na.exclude, contrasts = c(\"contr.sum\", \"contr.poly\"))                                                   | 1                                                                                                                                                                                                                                                            | 10                                                                                                                                                                                                                                                           |  994.4184                                                                                                                                                                                                                                                    | 1044.404                                                                                                                                                                                                                                                     | -487.2092                                                                                                                                                                                                                                                    |                                                                                                                                                                                                                                                              |       NA                                                                                                                                                                                                                                                     |           NA                                                                                                                                                                                                                                                 | \n",
       "| fit3 | lme.formula(fixed = ADNI_MEM ~ as.factor(f_s1_only) * Month +     as.factor(f_hpc) * Month, data = adni1, random = ~1 | RID,     correlation = corAR1(form = ~1 | RID, fixed = FALSE), na.action = na.exclude,     contrasts = c(\"contr.sum\", \"contr.poly\")) | 2                                                                                                                                                                                                                                                            |  9                                                                                                                                                                                                                                                           | 1096.4337                                                                                                                                                                                                                                                    | 1141.420                                                                                                                                                                                                                                                     | -539.2169                                                                                                                                                                                                                                                    | 1 vs 2                                                                                                                                                                                                                                                       | 104.0153                                                                                                                                                                                                                                                     | 2.007596e-24                                                                                                                                                                                                                                                 | \n",
       "\n",
       "\n"
      ],
      "text/plain": [
       "     call                                                                                                                                                                                                                                                        \n",
       "fit2 lme.formula(fixed = ADNI_MEM ~ as.factor(f_s1_only) * Month +     as.factor(f_hpc) * Month, data = adni1, random = ~1 + Month |     RID, na.action = na.exclude, contrasts = c(\"contr.sum\", \"contr.poly\"))                                                  \n",
       "fit3 lme.formula(fixed = ADNI_MEM ~ as.factor(f_s1_only) * Month +     as.factor(f_hpc) * Month, data = adni1, random = ~1 | RID,     correlation = corAR1(form = ~1 | RID, fixed = FALSE), na.action = na.exclude,     contrasts = c(\"contr.sum\", \"contr.poly\"))\n",
       "     Model df AIC       BIC      logLik    Test   L.Ratio  p-value     \n",
       "fit2 1     10  994.4184 1044.404 -487.2092              NA           NA\n",
       "fit3 2      9 1096.4337 1141.420 -539.2169 1 vs 2 104.0153 2.007596e-24"
      ]
     },
     "metadata": {},
     "output_type": "display_data"
    }
   ],
   "source": [
    "anova(fit2,fit3)"
   ]
  },
  {
   "cell_type": "markdown",
   "metadata": {},
   "source": [
    "## linear mixed effects models in ADNI2"
   ]
  },
  {
   "cell_type": "code",
   "execution_count": 29,
   "metadata": {},
   "outputs": [
    {
     "data": {
      "text/plain": [
       "Linear mixed-effects model fit by REML\n",
       " Data: adni2 \n",
       "       AIC      BIC    logLik\n",
       "  1313.261 1353.212 -648.6303\n",
       "\n",
       "Random effects:\n",
       " Formula: ~1 | RID\n",
       "        (Intercept)  Residual\n",
       "StdDev:   0.5864327 0.3172644\n",
       "\n",
       "Fixed effects: ADNI_MEM ~ as.factor(f_s1_only) * Month + as.factor(f_hpc) *      Month \n",
       "                                 Value  Std.Error  DF    t-value p-value\n",
       "(Intercept)                 -0.3079743 0.08217502 858  -3.747785   2e-04\n",
       "as.factor(f_s1_only)1        0.3942185 0.06489569 232   6.074648   0e+00\n",
       "Month                       -0.0183298 0.00166601 858 -11.002187   0e+00\n",
       "as.factor(f_hpc)1            0.6941697 0.06052815 232  11.468542   0e+00\n",
       "as.factor(f_s1_only)1:Month  0.0082595 0.00122076 858   6.765819   0e+00\n",
       "Month:as.factor(f_hpc)1      0.0098862 0.00129006 858   7.663335   0e+00\n",
       " Correlation: \n",
       "                            (Intr) as.(_1_)1 Month  a.(_)1 a.(_1_)1:\n",
       "as.factor(f_s1_only)1       -0.684                                  \n",
       "Month                       -0.267  0.171                           \n",
       "as.factor(f_hpc)1           -0.624  0.143     0.179                 \n",
       "as.factor(f_s1_only)1:Month  0.184 -0.268    -0.640 -0.038          \n",
       "Month:as.factor(f_hpc)1      0.170 -0.033    -0.686 -0.267  0.120   \n",
       "\n",
       "Standardized Within-Group Residuals:\n",
       "         Min           Q1          Med           Q3          Max \n",
       "-4.647054484 -0.531843884 -0.007559788  0.522086731  3.544859483 \n",
       "\n",
       "Number of Observations: 1096\n",
       "Number of Groups: 235 "
      ]
     },
     "metadata": {},
     "output_type": "display_data"
    }
   ],
   "source": [
    "fit1 <- lme(ADNI_MEM ~ as.factor(f_s1_only)*Month + as.factor(f_hpc)*Month, random = ~1|RID, \n",
    "            na.action=na.exclude, contrasts=c(\"contr.sum\", \"contr.poly\"), data=adni2)\n",
    "summary(fit1)"
   ]
  },
  {
   "cell_type": "code",
   "execution_count": 30,
   "metadata": {},
   "outputs": [
    {
     "data": {
      "text/plain": [
       "Linear mixed-effects model fit by REML\n",
       " Data: adni2 \n",
       "       AIC      BIC    logLik\n",
       "  1199.247 1249.186 -589.6233\n",
       "\n",
       "Random effects:\n",
       " Formula: ~1 + Month | RID\n",
       " Structure: General positive-definite, Log-Cholesky parametrization\n",
       "            StdDev     Corr  \n",
       "(Intercept) 0.50861868 (Intr)\n",
       "Month       0.01159443 0.368 \n",
       "Residual    0.27347677       \n",
       "\n",
       "Fixed effects: ADNI_MEM ~ as.factor(f_s1_only) * Month + as.factor(f_hpc) *      Month \n",
       "                                 Value  Std.Error  DF   t-value p-value\n",
       "(Intercept)                 -0.3023598 0.07129871 858 -4.240748       0\n",
       "as.factor(f_s1_only)1        0.3962992 0.05627602 232  7.042062       0\n",
       "Month                       -0.0193404 0.00217089 858 -8.908943       0\n",
       "as.factor(f_hpc)1            0.6889504 0.05253749 232 13.113500       0\n",
       "as.factor(f_s1_only)1:Month  0.0080070 0.00162993 858  4.912504       0\n",
       "Month:as.factor(f_hpc)1      0.0107929 0.00165532 858  6.520123       0\n",
       " Correlation: \n",
       "                            (Intr) as.(_1_)1 Month  a.(_)1 a.(_1_)1:\n",
       "as.factor(f_s1_only)1       -0.684                                  \n",
       "Month                        0.051 -0.047                           \n",
       "as.factor(f_hpc)1           -0.624  0.143    -0.018                 \n",
       "as.factor(f_s1_only)1:Month -0.050  0.073    -0.654  0.011          \n",
       "Month:as.factor(f_hpc)1     -0.018  0.010    -0.667  0.035  0.127   \n",
       "\n",
       "Standardized Within-Group Residuals:\n",
       "        Min          Q1         Med          Q3         Max \n",
       "-3.29301928 -0.52325212 -0.02510212  0.48267217  3.37895613 \n",
       "\n",
       "Number of Observations: 1096\n",
       "Number of Groups: 235 "
      ]
     },
     "metadata": {},
     "output_type": "display_data"
    }
   ],
   "source": [
    "fit2 <- lme(ADNI_MEM ~ as.factor(f_s1_only)*Month + as.factor(f_hpc)*Month, random = ~1+Month|RID, \n",
    "            na.action=na.exclude, contrasts=c(\"contr.sum\", \"contr.poly\"), data=adni2)\n",
    "summary(fit2)"
   ]
  },
  {
   "cell_type": "code",
   "execution_count": 31,
   "metadata": {},
   "outputs": [
    {
     "data": {
      "text/html": [
       "<table>\n",
       "<thead><tr><th></th><th scope=col>call</th><th scope=col>Model</th><th scope=col>df</th><th scope=col>AIC</th><th scope=col>BIC</th><th scope=col>logLik</th><th scope=col>Test</th><th scope=col>L.Ratio</th><th scope=col>p-value</th></tr></thead>\n",
       "<tbody>\n",
       "\t<tr><th scope=row>fit1</th><td>lme.formula(fixed = ADNI_MEM ~ as.factor(f_s1_only) * Month +     as.factor(f_hpc) * Month, data = adni2, random = ~1 | RID,     na.action = na.exclude, contrasts = c(\"contr.sum\", \"contr.poly\"))        </td><td>1                                                                                                                                                                                                         </td><td> 8                                                                                                                                                                                                        </td><td>1313.261                                                                                                                                                                                                  </td><td>1353.212                                                                                                                                                                                                  </td><td>-648.6303                                                                                                                                                                                                 </td><td>                                                                                                                                                                                                          </td><td>      NA                                                                                                                                                                                                  </td><td>          NA                                                                                                                                                                                              </td></tr>\n",
       "\t<tr><th scope=row>fit2</th><td>lme.formula(fixed = ADNI_MEM ~ as.factor(f_s1_only) * Month +     as.factor(f_hpc) * Month, data = adni2, random = ~1 + Month |     RID, na.action = na.exclude, contrasts = c(\"contr.sum\", \"contr.poly\"))</td><td>2                                                                                                                                                                                                         </td><td>10                                                                                                                                                                                                        </td><td>1199.247                                                                                                                                                                                                  </td><td>1249.186                                                                                                                                                                                                  </td><td>-589.6233                                                                                                                                                                                                 </td><td>1 vs 2                                                                                                                                                                                                    </td><td>118.0139                                                                                                                                                                                                  </td><td>2.363837e-26                                                                                                                                                                                              </td></tr>\n",
       "</tbody>\n",
       "</table>\n"
      ],
      "text/latex": [
       "\\begin{tabular}{r|lllllllll}\n",
       "  & call & Model & df & AIC & BIC & logLik & Test & L.Ratio & p-value\\\\\n",
       "\\hline\n",
       "\tfit1 & lme.formula(fixed = ADNI\\_MEM \\textasciitilde{} as.factor(f\\_s1\\_only) * Month +     as.factor(f\\_hpc) * Month, data = adni2, random = \\textasciitilde{}1 \\textbar{} RID,     na.action = na.exclude, contrasts = c(\"contr.sum\", \"contr.poly\"))         & 1                                                                                                                                                                                                                                                              &  8                                                                                                                                                                                                                                                             & 1313.261                                                                                                                                                                                                                                                       & 1353.212                                                                                                                                                                                                                                                       & -648.6303                                                                                                                                                                                                                                                      &                                                                                                                                                                                                                                                                &       NA                                                                                                                                                                                                                                                       &           NA                                                                                                                                                                                                                                                  \\\\\n",
       "\tfit2 & lme.formula(fixed = ADNI\\_MEM \\textasciitilde{} as.factor(f\\_s1\\_only) * Month +     as.factor(f\\_hpc) * Month, data = adni2, random = \\textasciitilde{}1 + Month \\textbar{}     RID, na.action = na.exclude, contrasts = c(\"contr.sum\", \"contr.poly\")) & 2                                                                                                                                                                                                                                                              & 10                                                                                                                                                                                                                                                             & 1199.247                                                                                                                                                                                                                                                       & 1249.186                                                                                                                                                                                                                                                       & -589.6233                                                                                                                                                                                                                                                      & 1 vs 2                                                                                                                                                                                                                                                         & 118.0139                                                                                                                                                                                                                                                       & 2.363837e-26                                                                                                                                                                                                                                                  \\\\\n",
       "\\end{tabular}\n"
      ],
      "text/markdown": [
       "\n",
       "| <!--/--> | call | Model | df | AIC | BIC | logLik | Test | L.Ratio | p-value | \n",
       "|---|---|\n",
       "| fit1 | lme.formula(fixed = ADNI_MEM ~ as.factor(f_s1_only) * Month +     as.factor(f_hpc) * Month, data = adni2, random = ~1 | RID,     na.action = na.exclude, contrasts = c(\"contr.sum\", \"contr.poly\"))         | 1                                                                                                                                                                                                          |  8                                                                                                                                                                                                         | 1313.261                                                                                                                                                                                                   | 1353.212                                                                                                                                                                                                   | -648.6303                                                                                                                                                                                                  |                                                                                                                                                                                                            |       NA                                                                                                                                                                                                   |           NA                                                                                                                                                                                               | \n",
       "| fit2 | lme.formula(fixed = ADNI_MEM ~ as.factor(f_s1_only) * Month +     as.factor(f_hpc) * Month, data = adni2, random = ~1 + Month |     RID, na.action = na.exclude, contrasts = c(\"contr.sum\", \"contr.poly\")) | 2                                                                                                                                                                                                          | 10                                                                                                                                                                                                         | 1199.247                                                                                                                                                                                                   | 1249.186                                                                                                                                                                                                   | -589.6233                                                                                                                                                                                                  | 1 vs 2                                                                                                                                                                                                     | 118.0139                                                                                                                                                                                                   | 2.363837e-26                                                                                                                                                                                               | \n",
       "\n",
       "\n"
      ],
      "text/plain": [
       "     call                                                                                                                                                                                                      \n",
       "fit1 lme.formula(fixed = ADNI_MEM ~ as.factor(f_s1_only) * Month +     as.factor(f_hpc) * Month, data = adni2, random = ~1 | RID,     na.action = na.exclude, contrasts = c(\"contr.sum\", \"contr.poly\"))        \n",
       "fit2 lme.formula(fixed = ADNI_MEM ~ as.factor(f_s1_only) * Month +     as.factor(f_hpc) * Month, data = adni2, random = ~1 + Month |     RID, na.action = na.exclude, contrasts = c(\"contr.sum\", \"contr.poly\"))\n",
       "     Model df AIC      BIC      logLik    Test   L.Ratio  p-value     \n",
       "fit1 1      8 1313.261 1353.212 -648.6303              NA           NA\n",
       "fit2 2     10 1199.247 1249.186 -589.6233 1 vs 2 118.0139 2.363837e-26"
      ]
     },
     "metadata": {},
     "output_type": "display_data"
    }
   ],
   "source": [
    "anova(fit1,fit2)"
   ]
  },
  {
   "cell_type": "code",
   "execution_count": 32,
   "metadata": {},
   "outputs": [
    {
     "data": {
      "text/plain": [
       "Linear mixed-effects model fit by REML\n",
       " Data: adni2 \n",
       "       AIC      BIC    logLik\n",
       "  1254.002 1298.948 -618.0012\n",
       "\n",
       "Random effects:\n",
       " Formula: ~1 | RID\n",
       "        (Intercept)  Residual\n",
       "StdDev:   0.5526591 0.3680677\n",
       "\n",
       "Correlation Structure: AR(1)\n",
       " Formula: ~1 | RID \n",
       " Parameter estimate(s):\n",
       "      Phi \n",
       "0.4200384 \n",
       "Fixed effects: ADNI_MEM ~ as.factor(f_s1_only) * Month + as.factor(f_hpc) *      Month \n",
       "                                 Value  Std.Error  DF   t-value p-value\n",
       "(Intercept)                 -0.3134360 0.08344703 858 -3.756107   2e-04\n",
       "as.factor(f_s1_only)1        0.3923822 0.06587918 232  5.956088   0e+00\n",
       "Month                       -0.0187334 0.00203337 858 -9.212960   0e+00\n",
       "as.factor(f_hpc)1            0.6879942 0.06148542 232 11.189551   0e+00\n",
       "as.factor(f_s1_only)1:Month  0.0083600 0.00149905 858  5.576866   0e+00\n",
       "Month:as.factor(f_hpc)1      0.0101657 0.00156961 858  6.476589   0e+00\n",
       " Correlation: \n",
       "                            (Intr) as.(_1_)1 Month  a.(_)1 a.(_1_)1:\n",
       "as.factor(f_s1_only)1       -0.684                                  \n",
       "Month                       -0.333  0.216                           \n",
       "as.factor(f_hpc)1           -0.624  0.143     0.221                 \n",
       "as.factor(f_s1_only)1:Month  0.231 -0.337    -0.643 -0.048          \n",
       "Month:as.factor(f_hpc)1      0.211 -0.043    -0.682 -0.332  0.122   \n",
       "\n",
       "Standardized Within-Group Residuals:\n",
       "        Min          Q1         Med          Q3         Max \n",
       "-3.78491799 -0.45734172  0.01614706  0.51587399  2.93994277 \n",
       "\n",
       "Number of Observations: 1096\n",
       "Number of Groups: 235 "
      ]
     },
     "metadata": {},
     "output_type": "display_data"
    }
   ],
   "source": [
    "fit3 <- lme(ADNI_MEM ~ as.factor(f_s1_only)*Month + as.factor(f_hpc)*Month, random = ~1|RID, \n",
    "            na.action=na.exclude, contrasts=c(\"contr.sum\", \"contr.poly\"), \n",
    "            correlation=corAR1(form=~1|RID,fixed=FALSE), data=adni2)\n",
    "summary(fit3)"
   ]
  },
  {
   "cell_type": "code",
   "execution_count": 33,
   "metadata": {},
   "outputs": [
    {
     "data": {
      "text/html": [
       "<table>\n",
       "<thead><tr><th></th><th scope=col>call</th><th scope=col>Model</th><th scope=col>df</th><th scope=col>AIC</th><th scope=col>BIC</th><th scope=col>logLik</th><th scope=col>Test</th><th scope=col>L.Ratio</th><th scope=col>p-value</th></tr></thead>\n",
       "<tbody>\n",
       "\t<tr><th scope=row>fit2</th><td>lme.formula(fixed = ADNI_MEM ~ as.factor(f_s1_only) * Month +     as.factor(f_hpc) * Month, data = adni2, random = ~1 + Month |     RID, na.action = na.exclude, contrasts = c(\"contr.sum\", \"contr.poly\"))                                                  </td><td>1                                                                                                                                                                                                                                                           </td><td>10                                                                                                                                                                                                                                                          </td><td>1199.247                                                                                                                                                                                                                                                    </td><td>1249.186                                                                                                                                                                                                                                                    </td><td>-589.6233                                                                                                                                                                                                                                                   </td><td>                                                                                                                                                                                                                                                            </td><td>      NA                                                                                                                                                                                                                                                    </td><td>          NA                                                                                                                                                                                                                                                </td></tr>\n",
       "\t<tr><th scope=row>fit3</th><td>lme.formula(fixed = ADNI_MEM ~ as.factor(f_s1_only) * Month +     as.factor(f_hpc) * Month, data = adni2, random = ~1 | RID,     correlation = corAR1(form = ~1 | RID, fixed = FALSE), na.action = na.exclude,     contrasts = c(\"contr.sum\", \"contr.poly\"))</td><td>2                                                                                                                                                                                                                                                           </td><td> 9                                                                                                                                                                                                                                                          </td><td>1254.002                                                                                                                                                                                                                                                    </td><td>1298.948                                                                                                                                                                                                                                                    </td><td>-618.0012                                                                                                                                                                                                                                                   </td><td>1 vs 2                                                                                                                                                                                                                                                      </td><td>56.75572                                                                                                                                                                                                                                                    </td><td>4.934531e-14                                                                                                                                                                                                                                                </td></tr>\n",
       "</tbody>\n",
       "</table>\n"
      ],
      "text/latex": [
       "\\begin{tabular}{r|lllllllll}\n",
       "  & call & Model & df & AIC & BIC & logLik & Test & L.Ratio & p-value\\\\\n",
       "\\hline\n",
       "\tfit2 & lme.formula(fixed = ADNI\\_MEM \\textasciitilde{} as.factor(f\\_s1\\_only) * Month +     as.factor(f\\_hpc) * Month, data = adni2, random = \\textasciitilde{}1 + Month \\textbar{}     RID, na.action = na.exclude, contrasts = c(\"contr.sum\", \"contr.poly\"))                                                   & 1                                                                                                                                                                                                                                                                                                                & 10                                                                                                                                                                                                                                                                                                               & 1199.247                                                                                                                                                                                                                                                                                                         & 1249.186                                                                                                                                                                                                                                                                                                         & -589.6233                                                                                                                                                                                                                                                                                                        &                                                                                                                                                                                                                                                                                                                  &       NA                                                                                                                                                                                                                                                                                                         &           NA                                                                                                                                                                                                                                                                                                    \\\\\n",
       "\tfit3 & lme.formula(fixed = ADNI\\_MEM \\textasciitilde{} as.factor(f\\_s1\\_only) * Month +     as.factor(f\\_hpc) * Month, data = adni2, random = \\textasciitilde{}1 \\textbar{} RID,     correlation = corAR1(form = \\textasciitilde{}1 \\textbar{} RID, fixed = FALSE), na.action = na.exclude,     contrasts = c(\"contr.sum\", \"contr.poly\")) & 2                                                                                                                                                                                                                                                                                                                                           &  9                                                                                                                                                                                                                                                                                                                                          & 1254.002                                                                                                                                                                                                                                                                                                                                    & 1298.948                                                                                                                                                                                                                                                                                                                                    & -618.0012                                                                                                                                                                                                                                                                                                                                   & 1 vs 2                                                                                                                                                                                                                                                                                                                                      & 56.75572                                                                                                                                                                                                                                                                                                                                    & 4.934531e-14                                                                                                                                                                                                                                                                                                                               \\\\\n",
       "\\end{tabular}\n"
      ],
      "text/markdown": [
       "\n",
       "| <!--/--> | call | Model | df | AIC | BIC | logLik | Test | L.Ratio | p-value | \n",
       "|---|---|\n",
       "| fit2 | lme.formula(fixed = ADNI_MEM ~ as.factor(f_s1_only) * Month +     as.factor(f_hpc) * Month, data = adni2, random = ~1 + Month |     RID, na.action = na.exclude, contrasts = c(\"contr.sum\", \"contr.poly\"))                                                   | 1                                                                                                                                                                                                                                                            | 10                                                                                                                                                                                                                                                           | 1199.247                                                                                                                                                                                                                                                     | 1249.186                                                                                                                                                                                                                                                     | -589.6233                                                                                                                                                                                                                                                    |                                                                                                                                                                                                                                                              |       NA                                                                                                                                                                                                                                                     |           NA                                                                                                                                                                                                                                                 | \n",
       "| fit3 | lme.formula(fixed = ADNI_MEM ~ as.factor(f_s1_only) * Month +     as.factor(f_hpc) * Month, data = adni2, random = ~1 | RID,     correlation = corAR1(form = ~1 | RID, fixed = FALSE), na.action = na.exclude,     contrasts = c(\"contr.sum\", \"contr.poly\")) | 2                                                                                                                                                                                                                                                            |  9                                                                                                                                                                                                                                                           | 1254.002                                                                                                                                                                                                                                                     | 1298.948                                                                                                                                                                                                                                                     | -618.0012                                                                                                                                                                                                                                                    | 1 vs 2                                                                                                                                                                                                                                                       | 56.75572                                                                                                                                                                                                                                                     | 4.934531e-14                                                                                                                                                                                                                                                 | \n",
       "\n",
       "\n"
      ],
      "text/plain": [
       "     call                                                                                                                                                                                                                                                        \n",
       "fit2 lme.formula(fixed = ADNI_MEM ~ as.factor(f_s1_only) * Month +     as.factor(f_hpc) * Month, data = adni2, random = ~1 + Month |     RID, na.action = na.exclude, contrasts = c(\"contr.sum\", \"contr.poly\"))                                                  \n",
       "fit3 lme.formula(fixed = ADNI_MEM ~ as.factor(f_s1_only) * Month +     as.factor(f_hpc) * Month, data = adni2, random = ~1 | RID,     correlation = corAR1(form = ~1 | RID, fixed = FALSE), na.action = na.exclude,     contrasts = c(\"contr.sum\", \"contr.poly\"))\n",
       "     Model df AIC      BIC      logLik    Test   L.Ratio  p-value     \n",
       "fit2 1     10 1199.247 1249.186 -589.6233              NA           NA\n",
       "fit3 2      9 1254.002 1298.948 -618.0012 1 vs 2 56.75572 4.934531e-14"
      ]
     },
     "metadata": {},
     "output_type": "display_data"
    }
   ],
   "source": [
    "anova(fit2,fit3)"
   ]
  },
  {
   "cell_type": "markdown",
   "metadata": {
    "collapsed": true
   },
   "source": [
    "## adni executive function"
   ]
  },
  {
   "cell_type": "markdown",
   "metadata": {},
   "source": [
    "## adni1"
   ]
  },
  {
   "cell_type": "code",
   "execution_count": 34,
   "metadata": {
    "collapsed": true
   },
   "outputs": [],
   "source": [
    "fit1 <- lme(ADNI_EF ~ as.factor(f_s1_only)*Month + as.factor(f_hpc)*Month, random = ~1|RID, \n",
    "            na.action=na.exclude, contrasts=c(\"contr.sum\", \"contr.poly\"), data=adni1)"
   ]
  },
  {
   "cell_type": "code",
   "execution_count": 35,
   "metadata": {},
   "outputs": [
    {
     "data": {
      "text/plain": [
       "Linear mixed-effects model fit by REML\n",
       " Data: adni1 \n",
       "       AIC      BIC    logLik\n",
       "  1513.044 1552.988 -748.5219\n",
       "\n",
       "Random effects:\n",
       " Formula: ~1 | RID\n",
       "        (Intercept)  Residual\n",
       "StdDev:   0.6521716 0.3439902\n",
       "\n",
       "Fixed effects: ADNI_EF ~ as.factor(f_s1_only) * Month + as.factor(f_hpc) * Month \n",
       "                                 Value  Std.Error  DF    t-value p-value\n",
       "(Intercept)                 -0.3206004 0.06027453 851  -5.319003   0e+00\n",
       "as.factor(f_s1_only)1        0.2633182 0.05893341 238   4.468063   0e+00\n",
       "Month                       -0.0197289 0.00119079 851 -16.567881   0e+00\n",
       "as.factor(f_hpc)1            0.5105671 0.05107189 238   9.997027   0e+00\n",
       "as.factor(f_s1_only)1:Month  0.0045693 0.00112145 851   4.074447   1e-04\n",
       "Month:as.factor(f_hpc)1      0.0089422 0.00099136 851   9.020127   0e+00\n",
       " Correlation: \n",
       "                            (Intr) as.(_1_)1 Month  a.(_)1 a.(_1_)1:\n",
       "as.factor(f_s1_only)1       -0.633                                  \n",
       "Month                       -0.261  0.163                           \n",
       "as.factor(f_hpc)1           -0.450  0.407     0.120                 \n",
       "as.factor(f_s1_only)1:Month  0.169 -0.263    -0.634 -0.104          \n",
       "Month:as.factor(f_hpc)1      0.123 -0.102    -0.484 -0.262  0.370   \n",
       "\n",
       "Standardized Within-Group Residuals:\n",
       "        Min          Q1         Med          Q3         Max \n",
       "-4.91967975 -0.54016654  0.02905916  0.54076052  2.81503797 \n",
       "\n",
       "Number of Observations: 1095\n",
       "Number of Groups: 241 "
      ]
     },
     "metadata": {},
     "output_type": "display_data"
    }
   ],
   "source": [
    "summary(fit1)"
   ]
  },
  {
   "cell_type": "code",
   "execution_count": 36,
   "metadata": {
    "collapsed": true
   },
   "outputs": [],
   "source": [
    "fit2 <- lme(ADNI_EF ~ as.factor(f_s1_only)*Month + as.factor(f_hpc)*Month, random = ~1+Month|RID, \n",
    "            na.action=na.exclude, contrasts=c(\"contr.sum\", \"contr.poly\"), data=adni1)"
   ]
  },
  {
   "cell_type": "code",
   "execution_count": 37,
   "metadata": {},
   "outputs": [
    {
     "data": {
      "text/plain": [
       "Linear mixed-effects model fit by REML\n",
       " Data: adni1 \n",
       "       AIC      BIC    logLik\n",
       "  1381.683 1431.613 -680.8413\n",
       "\n",
       "Random effects:\n",
       " Formula: ~1 + Month | RID\n",
       " Structure: General positive-definite, Log-Cholesky parametrization\n",
       "            StdDev     Corr  \n",
       "(Intercept) 0.60671712 (Intr)\n",
       "Month       0.01526636 0.124 \n",
       "Residual    0.27925420       \n",
       "\n",
       "Fixed effects: ADNI_EF ~ as.factor(f_s1_only) * Month + as.factor(f_hpc) * Month \n",
       "                                 Value  Std.Error  DF    t-value p-value\n",
       "(Intercept)                 -0.3186553 0.05530911 851  -5.761353  0.0000\n",
       "as.factor(f_s1_only)1        0.2607248 0.05406989 238   4.821996  0.0000\n",
       "Month                       -0.0201317 0.00171740 851 -11.722215  0.0000\n",
       "as.factor(f_hpc)1            0.5087704 0.04685478 238  10.858453  0.0000\n",
       "as.factor(f_s1_only)1:Month  0.0048869 0.00163577 851   2.987527  0.0029\n",
       "Month:as.factor(f_hpc)1      0.0093259 0.00143539 851   6.497125  0.0000\n",
       " Correlation: \n",
       "                            (Intr) as.(_1_)1 Month  a.(_)1 a.(_1_)1:\n",
       "as.factor(f_s1_only)1       -0.633                                  \n",
       "Month                       -0.055  0.033                           \n",
       "as.factor(f_hpc)1           -0.450  0.407     0.028                 \n",
       "as.factor(f_s1_only)1:Month  0.034 -0.048    -0.634 -0.016          \n",
       "Month:as.factor(f_hpc)1      0.028 -0.016    -0.473 -0.051  0.380   \n",
       "\n",
       "Standardized Within-Group Residuals:\n",
       "        Min          Q1         Med          Q3         Max \n",
       "-4.25242659 -0.51575106 -0.01638418  0.51190039  3.36706206 \n",
       "\n",
       "Number of Observations: 1095\n",
       "Number of Groups: 241 "
      ]
     },
     "metadata": {},
     "output_type": "display_data"
    }
   ],
   "source": [
    "summary(fit2)"
   ]
  },
  {
   "cell_type": "code",
   "execution_count": 38,
   "metadata": {},
   "outputs": [
    {
     "data": {
      "text/html": [
       "<table>\n",
       "<thead><tr><th></th><th scope=col>call</th><th scope=col>Model</th><th scope=col>df</th><th scope=col>AIC</th><th scope=col>BIC</th><th scope=col>logLik</th><th scope=col>Test</th><th scope=col>L.Ratio</th><th scope=col>p-value</th></tr></thead>\n",
       "<tbody>\n",
       "\t<tr><th scope=row>fit1</th><td>lme.formula(fixed = ADNI_EF ~ as.factor(f_s1_only) * Month +     as.factor(f_hpc) * Month, data = adni1, random = ~1 | RID,     na.action = na.exclude, contrasts = c(\"contr.sum\", \"contr.poly\"))        </td><td>1                                                                                                                                                                                                        </td><td> 8                                                                                                                                                                                                       </td><td>1513.044                                                                                                                                                                                                 </td><td>1552.988                                                                                                                                                                                                 </td><td>-748.5219                                                                                                                                                                                                </td><td>                                                                                                                                                                                                         </td><td>      NA                                                                                                                                                                                                 </td><td>          NA                                                                                                                                                                                             </td></tr>\n",
       "\t<tr><th scope=row>fit2</th><td>lme.formula(fixed = ADNI_EF ~ as.factor(f_s1_only) * Month +     as.factor(f_hpc) * Month, data = adni1, random = ~1 + Month |     RID, na.action = na.exclude, contrasts = c(\"contr.sum\", \"contr.poly\"))</td><td>2                                                                                                                                                                                                        </td><td>10                                                                                                                                                                                                       </td><td>1381.683                                                                                                                                                                                                 </td><td>1431.613                                                                                                                                                                                                 </td><td>-680.8413                                                                                                                                                                                                </td><td>1 vs 2                                                                                                                                                                                                   </td><td>135.3612                                                                                                                                                                                                 </td><td>4.042884e-30                                                                                                                                                                                             </td></tr>\n",
       "</tbody>\n",
       "</table>\n"
      ],
      "text/latex": [
       "\\begin{tabular}{r|lllllllll}\n",
       "  & call & Model & df & AIC & BIC & logLik & Test & L.Ratio & p-value\\\\\n",
       "\\hline\n",
       "\tfit1 & lme.formula(fixed = ADNI\\_EF \\textasciitilde{} as.factor(f\\_s1\\_only) * Month +     as.factor(f\\_hpc) * Month, data = adni1, random = \\textasciitilde{}1 \\textbar{} RID,     na.action = na.exclude, contrasts = c(\"contr.sum\", \"contr.poly\"))         & 1                                                                                                                                                                                                                                                             &  8                                                                                                                                                                                                                                                            & 1513.044                                                                                                                                                                                                                                                      & 1552.988                                                                                                                                                                                                                                                      & -748.5219                                                                                                                                                                                                                                                     &                                                                                                                                                                                                                                                               &       NA                                                                                                                                                                                                                                                      &           NA                                                                                                                                                                                                                                                 \\\\\n",
       "\tfit2 & lme.formula(fixed = ADNI\\_EF \\textasciitilde{} as.factor(f\\_s1\\_only) * Month +     as.factor(f\\_hpc) * Month, data = adni1, random = \\textasciitilde{}1 + Month \\textbar{}     RID, na.action = na.exclude, contrasts = c(\"contr.sum\", \"contr.poly\")) & 2                                                                                                                                                                                                                                                             & 10                                                                                                                                                                                                                                                            & 1381.683                                                                                                                                                                                                                                                      & 1431.613                                                                                                                                                                                                                                                      & -680.8413                                                                                                                                                                                                                                                     & 1 vs 2                                                                                                                                                                                                                                                        & 135.3612                                                                                                                                                                                                                                                      & 4.042884e-30                                                                                                                                                                                                                                                 \\\\\n",
       "\\end{tabular}\n"
      ],
      "text/markdown": [
       "\n",
       "| <!--/--> | call | Model | df | AIC | BIC | logLik | Test | L.Ratio | p-value | \n",
       "|---|---|\n",
       "| fit1 | lme.formula(fixed = ADNI_EF ~ as.factor(f_s1_only) * Month +     as.factor(f_hpc) * Month, data = adni1, random = ~1 | RID,     na.action = na.exclude, contrasts = c(\"contr.sum\", \"contr.poly\"))         | 1                                                                                                                                                                                                         |  8                                                                                                                                                                                                        | 1513.044                                                                                                                                                                                                  | 1552.988                                                                                                                                                                                                  | -748.5219                                                                                                                                                                                                 |                                                                                                                                                                                                           |       NA                                                                                                                                                                                                  |           NA                                                                                                                                                                                              | \n",
       "| fit2 | lme.formula(fixed = ADNI_EF ~ as.factor(f_s1_only) * Month +     as.factor(f_hpc) * Month, data = adni1, random = ~1 + Month |     RID, na.action = na.exclude, contrasts = c(\"contr.sum\", \"contr.poly\")) | 2                                                                                                                                                                                                         | 10                                                                                                                                                                                                        | 1381.683                                                                                                                                                                                                  | 1431.613                                                                                                                                                                                                  | -680.8413                                                                                                                                                                                                 | 1 vs 2                                                                                                                                                                                                    | 135.3612                                                                                                                                                                                                  | 4.042884e-30                                                                                                                                                                                              | \n",
       "\n",
       "\n"
      ],
      "text/plain": [
       "     call                                                                                                                                                                                                     \n",
       "fit1 lme.formula(fixed = ADNI_EF ~ as.factor(f_s1_only) * Month +     as.factor(f_hpc) * Month, data = adni1, random = ~1 | RID,     na.action = na.exclude, contrasts = c(\"contr.sum\", \"contr.poly\"))        \n",
       "fit2 lme.formula(fixed = ADNI_EF ~ as.factor(f_s1_only) * Month +     as.factor(f_hpc) * Month, data = adni1, random = ~1 + Month |     RID, na.action = na.exclude, contrasts = c(\"contr.sum\", \"contr.poly\"))\n",
       "     Model df AIC      BIC      logLik    Test   L.Ratio  p-value     \n",
       "fit1 1      8 1513.044 1552.988 -748.5219              NA           NA\n",
       "fit2 2     10 1381.683 1431.613 -680.8413 1 vs 2 135.3612 4.042884e-30"
      ]
     },
     "metadata": {},
     "output_type": "display_data"
    }
   ],
   "source": [
    "anova(fit1,fit2)"
   ]
  },
  {
   "cell_type": "markdown",
   "metadata": {},
   "source": [
    "## adni2"
   ]
  },
  {
   "cell_type": "code",
   "execution_count": 39,
   "metadata": {
    "collapsed": true
   },
   "outputs": [],
   "source": [
    "fit1 <- lme(ADNI_EF ~ as.factor(f_s1_only)*Month + as.factor(f_hpc)*Month, random = ~1|RID, \n",
    "            na.action=na.exclude, contrasts=c(\"contr.sum\", \"contr.poly\"), data=adni2)"
   ]
  },
  {
   "cell_type": "code",
   "execution_count": 40,
   "metadata": {},
   "outputs": [
    {
     "data": {
      "text/plain": [
       "Linear mixed-effects model fit by REML\n",
       " Data: adni2 \n",
       "       AIC      BIC    logLik\n",
       "  1660.418 1700.347 -822.2089\n",
       "\n",
       "Random effects:\n",
       " Formula: ~1 | RID\n",
       "        (Intercept)  Residual\n",
       "StdDev:    0.619922 0.3824451\n",
       "\n",
       "Fixed effects: ADNI_EF ~ as.factor(f_s1_only) * Month + as.factor(f_hpc) * Month \n",
       "                                 Value  Std.Error  DF   t-value p-value\n",
       "(Intercept)                 -0.1986141 0.08856944 855 -2.242468  0.0252\n",
       "as.factor(f_s1_only)1        0.3822283 0.06992531 232  5.466237  0.0000\n",
       "Month                       -0.0124503 0.00202991 855 -6.133413  0.0000\n",
       "as.factor(f_hpc)1            0.5525170 0.06525288 232  8.467319  0.0000\n",
       "as.factor(f_s1_only)1:Month  0.0040278 0.00148848 855  2.705954  0.0069\n",
       "Month:as.factor(f_hpc)1      0.0077331 0.00156693 855  4.935196  0.0000\n",
       " Correlation: \n",
       "                            (Intr) as.(_1_)1 Month  a.(_)1 a.(_1_)1:\n",
       "as.factor(f_s1_only)1       -0.684                                  \n",
       "Month                       -0.298  0.192                           \n",
       "as.factor(f_hpc)1           -0.624  0.143     0.199                 \n",
       "as.factor(f_s1_only)1:Month  0.206 -0.300    -0.642 -0.042          \n",
       "Month:as.factor(f_hpc)1      0.189 -0.037    -0.685 -0.297  0.118   \n",
       "\n",
       "Standardized Within-Group Residuals:\n",
       "        Min          Q1         Med          Q3         Max \n",
       "-3.48329067 -0.54237658  0.01505135  0.58230074  4.01106557 \n",
       "\n",
       "Number of Observations: 1093\n",
       "Number of Groups: 235 "
      ]
     },
     "metadata": {},
     "output_type": "display_data"
    }
   ],
   "source": [
    "summary(fit1)"
   ]
  },
  {
   "cell_type": "code",
   "execution_count": 41,
   "metadata": {
    "collapsed": true
   },
   "outputs": [],
   "source": [
    "fit2 <- lme(ADNI_EF ~ as.factor(f_s1_only)*Month + as.factor(f_hpc)*Month, random = ~1+Month|RID, \n",
    "            na.action=na.exclude, contrasts=c(\"contr.sum\", \"contr.poly\"), data=adni2)"
   ]
  },
  {
   "cell_type": "code",
   "execution_count": 42,
   "metadata": {},
   "outputs": [
    {
     "data": {
      "text/plain": [
       "Linear mixed-effects model fit by REML\n",
       " Data: adni2 \n",
       "       AIC      BIC   logLik\n",
       "  1619.216 1669.128 -799.608\n",
       "\n",
       "Random effects:\n",
       " Formula: ~1 + Month | RID\n",
       " Structure: General positive-definite, Log-Cholesky parametrization\n",
       "            StdDev     Corr  \n",
       "(Intercept) 0.59585908 (Intr)\n",
       "Month       0.01203248 0.039 \n",
       "Residual    0.34464904       \n",
       "\n",
       "Fixed effects: ADNI_EF ~ as.factor(f_s1_only) * Month + as.factor(f_hpc) * Month \n",
       "                                 Value  Std.Error  DF   t-value p-value\n",
       "(Intercept)                 -0.1968924 0.08438875 855 -2.333159  0.0199\n",
       "as.factor(f_s1_only)1        0.3818003 0.06660106 232  5.732645  0.0000\n",
       "Month                       -0.0127733 0.00251460 855 -5.079665  0.0000\n",
       "as.factor(f_hpc)1            0.5527142 0.06218494 232  8.888233  0.0000\n",
       "as.factor(f_s1_only)1:Month  0.0040983 0.00187264 855  2.188506  0.0289\n",
       "Month:as.factor(f_hpc)1      0.0078242 0.00192373 855  4.067182  0.0001\n",
       " Correlation: \n",
       "                            (Intr) as.(_1_)1 Month  a.(_)1 a.(_1_)1:\n",
       "as.factor(f_s1_only)1       -0.684                                  \n",
       "Month                       -0.196  0.122                           \n",
       "as.factor(f_hpc)1           -0.624  0.143     0.135                 \n",
       "as.factor(f_s1_only)1:Month  0.129 -0.187    -0.651 -0.026          \n",
       "Month:as.factor(f_hpc)1      0.130 -0.023    -0.674 -0.202  0.123   \n",
       "\n",
       "Standardized Within-Group Residuals:\n",
       "        Min          Q1         Med          Q3         Max \n",
       "-2.82826405 -0.53824693 -0.01057082  0.52415421  3.35199803 \n",
       "\n",
       "Number of Observations: 1093\n",
       "Number of Groups: 235 "
      ]
     },
     "metadata": {},
     "output_type": "display_data"
    }
   ],
   "source": [
    "summary(fit2)"
   ]
  },
  {
   "cell_type": "code",
   "execution_count": 43,
   "metadata": {},
   "outputs": [
    {
     "data": {
      "text/html": [
       "<table>\n",
       "<thead><tr><th></th><th scope=col>call</th><th scope=col>Model</th><th scope=col>df</th><th scope=col>AIC</th><th scope=col>BIC</th><th scope=col>logLik</th><th scope=col>Test</th><th scope=col>L.Ratio</th><th scope=col>p-value</th></tr></thead>\n",
       "<tbody>\n",
       "\t<tr><th scope=row>fit1</th><td>lme.formula(fixed = ADNI_EF ~ as.factor(f_s1_only) * Month +     as.factor(f_hpc) * Month, data = adni2, random = ~1 | RID,     na.action = na.exclude, contrasts = c(\"contr.sum\", \"contr.poly\"))        </td><td>1                                                                                                                                                                                                        </td><td> 8                                                                                                                                                                                                       </td><td>1660.418                                                                                                                                                                                                 </td><td>1700.347                                                                                                                                                                                                 </td><td>-822.2089                                                                                                                                                                                                </td><td>                                                                                                                                                                                                         </td><td>      NA                                                                                                                                                                                                 </td><td>         NA                                                                                                                                                                                              </td></tr>\n",
       "\t<tr><th scope=row>fit2</th><td>lme.formula(fixed = ADNI_EF ~ as.factor(f_s1_only) * Month +     as.factor(f_hpc) * Month, data = adni2, random = ~1 + Month |     RID, na.action = na.exclude, contrasts = c(\"contr.sum\", \"contr.poly\"))</td><td>2                                                                                                                                                                                                        </td><td>10                                                                                                                                                                                                       </td><td>1619.216                                                                                                                                                                                                 </td><td>1669.128                                                                                                                                                                                                 </td><td>-799.6080                                                                                                                                                                                                </td><td>1 vs 2                                                                                                                                                                                                   </td><td>45.20185                                                                                                                                                                                                 </td><td>1.52948e-10                                                                                                                                                                                              </td></tr>\n",
       "</tbody>\n",
       "</table>\n"
      ],
      "text/latex": [
       "\\begin{tabular}{r|lllllllll}\n",
       "  & call & Model & df & AIC & BIC & logLik & Test & L.Ratio & p-value\\\\\n",
       "\\hline\n",
       "\tfit1 & lme.formula(fixed = ADNI\\_EF \\textasciitilde{} as.factor(f\\_s1\\_only) * Month +     as.factor(f\\_hpc) * Month, data = adni2, random = \\textasciitilde{}1 \\textbar{} RID,     na.action = na.exclude, contrasts = c(\"contr.sum\", \"contr.poly\"))         & 1                                                                                                                                                                                                                                                             &  8                                                                                                                                                                                                                                                            & 1660.418                                                                                                                                                                                                                                                      & 1700.347                                                                                                                                                                                                                                                      & -822.2089                                                                                                                                                                                                                                                     &                                                                                                                                                                                                                                                               &       NA                                                                                                                                                                                                                                                      &          NA                                                                                                                                                                                                                                                  \\\\\n",
       "\tfit2 & lme.formula(fixed = ADNI\\_EF \\textasciitilde{} as.factor(f\\_s1\\_only) * Month +     as.factor(f\\_hpc) * Month, data = adni2, random = \\textasciitilde{}1 + Month \\textbar{}     RID, na.action = na.exclude, contrasts = c(\"contr.sum\", \"contr.poly\")) & 2                                                                                                                                                                                                                                                             & 10                                                                                                                                                                                                                                                            & 1619.216                                                                                                                                                                                                                                                      & 1669.128                                                                                                                                                                                                                                                      & -799.6080                                                                                                                                                                                                                                                     & 1 vs 2                                                                                                                                                                                                                                                        & 45.20185                                                                                                                                                                                                                                                      & 1.52948e-10                                                                                                                                                                                                                                                  \\\\\n",
       "\\end{tabular}\n"
      ],
      "text/markdown": [
       "\n",
       "| <!--/--> | call | Model | df | AIC | BIC | logLik | Test | L.Ratio | p-value | \n",
       "|---|---|\n",
       "| fit1 | lme.formula(fixed = ADNI_EF ~ as.factor(f_s1_only) * Month +     as.factor(f_hpc) * Month, data = adni2, random = ~1 | RID,     na.action = na.exclude, contrasts = c(\"contr.sum\", \"contr.poly\"))         | 1                                                                                                                                                                                                         |  8                                                                                                                                                                                                        | 1660.418                                                                                                                                                                                                  | 1700.347                                                                                                                                                                                                  | -822.2089                                                                                                                                                                                                 |                                                                                                                                                                                                           |       NA                                                                                                                                                                                                  |          NA                                                                                                                                                                                               | \n",
       "| fit2 | lme.formula(fixed = ADNI_EF ~ as.factor(f_s1_only) * Month +     as.factor(f_hpc) * Month, data = adni2, random = ~1 + Month |     RID, na.action = na.exclude, contrasts = c(\"contr.sum\", \"contr.poly\")) | 2                                                                                                                                                                                                         | 10                                                                                                                                                                                                        | 1619.216                                                                                                                                                                                                  | 1669.128                                                                                                                                                                                                  | -799.6080                                                                                                                                                                                                 | 1 vs 2                                                                                                                                                                                                    | 45.20185                                                                                                                                                                                                  | 1.52948e-10                                                                                                                                                                                               | \n",
       "\n",
       "\n"
      ],
      "text/plain": [
       "     call                                                                                                                                                                                                     \n",
       "fit1 lme.formula(fixed = ADNI_EF ~ as.factor(f_s1_only) * Month +     as.factor(f_hpc) * Month, data = adni2, random = ~1 | RID,     na.action = na.exclude, contrasts = c(\"contr.sum\", \"contr.poly\"))        \n",
       "fit2 lme.formula(fixed = ADNI_EF ~ as.factor(f_s1_only) * Month +     as.factor(f_hpc) * Month, data = adni2, random = ~1 + Month |     RID, na.action = na.exclude, contrasts = c(\"contr.sum\", \"contr.poly\"))\n",
       "     Model df AIC      BIC      logLik    Test   L.Ratio  p-value    \n",
       "fit1 1      8 1660.418 1700.347 -822.2089              NA          NA\n",
       "fit2 2     10 1619.216 1669.128 -799.6080 1 vs 2 45.20185 1.52948e-10"
      ]
     },
     "metadata": {},
     "output_type": "display_data"
    }
   ],
   "source": [
    "anova(fit1,fit2)"
   ]
  },
  {
   "cell_type": "markdown",
   "metadata": {},
   "source": [
    "## language"
   ]
  },
  {
   "cell_type": "markdown",
   "metadata": {},
   "source": [
    "## adni1"
   ]
  },
  {
   "cell_type": "code",
   "execution_count": 44,
   "metadata": {
    "collapsed": true
   },
   "outputs": [],
   "source": [
    "fit1 <- lme(BNTTOTAL ~ as.factor(f_s1_only)*Month + as.factor(f_hpc)*Month, random = ~1|RID, \n",
    "            na.action=na.exclude, contrasts=c(\"contr.sum\", \"contr.poly\"), data=adni1)"
   ]
  },
  {
   "cell_type": "code",
   "execution_count": 45,
   "metadata": {},
   "outputs": [
    {
     "data": {
      "text/plain": [
       "Linear mixed-effects model fit by REML\n",
       " Data: adni1 \n",
       "       AIC      BIC    logLik\n",
       "  6137.842 6177.831 -3060.921\n",
       "\n",
       "Random effects:\n",
       " Formula: ~1 | RID\n",
       "        (Intercept) Residual\n",
       "StdDev:    3.902756 3.067895\n",
       "\n",
       "Fixed effects: BNTTOTAL ~ as.factor(f_s1_only) * Month + as.factor(f_hpc) *      Month \n",
       "                                Value Std.Error  DF   t-value p-value\n",
       "(Intercept)                 24.725009 0.3870594 857  63.87911  0.0000\n",
       "as.factor(f_s1_only)1        0.643341 0.3783717 238   1.70029  0.0904\n",
       "Month                       -0.115329 0.0105201 857 -10.96276  0.0000\n",
       "as.factor(f_hpc)1            1.842797 0.3278087 238   5.62156  0.0000\n",
       "as.factor(f_s1_only)1:Month  0.040381 0.0099609 857   4.05398  0.0001\n",
       "Month:as.factor(f_hpc)1      0.063018 0.0087589 857   7.19476  0.0000\n",
       " Correlation: \n",
       "                            (Intr) as.(_1_)1 Month  a.(_)1 a.(_1_)1:\n",
       "as.factor(f_s1_only)1       -0.633                                  \n",
       "Month                       -0.364  0.228                           \n",
       "as.factor(f_hpc)1           -0.450  0.406     0.167                 \n",
       "as.factor(f_s1_only)1:Month  0.235 -0.366    -0.635 -0.144          \n",
       "Month:as.factor(f_hpc)1      0.170 -0.142    -0.478 -0.365  0.374   \n",
       "\n",
       "Standardized Within-Group Residuals:\n",
       "        Min          Q1         Med          Q3         Max \n",
       "-7.59783241 -0.29419046  0.06670751  0.38429536  3.07762237 \n",
       "\n",
       "Number of Observations: 1101\n",
       "Number of Groups: 241 "
      ]
     },
     "metadata": {},
     "output_type": "display_data"
    }
   ],
   "source": [
    "summary(fit1)"
   ]
  },
  {
   "cell_type": "code",
   "execution_count": 46,
   "metadata": {
    "collapsed": true
   },
   "outputs": [],
   "source": [
    "fit2 <- lme(BNTTOTAL ~ as.factor(f_s1_only)*Month + as.factor(f_hpc)*Month, random = ~1+Month|RID, \n",
    "            na.action=na.exclude, contrasts=c(\"contr.sum\", \"contr.poly\"), data=adni1)"
   ]
  },
  {
   "cell_type": "code",
   "execution_count": 47,
   "metadata": {},
   "outputs": [
    {
     "data": {
      "text/plain": [
       "Linear mixed-effects model fit by REML\n",
       " Data: adni1 \n",
       "       AIC      BIC    logLik\n",
       "  6045.052 6095.037 -3012.526\n",
       "\n",
       "Random effects:\n",
       " Formula: ~1 + Month | RID\n",
       " Structure: General positive-definite, Log-Cholesky parametrization\n",
       "            StdDev    Corr  \n",
       "(Intercept) 3.5949233 (Intr)\n",
       "Month       0.1266779 0.014 \n",
       "Residual    2.5947771       \n",
       "\n",
       "Fixed effects: BNTTOTAL ~ as.factor(f_s1_only) * Month + as.factor(f_hpc) *      Month \n",
       "                                Value Std.Error  DF  t-value p-value\n",
       "(Intercept)                 24.770432 0.3506718 857 70.63708  0.0000\n",
       "as.factor(f_s1_only)1        0.620618 0.3426358 238  1.81131  0.0714\n",
       "Month                       -0.123151 0.0147723 857 -8.33662  0.0000\n",
       "as.factor(f_hpc)1            1.810035 0.2968857 238  6.09674  0.0000\n",
       "as.factor(f_s1_only)1:Month  0.043673 0.0140910 857  3.09934  0.0020\n",
       "Month:as.factor(f_hpc)1      0.069021 0.0123536 857  5.58710  0.0000\n",
       " Correlation: \n",
       "                            (Intr) as.(_1_)1 Month  a.(_)1 a.(_1_)1:\n",
       "as.factor(f_s1_only)1       -0.633                                  \n",
       "Month                       -0.216  0.134                           \n",
       "as.factor(f_hpc)1           -0.450  0.406     0.101                 \n",
       "as.factor(f_s1_only)1:Month  0.137 -0.210    -0.635 -0.081          \n",
       "Month:as.factor(f_hpc)1      0.102 -0.080    -0.472 -0.212  0.382   \n",
       "\n",
       "Standardized Within-Group Residuals:\n",
       "        Min          Q1         Med          Q3         Max \n",
       "-8.66788635 -0.24355824  0.04575379  0.32019071  3.79178413 \n",
       "\n",
       "Number of Observations: 1101\n",
       "Number of Groups: 241 "
      ]
     },
     "metadata": {},
     "output_type": "display_data"
    }
   ],
   "source": [
    "summary(fit2)"
   ]
  },
  {
   "cell_type": "code",
   "execution_count": 48,
   "metadata": {},
   "outputs": [
    {
     "data": {
      "text/html": [
       "<table>\n",
       "<thead><tr><th></th><th scope=col>call</th><th scope=col>Model</th><th scope=col>df</th><th scope=col>AIC</th><th scope=col>BIC</th><th scope=col>logLik</th><th scope=col>Test</th><th scope=col>L.Ratio</th><th scope=col>p-value</th></tr></thead>\n",
       "<tbody>\n",
       "\t<tr><th scope=row>fit1</th><td>lme.formula(fixed = BNTTOTAL ~ as.factor(f_s1_only) * Month +     as.factor(f_hpc) * Month, data = adni1, random = ~1 | RID,     na.action = na.exclude, contrasts = c(\"contr.sum\", \"contr.poly\"))        </td><td>1                                                                                                                                                                                                         </td><td> 8                                                                                                                                                                                                        </td><td>6137.842                                                                                                                                                                                                  </td><td>6177.831                                                                                                                                                                                                  </td><td>-3060.921                                                                                                                                                                                                 </td><td>                                                                                                                                                                                                          </td><td>      NA                                                                                                                                                                                                  </td><td>          NA                                                                                                                                                                                              </td></tr>\n",
       "\t<tr><th scope=row>fit2</th><td>lme.formula(fixed = BNTTOTAL ~ as.factor(f_s1_only) * Month +     as.factor(f_hpc) * Month, data = adni1, random = ~1 + Month |     RID, na.action = na.exclude, contrasts = c(\"contr.sum\", \"contr.poly\"))</td><td>2                                                                                                                                                                                                         </td><td>10                                                                                                                                                                                                        </td><td>6045.052                                                                                                                                                                                                  </td><td>6095.037                                                                                                                                                                                                  </td><td>-3012.526                                                                                                                                                                                                 </td><td>1 vs 2                                                                                                                                                                                                    </td><td>96.79043                                                                                                                                                                                                  </td><td>9.598997e-22                                                                                                                                                                                              </td></tr>\n",
       "</tbody>\n",
       "</table>\n"
      ],
      "text/latex": [
       "\\begin{tabular}{r|lllllllll}\n",
       "  & call & Model & df & AIC & BIC & logLik & Test & L.Ratio & p-value\\\\\n",
       "\\hline\n",
       "\tfit1 & lme.formula(fixed = BNTTOTAL \\textasciitilde{} as.factor(f\\_s1\\_only) * Month +     as.factor(f\\_hpc) * Month, data = adni1, random = \\textasciitilde{}1 \\textbar{} RID,     na.action = na.exclude, contrasts = c(\"contr.sum\", \"contr.poly\"))         & 1                                                                                                                                                                                                                                                            &  8                                                                                                                                                                                                                                                           & 6137.842                                                                                                                                                                                                                                                     & 6177.831                                                                                                                                                                                                                                                     & -3060.921                                                                                                                                                                                                                                                    &                                                                                                                                                                                                                                                              &       NA                                                                                                                                                                                                                                                     &           NA                                                                                                                                                                                                                                                \\\\\n",
       "\tfit2 & lme.formula(fixed = BNTTOTAL \\textasciitilde{} as.factor(f\\_s1\\_only) * Month +     as.factor(f\\_hpc) * Month, data = adni1, random = \\textasciitilde{}1 + Month \\textbar{}     RID, na.action = na.exclude, contrasts = c(\"contr.sum\", \"contr.poly\")) & 2                                                                                                                                                                                                                                                            & 10                                                                                                                                                                                                                                                           & 6045.052                                                                                                                                                                                                                                                     & 6095.037                                                                                                                                                                                                                                                     & -3012.526                                                                                                                                                                                                                                                    & 1 vs 2                                                                                                                                                                                                                                                       & 96.79043                                                                                                                                                                                                                                                     & 9.598997e-22                                                                                                                                                                                                                                                \\\\\n",
       "\\end{tabular}\n"
      ],
      "text/markdown": [
       "\n",
       "| <!--/--> | call | Model | df | AIC | BIC | logLik | Test | L.Ratio | p-value | \n",
       "|---|---|\n",
       "| fit1 | lme.formula(fixed = BNTTOTAL ~ as.factor(f_s1_only) * Month +     as.factor(f_hpc) * Month, data = adni1, random = ~1 | RID,     na.action = na.exclude, contrasts = c(\"contr.sum\", \"contr.poly\"))         | 1                                                                                                                                                                                                          |  8                                                                                                                                                                                                         | 6137.842                                                                                                                                                                                                   | 6177.831                                                                                                                                                                                                   | -3060.921                                                                                                                                                                                                  |                                                                                                                                                                                                            |       NA                                                                                                                                                                                                   |           NA                                                                                                                                                                                               | \n",
       "| fit2 | lme.formula(fixed = BNTTOTAL ~ as.factor(f_s1_only) * Month +     as.factor(f_hpc) * Month, data = adni1, random = ~1 + Month |     RID, na.action = na.exclude, contrasts = c(\"contr.sum\", \"contr.poly\")) | 2                                                                                                                                                                                                          | 10                                                                                                                                                                                                         | 6045.052                                                                                                                                                                                                   | 6095.037                                                                                                                                                                                                   | -3012.526                                                                                                                                                                                                  | 1 vs 2                                                                                                                                                                                                     | 96.79043                                                                                                                                                                                                   | 9.598997e-22                                                                                                                                                                                               | \n",
       "\n",
       "\n"
      ],
      "text/plain": [
       "     call                                                                                                                                                                                                      \n",
       "fit1 lme.formula(fixed = BNTTOTAL ~ as.factor(f_s1_only) * Month +     as.factor(f_hpc) * Month, data = adni1, random = ~1 | RID,     na.action = na.exclude, contrasts = c(\"contr.sum\", \"contr.poly\"))        \n",
       "fit2 lme.formula(fixed = BNTTOTAL ~ as.factor(f_s1_only) * Month +     as.factor(f_hpc) * Month, data = adni1, random = ~1 + Month |     RID, na.action = na.exclude, contrasts = c(\"contr.sum\", \"contr.poly\"))\n",
       "     Model df AIC      BIC      logLik    Test   L.Ratio  p-value     \n",
       "fit1 1      8 6137.842 6177.831 -3060.921              NA           NA\n",
       "fit2 2     10 6045.052 6095.037 -3012.526 1 vs 2 96.79043 9.598997e-22"
      ]
     },
     "metadata": {},
     "output_type": "display_data"
    }
   ],
   "source": [
    "anova(fit1,fit2)"
   ]
  },
  {
   "cell_type": "markdown",
   "metadata": {},
   "source": [
    "## adni2"
   ]
  },
  {
   "cell_type": "code",
   "execution_count": 49,
   "metadata": {
    "collapsed": true
   },
   "outputs": [],
   "source": [
    "fit1 <- lme(BNTTOTAL ~ as.factor(f_s1_only)*Month + as.factor(f_hpc)*Month, random = ~1|RID, \n",
    "            na.action=na.exclude, contrasts=c(\"contr.sum\", \"contr.poly\"), data=adni2)"
   ]
  },
  {
   "cell_type": "code",
   "execution_count": 50,
   "metadata": {},
   "outputs": [
    {
     "data": {
      "text/plain": [
       "Linear mixed-effects model fit by REML\n",
       " Data: adni2 \n",
       "       AIC      BIC    logLik\n",
       "  5329.962 5369.877 -2656.981\n",
       "\n",
       "Random effects:\n",
       " Formula: ~1 | RID\n",
       "        (Intercept) Residual\n",
       "StdDev:    2.788779 2.172773\n",
       "\n",
       "Fixed effects: BNTTOTAL ~ as.factor(f_s1_only) * Month + as.factor(f_hpc) *      Month \n",
       "                                Value Std.Error  DF  t-value p-value\n",
       "(Intercept)                 25.923614 0.4174459 853 62.10053  0.0000\n",
       "as.factor(f_s1_only)1        0.078638 0.3292406 232  0.23885  0.8114\n",
       "Month                       -0.083827 0.0115352 853 -7.26702  0.0000\n",
       "as.factor(f_hpc)1            1.800422 0.3078424 232  5.84852  0.0000\n",
       "as.factor(f_s1_only)1:Month  0.037497 0.0084480 853  4.43857  0.0000\n",
       "Month:as.factor(f_hpc)1      0.057412 0.0089124 853  6.44184  0.0000\n",
       " Correlation: \n",
       "                            (Intr) as.(_1_)1 Month  a.(_)1 a.(_1_)1:\n",
       "as.factor(f_s1_only)1       -0.684                                  \n",
       "Month                       -0.357  0.231                           \n",
       "as.factor(f_hpc)1           -0.625  0.143     0.238                 \n",
       "as.factor(f_s1_only)1:Month  0.249 -0.363    -0.641 -0.051          \n",
       "Month:as.factor(f_hpc)1      0.227 -0.045    -0.686 -0.356  0.118   \n",
       "\n",
       "Standardized Within-Group Residuals:\n",
       "         Min           Q1          Med           Q3          Max \n",
       "-11.26584607  -0.24076125   0.08078665   0.34791224   7.37756653 \n",
       "\n",
       "Number of Observations: 1091\n",
       "Number of Groups: 235 "
      ]
     },
     "metadata": {},
     "output_type": "display_data"
    }
   ],
   "source": [
    "summary(fit1)"
   ]
  },
  {
   "cell_type": "code",
   "execution_count": 51,
   "metadata": {
    "collapsed": true
   },
   "outputs": [],
   "source": [
    "fit2 <- lme(BNTTOTAL ~ as.factor(f_s1_only)*Month + as.factor(f_hpc)*Month, random = ~1+Month|RID, \n",
    "            na.action=na.exclude, contrasts=c(\"contr.sum\", \"contr.poly\"), data=adni2)"
   ]
  },
  {
   "cell_type": "code",
   "execution_count": 52,
   "metadata": {},
   "outputs": [
    {
     "data": {
      "text/plain": [
       "Linear mixed-effects model fit by REML\n",
       " Data: adni2 \n",
       "       AIC      BIC    logLik\n",
       "  5250.688 5300.581 -2615.344\n",
       "\n",
       "Random effects:\n",
       " Formula: ~1 + Month | RID\n",
       " Structure: General positive-definite, Log-Cholesky parametrization\n",
       "            StdDev     Corr  \n",
       "(Intercept) 3.13121642 (Intr)\n",
       "Month       0.08492498 -0.394\n",
       "Residual    1.82321865       \n",
       "\n",
       "Fixed effects: BNTTOTAL ~ as.factor(f_s1_only) * Month + as.factor(f_hpc) *      Month \n",
       "                                Value Std.Error  DF  t-value p-value\n",
       "(Intercept)                 25.936923 0.4441448 853 58.39745  0.0000\n",
       "as.factor(f_s1_only)1        0.089652 0.3504193 232  0.25584  0.7983\n",
       "Month                       -0.086167 0.0153856 853 -5.60049  0.0000\n",
       "as.factor(f_hpc)1            1.768064 0.3273617 232  5.40095  0.0000\n",
       "as.factor(f_s1_only)1:Month  0.035165 0.0115574 853  3.04267  0.0024\n",
       "Month:as.factor(f_hpc)1      0.062362 0.0117105 853  5.32528  0.0000\n",
       " Correlation: \n",
       "                            (Intr) as.(_1_)1 Month  a.(_)1 a.(_1_)1:\n",
       "as.factor(f_s1_only)1       -0.684                                  \n",
       "Month                       -0.456  0.301                           \n",
       "as.factor(f_hpc)1           -0.625  0.143     0.296                 \n",
       "as.factor(f_s1_only)1:Month  0.316 -0.461    -0.656 -0.065          \n",
       "Month:as.factor(f_hpc)1      0.287 -0.060    -0.667 -0.453  0.126   \n",
       "\n",
       "Standardized Within-Group Residuals:\n",
       "         Min           Q1          Med           Q3          Max \n",
       "-11.81313063  -0.26628026   0.06148241   0.33786983   5.35746564 \n",
       "\n",
       "Number of Observations: 1091\n",
       "Number of Groups: 235 "
      ]
     },
     "metadata": {},
     "output_type": "display_data"
    }
   ],
   "source": [
    "summary(fit2)"
   ]
  },
  {
   "cell_type": "code",
   "execution_count": 53,
   "metadata": {},
   "outputs": [
    {
     "data": {
      "text/html": [
       "<table>\n",
       "<thead><tr><th></th><th scope=col>call</th><th scope=col>Model</th><th scope=col>df</th><th scope=col>AIC</th><th scope=col>BIC</th><th scope=col>logLik</th><th scope=col>Test</th><th scope=col>L.Ratio</th><th scope=col>p-value</th></tr></thead>\n",
       "<tbody>\n",
       "\t<tr><th scope=row>fit1</th><td>lme.formula(fixed = BNTTOTAL ~ as.factor(f_s1_only) * Month +     as.factor(f_hpc) * Month, data = adni2, random = ~1 | RID,     na.action = na.exclude, contrasts = c(\"contr.sum\", \"contr.poly\"))        </td><td>1                                                                                                                                                                                                         </td><td> 8                                                                                                                                                                                                        </td><td>5329.962                                                                                                                                                                                                  </td><td>5369.877                                                                                                                                                                                                  </td><td>-2656.981                                                                                                                                                                                                 </td><td>                                                                                                                                                                                                          </td><td>      NA                                                                                                                                                                                                  </td><td>          NA                                                                                                                                                                                              </td></tr>\n",
       "\t<tr><th scope=row>fit2</th><td>lme.formula(fixed = BNTTOTAL ~ as.factor(f_s1_only) * Month +     as.factor(f_hpc) * Month, data = adni2, random = ~1 + Month |     RID, na.action = na.exclude, contrasts = c(\"contr.sum\", \"contr.poly\"))</td><td>2                                                                                                                                                                                                         </td><td>10                                                                                                                                                                                                        </td><td>5250.688                                                                                                                                                                                                  </td><td>5300.581                                                                                                                                                                                                  </td><td>-2615.344                                                                                                                                                                                                 </td><td>1 vs 2                                                                                                                                                                                                    </td><td>83.27394                                                                                                                                                                                                  </td><td>8.265957e-19                                                                                                                                                                                              </td></tr>\n",
       "</tbody>\n",
       "</table>\n"
      ],
      "text/latex": [
       "\\begin{tabular}{r|lllllllll}\n",
       "  & call & Model & df & AIC & BIC & logLik & Test & L.Ratio & p-value\\\\\n",
       "\\hline\n",
       "\tfit1 & lme.formula(fixed = BNTTOTAL \\textasciitilde{} as.factor(f\\_s1\\_only) * Month +     as.factor(f\\_hpc) * Month, data = adni2, random = \\textasciitilde{}1 \\textbar{} RID,     na.action = na.exclude, contrasts = c(\"contr.sum\", \"contr.poly\"))         & 1                                                                                                                                                                                                                                                            &  8                                                                                                                                                                                                                                                           & 5329.962                                                                                                                                                                                                                                                     & 5369.877                                                                                                                                                                                                                                                     & -2656.981                                                                                                                                                                                                                                                    &                                                                                                                                                                                                                                                              &       NA                                                                                                                                                                                                                                                     &           NA                                                                                                                                                                                                                                                \\\\\n",
       "\tfit2 & lme.formula(fixed = BNTTOTAL \\textasciitilde{} as.factor(f\\_s1\\_only) * Month +     as.factor(f\\_hpc) * Month, data = adni2, random = \\textasciitilde{}1 + Month \\textbar{}     RID, na.action = na.exclude, contrasts = c(\"contr.sum\", \"contr.poly\")) & 2                                                                                                                                                                                                                                                            & 10                                                                                                                                                                                                                                                           & 5250.688                                                                                                                                                                                                                                                     & 5300.581                                                                                                                                                                                                                                                     & -2615.344                                                                                                                                                                                                                                                    & 1 vs 2                                                                                                                                                                                                                                                       & 83.27394                                                                                                                                                                                                                                                     & 8.265957e-19                                                                                                                                                                                                                                                \\\\\n",
       "\\end{tabular}\n"
      ],
      "text/markdown": [
       "\n",
       "| <!--/--> | call | Model | df | AIC | BIC | logLik | Test | L.Ratio | p-value | \n",
       "|---|---|\n",
       "| fit1 | lme.formula(fixed = BNTTOTAL ~ as.factor(f_s1_only) * Month +     as.factor(f_hpc) * Month, data = adni2, random = ~1 | RID,     na.action = na.exclude, contrasts = c(\"contr.sum\", \"contr.poly\"))         | 1                                                                                                                                                                                                          |  8                                                                                                                                                                                                         | 5329.962                                                                                                                                                                                                   | 5369.877                                                                                                                                                                                                   | -2656.981                                                                                                                                                                                                  |                                                                                                                                                                                                            |       NA                                                                                                                                                                                                   |           NA                                                                                                                                                                                               | \n",
       "| fit2 | lme.formula(fixed = BNTTOTAL ~ as.factor(f_s1_only) * Month +     as.factor(f_hpc) * Month, data = adni2, random = ~1 + Month |     RID, na.action = na.exclude, contrasts = c(\"contr.sum\", \"contr.poly\")) | 2                                                                                                                                                                                                          | 10                                                                                                                                                                                                         | 5250.688                                                                                                                                                                                                   | 5300.581                                                                                                                                                                                                   | -2615.344                                                                                                                                                                                                  | 1 vs 2                                                                                                                                                                                                     | 83.27394                                                                                                                                                                                                   | 8.265957e-19                                                                                                                                                                                               | \n",
       "\n",
       "\n"
      ],
      "text/plain": [
       "     call                                                                                                                                                                                                      \n",
       "fit1 lme.formula(fixed = BNTTOTAL ~ as.factor(f_s1_only) * Month +     as.factor(f_hpc) * Month, data = adni2, random = ~1 | RID,     na.action = na.exclude, contrasts = c(\"contr.sum\", \"contr.poly\"))        \n",
       "fit2 lme.formula(fixed = BNTTOTAL ~ as.factor(f_s1_only) * Month +     as.factor(f_hpc) * Month, data = adni2, random = ~1 + Month |     RID, na.action = na.exclude, contrasts = c(\"contr.sum\", \"contr.poly\"))\n",
       "     Model df AIC      BIC      logLik    Test   L.Ratio  p-value     \n",
       "fit1 1      8 5329.962 5369.877 -2656.981              NA           NA\n",
       "fit2 2     10 5250.688 5300.581 -2615.344 1 vs 2 83.27394 8.265957e-19"
      ]
     },
     "metadata": {},
     "output_type": "display_data"
    }
   ],
   "source": [
    "anova(fit1,fit2)"
   ]
  },
  {
   "cell_type": "markdown",
   "metadata": {},
   "source": [
    "## visual"
   ]
  },
  {
   "cell_type": "markdown",
   "metadata": {},
   "source": [
    "## adni1"
   ]
  },
  {
   "cell_type": "code",
   "execution_count": 54,
   "metadata": {
    "collapsed": true
   },
   "outputs": [],
   "source": [
    "fit1 <- lme(CLOCKSCOR ~ as.factor(f_s1_only)*Month + as.factor(f_hpc)*Month, random = ~1|RID, \n",
    "            na.action=na.exclude, contrasts=c(\"contr.sum\", \"contr.poly\"), data=adni1)"
   ]
  },
  {
   "cell_type": "code",
   "execution_count": 55,
   "metadata": {},
   "outputs": [
    {
     "data": {
      "text/plain": [
       "Linear mixed-effects model fit by REML\n",
       " Data: adni1 \n",
       "       AIC      BIC    logLik\n",
       "  3180.244 3220.233 -1582.122\n",
       "\n",
       "Random effects:\n",
       " Formula: ~1 | RID\n",
       "        (Intercept)  Residual\n",
       "StdDev:   0.6258493 0.8788917\n",
       "\n",
       "Fixed effects: CLOCKSCOR ~ as.factor(f_s1_only) * Month + as.factor(f_hpc) *      Month \n",
       "                                Value  Std.Error  DF  t-value p-value\n",
       "(Intercept)                  3.997376 0.07667349 857 52.13505  0.0000\n",
       "as.factor(f_s1_only)1        0.030250 0.07486595 238  0.40405  0.6865\n",
       "Month                       -0.021159 0.00299263 857 -7.07051  0.0000\n",
       "as.factor(f_hpc)1            0.434109 0.06488736 238  6.69019  0.0000\n",
       "as.factor(f_s1_only)1:Month  0.008442 0.00283895 857  2.97355  0.0030\n",
       "Month:as.factor(f_hpc)1      0.009023 0.00249364 857  3.61832  0.0003\n",
       " Correlation: \n",
       "                            (Intr) as.(_1_)1 Month  a.(_)1 a.(_1_)1:\n",
       "as.factor(f_s1_only)1       -0.634                                  \n",
       "Month                       -0.528  0.331                           \n",
       "as.factor(f_hpc)1           -0.451  0.405     0.242                 \n",
       "as.factor(f_s1_only)1:Month  0.341 -0.531    -0.635 -0.210          \n",
       "Month:as.factor(f_hpc)1      0.246 -0.207    -0.477 -0.529  0.376   \n",
       "\n",
       "Standardized Within-Group Residuals:\n",
       "       Min         Q1        Med         Q3        Max \n",
       "-5.0484856 -0.4967953  0.1759189  0.5608216  2.4015139 \n",
       "\n",
       "Number of Observations: 1101\n",
       "Number of Groups: 241 "
      ]
     },
     "metadata": {},
     "output_type": "display_data"
    }
   ],
   "source": [
    "summary(fit1)"
   ]
  },
  {
   "cell_type": "code",
   "execution_count": 56,
   "metadata": {
    "collapsed": true
   },
   "outputs": [],
   "source": [
    "fit2 <- lme(CLOCKSCOR ~ as.factor(f_s1_only)*Month + as.factor(f_hpc)*Month, random = ~1+Month|RID, \n",
    "            na.action=na.exclude, contrasts=c(\"contr.sum\", \"contr.poly\"), data=adni1)"
   ]
  },
  {
   "cell_type": "code",
   "execution_count": 57,
   "metadata": {},
   "outputs": [
    {
     "data": {
      "text/plain": [
       "Linear mixed-effects model fit by REML\n",
       " Data: adni1 \n",
       "      AIC      BIC   logLik\n",
       "  3157.14 3207.125 -1568.57\n",
       "\n",
       "Random effects:\n",
       " Formula: ~1 + Month | RID\n",
       " Structure: General positive-definite, Log-Cholesky parametrization\n",
       "            StdDev     Corr  \n",
       "(Intercept) 0.58691328 (Intr)\n",
       "Month       0.02274455 -0.065\n",
       "Residual    0.82251365       \n",
       "\n",
       "Fixed effects: CLOCKSCOR ~ as.factor(f_s1_only) * Month + as.factor(f_hpc) *      Month \n",
       "                                Value  Std.Error  DF  t-value p-value\n",
       "(Intercept)                  4.006063 0.07204015 857 55.60876  0.0000\n",
       "as.factor(f_s1_only)1        0.025435 0.07029553 238  0.36183  0.7178\n",
       "Month                       -0.022411 0.00354323 857 -6.32514  0.0000\n",
       "as.factor(f_hpc)1            0.432753 0.06093911 238  7.10141  0.0000\n",
       "as.factor(f_s1_only)1:Month  0.009066 0.00336666 857  2.69276  0.0072\n",
       "Month:as.factor(f_hpc)1      0.009233 0.00295571 857  3.12385  0.0018\n",
       " Correlation: \n",
       "                            (Intr) as.(_1_)1 Month  a.(_)1 a.(_1_)1:\n",
       "as.factor(f_s1_only)1       -0.634                                  \n",
       "Month                       -0.460  0.288                           \n",
       "as.factor(f_hpc)1           -0.451  0.404     0.212                 \n",
       "as.factor(f_s1_only)1:Month  0.296 -0.458    -0.635 -0.179          \n",
       "Month:as.factor(f_hpc)1      0.215 -0.177    -0.475 -0.458  0.378   \n",
       "\n",
       "Standardized Within-Group Residuals:\n",
       "       Min         Q1        Med         Q3        Max \n",
       "-5.4031562 -0.4857431  0.1856958  0.5143879  3.0118282 \n",
       "\n",
       "Number of Observations: 1101\n",
       "Number of Groups: 241 "
      ]
     },
     "metadata": {},
     "output_type": "display_data"
    }
   ],
   "source": [
    "summary(fit2)"
   ]
  },
  {
   "cell_type": "code",
   "execution_count": 58,
   "metadata": {},
   "outputs": [
    {
     "data": {
      "text/html": [
       "<table>\n",
       "<thead><tr><th></th><th scope=col>call</th><th scope=col>Model</th><th scope=col>df</th><th scope=col>AIC</th><th scope=col>BIC</th><th scope=col>logLik</th><th scope=col>Test</th><th scope=col>L.Ratio</th><th scope=col>p-value</th></tr></thead>\n",
       "<tbody>\n",
       "\t<tr><th scope=row>fit1</th><td>lme.formula(fixed = CLOCKSCOR ~ as.factor(f_s1_only) * Month +     as.factor(f_hpc) * Month, data = adni1, random = ~1 | RID,     na.action = na.exclude, contrasts = c(\"contr.sum\", \"contr.poly\"))        </td><td>1                                                                                                                                                                                                          </td><td> 8                                                                                                                                                                                                         </td><td>3180.244                                                                                                                                                                                                   </td><td>3220.233                                                                                                                                                                                                   </td><td>-1582.122                                                                                                                                                                                                  </td><td>                                                                                                                                                                                                           </td><td>      NA                                                                                                                                                                                                   </td><td>          NA                                                                                                                                                                                               </td></tr>\n",
       "\t<tr><th scope=row>fit2</th><td>lme.formula(fixed = CLOCKSCOR ~ as.factor(f_s1_only) * Month +     as.factor(f_hpc) * Month, data = adni1, random = ~1 + Month |     RID, na.action = na.exclude, contrasts = c(\"contr.sum\", \"contr.poly\"))</td><td>2                                                                                                                                                                                                          </td><td>10                                                                                                                                                                                                         </td><td>3157.140                                                                                                                                                                                                   </td><td>3207.125                                                                                                                                                                                                   </td><td>-1568.570                                                                                                                                                                                                  </td><td>1 vs 2                                                                                                                                                                                                     </td><td>27.10454                                                                                                                                                                                                   </td><td>1.301141e-06                                                                                                                                                                                               </td></tr>\n",
       "</tbody>\n",
       "</table>\n"
      ],
      "text/latex": [
       "\\begin{tabular}{r|lllllllll}\n",
       "  & call & Model & df & AIC & BIC & logLik & Test & L.Ratio & p-value\\\\\n",
       "\\hline\n",
       "\tfit1 & lme.formula(fixed = CLOCKSCOR \\textasciitilde{} as.factor(f\\_s1\\_only) * Month +     as.factor(f\\_hpc) * Month, data = adni1, random = \\textasciitilde{}1 \\textbar{} RID,     na.action = na.exclude, contrasts = c(\"contr.sum\", \"contr.poly\"))         & 1                                                                                                                                                                                                                                                             &  8                                                                                                                                                                                                                                                            & 3180.244                                                                                                                                                                                                                                                      & 3220.233                                                                                                                                                                                                                                                      & -1582.122                                                                                                                                                                                                                                                     &                                                                                                                                                                                                                                                               &       NA                                                                                                                                                                                                                                                      &           NA                                                                                                                                                                                                                                                 \\\\\n",
       "\tfit2 & lme.formula(fixed = CLOCKSCOR \\textasciitilde{} as.factor(f\\_s1\\_only) * Month +     as.factor(f\\_hpc) * Month, data = adni1, random = \\textasciitilde{}1 + Month \\textbar{}     RID, na.action = na.exclude, contrasts = c(\"contr.sum\", \"contr.poly\")) & 2                                                                                                                                                                                                                                                             & 10                                                                                                                                                                                                                                                            & 3157.140                                                                                                                                                                                                                                                      & 3207.125                                                                                                                                                                                                                                                      & -1568.570                                                                                                                                                                                                                                                     & 1 vs 2                                                                                                                                                                                                                                                        & 27.10454                                                                                                                                                                                                                                                      & 1.301141e-06                                                                                                                                                                                                                                                 \\\\\n",
       "\\end{tabular}\n"
      ],
      "text/markdown": [
       "\n",
       "| <!--/--> | call | Model | df | AIC | BIC | logLik | Test | L.Ratio | p-value | \n",
       "|---|---|\n",
       "| fit1 | lme.formula(fixed = CLOCKSCOR ~ as.factor(f_s1_only) * Month +     as.factor(f_hpc) * Month, data = adni1, random = ~1 | RID,     na.action = na.exclude, contrasts = c(\"contr.sum\", \"contr.poly\"))         | 1                                                                                                                                                                                                           |  8                                                                                                                                                                                                          | 3180.244                                                                                                                                                                                                    | 3220.233                                                                                                                                                                                                    | -1582.122                                                                                                                                                                                                   |                                                                                                                                                                                                             |       NA                                                                                                                                                                                                    |           NA                                                                                                                                                                                                | \n",
       "| fit2 | lme.formula(fixed = CLOCKSCOR ~ as.factor(f_s1_only) * Month +     as.factor(f_hpc) * Month, data = adni1, random = ~1 + Month |     RID, na.action = na.exclude, contrasts = c(\"contr.sum\", \"contr.poly\")) | 2                                                                                                                                                                                                           | 10                                                                                                                                                                                                          | 3157.140                                                                                                                                                                                                    | 3207.125                                                                                                                                                                                                    | -1568.570                                                                                                                                                                                                   | 1 vs 2                                                                                                                                                                                                      | 27.10454                                                                                                                                                                                                    | 1.301141e-06                                                                                                                                                                                                | \n",
       "\n",
       "\n"
      ],
      "text/plain": [
       "     call                                                                                                                                                                                                       \n",
       "fit1 lme.formula(fixed = CLOCKSCOR ~ as.factor(f_s1_only) * Month +     as.factor(f_hpc) * Month, data = adni1, random = ~1 | RID,     na.action = na.exclude, contrasts = c(\"contr.sum\", \"contr.poly\"))        \n",
       "fit2 lme.formula(fixed = CLOCKSCOR ~ as.factor(f_s1_only) * Month +     as.factor(f_hpc) * Month, data = adni1, random = ~1 + Month |     RID, na.action = na.exclude, contrasts = c(\"contr.sum\", \"contr.poly\"))\n",
       "     Model df AIC      BIC      logLik    Test   L.Ratio  p-value     \n",
       "fit1 1      8 3180.244 3220.233 -1582.122              NA           NA\n",
       "fit2 2     10 3157.140 3207.125 -1568.570 1 vs 2 27.10454 1.301141e-06"
      ]
     },
     "metadata": {},
     "output_type": "display_data"
    }
   ],
   "source": [
    "anova(fit1,fit2)"
   ]
  },
  {
   "cell_type": "code",
   "execution_count": null,
   "metadata": {
    "collapsed": true
   },
   "outputs": [],
   "source": []
  },
  {
   "cell_type": "code",
   "execution_count": null,
   "metadata": {
    "collapsed": true
   },
   "outputs": [],
   "source": []
  },
  {
   "cell_type": "code",
   "execution_count": null,
   "metadata": {
    "collapsed": true
   },
   "outputs": [],
   "source": []
  }
 ],
 "metadata": {
  "anaconda-cloud": {},
  "kernelspec": {
   "display_name": "R",
   "language": "R",
   "name": "ir"
  },
  "language_info": {
   "codemirror_mode": "r",
   "file_extension": ".r",
   "mimetype": "text/x-r-source",
   "name": "R",
   "pygments_lexer": "r",
   "version": "3.3.2"
  }
 },
 "nbformat": 4,
 "nbformat_minor": 2
}
