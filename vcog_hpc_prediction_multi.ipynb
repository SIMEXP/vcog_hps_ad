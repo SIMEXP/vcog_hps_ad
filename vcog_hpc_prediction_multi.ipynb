{
 "cells": [
  {
   "cell_type": "code",
   "execution_count": 1,
   "metadata": {},
   "outputs": [
    {
     "name": "stderr",
     "output_type": "stream",
     "text": [
      "/home/angela/anaconda3/envs/vcog_paper_py35/lib/python3.5/site-packages/sklearn/ensemble/weight_boosting.py:29: DeprecationWarning: numpy.core.umath_tests is an internal NumPy module and should not be imported. It will be removed in a future NumPy release.\n",
      "  from numpy.core.umath_tests import inner1d\n",
      "/home/angela/anaconda3/envs/vcog_paper_py35/lib/python3.5/site-packages/statsmodels/compat/pandas.py:56: FutureWarning: The pandas.core.datetools module is deprecated and will be removed in a future version. Please use the pandas.tseries module instead.\n",
      "  from pandas.core import datetools\n"
     ]
    }
   ],
   "source": [
    "import pandas as pd\n",
    "import scipy.io\n",
    "from os import listdir\n",
    "from sklearn.utils import shuffle\n",
    "from sklearn import preprocessing\n",
    "#from nilearn import plotting\n",
    "#from proteus.io import util\n",
    "from proteus.visu import sbp_visu\n",
    "\n",
    "import glob,os\n",
    "#import nibabel as nib\n",
    "\n",
    "\n",
    "import pickle\n",
    "from proteus.predic import high_confidence_at\n",
    "import numpy as np\n",
    "import pandas as pd\n",
    "from proteus.predic import prediction\n",
    "from sklearn import preprocessing\n",
    "from sklearn.model_selection import StratifiedKFold\n",
    "\n",
    "from sklearn.svm import SVC\n",
    "from sklearn.neighbors import KNeighborsClassifier\n",
    "from sklearn.ensemble import RandomForestClassifier\n",
    "from sklearn.naive_bayes import GaussianNB\n",
    "from sklearn.model_selection import GridSearchCV\n",
    "from sklearn.model_selection import StratifiedShuffleSplit\n",
    "\n",
    "from sklearn import metrics\n",
    "\n",
    "import matplotlib.pyplot as plt\n",
    "from matplotlib import cm\n",
    "import seaborn as sns\n",
    "\n",
    "import statsmodels.formula.api as smf\n",
    "import statsmodels.api as sm\n",
    "from statsmodels.stats.multicomp import pairwise_tukeyhsd\n",
    "\n",
    "from copy import deepcopy\n",
    "\n",
    "from itertools import cycle\n",
    "from sklearn.metrics import roc_curve, auc\n",
    "from sklearn.model_selection import train_test_split\n",
    "from sklearn.preprocessing import label_binarize\n",
    "from sklearn.multiclass import OneVsRestClassifier\n",
    "from scipy import interp\n",
    "\n",
    "from sklearn.metrics import average_precision_score\n",
    "from sklearn.metrics import precision_recall_curve"
   ]
  },
  {
   "cell_type": "code",
   "execution_count": 2,
   "metadata": {},
   "outputs": [],
   "source": [
    "def stats_mask(y_true, y_pred, mask_selected=None):\n",
    "    if mask_selected is None:\n",
    "        mask_selected = np.ones(y_pred.shape).astype(bool)\n",
    "    print('------------------------')\n",
    "    print('Ratio:', y_true[mask_selected].sum()/y_true.sum()) \n",
    "    print('#    : ', y_true[mask_selected].sum()) \n",
    "    print('# true values: ',mask_selected.sum())\n",
    "    print('ACC  : ', np.mean((y_true == y_pred)[mask_selected])) "
   ]
  },
  {
   "cell_type": "code",
   "execution_count": 3,
   "metadata": {},
   "outputs": [],
   "source": [
    "def predic_stats(y_, y_pred, lr_decision):\n",
    "    # number of AD subjects\n",
    "    n_ad = sum(y_)\n",
    "    print('Total number of TARGET subjects: ', n_ad)\n",
    "\n",
    "    # number of CN subjects\n",
    "    n_cn = len(y_) - sum(y_)\n",
    "    print('Total number of NON-TARGET subjects: ', n_cn)\n",
    "    \n",
    "    # number of subjects predicted as AD at stage 1\n",
    "    n_pos = sum(y_pred)\n",
    "    print('Stage 1 number of hits (true and false positives): ', n_pos)\n",
    "    \n",
    "    # true positives at stage 1\n",
    "    n_pos_ad = sum(y_pred[y_.astype(bool)])\n",
    "    print('Stage 1 TRUE positives: ', n_pos_ad)\n",
    "    \n",
    "    # false positives at stage 1\n",
    "    n_pos_cn = n_pos - n_pos_ad\n",
    "    print('Stage 1 FALSE positives: ', n_pos_cn)\n",
    "    \n",
    "    # number of CN subjects not identified as positive (true negatives)\n",
    "    n_neg1_cn = n_cn - n_pos_cn\n",
    "    print('Stage 1 TRUE negatives: ', n_neg1_cn)\n",
    "\n",
    "    # number of all flagged HPC-AD subjects\n",
    "    n_flag = sum(y_pred[lr_decision>0])\n",
    "    print('Total number of flagged HPC-AD subjects: ', n_flag)\n",
    "\n",
    "    # number of flagged HPC-AD subjects who are actually AD (true positives)\n",
    "    y_pred_true = y_ + y_pred\n",
    "    y_pred_true = y_pred_true==2\n",
    "    n_flag_ad = sum(y_pred_true[lr_decision>0])\n",
    "    print('Number of flagged HPC-AD subjects that are TRUE positives: ', n_flag_ad)\n",
    "\n",
    "    # number of flagged HPC-AD subjects that are actually CN (false positives)\n",
    "    n_flag_cn = n_flag - n_flag_ad\n",
    "    print('Number of flagged HPC-AD subjects that are FALSE positives: ', n_flag_cn)\n",
    "\n",
    "    # number of CN subjects that were not flagged (true negatives)\n",
    "    n_neg_cn = n_cn - n_flag_cn\n",
    "    print('Number of true negatives: ', n_neg_cn)\n",
    "    \n",
    "    print('#############################')\n",
    "    print('Stage 1 stats for TARGET vs NON-TARGET')\n",
    "    print('Precision for AD: ', n_pos_ad/(n_pos_ad + n_pos_cn))\n",
    "    prec = n_pos_ad/(n_pos_ad + n_pos_cn)\n",
    "    print('Recall (or sensitivity)  for AD: ', n_pos_ad/n_ad)\n",
    "    sens = n_pos_ad/n_ad\n",
    "    print('Specificity: ', n_neg1_cn/n_cn)\n",
    "    spec = n_neg1_cn/n_cn\n",
    "    fp = (1-spec)*664\n",
    "    tp = sens*336\n",
    "    adj_prec = tp/(tp+fp)\n",
    "    print('Adjusted precision for 33.6% baseline rate: ', adj_prec)\n",
    "    print('Accuracy: ', (n_pos_ad + n_neg1_cn)/(n_ad + n_cn))\n",
    "    acc = (n_pos_ad + n_neg1_cn)/(n_ad + n_cn)\n",
    "\n",
    "    print('#############################')\n",
    "    print('Stage 2 stats for TARGET vs NON-TARGET')\n",
    "    print('Precision for HPC-AD: ', n_flag_ad/n_flag)\n",
    "    prec_2 = n_flag_ad/n_flag\n",
    "    print('Recall (or sensitivity) for HPC-AD: ', n_flag_ad/n_ad)\n",
    "    sens_2 = n_flag_ad/n_ad\n",
    "    print('Specificity: ', n_neg_cn/n_cn)\n",
    "    spec_2 = n_neg_cn/n_cn\n",
    "    fp_2 = (1-spec_2)*664\n",
    "    tp_2 = sens_2*336\n",
    "    adj_prec_2 = tp_2/(tp_2 + fp_2)\n",
    "    print('Adjusted precision for 33.6% baseline rate: ', adj_prec_2)\n",
    "    print('Accuracy: ', (n_flag_ad + n_neg_cn)/(n_ad + n_cn))\n",
    "    acc_2 = (n_flag_ad + n_neg_cn)/(n_ad + n_cn)\n",
    "    \n",
    "    return sens, spec, prec, acc, sens_2, spec_2, prec_2, acc_2"
   ]
  },
  {
   "cell_type": "code",
   "execution_count": 4,
   "metadata": {},
   "outputs": [],
   "source": [
    "sns.set(font_scale=2)\n",
    "sns.set_style(\"white\")\n",
    "#sns.set_context(\"paper\")\n",
    "#sns.set_palette(\"colorblind\")\n",
    "#sns.set_palette(\"GnBu_d\")\n",
    "\n",
    "#sns.set_palette(sns.cubehelix_palette(n_colors=8))\n",
    "#sns.set_palette(sns.color_palette(\"BrBG\", 6))\n",
    "\n",
    "cpal = [\"#F0DFB2\", \"#CFA255\", \"#995D12\", \"#B3E2DB\", \"#58B0A6\", \"#0D7068\"]\n",
    "sns.set_palette(cpal)\n"
   ]
  },
  {
   "cell_type": "code",
   "execution_count": 5,
   "metadata": {},
   "outputs": [],
   "source": [
    "path_results = '/home/angela/Desktop/vcog_paper/gigascience/third_submission/roc/vcog/'"
   ]
  },
  {
   "cell_type": "markdown",
   "metadata": {},
   "source": [
    "## Load longitudinal data "
   ]
  },
  {
   "cell_type": "code",
   "execution_count": 6,
   "metadata": {},
   "outputs": [],
   "source": [
    "np.random.seed(1)\n",
    "#np.random.RandomState(1)"
   ]
  },
  {
   "cell_type": "code",
   "execution_count": 7,
   "metadata": {},
   "outputs": [
    {
     "name": "stderr",
     "output_type": "stream",
     "text": [
      "/home/angela/anaconda3/envs/vcog_paper_py35/lib/python3.5/site-packages/IPython/core/interactiveshell.py:2785: DtypeWarning: Columns (101) have mixed types. Specify dtype option on import or set low_memory=False.\n",
      "  interactivity=interactivity, compiler=compiler, result=result)\n"
     ]
    }
   ],
   "source": [
    "long_data = pd.read_csv('/home/angela/Documents/adni_csv/adnimerge_upenn_unw_av45_neurobat.csv')"
   ]
  },
  {
   "cell_type": "markdown",
   "metadata": {},
   "source": [
    "# Load data for the training set (ADNI1)"
   ]
  },
  {
   "cell_type": "code",
   "execution_count": 8,
   "metadata": {},
   "outputs": [],
   "source": [
    "data = pd.read_csv('/home/angela/Desktop/vcog_paper/adni1_vbm_adcn_subtypes_20171209/7clus/adni1_model_weights.csv')"
   ]
  },
  {
   "cell_type": "code",
   "execution_count": 9,
   "metadata": {},
   "outputs": [],
   "source": [
    "data.dropna(subset=['sub1','age_scan','gender','mean_gm','tiv', 'ADAS13','ADNI_MEM','ADNI_EF','BNTTOTAL','CLOCKSCOR'],\n",
    "            inplace=True)"
   ]
  },
  {
   "cell_type": "code",
   "execution_count": 10,
   "metadata": {},
   "outputs": [],
   "source": [
    "data = data[['RID','age_scan','gender','mean_gm','tiv',\n",
    "             'ADAS13','ADNI_MEM','ADNI_EF','BNTTOTAL','CLOCKSCOR',\n",
    "             'sub1','sub2','sub3','sub4','sub5','sub6','sub7',\n",
    "             'ABETA','TAU','conv_2_ad','AD','MCI','CN','APOE4_bin','DX']]"
   ]
  },
  {
   "cell_type": "markdown",
   "metadata": {},
   "source": [
    "# Organize the AD & CN data for classification task"
   ]
  },
  {
   "cell_type": "code",
   "execution_count": 11,
   "metadata": {
    "scrolled": true
   },
   "outputs": [],
   "source": [
    "# Mask of the CN and AD subjects only\n",
    "mask_cnad = data.loc[:,['CN','AD']].values.sum(1).astype(bool)"
   ]
  },
  {
   "cell_type": "code",
   "execution_count": 12,
   "metadata": {},
   "outputs": [
    {
     "data": {
      "text/plain": [
       "((370, 16), (370,), (370, 4))"
      ]
     },
     "execution_count": 12,
     "metadata": {},
     "output_type": "execute_result"
    }
   ],
   "source": [
    "#reload(high_confidence)\n",
    "scalerX = preprocessing.StandardScaler()\n",
    "scaler = preprocessing.StandardScaler()\n",
    "\n",
    "x_ = data.iloc[mask_cnad,data.columns.get_loc(\"ADAS13\"):data.columns.get_loc(\"sub7\")+1].values\n",
    "#x_ = scalerX.fit_transform(x_)\n",
    "y_ = data[['AD']].values.ravel()[mask_cnad]\n",
    "\n",
    "confounds = data[['gender','age_scan','mean_gm','tiv']].values[mask_cnad,:]\n",
    "#confounds = data[['sex','age_r']].values[mask_cnad,:]\n",
    "#confounds[:, 1:] = scaler.fit_transform(confounds[:, 1:])\n",
    "#confounds[:, 0] = preprocessing.binarize(confounds[:, 0].reshape(-1, 1), threshold=1)[:, 0]\n",
    "\n",
    "#crm = prediction.ConfoundsRm(confounds, x_)\n",
    "#x_ = crm.transform(confounds, x_)\n",
    "\n",
    "x_ = scaler.fit_transform(np.hstack((x_,confounds)))\n",
    "#x_ = np.hstack((x_,confounds))\n",
    "\n",
    "\n",
    "x_.shape, y_.shape, confounds.shape"
   ]
  },
  {
   "cell_type": "markdown",
   "metadata": {},
   "source": [
    "# Cross-validation HPC in ADNI1 AD & CN"
   ]
  },
  {
   "cell_type": "code",
   "execution_count": 13,
   "metadata": {
    "scrolled": true
   },
   "outputs": [
    {
     "name": "stdout",
     "output_type": "stream",
     "text": [
      "Stage 1\n",
      "Proba:\n",
      "[1.         1.         1.         1.         1.         0.95435685\n",
      " 1.         1.         1.         1.         0.77290837 1.\n",
      " 0.99215686 0.99607843 1.         1.         1.         1.\n",
      " 1.         1.         1.         1.         1.         1.\n",
      " 1.         1.         1.         1.         0.99227799 1.\n",
      " 1.         0.97619048 1.         1.         1.         1.\n",
      " 1.         1.         1.         1.         1.         1.\n",
      " 1.         1.         1.         1.         1.         1.\n",
      " 1.         1.         1.         1.         1.         1.\n",
      " 1.         1.         1.         1.         0.9707113  1.\n",
      " 0.60080645 1.         1.         1.         1.         1.\n",
      " 1.         1.         1.         1.         1.         1.\n",
      " 1.         1.         1.         1.         1.         1.\n",
      " 1.         1.         1.         1.         1.         0.98473282\n",
      " 1.         1.         0.99596774 1.         1.         1.\n",
      " 1.         1.         1.         1.         0.99601594 0.86055777\n",
      " 1.         1.         0.49794239 1.         1.         1.\n",
      " 1.         1.         0.93181818 0.21011673 1.         1.\n",
      " 1.         0.90987124 0.97177419 1.         0.05839416 1.\n",
      " 0.72083333 0.91139241 0.87346939 1.         1.         1.\n",
      " 1.         1.         0.59683794 1.         1.         1.\n",
      " 1.         1.         1.         1.         1.         1.\n",
      " 1.         1.         0.64822134 1.         1.         1.\n",
      " 1.         1.         0.43253968 1.         1.         1.\n",
      " 1.         0.99576271 1.         1.         0.99628253 1.\n",
      " 1.         1.         1.         0.99236641 1.         1.\n",
      " 0.87815126 0.968      1.         1.         1.         1.\n",
      " 1.         1.         1.         1.         1.         1.\n",
      " 0.99604743 1.         1.         1.         0.69583333 1.\n",
      " 1.         1.         1.         1.         0.87250996 1.\n",
      " 0.87755102 0.988      1.         1.         1.         1.\n",
      " 1.         1.         1.         1.         1.         1.\n",
      " 1.         1.         1.         1.         1.         1.\n",
      " 1.         1.         1.         1.         0.97021277 1.\n",
      " 1.         1.         1.         1.         1.         0.98841699\n",
      " 1.         0.97413793 1.         1.         1.         1.\n",
      " 1.         1.         1.         1.         1.         0.99603175\n",
      " 0.98755187 1.         1.         1.         1.         1.\n",
      " 1.         1.         1.         0.91153846 0.9877551  1.\n",
      " 1.         1.         1.         1.         1.         1.\n",
      " 1.         1.         1.         1.         1.         1.        ]\n",
      "Average hm score 0.8333333333333334\n",
      "Stage 2\n",
      "Adjusted gamma:  1.0\n",
      "Adjusted gamma:  1.0\n",
      "Classifying AD vs CN...\n",
      "[0. 0. 0. 1. 0. 0. 0. 0. 0. 0. 0. 1. 0. 0. 0. 0. 0. 1. 0. 0. 0. 0. 0. 0.\n",
      " 0. 1. 0. 1. 1. 0. 1. 1. 0. 1. 0. 0. 1. 1. 1. 0. 0. 0. 0. 1. 1. 0. 0. 0.\n",
      " 0. 1. 0. 1. 1. 1. 0. 1. 0. 0. 0. 0. 0. 0. 1. 0. 0. 1. 1. 0. 0. 1. 1. 0.\n",
      " 1. 0. 0. 1. 0. 0. 0. 1. 0. 0. 1. 0. 0. 1. 1. 0. 0. 1. 0. 0. 0. 0. 1. 0.\n",
      " 1. 0. 1. 1. 1. 1. 0. 1. 0. 0. 1. 0. 1. 1. 1. 1. 1. 0. 1. 1. 1. 1. 1. 1.\n",
      " 1. 0. 1. 1.]\n",
      "Total number of TARGET subjects:  55.0\n",
      "Total number of NON-TARGET subjects:  69.0\n",
      "Stage 1 number of hits (true and false positives):  53.0\n",
      "Stage 1 TRUE positives:  50.0\n",
      "Stage 1 FALSE positives:  3.0\n",
      "Stage 1 TRUE negatives:  66.0\n",
      "Total number of flagged HPC-AD subjects:  39.0\n",
      "Number of flagged HPC-AD subjects that are TRUE positives:  39\n",
      "Number of flagged HPC-AD subjects that are FALSE positives:  0.0\n",
      "Number of true negatives:  69.0\n",
      "#############################\n",
      "Stage 1 stats for TARGET vs NON-TARGET\n",
      "Precision for AD:  0.9433962264150944\n",
      "Recall (or sensitivity)  for AD:  0.9090909090909091\n",
      "Specificity:  0.9565217391304348\n",
      "Adjusted precision for 33.6% baseline rate:  0.9136479712475173\n",
      "Accuracy:  0.9354838709677419\n",
      "#############################\n",
      "Stage 2 stats for TARGET vs NON-TARGET\n",
      "Precision for HPC-AD:  1.0\n",
      "Recall (or sensitivity) for HPC-AD:  0.7090909090909091\n",
      "Specificity:  1.0\n",
      "Adjusted precision for 33.6% baseline rate:  1.0\n",
      "Accuracy:  0.8709677419354839\n",
      "Stage 1\n",
      "Proba:\n",
      "[0.74103586 1.         1.         1.         1.         1.\n",
      " 1.         1.         1.         0.93023256 1.         1.\n",
      " 1.         1.         1.         1.         1.         1.\n",
      " 1.         1.         1.         1.         1.         1.\n",
      " 0.96389892 0.76033058 0.99578059 0.99588477 1.         1.\n",
      " 1.         1.         1.         1.         1.         1.\n",
      " 0.87854251 1.         1.         1.         1.         1.\n",
      " 1.         1.         1.         0.99606299 0.99603175 1.\n",
      " 1.         1.         1.         1.         1.         0.66791045\n",
      " 1.         0.38257576 0.9453125  0.58232932 0.96761134 1.\n",
      " 1.         1.         1.         1.         1.         1.\n",
      " 1.         1.         1.         0.97154472 0.62256809 0.99601594\n",
      " 1.         1.         1.         0.33739837 1.         1.\n",
      " 1.         0.95634921 1.         1.         1.         1.\n",
      " 1.         0.68897638 0.59288538 1.         1.         0.75471698\n",
      " 0.196      0.99591837 0.81818182 1.         1.         1.\n",
      " 0.86111111 1.         1.         1.         1.         1.\n",
      " 1.         1.         1.         1.         1.         0.31698113\n",
      " 1.         0.69327731 1.         1.         1.         0.99586777\n",
      " 1.         1.         1.         1.         1.         1.\n",
      " 1.         0.47244094 1.         1.         1.         0.87984496\n",
      " 1.         0.25910931 1.         1.         0.80519481 1.\n",
      " 1.         0.33603239 0.78039216 1.         1.         1.\n",
      " 1.         1.         1.         1.         1.         0.99591837\n",
      " 1.         1.         1.         1.         1.         1.\n",
      " 1.         1.         1.         0.51968504 1.         0.99591837\n",
      " 1.         1.         0.99206349 0.92720307 0.99610895 1.\n",
      " 1.         1.         0.99607843 1.         1.         1.\n",
      " 0.99579832 0.77366255 0.93951613 1.         1.         0.64435146\n",
      " 1.         1.         0.95275591 1.         1.         0.29707113\n",
      " 0.98823529 0.54077253 1.         1.         1.         1.\n",
      " 1.         1.         1.         1.         1.         1.\n",
      " 1.         1.         1.         1.         1.         1.\n",
      " 1.         1.         1.         0.9        1.         1.\n",
      " 1.         1.         1.         1.         1.         0.99585062\n",
      " 1.         1.         0.9626556  1.         1.         1.\n",
      " 1.         1.         1.         1.         1.         1.\n",
      " 0.99203187 1.         1.         1.         1.         1.\n",
      " 1.         0.972      1.         1.         0.97233202 0.9650655\n",
      " 1.         1.         1.         1.         1.         1.\n",
      " 1.         1.         1.         1.         1.         1.\n",
      " 0.98760331]\n",
      "Average hm score 0.7651821862348178\n",
      "Stage 2\n",
      "Adjusted gamma:  1.0\n",
      "Adjusted gamma:  1.0\n",
      "Classifying AD vs CN...\n",
      "[0. 0. 0. 0. 0. 0. 0. 0. 0. 0. 1. 0. 1. 0. 0. 0. 0. 0. 0. 0. 0. 0. 0. 0.\n",
      " 0. 0. 0. 0. 0. 0. 0. 1. 0. 0. 0. 0. 0. 1. 0. 0. 0. 1. 1. 0. 1. 0. 1. 0.\n",
      " 0. 0. 1. 0. 1. 0. 1. 1. 0. 0. 1. 0. 0. 1. 0. 0. 0. 0. 0. 1. 0. 0. 0. 1.\n",
      " 1. 0. 1. 0. 1. 0. 1. 1. 0. 1. 0. 1. 0. 1. 0. 0. 1. 1. 1. 1. 1. 1. 0. 1.\n",
      " 1. 1. 1. 1. 1. 1. 1. 1. 1. 1. 0. 1. 1. 1. 0. 1. 1. 0. 1. 1. 1. 1. 1. 1.\n",
      " 1. 1. 1.]\n",
      "Total number of TARGET subjects:  55.0\n",
      "Total number of NON-TARGET subjects:  68.0\n",
      "Stage 1 number of hits (true and false positives):  55.0\n",
      "Stage 1 TRUE positives:  51.0\n",
      "Stage 1 FALSE positives:  4.0\n",
      "Stage 1 TRUE negatives:  64.0\n",
      "Total number of flagged HPC-AD subjects:  42.0\n",
      "Number of flagged HPC-AD subjects that are TRUE positives:  41\n",
      "Number of flagged HPC-AD subjects that are FALSE positives:  1.0\n",
      "Number of true negatives:  67.0\n",
      "#############################\n",
      "Stage 1 stats for TARGET vs NON-TARGET\n",
      "Precision for AD:  0.9272727272727272\n",
      "Recall (or sensitivity)  for AD:  0.9272727272727272\n",
      "Specificity:  0.9411764705882353\n",
      "Adjusted precision for 33.6% baseline rate:  0.8886014788062178\n",
      "Accuracy:  0.9349593495934959\n",
      "#############################\n",
      "Stage 2 stats for TARGET vs NON-TARGET\n",
      "Precision for HPC-AD:  0.9761904761904762\n",
      "Recall (or sensitivity) for HPC-AD:  0.7454545454545455\n",
      "Specificity:  0.9852941176470589\n",
      "Adjusted precision for 33.6% baseline rate:  0.9624777044410289\n",
      "Accuracy:  0.8780487804878049\n",
      "Stage 1\n",
      "Proba:\n",
      "[0.53386454 1.         1.         1.         1.         1.\n",
      " 1.         1.         1.         0.95736434 1.         1.\n",
      " 1.         1.         1.         1.         1.         1.\n",
      " 1.         1.         1.         1.         1.         1.\n",
      " 0.99277978 0.90082645 0.99578059 1.         1.         1.\n",
      " 1.         1.         1.         1.         1.         1.\n",
      " 0.96761134 1.         1.         1.         1.         1.\n",
      " 1.         1.         1.         1.         1.         1.\n",
      " 1.         1.         1.         1.         1.         0.96268657\n",
      " 1.         0.125      1.         0.34939759 1.         1.\n",
      " 1.         1.         1.         1.         1.         1.\n",
      " 1.         1.         1.         1.         0.74319066 1.\n",
      " 1.         1.         1.         0.95934959 1.         1.\n",
      " 1.         0.96031746 1.         1.         1.         1.\n",
      " 1.         0.90944882 0.26086957 1.         1.         0.98113208\n",
      " 0.744      0.96326531 0.95041322 1.         1.         1.\n",
      " 0.86111111 1.         1.         1.         1.         1.\n",
      " 1.         1.         1.         1.         1.         1.\n",
      " 1.         0.00754717 1.         0.99159664 1.         1.\n",
      " 1.         1.         1.         1.         0.92647059 1.\n",
      " 1.         1.         0.99173554 1.         1.         0.12156863\n",
      " 1.         1.         1.         1.         1.         1.\n",
      " 1.         1.         1.         1.         1.         1.\n",
      " 1.         1.         1.         1.         1.         1.\n",
      " 1.         1.         0.96638655 1.         1.         1.\n",
      " 1.         1.         0.11417323 0.99183673 1.         1.\n",
      " 1.         1.         1.         1.         1.         1.\n",
      " 0.9375     0.8362069  1.         1.         0.99607843 1.\n",
      " 1.         1.         1.         1.         1.         1.\n",
      " 1.         1.         1.         1.         0.99203187 1.\n",
      " 1.         1.         1.         1.         0.99183673 1.\n",
      " 1.         1.         1.         1.         1.         1.\n",
      " 1.         1.         1.         1.         1.         1.\n",
      " 1.         1.         1.         1.         1.         1.\n",
      " 1.         1.         1.         0.99586777 1.         1.\n",
      " 1.         1.         1.         1.         1.         1.\n",
      " 1.         1.         0.00806452 1.         1.         1.\n",
      " 0.70325203 1.         1.         0.84860558 0.71223022 1.\n",
      " 0.8625     0.98790323 0.78764479 0.99607843 1.         1.\n",
      " 0.88846154 1.         1.         0.         1.         1.\n",
      " 1.         1.         0.79166667 1.         1.         1.\n",
      " 1.        ]\n"
     ]
    },
    {
     "name": "stdout",
     "output_type": "stream",
     "text": [
      "Average hm score 0.8218623481781376\n",
      "Stage 2\n",
      "Adjusted gamma:  1.0\n",
      "Adjusted gamma:  1.0\n",
      "Classifying AD vs CN...\n",
      "[0. 0. 0. 1. 0. 0. 0. 0. 0. 1. 0. 0. 0. 0. 0. 0. 0. 0. 0. 0. 0. 0. 0. 0.\n",
      " 0. 0. 0. 0. 0. 0. 0. 0. 0. 0. 0. 0. 0. 0. 0. 0. 0. 1. 1. 1. 1. 1. 0. 1.\n",
      " 1. 0. 0. 1. 0. 1. 0. 0. 1. 1. 1. 1. 0. 0. 1. 1. 1. 1. 1. 1. 0. 1. 1. 1.\n",
      " 0. 0. 0. 0. 1. 0. 0. 1. 1. 1. 0. 0. 1. 0. 0. 0. 1. 1. 0. 1. 0. 1. 1. 0.\n",
      " 0. 0. 1. 1. 0. 1. 1. 0. 1. 0. 1. 1. 1. 1. 1. 1. 1. 1. 1. 1. 1. 1. 1. 1.\n",
      " 1. 1. 1.]\n",
      "Total number of TARGET subjects:  55.0\n",
      "Total number of NON-TARGET subjects:  68.0\n",
      "Stage 1 number of hits (true and false positives):  56.0\n",
      "Stage 1 TRUE positives:  54.0\n",
      "Stage 1 FALSE positives:  2.0\n",
      "Stage 1 TRUE negatives:  66.0\n",
      "Total number of flagged HPC-AD subjects:  48.0\n",
      "Number of flagged HPC-AD subjects that are TRUE positives:  48\n",
      "Number of flagged HPC-AD subjects that are FALSE positives:  0.0\n",
      "Number of true negatives:  68.0\n",
      "#############################\n",
      "Stage 1 stats for TARGET vs NON-TARGET\n",
      "Precision for AD:  0.9642857142857143\n",
      "Recall (or sensitivity)  for AD:  0.9818181818181818\n",
      "Specificity:  0.9705882352941176\n",
      "Adjusted precision for 33.6% baseline rate:  0.9441091127245124\n",
      "Accuracy:  0.975609756097561\n",
      "#############################\n",
      "Stage 2 stats for TARGET vs NON-TARGET\n",
      "Precision for HPC-AD:  1.0\n",
      "Recall (or sensitivity) for HPC-AD:  0.8727272727272727\n",
      "Specificity:  1.0\n",
      "Adjusted precision for 33.6% baseline rate:  1.0\n",
      "Accuracy:  0.943089430894309\n"
     ]
    }
   ],
   "source": [
    "scores_ad_cn=[]\n",
    "scores_s2 = []\n",
    "ad_precision = []\n",
    "cn_precision = []\n",
    "ad_recall = []\n",
    "cn_recall = []\n",
    "ad_f1_score = []\n",
    "cn_f1_score = []\n",
    "\n",
    "s1_spec = []\n",
    "s1_sens = []\n",
    "s1_prec = []\n",
    "s1_acc = []\n",
    "\n",
    "s2_spec = []\n",
    "s2_sens = []\n",
    "s2_prec = []\n",
    "s2_acc = []\n",
    "\n",
    "\n",
    "skf = StratifiedKFold(n_splits=3)\n",
    "for train_index, val_index in skf.split(x_,y_):\n",
    "    X_training, X_val = x_[train_index], x_[val_index]\n",
    "    y_training, y_val = y_[train_index], y_[val_index]\n",
    "    \n",
    "    hpc = high_confidence_at.TwoStagesPrediction(\n",
    "        n_iter=500,\n",
    "        shuffle_test_split=0.5,\n",
    "        min_gamma=.99,\n",
    "        thresh_ratio=0.1)\n",
    "    \n",
    "    hpc.fit(X_training, X_training, y_training)\n",
    "    \n",
    "    _, dic_results = hpc.predict(X_val, X_val)\n",
    "    \n",
    "    # test in validation sample\n",
    "    acc = metrics.accuracy_score(y_val, (dic_results['s1df'][:,0]>0).astype(float))\n",
    "    tmp_mask = (dic_results['s2df'][:,1]>0)\n",
    "    acc_s2 = metrics.accuracy_score(y_val[tmp_mask], (dic_results['s1df'][:,0]>0).astype(float)[tmp_mask])\n",
    "    scores_ad_cn.append(acc)\n",
    "    scores_s2.append(acc_s2)\n",
    "    print('Classifying AD vs CN...')\n",
    "    print((dic_results['s1df'][:,0]>0).astype(float))\n",
    "    \n",
    "    y_pred = (dic_results['s1df'][:,0]>0).astype(float)\n",
    "    lr_decision = dic_results['s2df'][:,1]\n",
    "    \n",
    "    # BASE SVM PERFORMANCE\n",
    "    ad_p = metrics.precision_score(y_val, y_pred)\n",
    "    ad_precision.append(ad_p)\n",
    "    cn_p = metrics.precision_score(y_val, y_pred, pos_label=0)\n",
    "    cn_precision.append(cn_p)\n",
    "    ad_r = metrics.recall_score(y_val, y_pred)\n",
    "    ad_recall.append(ad_r)\n",
    "    cn_r = metrics.recall_score(y_val, y_pred, pos_label=0)\n",
    "    cn_recall.append(cn_r)\n",
    "    ad_f1 = metrics.f1_score(y_val, y_pred)\n",
    "    ad_f1_score.append(ad_f1)\n",
    "    cn_f1 = metrics.f1_score(y_val, y_pred, pos_label=0)\n",
    "    cn_f1_score.append(cn_f1)\n",
    "    \n",
    "    \n",
    "    sens, spec, prec, acc, sens_2, spec_2, prec_2, acc_2 = predic_stats(y_val, y_pred, lr_decision)\n",
    "    s1_spec.append(spec)\n",
    "    s1_sens.append(sens)\n",
    "    s1_prec.append(prec)\n",
    "    s1_acc.append(acc)\n",
    "    s2_spec.append(spec_2)\n",
    "    s2_sens.append(sens_2)\n",
    "    s2_prec.append(prec_2)\n",
    "    s2_acc.append(acc_2)"
   ]
  },
  {
   "cell_type": "code",
   "execution_count": 14,
   "metadata": {},
   "outputs": [
    {
     "name": "stdout",
     "output_type": "stream",
     "text": [
      "Stage 1\n",
      "Mean sensitivity:  0.9393939393939394\n",
      "Mean specificity:  0.9560954816709293\n",
      "Mean precision:  0.944984889324512\n",
      "Mean accuracy:  0.9486843255529328\n",
      "##########\n",
      "Stage 2\n",
      "Mean sensitivity:  0.7757575757575758\n",
      "Mean specificity:  0.9950980392156863\n",
      "Mean precision:  0.9920634920634921\n",
      "Mean accuracy:  0.8973686511058659\n"
     ]
    }
   ],
   "source": [
    "print('Stage 1')\n",
    "print('Mean sensitivity: ', np.mean(s1_sens))\n",
    "print('Mean specificity: ', np.mean(s1_spec))\n",
    "print('Mean precision: ', np.mean(s1_prec))\n",
    "print('Mean accuracy: ', np.mean(s1_acc))\n",
    "print('#'*10)\n",
    "print('Stage 2')\n",
    "print('Mean sensitivity: ', np.mean(s2_sens))\n",
    "print('Mean specificity: ', np.mean(s2_spec))\n",
    "print('Mean precision: ', np.mean(s2_prec))\n",
    "print('Mean accuracy: ', np.mean(s2_acc))"
   ]
  },
  {
   "cell_type": "markdown",
   "metadata": {},
   "source": [
    "# Train HPC (on whole training set of ADNI1 AD & CN)"
   ]
  },
  {
   "cell_type": "code",
   "execution_count": 15,
   "metadata": {
    "scrolled": true
   },
   "outputs": [
    {
     "name": "stdout",
     "output_type": "stream",
     "text": [
      "Stage 1\n",
      "Proba:\n",
      "[0.77083333 1.         1.         1.         1.         1.\n",
      " 1.         1.         1.         0.96062992 1.         1.\n",
      " 1.         1.         1.         1.         1.         1.\n",
      " 1.         1.         1.         1.         1.         1.\n",
      " 1.         0.90151515 1.         1.         1.         1.\n",
      " 1.         1.         1.         1.         1.         1.\n",
      " 0.9757085  1.         1.         1.         1.         1.\n",
      " 1.         1.         1.         1.         1.         1.\n",
      " 1.         1.         1.         1.         1.         0.98360656\n",
      " 1.         0.33198381 1.         0.38       1.         1.\n",
      " 1.         1.         1.         1.         1.         1.\n",
      " 1.         1.         1.         1.         0.69196429 1.\n",
      " 1.         1.         1.         0.875      1.         1.\n",
      " 1.         0.99242424 1.         1.         1.         1.\n",
      " 1.         0.94142259 0.53815261 1.         1.         0.99610895\n",
      " 0.36144578 1.         1.         1.         1.         1.\n",
      " 0.94979079 1.         1.         1.         1.         1.\n",
      " 1.         1.         1.         1.         1.         1.\n",
      " 1.         0.         1.         0.97628458 1.         1.\n",
      " 1.         1.         1.         1.         0.94605809 1.\n",
      " 1.         1.         1.         1.         1.         0.46840149\n",
      " 1.         1.         1.         1.         1.         1.\n",
      " 1.         1.         1.         1.         1.         1.\n",
      " 1.         1.         1.         1.         1.         1.\n",
      " 1.         1.         1.         1.         1.         1.\n",
      " 1.         1.         0.18518519 0.98455598 1.         1.\n",
      " 1.         1.         1.         1.         1.         1.\n",
      " 1.         0.99183673 1.         1.         1.         1.\n",
      " 1.         1.         1.         1.         1.         1.\n",
      " 1.         1.         1.         1.         1.         1.\n",
      " 1.         1.         1.         1.         0.99607843 1.\n",
      " 1.         1.         1.         1.         1.         1.\n",
      " 1.         1.         1.         1.         1.         1.\n",
      " 1.         1.         1.         1.         1.         1.\n",
      " 1.         1.         1.         1.         1.         1.\n",
      " 1.         1.         1.         1.         1.         1.\n",
      " 1.         1.         1.         0.46413502 1.         1.\n",
      " 0.         1.         1.         1.         1.         1.\n",
      " 0.83984375 1.         1.         1.         1.         0.87124464\n",
      " 0.61570248 1.         0.37398374 1.         0.80232558 0.96707819\n",
      " 0.99579832 1.         1.         1.         1.         1.\n",
      " 0.49361702 1.         1.         1.         1.         1.\n",
      " 1.         1.         1.         1.         1.         1.\n",
      " 0.87747036 1.         1.         1.         1.         1.\n",
      " 0.         1.         1.         0.99588477 1.         1.\n",
      " 1.         1.         1.         1.         1.         1.\n",
      " 1.         0.98449612 1.         1.         0.73617021 1.\n",
      " 1.         1.         1.         1.         1.         1.\n",
      " 1.         1.         1.         1.         0.96694215 1.\n",
      " 1.         1.         0.17716535 1.         1.         1.\n",
      " 1.         1.         0.99555556 1.         0.98007968 1.\n",
      " 1.         1.         1.         1.         1.         1.\n",
      " 1.         1.         1.         1.         1.         1.\n",
      " 1.         1.         1.         1.         1.         1.\n",
      " 0.99593496 1.         1.         1.         1.         1.\n",
      " 1.         1.         1.         1.         1.         0.97254902\n",
      " 1.         1.         1.         1.         1.         1.\n",
      " 1.         1.         1.         1.         1.         1.\n",
      " 1.         1.         1.         1.         1.         1.\n",
      " 1.         0.98818898 0.92622951 1.         1.         1.\n",
      " 1.         1.         1.         1.         1.         1.\n",
      " 1.         1.         1.         1.        ]\n",
      "Average hm score 0.8756756756756757\n",
      "Stage 2\n",
      "Adjusted gamma:  1.0\n",
      "Adjusted gamma:  1.0\n"
     ]
    }
   ],
   "source": [
    "#reload(high_confidence)\n",
    "hpc = high_confidence_at.TwoStagesPrediction(\n",
    "    n_iter=500,\n",
    "    shuffle_test_split=0.5,\n",
    "    min_gamma=.99,\n",
    "    thresh_ratio=0.1)\n",
    "\n",
    "hpc.fit(x_, x_, y_)"
   ]
  },
  {
   "cell_type": "code",
   "execution_count": 16,
   "metadata": {},
   "outputs": [
    {
     "name": "stdout",
     "output_type": "stream",
     "text": [
      "Level 1\n",
      "------------------------\n",
      "Ratio: 1.0\n",
      "#    :  165.0\n",
      "# true values:  370\n",
      "ACC  :  0.9783783783783784\n",
      "Level 2\n",
      "------------------------\n",
      "Ratio: 0.8242424242424242\n",
      "#    :  136.0\n",
      "# true values:  136\n",
      "ACC  :  1.0\n"
     ]
    }
   ],
   "source": [
    "array_results, dic_results = hpc.predict(x_, x_)\n",
    "\n",
    "# Level 1\n",
    "print('Level 1')\n",
    "stats_mask(y_, (dic_results['s1df'][:,0]>0).astype(float))\n",
    "\n",
    "print('Level 2')\n",
    "stats_mask(y_, (dic_results['s1df'][:,0]>0).astype(float), dic_results['s2df'][:,1]>0)\n",
    "#stats_mask(dic_results['s2df'][:,2]>0)\n",
    "#stats_mask(dic_results['s2df'][:,3]>0)"
   ]
  },
  {
   "cell_type": "code",
   "execution_count": 17,
   "metadata": {},
   "outputs": [],
   "source": [
    "y_pred = (dic_results['s1df'][:,0]>0).astype(float)\n",
    "lr_decision = dic_results['s2df'][:,1]"
   ]
  },
  {
   "cell_type": "code",
   "execution_count": 18,
   "metadata": {},
   "outputs": [
    {
     "name": "stdout",
     "output_type": "stream",
     "text": [
      "Stage 1 stats for AD vs CN\n",
      "             precision    recall  f1-score   support\n",
      "\n",
      "        0.0       0.97      0.99      0.98       205\n",
      "        1.0       0.99      0.96      0.98       165\n",
      "\n",
      "avg / total       0.98      0.98      0.98       370\n",
      "\n"
     ]
    }
   ],
   "source": [
    "print('Stage 1 stats for AD vs CN')\n",
    "print(metrics.classification_report(y_, y_pred))"
   ]
  },
  {
   "cell_type": "code",
   "execution_count": 19,
   "metadata": {},
   "outputs": [
    {
     "name": "stdout",
     "output_type": "stream",
     "text": [
      "Total number of TARGET subjects:  165.0\n",
      "Total number of NON-TARGET subjects:  205.0\n",
      "Stage 1 number of hits (true and false positives):  161.0\n",
      "Stage 1 TRUE positives:  159.0\n",
      "Stage 1 FALSE positives:  2.0\n",
      "Stage 1 TRUE negatives:  203.0\n",
      "Total number of flagged HPC-AD subjects:  136.0\n",
      "Number of flagged HPC-AD subjects that are TRUE positives:  136\n",
      "Number of flagged HPC-AD subjects that are FALSE positives:  0.0\n",
      "Number of true negatives:  205.0\n",
      "#############################\n",
      "Stage 1 stats for TARGET vs NON-TARGET\n",
      "Precision for AD:  0.9875776397515528\n",
      "Recall (or sensitivity)  for AD:  0.9636363636363636\n",
      "Specificity:  0.9902439024390244\n",
      "Adjusted precision for 33.6% baseline rate:  0.980384995488334\n",
      "Accuracy:  0.9783783783783784\n",
      "#############################\n",
      "Stage 2 stats for TARGET vs NON-TARGET\n",
      "Precision for HPC-AD:  1.0\n",
      "Recall (or sensitivity) for HPC-AD:  0.8242424242424242\n",
      "Specificity:  1.0\n",
      "Adjusted precision for 33.6% baseline rate:  1.0\n",
      "Accuracy:  0.9216216216216216\n"
     ]
    },
    {
     "data": {
      "text/plain": [
       "(0.9636363636363636,\n",
       " 0.9902439024390244,\n",
       " 0.9875776397515528,\n",
       " 0.9783783783783784,\n",
       " 0.8242424242424242,\n",
       " 1.0,\n",
       " 1.0,\n",
       " 0.9216216216216216)"
      ]
     },
     "execution_count": 19,
     "metadata": {},
     "output_type": "execute_result"
    }
   ],
   "source": [
    "predic_stats(y_, y_pred, lr_decision)"
   ]
  },
  {
   "cell_type": "markdown",
   "metadata": {},
   "source": [
    "# compare with other methods "
   ]
  },
  {
   "cell_type": "markdown",
   "metadata": {},
   "source": [
    "## ROC curve"
   ]
  },
  {
   "cell_type": "markdown",
   "metadata": {},
   "source": [
    "### base"
   ]
  },
  {
   "cell_type": "code",
   "execution_count": 20,
   "metadata": {},
   "outputs": [
    {
     "data": {
      "text/plain": [
       "(370,)"
      ]
     },
     "execution_count": 20,
     "metadata": {},
     "output_type": "execute_result"
    }
   ],
   "source": [
    "base = high_confidence_at.BaseSvc()\n",
    "base.fit(x_, y_)\n",
    "y_predicted = base.predict(x_)\n",
    "y_score = base.decision_function(x_)\n",
    "y_score.shape"
   ]
  },
  {
   "cell_type": "code",
   "execution_count": 21,
   "metadata": {},
   "outputs": [],
   "source": [
    "y_true = y_.astype(int)\n",
    "y_true = label_binarize(y_true, classes=[0, 1])\n",
    "n_classes = y_true.shape[1]\n",
    "y_score = np.reshape(y_score, (y_score.shape[0],1))\n",
    "\n",
    "# Compute ROC curve and ROC area for each class\n",
    "fpr_b = dict()\n",
    "tpr_b = dict()\n",
    "roc_auc_b = dict()\n",
    "for i in range(n_classes):\n",
    "    fpr_b[i], tpr_b[i], _ = roc_curve(y_true[:, i], y_score[:, i])\n",
    "    roc_auc_b[i] = auc(fpr_b[i], tpr_b[i])\n",
    "    \n",
    "# Compute micro-average ROC curve and ROC area\n",
    "fpr_b[\"micro\"], tpr_b[\"micro\"], _ = roc_curve(y_true.ravel(), y_score.ravel())\n",
    "roc_auc_b[\"micro\"] = auc(fpr_b[\"micro\"], tpr_b[\"micro\"])"
   ]
  },
  {
   "cell_type": "code",
   "execution_count": 22,
   "metadata": {},
   "outputs": [
    {
     "name": "stdout",
     "output_type": "stream",
     "text": [
      "Average precision-recall score: 1.00\n"
     ]
    }
   ],
   "source": [
    "average_precision_b = average_precision_score(y_true, y_score)\n",
    "\n",
    "print('Average precision-recall score: {0:0.2f}'.format(\n",
    "      average_precision_b))\n",
    "\n",
    "precision_b, recall_b, _ = precision_recall_curve(y_true, y_score)"
   ]
  },
  {
   "cell_type": "markdown",
   "metadata": {},
   "source": [
    "### HPS"
   ]
  },
  {
   "cell_type": "code",
   "execution_count": 23,
   "metadata": {},
   "outputs": [],
   "source": [
    "y_true = y_.astype(int)\n",
    "y_true = label_binarize(y_, classes=[0, 1])\n",
    "n_classes = y_true.shape[1]\n",
    "y_score = np.reshape(lr_decision, (y_score.shape[0],1))"
   ]
  },
  {
   "cell_type": "code",
   "execution_count": 24,
   "metadata": {},
   "outputs": [],
   "source": [
    "# Compute ROC curve and ROC area for each class\n",
    "fpr_h = dict()\n",
    "tpr_h = dict()\n",
    "roc_auc_h = dict()\n",
    "for i in range(n_classes):\n",
    "    fpr_h[i], tpr_h[i], _ = roc_curve(y_true[:, i], y_score[:, i])\n",
    "    roc_auc_h[i] = auc(fpr_h[i], tpr_h[i])\n",
    "\n",
    "# Compute micro-average ROC curve and ROC area\n",
    "fpr_h[\"micro\"], tpr_h[\"micro\"], _ = roc_curve(y_true.ravel(), y_score.ravel())\n",
    "roc_auc_h[\"micro\"] = auc(fpr_h[\"micro\"], tpr_h[\"micro\"])"
   ]
  },
  {
   "cell_type": "code",
   "execution_count": 25,
   "metadata": {},
   "outputs": [
    {
     "name": "stdout",
     "output_type": "stream",
     "text": [
      "Average precision-recall score: 1.00\n"
     ]
    }
   ],
   "source": [
    "average_precision_h = average_precision_score(y_true, y_score)\n",
    "\n",
    "print('Average precision-recall score: {0:0.2f}'.format(\n",
    "      average_precision_h))\n",
    "\n",
    "precision_h, recall_h, _ = precision_recall_curve(y_true, y_score)"
   ]
  },
  {
   "cell_type": "markdown",
   "metadata": {},
   "source": [
    "### rbf kernel svm"
   ]
  },
  {
   "cell_type": "code",
   "execution_count": 26,
   "metadata": {},
   "outputs": [
    {
     "data": {
      "text/plain": [
       "(370,)"
      ]
     },
     "execution_count": 26,
     "metadata": {},
     "output_type": "execute_result"
    }
   ],
   "source": [
    "svm_param_grid=dict(C=(np.logspace(-2, 1, 15)))\n",
    "\n",
    "clf_svm = SVC(kernel='rbf', class_weight='balanced', decision_function_shape='ovr', random_state=1)\n",
    "grclf_svm = GridSearchCV(clf_svm, param_grid=svm_param_grid, \n",
    "                         cv=StratifiedShuffleSplit(n_splits=50, test_size=.2, random_state=1))               \n",
    "\n",
    "grclf_svm.fit(x_, y_)\n",
    "y_predicted = grclf_svm.predict(x_)\n",
    "y_score = grclf_svm.decision_function(x_)\n",
    "y_score.shape"
   ]
  },
  {
   "cell_type": "code",
   "execution_count": 27,
   "metadata": {},
   "outputs": [],
   "source": [
    "y_true = y_.astype(int)\n",
    "y_true = label_binarize(y_true, classes=[0, 1])\n",
    "n_classes = y_true.shape[1]\n",
    "y_score = np.reshape(y_score, (y_score.shape[0],1))\n",
    "\n",
    "# Compute ROC curve and ROC area for each class\n",
    "fpr_svcrbf = dict()\n",
    "tpr_svcrbf = dict()\n",
    "roc_auc_svcrbf = dict()\n",
    "for i in range(n_classes):\n",
    "    fpr_svcrbf[i], tpr_svcrbf[i], _ = roc_curve(y_true[:, i], y_score[:, i])\n",
    "    roc_auc_svcrbf[i] = auc(fpr_svcrbf[i], tpr_svcrbf[i])\n",
    "    \n",
    "# Compute micro-average ROC curve and ROC area\n",
    "fpr_svcrbf[\"micro\"], tpr_svcrbf[\"micro\"], _ = roc_curve(y_true.ravel(), y_score.ravel())\n",
    "roc_auc_svcrbf[\"micro\"] = auc(fpr_svcrbf[\"micro\"], tpr_svcrbf[\"micro\"])"
   ]
  },
  {
   "cell_type": "markdown",
   "metadata": {},
   "source": [
    "### k nearest neighbours"
   ]
  },
  {
   "cell_type": "code",
   "execution_count": 28,
   "metadata": {},
   "outputs": [
    {
     "data": {
      "text/plain": [
       "(370,)"
      ]
     },
     "execution_count": 28,
     "metadata": {},
     "output_type": "execute_result"
    }
   ],
   "source": [
    "k_range = list(range(3,7))\n",
    "weight_opt = [\"uniform\", \"distance\"]\n",
    "knn_param_grid = dict(n_neighbors = k_range, weights = weight_opt)\n",
    "\n",
    "clf_knn = KNeighborsClassifier(algorithm='auto')\n",
    "grclf_knn = GridSearchCV(clf_knn, param_grid=knn_param_grid, \n",
    "                         cv=StratifiedShuffleSplit(n_splits=50, test_size=.2, random_state=1))\n",
    "grclf_knn.fit(x_, y_)\n",
    "y_predicted = grclf_knn.predict(x_)\n",
    "#y_score = clf.decision_function(x_)\n",
    "y_score = grclf_knn.predict_proba(x_)\n",
    "y_score = y_score[:,1] # take positive class\n",
    "y_score.shape"
   ]
  },
  {
   "cell_type": "code",
   "execution_count": 29,
   "metadata": {},
   "outputs": [],
   "source": [
    "y_true = y_.astype(int)\n",
    "y_true = label_binarize(y_true, classes=[0, 1])\n",
    "n_classes = y_true.shape[1]\n",
    "y_score = np.reshape(y_score, (y_score.shape[0],1))\n",
    "\n",
    "# Compute ROC curve and ROC area for each class\n",
    "fpr_knn = dict()\n",
    "tpr_knn = dict()\n",
    "roc_auc_knn = dict()\n",
    "for i in range(n_classes):\n",
    "    fpr_knn[i], tpr_knn[i], _ = roc_curve(y_true[:, i], y_score[:, i])\n",
    "    roc_auc_knn[i] = auc(fpr_knn[i], tpr_knn[i])\n",
    "    \n",
    "# Compute micro-average ROC curve and ROC area\n",
    "fpr_knn[\"micro\"], tpr_knn[\"micro\"], _ = roc_curve(y_true.ravel(), y_score.ravel())\n",
    "roc_auc_knn[\"micro\"] = auc(fpr_knn[\"micro\"], tpr_knn[\"micro\"])"
   ]
  },
  {
   "cell_type": "markdown",
   "metadata": {},
   "source": [
    "### random forest"
   ]
  },
  {
   "cell_type": "code",
   "execution_count": 30,
   "metadata": {},
   "outputs": [
    {
     "data": {
      "text/plain": [
       "(370,)"
      ]
     },
     "execution_count": 30,
     "metadata": {},
     "output_type": "execute_result"
    }
   ],
   "source": [
    "rf_param_grid = [\n",
    "{'n_estimators': [10, 25], 'max_features': [5, 10], \n",
    " 'max_depth': [10, 50, None], 'bootstrap': [True, False]}\n",
    "]\n",
    "\n",
    "clf_rf = RandomForestClassifier(random_state=1)\n",
    "grclf_rf = GridSearchCV(clf_rf, param_grid=rf_param_grid, \n",
    "                       cv=StratifiedShuffleSplit(n_splits=50, test_size=.2, random_state=1))\n",
    "grclf_rf.fit(x_, y_)\n",
    "y_predicted = grclf_rf.predict(x_)\n",
    "#y_score = clf.decision_function(x_)\n",
    "y_score = grclf_rf.predict_proba(x_)\n",
    "y_score = y_score[:,1] # take positive class\n",
    "y_score.shape"
   ]
  },
  {
   "cell_type": "code",
   "execution_count": 31,
   "metadata": {},
   "outputs": [],
   "source": [
    "y_true = y_.astype(int)\n",
    "y_true = label_binarize(y_true, classes=[0, 1])\n",
    "n_classes = y_true.shape[1]\n",
    "y_score = np.reshape(y_score, (y_score.shape[0],1))\n",
    "\n",
    "# Compute ROC curve and ROC area for each class\n",
    "fpr_rf = dict()\n",
    "tpr_rf = dict()\n",
    "roc_auc_rf = dict()\n",
    "for i in range(n_classes):\n",
    "    fpr_rf[i], tpr_rf[i], _ = roc_curve(y_true[:, i], y_score[:, i])\n",
    "    roc_auc_rf[i] = auc(fpr_rf[i], tpr_rf[i])\n",
    "    \n",
    "# Compute micro-average ROC curve and ROC area\n",
    "fpr_rf[\"micro\"], tpr_rf[\"micro\"], _ = roc_curve(y_true.ravel(), y_score.ravel())\n",
    "roc_auc_rf[\"micro\"] = auc(fpr_rf[\"micro\"], tpr_rf[\"micro\"])"
   ]
  },
  {
   "cell_type": "markdown",
   "metadata": {},
   "source": [
    "### gaussian naive bayes"
   ]
  },
  {
   "cell_type": "code",
   "execution_count": 32,
   "metadata": {},
   "outputs": [
    {
     "data": {
      "text/plain": [
       "(370,)"
      ]
     },
     "execution_count": 32,
     "metadata": {},
     "output_type": "execute_result"
    }
   ],
   "source": [
    "clf_gnb = GaussianNB()\n",
    "clf_gnb.fit(x_, y_)\n",
    "y_predicted = clf_gnb.predict(x_)\n",
    "#y_score = clf.decision_function(x_)\n",
    "y_score = clf_gnb.predict_proba(x_)\n",
    "y_score = y_score[:,1] # take positive class\n",
    "y_score.shape"
   ]
  },
  {
   "cell_type": "code",
   "execution_count": 33,
   "metadata": {},
   "outputs": [],
   "source": [
    "y_true = y_.astype(int)\n",
    "y_true = label_binarize(y_true, classes=[0, 1])\n",
    "n_classes = y_true.shape[1]\n",
    "y_score = np.reshape(y_score, (y_score.shape[0],1))\n",
    "\n",
    "# Compute ROC curve and ROC area for each class\n",
    "fpr_nb = dict()\n",
    "tpr_nb = dict()\n",
    "roc_auc_nb = dict()\n",
    "for i in range(n_classes):\n",
    "    fpr_nb[i], tpr_nb[i], _ = roc_curve(y_true[:, i], y_score[:, i])\n",
    "    roc_auc_nb[i] = auc(fpr_nb[i], tpr_nb[i])\n",
    "    \n",
    "# Compute micro-average ROC curve and ROC area\n",
    "fpr_nb[\"micro\"], tpr_nb[\"micro\"], _ = roc_curve(y_true.ravel(), y_score.ravel())\n",
    "roc_auc_nb[\"micro\"] = auc(fpr_nb[\"micro\"], tpr_nb[\"micro\"])"
   ]
  },
  {
   "cell_type": "code",
   "execution_count": 34,
   "metadata": {},
   "outputs": [
    {
     "data": {
      "image/png": "[encoded data removed]",
      "text/plain": [
       "<Figure size 720x576 with 1 Axes>"
      ]
     },
     "metadata": {},
     "output_type": "display_data"
    }
   ],
   "source": [
    "#plt.figure()\n",
    "fig, ax = plt.subplots()\n",
    "fig.set_size_inches(10,8)\n",
    "lw = 4\n",
    "plt.rc('xtick', labelsize=40)\n",
    "plt.rc('ytick', labelsize=40)\n",
    "plt.plot(fpr_svcrbf[0], tpr_svcrbf[0], color='green',\n",
    "         lw=lw, label='RBF SVM (AUC=%0.3f)' % roc_auc_svcrbf[0])\n",
    "plt.plot(fpr_knn[0], tpr_knn[0], color='pink',\n",
    "         lw=lw, label='KNN (AUC=%0.3f)' % roc_auc_knn[0])\n",
    "plt.plot(fpr_rf[0], tpr_rf[0], color='brown',\n",
    "         lw=lw, label='RF (AUC=%0.3f)' % roc_auc_rf[0])\n",
    "plt.plot(fpr_nb[0], tpr_nb[0], color='orange',\n",
    "         lw=lw, label='GNB (AUC=%0.3f)' % roc_auc_nb[0])\n",
    "plt.plot(fpr_b[0], tpr_b[0], color='blue',\n",
    "         lw=lw, label='Base (AUC=%0.3f)' % roc_auc_b[0])\n",
    "plt.plot(fpr_h[0], tpr_h[0], color='red',\n",
    "         lw=lw, label='HPS (AUC=%0.3f)' % roc_auc_h[0])\n",
    "plt.plot([0, 1], [0, 1], color='grey', lw=lw, linestyle='--')\n",
    "plt.xlim([-0.05, 1.00])\n",
    "plt.ylim([0.0, 1.05])\n",
    "plt.xlabel('FPR', fontdict={'size': 40})\n",
    "plt.ylabel('TPR', fontdict={'size': 40})\n",
    "plt.title('ADNI1 AD vs CN', fontdict={'size': 40})\n",
    "plt.legend(loc=\"lower right\", prop={'size': 25})\n",
    "plt.show()\n",
    "fig.savefig(path_results + 'adni1_ad_roc_multi.pdf', bbox_inches='tight')"
   ]
  },
  {
   "cell_type": "markdown",
   "metadata": {},
   "source": [
    "## Test on ADNI1 MCI"
   ]
  },
  {
   "cell_type": "code",
   "execution_count": 35,
   "metadata": {},
   "outputs": [],
   "source": [
    "# load the data\n",
    "adni1_mci = pd.read_csv('/home/angela/Desktop/vcog_paper/adni1_vbm_adcn_subtypes_20171209/7clus/adni1_mci_bl_demog_weights.csv')"
   ]
  },
  {
   "cell_type": "code",
   "execution_count": 36,
   "metadata": {},
   "outputs": [],
   "source": [
    "mask_mci = adni1_mci.loc[:,'MCI'].values.astype(bool)\n",
    "adni1_mci = adni1_mci.iloc[mask_mci]"
   ]
  },
  {
   "cell_type": "code",
   "execution_count": 37,
   "metadata": {},
   "outputs": [],
   "source": [
    "adni1_mci.dropna(subset=['sub1','age_scan','gender','mean_gm','tiv',\n",
    "                         'ADAS13','ADNI_MEM','ADNI_EF','BNTTOTAL','CLOCKSCOR'],inplace=True)"
   ]
  },
  {
   "cell_type": "code",
   "execution_count": 38,
   "metadata": {},
   "outputs": [],
   "source": [
    "adni1_mci = adni1_mci[['RID','age_scan','gender','mean_gm','tiv',\n",
    "             'ADAS13','ADNI_MEM','ADNI_EF','BNTTOTAL','CLOCKSCOR',\n",
    "             'sub1','sub2','sub3','sub4','sub5','sub6','sub7',\n",
    "             'ABETA','TAU','conv_2_ad','AD','MCI','CN','APOE4_bin','DX','Month_conv']]"
   ]
  },
  {
   "cell_type": "code",
   "execution_count": 39,
   "metadata": {},
   "outputs": [
    {
     "data": {
      "text/plain": [
       "235"
      ]
     },
     "execution_count": 39,
     "metadata": {},
     "output_type": "execute_result"
    }
   ],
   "source": [
    "len(adni1_mci)"
   ]
  },
  {
   "cell_type": "code",
   "execution_count": 40,
   "metadata": {},
   "outputs": [
    {
     "data": {
      "text/plain": [
       "((235, 16), (235,), (235, 4))"
      ]
     },
     "execution_count": 40,
     "metadata": {},
     "output_type": "execute_result"
    }
   ],
   "source": [
    "x_ = adni1_mci.iloc[:,adni1_mci.columns.get_loc(\"ADAS13\"):adni1_mci.columns.get_loc(\"sub7\")+1].values\n",
    "#x_ = scalerX.transform(x_)\n",
    "y_ = adni1_mci['conv_2_ad'].values.ravel()\n",
    "\n",
    "\n",
    "confounds = adni1_mci[['gender','age_scan','mean_gm','tiv']].values\n",
    "#confounds = data[['sex','age_r']].values[mask_mci,:]\n",
    "#confounds[:, 1:] = scaler.transform(confounds[:, 1:])\n",
    "#confounds[:, 0] = preprocessing.binarize(confounds[:, 0].reshape(-1, 1), threshold=1)[:, 0]\n",
    "#confounds = scaler.transform(confounds)\n",
    "#x_ = crm.transform(confounds, x_)\n",
    "\n",
    "x_ = scaler.transform(np.hstack((x_,confounds)))\n",
    "\n",
    "x_.shape, y_.shape, confounds.shape"
   ]
  },
  {
   "cell_type": "code",
   "execution_count": 41,
   "metadata": {},
   "outputs": [
    {
     "name": "stdout",
     "output_type": "stream",
     "text": [
      "Level 1\n",
      "------------------------\n",
      "Ratio: 1.0\n",
      "#    :  147.0\n",
      "# true values:  235\n",
      "ACC  :  0.7702127659574468\n",
      "Level 2\n",
      "------------------------\n",
      "Ratio: 0.5510204081632653\n",
      "#    :  81.0\n",
      "# true values:  87\n",
      "ACC  :  0.9310344827586207\n"
     ]
    }
   ],
   "source": [
    "array_results, dic_results = hpc.predict(x_, x_)\n",
    "\n",
    "# Level 1\n",
    "print('Level 1')\n",
    "stats_mask(y_, (dic_results['s1df'][:,0]>0).astype(float))\n",
    "\n",
    "print('Level 2')\n",
    "stats_mask(y_, (dic_results['s1df'][:,0]>0).astype(float), dic_results['s2df'][:,1]>0)\n",
    "#stats_mask(dic_results['s2df'][:,2]>0)\n",
    "#stats_mask(dic_results['s2df'][:,3]>0)"
   ]
  },
  {
   "cell_type": "code",
   "execution_count": 42,
   "metadata": {},
   "outputs": [],
   "source": [
    "y_pred = (dic_results['s1df'][:,0]>0).astype(float)\n",
    "lr_decision = dic_results['s2df'][:,1]"
   ]
  },
  {
   "cell_type": "code",
   "execution_count": 43,
   "metadata": {
    "scrolled": true
   },
   "outputs": [
    {
     "name": "stdout",
     "output_type": "stream",
     "text": [
      "Total number of TARGET subjects:  147.0\n",
      "Total number of NON-TARGET subjects:  88.0\n",
      "Stage 1 number of hits (true and false positives):  137.0\n",
      "Stage 1 TRUE positives:  115.0\n",
      "Stage 1 FALSE positives:  22.0\n",
      "Stage 1 TRUE negatives:  66.0\n",
      "Total number of flagged HPC-AD subjects:  87.0\n",
      "Number of flagged HPC-AD subjects that are TRUE positives:  81\n",
      "Number of flagged HPC-AD subjects that are FALSE positives:  6.0\n",
      "Number of true negatives:  82.0\n",
      "#############################\n",
      "Stage 1 stats for TARGET vs NON-TARGET\n",
      "Precision for AD:  0.8394160583941606\n",
      "Recall (or sensitivity)  for AD:  0.782312925170068\n",
      "Specificity:  0.75\n",
      "Adjusted precision for 33.6% baseline rate:  0.6129247168554297\n",
      "Accuracy:  0.7702127659574468\n",
      "#############################\n",
      "Stage 2 stats for TARGET vs NON-TARGET\n",
      "Precision for HPC-AD:  0.9310344827586207\n",
      "Recall (or sensitivity) for HPC-AD:  0.5510204081632653\n",
      "Specificity:  0.9318181818181818\n",
      "Adjusted precision for 33.6% baseline rate:  0.8035170781197157\n",
      "Accuracy:  0.6936170212765957\n"
     ]
    },
    {
     "data": {
      "text/plain": [
       "(0.782312925170068,\n",
       " 0.75,\n",
       " 0.8394160583941606,\n",
       " 0.7702127659574468,\n",
       " 0.5510204081632653,\n",
       " 0.9318181818181818,\n",
       " 0.9310344827586207,\n",
       " 0.6936170212765957)"
      ]
     },
     "execution_count": 43,
     "metadata": {},
     "output_type": "execute_result"
    }
   ],
   "source": [
    "predic_stats(y_, y_pred, lr_decision)"
   ]
  },
  {
   "cell_type": "markdown",
   "metadata": {},
   "source": [
    "## ROC curve "
   ]
  },
  {
   "cell_type": "markdown",
   "metadata": {},
   "source": [
    "### base"
   ]
  },
  {
   "cell_type": "code",
   "execution_count": 44,
   "metadata": {},
   "outputs": [
    {
     "data": {
      "text/plain": [
       "(235,)"
      ]
     },
     "execution_count": 44,
     "metadata": {},
     "output_type": "execute_result"
    }
   ],
   "source": [
    "#base = high_confidence_at.BaseSvc()\n",
    "#base.fit(x_, y_)\n",
    "y_predicted = base.predict(x_)\n",
    "y_score = base.decision_function(x_)\n",
    "y_score.shape"
   ]
  },
  {
   "cell_type": "code",
   "execution_count": 45,
   "metadata": {},
   "outputs": [],
   "source": [
    "y_true = y_.astype(int)\n",
    "y_true = label_binarize(y_true, classes=[0, 1])\n",
    "n_classes = y_true.shape[1]\n",
    "y_score = np.reshape(y_score, (y_score.shape[0],1))\n",
    "\n",
    "# Compute ROC curve and ROC area for each class\n",
    "fpr_b = dict()\n",
    "tpr_b = dict()\n",
    "roc_auc_b = dict()\n",
    "for i in range(n_classes):\n",
    "    fpr_b[i], tpr_b[i], _ = roc_curve(y_true[:, i], y_score[:, i])\n",
    "    roc_auc_b[i] = auc(fpr_b[i], tpr_b[i])\n",
    "    \n",
    "# Compute micro-average ROC curve and ROC area\n",
    "fpr_b[\"micro\"], tpr_b[\"micro\"], _ = roc_curve(y_true.ravel(), y_score.ravel())\n",
    "roc_auc_b[\"micro\"] = auc(fpr_b[\"micro\"], tpr_b[\"micro\"])"
   ]
  },
  {
   "cell_type": "code",
   "execution_count": 46,
   "metadata": {},
   "outputs": [
    {
     "name": "stdout",
     "output_type": "stream",
     "text": [
      "Average precision-recall score: 0.91\n"
     ]
    }
   ],
   "source": [
    "average_precision_b = average_precision_score(y_true, y_score)\n",
    "\n",
    "print('Average precision-recall score: {0:0.2f}'.format(\n",
    "      average_precision_b))\n",
    "\n",
    "precision_b, recall_b, _ = precision_recall_curve(y_true, y_score)"
   ]
  },
  {
   "cell_type": "markdown",
   "metadata": {},
   "source": [
    "### HPS "
   ]
  },
  {
   "cell_type": "code",
   "execution_count": 47,
   "metadata": {},
   "outputs": [],
   "source": [
    "y_true = y_.astype(int)\n",
    "y_true = label_binarize(y_, classes=[0, 1])\n",
    "n_classes = y_true.shape[1]\n",
    "y_score = np.reshape(lr_decision, (y_score.shape[0],1))"
   ]
  },
  {
   "cell_type": "code",
   "execution_count": 48,
   "metadata": {},
   "outputs": [],
   "source": [
    "# Compute ROC curve and ROC area for each class\n",
    "fpr_h = dict()\n",
    "tpr_h = dict()\n",
    "roc_auc_h = dict()\n",
    "for i in range(n_classes):\n",
    "    fpr_h[i], tpr_h[i], _ = roc_curve(y_true[:, i], y_score[:, i])\n",
    "    roc_auc_h[i] = auc(fpr_h[i], tpr_h[i])\n",
    "\n",
    "# Compute micro-average ROC curve and ROC area\n",
    "fpr_h[\"micro\"], tpr_h[\"micro\"], _ = roc_curve(y_true.ravel(), y_score.ravel())\n",
    "roc_auc_h[\"micro\"] = auc(fpr_h[\"micro\"], tpr_h[\"micro\"])"
   ]
  },
  {
   "cell_type": "markdown",
   "metadata": {},
   "source": [
    "### rbf kernel svm"
   ]
  },
  {
   "cell_type": "code",
   "execution_count": 49,
   "metadata": {},
   "outputs": [
    {
     "data": {
      "text/plain": [
       "(235,)"
      ]
     },
     "execution_count": 49,
     "metadata": {},
     "output_type": "execute_result"
    }
   ],
   "source": [
    "y_predicted = grclf_svm.predict(x_)\n",
    "y_score = grclf_svm.decision_function(x_)\n",
    "y_score.shape"
   ]
  },
  {
   "cell_type": "code",
   "execution_count": 50,
   "metadata": {},
   "outputs": [],
   "source": [
    "y_true = y_.astype(int)\n",
    "y_true = label_binarize(y_true, classes=[0, 1])\n",
    "n_classes = y_true.shape[1]\n",
    "y_score = np.reshape(y_score, (y_score.shape[0],1))\n",
    "\n",
    "# Compute ROC curve and ROC area for each class\n",
    "fpr_svcrbf = dict()\n",
    "tpr_svcrbf = dict()\n",
    "roc_auc_svcrbf = dict()\n",
    "for i in range(n_classes):\n",
    "    fpr_svcrbf[i], tpr_svcrbf[i], _ = roc_curve(y_true[:, i], y_score[:, i])\n",
    "    roc_auc_svcrbf[i] = auc(fpr_svcrbf[i], tpr_svcrbf[i])\n",
    "    \n",
    "# Compute micro-average ROC curve and ROC area\n",
    "fpr_svcrbf[\"micro\"], tpr_svcrbf[\"micro\"], _ = roc_curve(y_true.ravel(), y_score.ravel())\n",
    "roc_auc_svcrbf[\"micro\"] = auc(fpr_svcrbf[\"micro\"], tpr_svcrbf[\"micro\"])"
   ]
  },
  {
   "cell_type": "markdown",
   "metadata": {},
   "source": [
    "### k nearest neighbours"
   ]
  },
  {
   "cell_type": "code",
   "execution_count": 51,
   "metadata": {},
   "outputs": [
    {
     "data": {
      "text/plain": [
       "(235,)"
      ]
     },
     "execution_count": 51,
     "metadata": {},
     "output_type": "execute_result"
    }
   ],
   "source": [
    "y_predicted = grclf_knn.predict(x_)\n",
    "y_score = grclf_knn.predict_proba(x_)\n",
    "y_score = y_score[:,1] # take positive class\n",
    "y_score.shape"
   ]
  },
  {
   "cell_type": "code",
   "execution_count": 52,
   "metadata": {},
   "outputs": [],
   "source": [
    "y_true = y_.astype(int)\n",
    "y_true = label_binarize(y_true, classes=[0, 1])\n",
    "n_classes = y_true.shape[1]\n",
    "y_score = np.reshape(y_score, (y_score.shape[0],1))\n",
    "\n",
    "# Compute ROC curve and ROC area for each class\n",
    "fpr_knn = dict()\n",
    "tpr_knn = dict()\n",
    "roc_auc_knn = dict()\n",
    "for i in range(n_classes):\n",
    "    fpr_knn[i], tpr_knn[i], _ = roc_curve(y_true[:, i], y_score[:, i])\n",
    "    roc_auc_knn[i] = auc(fpr_knn[i], tpr_knn[i])\n",
    "    \n",
    "# Compute micro-average ROC curve and ROC area\n",
    "fpr_knn[\"micro\"], tpr_knn[\"micro\"], _ = roc_curve(y_true.ravel(), y_score.ravel())\n",
    "roc_auc_knn[\"micro\"] = auc(fpr_knn[\"micro\"], tpr_knn[\"micro\"])"
   ]
  },
  {
   "cell_type": "markdown",
   "metadata": {},
   "source": [
    "### random forest"
   ]
  },
  {
   "cell_type": "code",
   "execution_count": 53,
   "metadata": {},
   "outputs": [
    {
     "data": {
      "text/plain": [
       "(235,)"
      ]
     },
     "execution_count": 53,
     "metadata": {},
     "output_type": "execute_result"
    }
   ],
   "source": [
    "y_predicted = grclf_rf.predict(x_)\n",
    "y_score = grclf_rf.predict_proba(x_)\n",
    "y_score = y_score[:,1] # take positive class\n",
    "y_score.shape"
   ]
  },
  {
   "cell_type": "code",
   "execution_count": 54,
   "metadata": {},
   "outputs": [],
   "source": [
    "y_true = y_.astype(int)\n",
    "y_true = label_binarize(y_true, classes=[0, 1])\n",
    "n_classes = y_true.shape[1]\n",
    "y_score = np.reshape(y_score, (y_score.shape[0],1))\n",
    "\n",
    "# Compute ROC curve and ROC area for each class\n",
    "fpr_rf = dict()\n",
    "tpr_rf = dict()\n",
    "roc_auc_rf = dict()\n",
    "for i in range(n_classes):\n",
    "    fpr_rf[i], tpr_rf[i], _ = roc_curve(y_true[:, i], y_score[:, i])\n",
    "    roc_auc_rf[i] = auc(fpr_rf[i], tpr_rf[i])\n",
    "    \n",
    "# Compute micro-average ROC curve and ROC area\n",
    "fpr_rf[\"micro\"], tpr_rf[\"micro\"], _ = roc_curve(y_true.ravel(), y_score.ravel())\n",
    "roc_auc_rf[\"micro\"] = auc(fpr_rf[\"micro\"], tpr_rf[\"micro\"])"
   ]
  },
  {
   "cell_type": "markdown",
   "metadata": {},
   "source": [
    "### gaussian naive bayes"
   ]
  },
  {
   "cell_type": "code",
   "execution_count": 55,
   "metadata": {},
   "outputs": [
    {
     "data": {
      "text/plain": [
       "(235,)"
      ]
     },
     "execution_count": 55,
     "metadata": {},
     "output_type": "execute_result"
    }
   ],
   "source": [
    "y_predicted = clf_gnb.predict(x_)\n",
    "y_score = clf_gnb.predict_proba(x_)\n",
    "y_score = y_score[:,1] # take positive class\n",
    "y_score.shape"
   ]
  },
  {
   "cell_type": "code",
   "execution_count": 56,
   "metadata": {},
   "outputs": [],
   "source": [
    "y_true = y_.astype(int)\n",
    "y_true = label_binarize(y_true, classes=[0, 1])\n",
    "n_classes = y_true.shape[1]\n",
    "y_score = np.reshape(y_score, (y_score.shape[0],1))\n",
    "\n",
    "# Compute ROC curve and ROC area for each class\n",
    "fpr_nb = dict()\n",
    "tpr_nb = dict()\n",
    "roc_auc_nb = dict()\n",
    "for i in range(n_classes):\n",
    "    fpr_nb[i], tpr_nb[i], _ = roc_curve(y_true[:, i], y_score[:, i])\n",
    "    roc_auc_nb[i] = auc(fpr_nb[i], tpr_nb[i])\n",
    "    \n",
    "# Compute micro-average ROC curve and ROC area\n",
    "fpr_nb[\"micro\"], tpr_nb[\"micro\"], _ = roc_curve(y_true.ravel(), y_score.ravel())\n",
    "roc_auc_nb[\"micro\"] = auc(fpr_nb[\"micro\"], tpr_nb[\"micro\"])"
   ]
  },
  {
   "cell_type": "code",
   "execution_count": 57,
   "metadata": {},
   "outputs": [
    {
     "data": {
      "image/png": "[encoded data removed]",
      "text/plain": [
       "<Figure size 720x576 with 1 Axes>"
      ]
     },
     "metadata": {},
     "output_type": "display_data"
    }
   ],
   "source": [
    "#plt.figure()\n",
    "fig, ax = plt.subplots()\n",
    "fig.set_size_inches(10,8)\n",
    "lw = 4\n",
    "plt.rc('xtick', labelsize=40)\n",
    "plt.rc('ytick', labelsize=40)\n",
    "plt.plot(fpr_svcrbf[0], tpr_svcrbf[0], color='green',\n",
    "         lw=lw, label='RBF SVM (AUC=%0.3f)' % roc_auc_svcrbf[0])\n",
    "plt.plot(fpr_knn[0], tpr_knn[0], color='pink',\n",
    "         lw=lw, label='KNN (AUC=%0.3f)' % roc_auc_knn[0])\n",
    "plt.plot(fpr_rf[0], tpr_rf[0], color='brown',\n",
    "         lw=lw, label='RF (AUC=%0.3f)' % roc_auc_rf[0])\n",
    "plt.plot(fpr_nb[0], tpr_nb[0], color='orange',\n",
    "         lw=lw, label='GNB (AUC=%0.3f)' % roc_auc_nb[0])\n",
    "plt.plot(fpr_b[0], tpr_b[0], color='blue',\n",
    "         lw=lw, label='Base (AUC=%0.3f)' % roc_auc_b[0])\n",
    "plt.plot(fpr_h[0], tpr_h[0], color='red',\n",
    "         lw=lw, label='HPS (AUC=%0.3f)' % roc_auc_h[0])\n",
    "plt.plot([0, 1], [0, 1], color='grey', lw=lw, linestyle='--')\n",
    "plt.xlim([-0.05, 1.00])\n",
    "plt.ylim([0.0, 1.05])\n",
    "plt.xlabel('FPR', fontdict={'size': 40})\n",
    "plt.ylabel('TPR', fontdict={'size': 40})\n",
    "plt.title('ADNI1 pMCI vs sMCI', fontdict={'size': 40})\n",
    "plt.legend(loc=\"lower right\", prop={'size': 25})\n",
    "#ax.legend(loc='center left', bbox_to_anchor=(1,0.5), prop={'size': 30})\n",
    "plt.show()\n",
    "fig.savefig(path_results + 'adni1_mci_roc_multi.pdf', bbox_inches='tight')"
   ]
  },
  {
   "cell_type": "markdown",
   "metadata": {},
   "source": [
    "# REPLICATION IN ADNI2 "
   ]
  },
  {
   "cell_type": "code",
   "execution_count": 58,
   "metadata": {},
   "outputs": [],
   "source": [
    "adni2_df = pd.read_csv('/home/angela/Desktop/vcog_paper/adni1_vbm_adcn_subtypes_20171209/7clus/adni2_model_weights.csv')"
   ]
  },
  {
   "cell_type": "code",
   "execution_count": 59,
   "metadata": {},
   "outputs": [],
   "source": [
    "adni2_df.drop(adni2_df[adni2_df.RID < 2000].index,inplace=True)"
   ]
  },
  {
   "cell_type": "code",
   "execution_count": 60,
   "metadata": {},
   "outputs": [],
   "source": [
    "# get rid of NaNs\n",
    "adni2_df.dropna(axis=0,how='any',subset=['sub1','gender','age_scan','mean_gm','tiv','conv_2_ad',\n",
    "                                        'ADAS13','ADNI_MEM','ADNI_EF','BNTTOTAL','CLOCKSCOR'],inplace=True)"
   ]
  },
  {
   "cell_type": "code",
   "execution_count": 61,
   "metadata": {},
   "outputs": [],
   "source": [
    "adni2_df = adni2_df[['RID','age_scan','gender','mean_gm','tiv',\n",
    "             'ADAS13','ADNI_MEM','ADNI_EF','BNTTOTAL','CLOCKSCOR',\n",
    "             'sub1','sub2','sub3','sub4','sub5','sub6','sub7',\n",
    "             'ABETA','TAU','conv_2_ad','AD','MCI','CN','APOE4_bin','DX']]"
   ]
  },
  {
   "cell_type": "markdown",
   "metadata": {},
   "source": [
    "## AD vs CN "
   ]
  },
  {
   "cell_type": "code",
   "execution_count": 62,
   "metadata": {},
   "outputs": [
    {
     "data": {
      "text/plain": [
       "((276, 16), (276,), (276, 4))"
      ]
     },
     "execution_count": 62,
     "metadata": {},
     "output_type": "execute_result"
    }
   ],
   "source": [
    "# Mask of the AD and CN subjects only\n",
    "mask_cnad = adni2_df.loc[:,['CN','AD']].values.sum(1).astype(bool)\n",
    "\n",
    "x_ = adni2_df.iloc[mask_cnad,adni2_df.columns.get_loc(\"ADAS13\"):adni2_df.columns.get_loc(\"sub7\")+1].values\n",
    "#x_ = scalerX.transform(x_)\n",
    "y_ = adni2_df[['AD']].values.ravel()[mask_cnad]\n",
    "\n",
    "\n",
    "confounds = adni2_df[['gender','age_scan','mean_gm','tiv']].values[mask_cnad,:]\n",
    "#confounds = data[['sex','age_r']].values[mask_mci,:]\n",
    "#confounds[:, 1:] = scaler.transform(confounds[:, 1:])\n",
    "#confounds[:, 0] = preprocessing.binarize(confounds[:, 0].reshape(-1, 1), threshold=1)[:, 0]\n",
    "#confounds = scaler.transform(confounds)\n",
    "#x_ = crm.transform(confounds, x_)\n",
    "\n",
    "x_ = scaler.transform(np.hstack((x_,confounds)))\n",
    "\n",
    "x_.shape, y_.shape, confounds.shape"
   ]
  },
  {
   "cell_type": "code",
   "execution_count": 63,
   "metadata": {},
   "outputs": [
    {
     "name": "stdout",
     "output_type": "stream",
     "text": [
      "Level 1\n",
      "------------------------\n",
      "Ratio: 1.0\n",
      "#    :  88.0\n",
      "# true values:  276\n",
      "ACC  :  0.9492753623188406\n",
      "Level 2\n",
      "------------------------\n",
      "Ratio: 0.7954545454545454\n",
      "#    :  70.0\n",
      "# true values:  71\n",
      "ACC  :  0.9859154929577465\n"
     ]
    }
   ],
   "source": [
    "array_results, dic_results = hpc.predict(x_, x_)\n",
    "\n",
    "# Level 1\n",
    "print('Level 1')\n",
    "stats_mask(y_, (dic_results['s1df'][:,0]>0).astype(float))\n",
    "\n",
    "print('Level 2')\n",
    "stats_mask(y_, (dic_results['s1df'][:,0]>0).astype(float), dic_results['s2df'][:,1]>0)\n",
    "#stats_mask(dic_results['s2df'][:,2]>0)\n",
    "#stats_mask(dic_results['s2df'][:,3]>0)"
   ]
  },
  {
   "cell_type": "code",
   "execution_count": 64,
   "metadata": {},
   "outputs": [],
   "source": [
    "y_pred = (dic_results['s1df'][:,0]>0).astype(float)\n",
    "lr_decision = dic_results['s2df'][:,1]"
   ]
  },
  {
   "cell_type": "code",
   "execution_count": 65,
   "metadata": {},
   "outputs": [
    {
     "name": "stdout",
     "output_type": "stream",
     "text": [
      "Total number of TARGET subjects:  88.0\n",
      "Total number of NON-TARGET subjects:  188.0\n",
      "Stage 1 number of hits (true and false positives):  88.0\n",
      "Stage 1 TRUE positives:  81.0\n",
      "Stage 1 FALSE positives:  7.0\n",
      "Stage 1 TRUE negatives:  181.0\n",
      "Total number of flagged HPC-AD subjects:  71.0\n",
      "Number of flagged HPC-AD subjects that are TRUE positives:  70\n",
      "Number of flagged HPC-AD subjects that are FALSE positives:  1.0\n",
      "Number of true negatives:  187.0\n",
      "#############################\n",
      "Stage 1 stats for TARGET vs NON-TARGET\n",
      "Precision for AD:  0.9204545454545454\n",
      "Recall (or sensitivity)  for AD:  0.9204545454545454\n",
      "Specificity:  0.9627659574468085\n",
      "Adjusted precision for 33.6% baseline rate:  0.9259769742176098\n",
      "Accuracy:  0.9492753623188406\n",
      "#############################\n",
      "Stage 2 stats for TARGET vs NON-TARGET\n",
      "Precision for HPC-AD:  0.9859154929577465\n",
      "Recall (or sensitivity) for HPC-AD:  0.7954545454545454\n",
      "Specificity:  0.9946808510638298\n",
      "Adjusted precision for 33.6% baseline rate:  0.9869577018127793\n",
      "Accuracy:  0.9311594202898551\n"
     ]
    },
    {
     "data": {
      "text/plain": [
       "(0.9204545454545454,\n",
       " 0.9627659574468085,\n",
       " 0.9204545454545454,\n",
       " 0.9492753623188406,\n",
       " 0.7954545454545454,\n",
       " 0.9946808510638298,\n",
       " 0.9859154929577465,\n",
       " 0.9311594202898551)"
      ]
     },
     "execution_count": 65,
     "metadata": {},
     "output_type": "execute_result"
    }
   ],
   "source": [
    "predic_stats(y_, y_pred, lr_decision)"
   ]
  },
  {
   "cell_type": "markdown",
   "metadata": {},
   "source": [
    "## ROC curve"
   ]
  },
  {
   "cell_type": "markdown",
   "metadata": {},
   "source": [
    "### base"
   ]
  },
  {
   "cell_type": "code",
   "execution_count": 66,
   "metadata": {},
   "outputs": [
    {
     "data": {
      "text/plain": [
       "(276,)"
      ]
     },
     "execution_count": 66,
     "metadata": {},
     "output_type": "execute_result"
    }
   ],
   "source": [
    "y_predicted = base.predict(x_)\n",
    "y_score = base.decision_function(x_)\n",
    "y_score.shape"
   ]
  },
  {
   "cell_type": "code",
   "execution_count": 67,
   "metadata": {},
   "outputs": [],
   "source": [
    "y_true = y_.astype(int)\n",
    "y_true = label_binarize(y_true, classes=[0, 1])\n",
    "n_classes = y_true.shape[1]\n",
    "y_score = np.reshape(y_score, (y_score.shape[0],1))\n",
    "\n",
    "# Compute ROC curve and ROC area for each class\n",
    "fpr_b = dict()\n",
    "tpr_b = dict()\n",
    "roc_auc_b = dict()\n",
    "for i in range(n_classes):\n",
    "    fpr_b[i], tpr_b[i], _ = roc_curve(y_true[:, i], y_score[:, i])\n",
    "    roc_auc_b[i] = auc(fpr_b[i], tpr_b[i])\n",
    "    \n",
    "# Compute micro-average ROC curve and ROC area\n",
    "fpr_b[\"micro\"], tpr_b[\"micro\"], _ = roc_curve(y_true.ravel(), y_score.ravel())\n",
    "roc_auc_b[\"micro\"] = auc(fpr_b[\"micro\"], tpr_b[\"micro\"])"
   ]
  },
  {
   "cell_type": "code",
   "execution_count": 68,
   "metadata": {},
   "outputs": [
    {
     "name": "stdout",
     "output_type": "stream",
     "text": [
      "Average precision-recall score: 0.98\n"
     ]
    }
   ],
   "source": [
    "average_precision_b = average_precision_score(y_true, y_score)\n",
    "\n",
    "print('Average precision-recall score: {0:0.2f}'.format(\n",
    "      average_precision_b))\n",
    "\n",
    "precision_b, recall_b, _ = precision_recall_curve(y_true, y_score)"
   ]
  },
  {
   "cell_type": "markdown",
   "metadata": {},
   "source": [
    "### HPS "
   ]
  },
  {
   "cell_type": "code",
   "execution_count": 69,
   "metadata": {},
   "outputs": [],
   "source": [
    "y_true = y_.astype(int)\n",
    "y_true = label_binarize(y_, classes=[0, 1])\n",
    "n_classes = y_true.shape[1]\n",
    "y_score = np.reshape(lr_decision, (y_score.shape[0],1))"
   ]
  },
  {
   "cell_type": "code",
   "execution_count": 70,
   "metadata": {},
   "outputs": [],
   "source": [
    "# Compute ROC curve and ROC area for each class\n",
    "fpr_h = dict()\n",
    "tpr_h = dict()\n",
    "roc_auc_h = dict()\n",
    "for i in range(n_classes):\n",
    "    fpr_h[i], tpr_h[i], _ = roc_curve(y_true[:, i], y_score[:, i])\n",
    "    roc_auc_h[i] = auc(fpr_h[i], tpr_h[i])\n",
    "\n",
    "# Compute micro-average ROC curve and ROC area\n",
    "fpr_h[\"micro\"], tpr_h[\"micro\"], _ = roc_curve(y_true.ravel(), y_score.ravel())\n",
    "roc_auc_h[\"micro\"] = auc(fpr_h[\"micro\"], tpr_h[\"micro\"])"
   ]
  },
  {
   "cell_type": "code",
   "execution_count": 71,
   "metadata": {},
   "outputs": [
    {
     "name": "stdout",
     "output_type": "stream",
     "text": [
      "Average precision-recall score: 0.98\n"
     ]
    }
   ],
   "source": [
    "average_precision_h = average_precision_score(y_true, y_score)\n",
    "\n",
    "print('Average precision-recall score: {0:0.2f}'.format(\n",
    "      average_precision_h))\n",
    "\n",
    "precision_h, recall_h, _ = precision_recall_curve(y_true, y_score)"
   ]
  },
  {
   "cell_type": "markdown",
   "metadata": {},
   "source": [
    "### rbf kernel svm"
   ]
  },
  {
   "cell_type": "code",
   "execution_count": 72,
   "metadata": {},
   "outputs": [
    {
     "data": {
      "text/plain": [
       "(276,)"
      ]
     },
     "execution_count": 72,
     "metadata": {},
     "output_type": "execute_result"
    }
   ],
   "source": [
    "y_predicted = grclf_svm.predict(x_)\n",
    "y_score = grclf_svm.decision_function(x_)\n",
    "y_score.shape"
   ]
  },
  {
   "cell_type": "code",
   "execution_count": 73,
   "metadata": {},
   "outputs": [],
   "source": [
    "y_true = y_.astype(int)\n",
    "y_true = label_binarize(y_true, classes=[0, 1])\n",
    "n_classes = y_true.shape[1]\n",
    "y_score = np.reshape(y_score, (y_score.shape[0],1))\n",
    "\n",
    "# Compute ROC curve and ROC area for each class\n",
    "fpr_svcrbf = dict()\n",
    "tpr_svcrbf = dict()\n",
    "roc_auc_svcrbf = dict()\n",
    "for i in range(n_classes):\n",
    "    fpr_svcrbf[i], tpr_svcrbf[i], _ = roc_curve(y_true[:, i], y_score[:, i])\n",
    "    roc_auc_svcrbf[i] = auc(fpr_svcrbf[i], tpr_svcrbf[i])\n",
    "    \n",
    "# Compute micro-average ROC curve and ROC area\n",
    "fpr_svcrbf[\"micro\"], tpr_svcrbf[\"micro\"], _ = roc_curve(y_true.ravel(), y_score.ravel())\n",
    "roc_auc_svcrbf[\"micro\"] = auc(fpr_svcrbf[\"micro\"], tpr_svcrbf[\"micro\"])"
   ]
  },
  {
   "cell_type": "markdown",
   "metadata": {},
   "source": [
    "### k nearest neighbours"
   ]
  },
  {
   "cell_type": "code",
   "execution_count": 74,
   "metadata": {},
   "outputs": [
    {
     "data": {
      "text/plain": [
       "(276,)"
      ]
     },
     "execution_count": 74,
     "metadata": {},
     "output_type": "execute_result"
    }
   ],
   "source": [
    "y_predicted = grclf_knn.predict(x_)\n",
    "y_score = grclf_knn.predict_proba(x_)\n",
    "y_score = y_score[:,1] # take positive class\n",
    "y_score.shape"
   ]
  },
  {
   "cell_type": "code",
   "execution_count": 75,
   "metadata": {},
   "outputs": [],
   "source": [
    "y_true = y_.astype(int)\n",
    "y_true = label_binarize(y_true, classes=[0, 1])\n",
    "n_classes = y_true.shape[1]\n",
    "y_score = np.reshape(y_score, (y_score.shape[0],1))\n",
    "\n",
    "# Compute ROC curve and ROC area for each class\n",
    "fpr_knn = dict()\n",
    "tpr_knn = dict()\n",
    "roc_auc_knn = dict()\n",
    "for i in range(n_classes):\n",
    "    fpr_knn[i], tpr_knn[i], _ = roc_curve(y_true[:, i], y_score[:, i])\n",
    "    roc_auc_knn[i] = auc(fpr_knn[i], tpr_knn[i])\n",
    "    \n",
    "# Compute micro-average ROC curve and ROC area\n",
    "fpr_knn[\"micro\"], tpr_knn[\"micro\"], _ = roc_curve(y_true.ravel(), y_score.ravel())\n",
    "roc_auc_knn[\"micro\"] = auc(fpr_knn[\"micro\"], tpr_knn[\"micro\"])"
   ]
  },
  {
   "cell_type": "markdown",
   "metadata": {},
   "source": [
    "### random forest"
   ]
  },
  {
   "cell_type": "code",
   "execution_count": 76,
   "metadata": {},
   "outputs": [
    {
     "data": {
      "text/plain": [
       "(276,)"
      ]
     },
     "execution_count": 76,
     "metadata": {},
     "output_type": "execute_result"
    }
   ],
   "source": [
    "y_predicted = grclf_rf.predict(x_)\n",
    "y_score = grclf_rf.predict_proba(x_)\n",
    "y_score = y_score[:,1] # take positive class\n",
    "y_score.shape"
   ]
  },
  {
   "cell_type": "code",
   "execution_count": 77,
   "metadata": {},
   "outputs": [],
   "source": [
    "y_true = y_.astype(int)\n",
    "y_true = label_binarize(y_true, classes=[0, 1])\n",
    "n_classes = y_true.shape[1]\n",
    "y_score = np.reshape(y_score, (y_score.shape[0],1))\n",
    "\n",
    "# Compute ROC curve and ROC area for each class\n",
    "fpr_rf = dict()\n",
    "tpr_rf = dict()\n",
    "roc_auc_rf = dict()\n",
    "for i in range(n_classes):\n",
    "    fpr_rf[i], tpr_rf[i], _ = roc_curve(y_true[:, i], y_score[:, i])\n",
    "    roc_auc_rf[i] = auc(fpr_rf[i], tpr_rf[i])\n",
    "    \n",
    "# Compute micro-average ROC curve and ROC area\n",
    "fpr_rf[\"micro\"], tpr_rf[\"micro\"], _ = roc_curve(y_true.ravel(), y_score.ravel())\n",
    "roc_auc_rf[\"micro\"] = auc(fpr_rf[\"micro\"], tpr_rf[\"micro\"])"
   ]
  },
  {
   "cell_type": "markdown",
   "metadata": {},
   "source": [
    "### gaussian naive bayes"
   ]
  },
  {
   "cell_type": "code",
   "execution_count": 78,
   "metadata": {},
   "outputs": [
    {
     "data": {
      "text/plain": [
       "(276,)"
      ]
     },
     "execution_count": 78,
     "metadata": {},
     "output_type": "execute_result"
    }
   ],
   "source": [
    "y_predicted = clf_gnb.predict(x_)\n",
    "y_score = clf_gnb.predict_proba(x_)\n",
    "y_score = y_score[:,1] # take positive class\n",
    "y_score.shape"
   ]
  },
  {
   "cell_type": "code",
   "execution_count": 79,
   "metadata": {},
   "outputs": [],
   "source": [
    "y_true = y_.astype(int)\n",
    "y_true = label_binarize(y_true, classes=[0, 1])\n",
    "n_classes = y_true.shape[1]\n",
    "y_score = np.reshape(y_score, (y_score.shape[0],1))\n",
    "\n",
    "# Compute ROC curve and ROC area for each class\n",
    "fpr_nb = dict()\n",
    "tpr_nb = dict()\n",
    "roc_auc_nb = dict()\n",
    "for i in range(n_classes):\n",
    "    fpr_nb[i], tpr_nb[i], _ = roc_curve(y_true[:, i], y_score[:, i])\n",
    "    roc_auc_nb[i] = auc(fpr_nb[i], tpr_nb[i])\n",
    "    \n",
    "# Compute micro-average ROC curve and ROC area\n",
    "fpr_nb[\"micro\"], tpr_nb[\"micro\"], _ = roc_curve(y_true.ravel(), y_score.ravel())\n",
    "roc_auc_nb[\"micro\"] = auc(fpr_nb[\"micro\"], tpr_nb[\"micro\"])"
   ]
  },
  {
   "cell_type": "code",
   "execution_count": 80,
   "metadata": {},
   "outputs": [
    {
     "data": {
      "image/png": "[encoded data removed]",
      "text/plain": [
       "<Figure size 720x576 with 1 Axes>"
      ]
     },
     "metadata": {},
     "output_type": "display_data"
    }
   ],
   "source": [
    "#plt.figure()\n",
    "fig, ax = plt.subplots()\n",
    "fig.set_size_inches(10,8)\n",
    "lw = 4\n",
    "plt.rc('xtick', labelsize=40)\n",
    "plt.rc('ytick', labelsize=40)\n",
    "plt.plot(fpr_svcrbf[0], tpr_svcrbf[0], color='green',\n",
    "         lw=lw, label='RBF SVM (AUC=%0.3f)' % roc_auc_svcrbf[0])\n",
    "plt.plot(fpr_knn[0], tpr_knn[0], color='pink',\n",
    "         lw=lw, label='KNN (AUC=%0.3f)' % roc_auc_knn[0])\n",
    "plt.plot(fpr_rf[0], tpr_rf[0], color='brown',\n",
    "         lw=lw, label='RF (AUC=%0.3f)' % roc_auc_rf[0])\n",
    "plt.plot(fpr_nb[0], tpr_nb[0], color='orange',\n",
    "         lw=lw, label='GNB (AUC=%0.3f)' % roc_auc_nb[0])\n",
    "plt.plot(fpr_b[0], tpr_b[0], color='blue',\n",
    "         lw=lw, label='Base (AUC=%0.3f)' % roc_auc_b[0])\n",
    "plt.plot(fpr_h[0], tpr_h[0], color='red',\n",
    "         lw=lw, label='HPS (AUC=%0.3f)' % roc_auc_h[0])\n",
    "plt.plot([0, 1], [0, 1], color='grey', lw=lw, linestyle='--')\n",
    "plt.xlim([-0.05, 1.00])\n",
    "plt.ylim([0.0, 1.05])\n",
    "plt.xlabel('FPR', fontdict={'size': 40})\n",
    "plt.ylabel('TPR', fontdict={'size': 40})\n",
    "plt.title('ADNI2 AD vs CN', fontdict={'size': 40})\n",
    "plt.legend(loc=\"lower right\", prop={'size': 25})\n",
    "#ax.legend(loc='center left', bbox_to_anchor=(1,0.5), prop={'size': 30})\n",
    "plt.show()\n",
    "fig.savefig(path_results + 'adni2_ad_roc_multi.pdf', bbox_inches='tight')"
   ]
  },
  {
   "cell_type": "markdown",
   "metadata": {},
   "source": [
    "## MCI stable vs converters"
   ]
  },
  {
   "cell_type": "code",
   "execution_count": 81,
   "metadata": {},
   "outputs": [],
   "source": [
    "adni2_mci = pd.read_csv('/home/angela/Desktop/vcog_paper/adni1_vbm_adcn_subtypes_20171209/7clus/adni2_mci_bl_demog_weights.csv')"
   ]
  },
  {
   "cell_type": "code",
   "execution_count": 82,
   "metadata": {},
   "outputs": [],
   "source": [
    "mask_mci = adni2_mci.loc[:,'MCI'].values.astype(bool)\n",
    "adni2_mci = adni2_mci.iloc[mask_mci]"
   ]
  },
  {
   "cell_type": "code",
   "execution_count": 83,
   "metadata": {},
   "outputs": [],
   "source": [
    "adni2_mci.dropna(subset=['sub1','age_scan','gender','mean_gm','tiv',\n",
    "                        'ADAS13','ADNI_MEM','ADNI_EF','BNTTOTAL','CLOCKSCOR'],inplace=True)"
   ]
  },
  {
   "cell_type": "code",
   "execution_count": 84,
   "metadata": {},
   "outputs": [],
   "source": [
    "adni2_mci = adni2_mci[['RID','age_scan','gender','mean_gm','tiv',\n",
    "             'ADAS13','ADNI_MEM','ADNI_EF','BNTTOTAL','CLOCKSCOR',\n",
    "             'sub1','sub2','sub3','sub4','sub5','sub6','sub7',\n",
    "             'ABETA','TAU','conv_2_ad','AD','MCI','CN','APOE4_bin','DX','SUMMARYSUVR_WHOLECEREBNORM_1.11CUTOFF',\n",
    "                       'Month_conv']]"
   ]
  },
  {
   "cell_type": "code",
   "execution_count": 85,
   "metadata": {},
   "outputs": [
    {
     "data": {
      "text/plain": [
       "((235, 16), (235,), (235, 4))"
      ]
     },
     "execution_count": 85,
     "metadata": {},
     "output_type": "execute_result"
    }
   ],
   "source": [
    "x_ = adni2_mci.iloc[:, adni2_mci.columns.get_loc(\"ADAS13\"):adni2_mci.columns.get_loc(\"sub7\")+1].values\n",
    "#x_ = scalerX.transform(x_)\n",
    "y_ = adni2_mci[['conv_2_ad']].values.ravel()\n",
    "\n",
    "\n",
    "confounds = adni2_mci[['gender','age_scan','mean_gm','tiv']].values\n",
    "#confounds = data[['sex','age_r']].values[mask_mci,:]\n",
    "#confounds[:, 1:] = scaler.transform(confounds[:, 1:])\n",
    "#confounds[:, 0] = preprocessing.binarize(confounds[:, 0].reshape(-1, 1), threshold=1)[:, 0]\n",
    "#confounds = scaler.transform(confounds)\n",
    "#x_ = crm.transform(confounds, x_)\n",
    "\n",
    "x_ = scaler.transform(np.hstack((x_,confounds)))\n",
    "\n",
    "x_.shape, y_.shape, confounds.shape"
   ]
  },
  {
   "cell_type": "code",
   "execution_count": 86,
   "metadata": {},
   "outputs": [
    {
     "name": "stdout",
     "output_type": "stream",
     "text": [
      "Level 1\n",
      "------------------------\n",
      "Ratio: 1.0\n",
      "#    :  55.0\n",
      "# true values:  235\n",
      "ACC  :  0.8553191489361702\n",
      "Level 2\n",
      "------------------------\n",
      "Ratio: 0.4727272727272727\n",
      "#    :  26.0\n",
      "# true values:  32\n",
      "ACC  :  0.8125\n"
     ]
    }
   ],
   "source": [
    "array_results, dic_results = hpc.predict(x_, x_)\n",
    "\n",
    "# Level 1\n",
    "print('Level 1')\n",
    "stats_mask(y_, (dic_results['s1df'][:,0]>0).astype(float))\n",
    "\n",
    "print('Level 2')\n",
    "stats_mask(y_, (dic_results['s1df'][:,0]>0).astype(float), dic_results['s2df'][:,1]>0)\n",
    "#stats_mask(dic_results['s2df'][:,2]>0)\n",
    "#stats_mask(dic_results['s2df'][:,3]>0)"
   ]
  },
  {
   "cell_type": "code",
   "execution_count": 87,
   "metadata": {},
   "outputs": [],
   "source": [
    "y_pred = (dic_results['s1df'][:,0]>0).astype(float)\n",
    "lr_decision = dic_results['s2df'][:,1]"
   ]
  },
  {
   "cell_type": "code",
   "execution_count": 88,
   "metadata": {},
   "outputs": [
    {
     "name": "stdout",
     "output_type": "stream",
     "text": [
      "Total number of TARGET subjects:  55.0\n",
      "Total number of NON-TARGET subjects:  180.0\n",
      "Stage 1 number of hits (true and false positives):  59.0\n",
      "Stage 1 TRUE positives:  40.0\n",
      "Stage 1 FALSE positives:  19.0\n",
      "Stage 1 TRUE negatives:  161.0\n",
      "Total number of flagged HPC-AD subjects:  32.0\n",
      "Number of flagged HPC-AD subjects that are TRUE positives:  26\n",
      "Number of flagged HPC-AD subjects that are FALSE positives:  6.0\n",
      "Number of true negatives:  174.0\n",
      "#############################\n",
      "Stage 1 stats for TARGET vs NON-TARGET\n",
      "Precision for AD:  0.6779661016949152\n",
      "Recall (or sensitivity)  for AD:  0.7272727272727273\n",
      "Specificity:  0.8944444444444445\n",
      "Adjusted precision for 33.6% baseline rate:  0.7771082015238928\n",
      "Accuracy:  0.8553191489361702\n",
      "#############################\n",
      "Stage 2 stats for TARGET vs NON-TARGET\n",
      "Precision for HPC-AD:  0.8125\n",
      "Recall (or sensitivity) for HPC-AD:  0.4727272727272727\n",
      "Specificity:  0.9666666666666667\n",
      "Adjusted precision for 33.6% baseline rate:  0.8776959142665774\n",
      "Accuracy:  0.851063829787234\n"
     ]
    },
    {
     "data": {
      "text/plain": [
       "(0.7272727272727273,\n",
       " 0.8944444444444445,\n",
       " 0.6779661016949152,\n",
       " 0.8553191489361702,\n",
       " 0.4727272727272727,\n",
       " 0.9666666666666667,\n",
       " 0.8125,\n",
       " 0.851063829787234)"
      ]
     },
     "execution_count": 88,
     "metadata": {},
     "output_type": "execute_result"
    }
   ],
   "source": [
    "predic_stats(y_, y_pred, lr_decision)"
   ]
  },
  {
   "cell_type": "markdown",
   "metadata": {},
   "source": [
    "## ROC curve"
   ]
  },
  {
   "cell_type": "markdown",
   "metadata": {},
   "source": [
    "### base"
   ]
  },
  {
   "cell_type": "code",
   "execution_count": 89,
   "metadata": {},
   "outputs": [
    {
     "data": {
      "text/plain": [
       "(235,)"
      ]
     },
     "execution_count": 89,
     "metadata": {},
     "output_type": "execute_result"
    }
   ],
   "source": [
    "y_predicted = base.predict(x_)\n",
    "y_score = base.decision_function(x_)\n",
    "y_score.shape"
   ]
  },
  {
   "cell_type": "code",
   "execution_count": 90,
   "metadata": {},
   "outputs": [],
   "source": [
    "y_true = y_.astype(int)\n",
    "y_true = label_binarize(y_true, classes=[0, 1])\n",
    "n_classes = y_true.shape[1]\n",
    "y_score = np.reshape(y_score, (y_score.shape[0],1))\n",
    "\n",
    "# Compute ROC curve and ROC area for each class\n",
    "fpr_b = dict()\n",
    "tpr_b = dict()\n",
    "roc_auc_b = dict()\n",
    "for i in range(n_classes):\n",
    "    fpr_b[i], tpr_b[i], _ = roc_curve(y_true[:, i], y_score[:, i])\n",
    "    roc_auc_b[i] = auc(fpr_b[i], tpr_b[i])\n",
    "    \n",
    "# Compute micro-average ROC curve and ROC area\n",
    "fpr_b[\"micro\"], tpr_b[\"micro\"], _ = roc_curve(y_true.ravel(), y_score.ravel())\n",
    "roc_auc_b[\"micro\"] = auc(fpr_b[\"micro\"], tpr_b[\"micro\"])"
   ]
  },
  {
   "cell_type": "code",
   "execution_count": 91,
   "metadata": {},
   "outputs": [
    {
     "name": "stdout",
     "output_type": "stream",
     "text": [
      "Average precision-recall score: 0.78\n"
     ]
    }
   ],
   "source": [
    "average_precision_b = average_precision_score(y_true, y_score)\n",
    "\n",
    "print('Average precision-recall score: {0:0.2f}'.format(\n",
    "      average_precision_b))\n",
    "\n",
    "precision_b, recall_b, _ = precision_recall_curve(y_true, y_score)"
   ]
  },
  {
   "cell_type": "markdown",
   "metadata": {},
   "source": [
    "### HPS "
   ]
  },
  {
   "cell_type": "code",
   "execution_count": 92,
   "metadata": {},
   "outputs": [],
   "source": [
    "y_true = y_.astype(int)\n",
    "y_true = label_binarize(y_, classes=[0, 1])\n",
    "n_classes = y_true.shape[1]\n",
    "y_score = np.reshape(lr_decision, (y_score.shape[0],1))"
   ]
  },
  {
   "cell_type": "code",
   "execution_count": 93,
   "metadata": {},
   "outputs": [],
   "source": [
    "# Compute ROC curve and ROC area for each class\n",
    "fpr_h = dict()\n",
    "tpr_h = dict()\n",
    "roc_auc_h = dict()\n",
    "for i in range(n_classes):\n",
    "    fpr_h[i], tpr_h[i], _ = roc_curve(y_true[:, i], y_score[:, i])\n",
    "    roc_auc_h[i] = auc(fpr_h[i], tpr_h[i])\n",
    "\n",
    "# Compute micro-average ROC curve and ROC area\n",
    "fpr_h[\"micro\"], tpr_h[\"micro\"], _ = roc_curve(y_true.ravel(), y_score.ravel())\n",
    "roc_auc_h[\"micro\"] = auc(fpr_h[\"micro\"], tpr_h[\"micro\"])"
   ]
  },
  {
   "cell_type": "code",
   "execution_count": 94,
   "metadata": {},
   "outputs": [
    {
     "name": "stdout",
     "output_type": "stream",
     "text": [
      "Average precision-recall score: 0.77\n"
     ]
    }
   ],
   "source": [
    "average_precision_h = average_precision_score(y_true, y_score)\n",
    "\n",
    "print('Average precision-recall score: {0:0.2f}'.format(\n",
    "      average_precision_h))\n",
    "\n",
    "precision_h, recall_h, _ = precision_recall_curve(y_true, y_score)"
   ]
  },
  {
   "cell_type": "markdown",
   "metadata": {},
   "source": [
    "### rbf kernel svm"
   ]
  },
  {
   "cell_type": "code",
   "execution_count": 95,
   "metadata": {},
   "outputs": [
    {
     "data": {
      "text/plain": [
       "(235,)"
      ]
     },
     "execution_count": 95,
     "metadata": {},
     "output_type": "execute_result"
    }
   ],
   "source": [
    "y_predicted = grclf_svm.predict(x_)\n",
    "y_score = grclf_svm.decision_function(x_)\n",
    "y_score.shape"
   ]
  },
  {
   "cell_type": "code",
   "execution_count": 96,
   "metadata": {},
   "outputs": [],
   "source": [
    "y_true = y_.astype(int)\n",
    "y_true = label_binarize(y_true, classes=[0, 1])\n",
    "n_classes = y_true.shape[1]\n",
    "y_score = np.reshape(y_score, (y_score.shape[0],1))\n",
    "\n",
    "# Compute ROC curve and ROC area for each class\n",
    "fpr_svcrbf = dict()\n",
    "tpr_svcrbf = dict()\n",
    "roc_auc_svcrbf = dict()\n",
    "for i in range(n_classes):\n",
    "    fpr_svcrbf[i], tpr_svcrbf[i], _ = roc_curve(y_true[:, i], y_score[:, i])\n",
    "    roc_auc_svcrbf[i] = auc(fpr_svcrbf[i], tpr_svcrbf[i])\n",
    "    \n",
    "# Compute micro-average ROC curve and ROC area\n",
    "fpr_svcrbf[\"micro\"], tpr_svcrbf[\"micro\"], _ = roc_curve(y_true.ravel(), y_score.ravel())\n",
    "roc_auc_svcrbf[\"micro\"] = auc(fpr_svcrbf[\"micro\"], tpr_svcrbf[\"micro\"])"
   ]
  },
  {
   "cell_type": "markdown",
   "metadata": {},
   "source": [
    "### k nearest neighbours"
   ]
  },
  {
   "cell_type": "code",
   "execution_count": 97,
   "metadata": {},
   "outputs": [
    {
     "data": {
      "text/plain": [
       "(235,)"
      ]
     },
     "execution_count": 97,
     "metadata": {},
     "output_type": "execute_result"
    }
   ],
   "source": [
    "y_predicted = grclf_knn.predict(x_)\n",
    "y_score = grclf_knn.predict_proba(x_)\n",
    "y_score = y_score[:,1] # take positive class\n",
    "y_score.shape"
   ]
  },
  {
   "cell_type": "code",
   "execution_count": 98,
   "metadata": {},
   "outputs": [],
   "source": [
    "y_true = y_.astype(int)\n",
    "y_true = label_binarize(y_true, classes=[0, 1])\n",
    "n_classes = y_true.shape[1]\n",
    "y_score = np.reshape(y_score, (y_score.shape[0],1))\n",
    "\n",
    "# Compute ROC curve and ROC area for each class\n",
    "fpr_knn = dict()\n",
    "tpr_knn = dict()\n",
    "roc_auc_knn = dict()\n",
    "for i in range(n_classes):\n",
    "    fpr_knn[i], tpr_knn[i], _ = roc_curve(y_true[:, i], y_score[:, i])\n",
    "    roc_auc_knn[i] = auc(fpr_knn[i], tpr_knn[i])\n",
    "    \n",
    "# Compute micro-average ROC curve and ROC area\n",
    "fpr_knn[\"micro\"], tpr_knn[\"micro\"], _ = roc_curve(y_true.ravel(), y_score.ravel())\n",
    "roc_auc_knn[\"micro\"] = auc(fpr_knn[\"micro\"], tpr_knn[\"micro\"])"
   ]
  },
  {
   "cell_type": "markdown",
   "metadata": {},
   "source": [
    "### random forest"
   ]
  },
  {
   "cell_type": "code",
   "execution_count": 99,
   "metadata": {},
   "outputs": [
    {
     "data": {
      "text/plain": [
       "(235,)"
      ]
     },
     "execution_count": 99,
     "metadata": {},
     "output_type": "execute_result"
    }
   ],
   "source": [
    "y_predicted = grclf_rf.predict(x_)\n",
    "y_score = grclf_rf.predict_proba(x_)\n",
    "y_score = y_score[:,1] # take positive class\n",
    "y_score.shape"
   ]
  },
  {
   "cell_type": "code",
   "execution_count": 100,
   "metadata": {},
   "outputs": [],
   "source": [
    "y_true = y_.astype(int)\n",
    "y_true = label_binarize(y_true, classes=[0, 1])\n",
    "n_classes = y_true.shape[1]\n",
    "y_score = np.reshape(y_score, (y_score.shape[0],1))\n",
    "\n",
    "# Compute ROC curve and ROC area for each class\n",
    "fpr_rf = dict()\n",
    "tpr_rf = dict()\n",
    "roc_auc_rf = dict()\n",
    "for i in range(n_classes):\n",
    "    fpr_rf[i], tpr_rf[i], _ = roc_curve(y_true[:, i], y_score[:, i])\n",
    "    roc_auc_rf[i] = auc(fpr_rf[i], tpr_rf[i])\n",
    "    \n",
    "# Compute micro-average ROC curve and ROC area\n",
    "fpr_rf[\"micro\"], tpr_rf[\"micro\"], _ = roc_curve(y_true.ravel(), y_score.ravel())\n",
    "roc_auc_rf[\"micro\"] = auc(fpr_rf[\"micro\"], tpr_rf[\"micro\"])"
   ]
  },
  {
   "cell_type": "markdown",
   "metadata": {},
   "source": [
    "### gaussian naive bayes"
   ]
  },
  {
   "cell_type": "code",
   "execution_count": 101,
   "metadata": {},
   "outputs": [
    {
     "data": {
      "text/plain": [
       "(235,)"
      ]
     },
     "execution_count": 101,
     "metadata": {},
     "output_type": "execute_result"
    }
   ],
   "source": [
    "y_predicted = clf_gnb.predict(x_)\n",
    "y_score = clf_gnb.predict_proba(x_)\n",
    "y_score = y_score[:,1] # take positive class\n",
    "y_score.shape"
   ]
  },
  {
   "cell_type": "code",
   "execution_count": 102,
   "metadata": {},
   "outputs": [],
   "source": [
    "y_true = y_.astype(int)\n",
    "y_true = label_binarize(y_true, classes=[0, 1])\n",
    "n_classes = y_true.shape[1]\n",
    "y_score = np.reshape(y_score, (y_score.shape[0],1))\n",
    "\n",
    "# Compute ROC curve and ROC area for each class\n",
    "fpr_nb = dict()\n",
    "tpr_nb = dict()\n",
    "roc_auc_nb = dict()\n",
    "for i in range(n_classes):\n",
    "    fpr_nb[i], tpr_nb[i], _ = roc_curve(y_true[:, i], y_score[:, i])\n",
    "    roc_auc_nb[i] = auc(fpr_nb[i], tpr_nb[i])\n",
    "    \n",
    "# Compute micro-average ROC curve and ROC area\n",
    "fpr_nb[\"micro\"], tpr_nb[\"micro\"], _ = roc_curve(y_true.ravel(), y_score.ravel())\n",
    "roc_auc_nb[\"micro\"] = auc(fpr_nb[\"micro\"], tpr_nb[\"micro\"])"
   ]
  },
  {
   "cell_type": "code",
   "execution_count": 103,
   "metadata": {},
   "outputs": [
    {
     "data": {
      "image/png": "[encoded data removed]",
      "text/plain": [
       "<Figure size 720x576 with 1 Axes>"
      ]
     },
     "metadata": {},
     "output_type": "display_data"
    }
   ],
   "source": [
    "#plt.figure()\n",
    "fig, ax = plt.subplots()\n",
    "fig.set_size_inches(10,8)\n",
    "lw = 4\n",
    "plt.rc('xtick', labelsize=40)\n",
    "plt.rc('ytick', labelsize=40)\n",
    "plt.plot(fpr_svcrbf[0], tpr_svcrbf[0], color='green',\n",
    "         lw=lw, label='RBF SVM (AUC=%0.3f)' % roc_auc_svcrbf[0])\n",
    "plt.plot(fpr_knn[0], tpr_knn[0], color='pink',\n",
    "         lw=lw, label='KNN (AUC=%0.3f)' % roc_auc_knn[0])\n",
    "plt.plot(fpr_rf[0], tpr_rf[0], color='brown',\n",
    "         lw=lw, label='RF (AUC=%0.3f)' % roc_auc_rf[0])\n",
    "plt.plot(fpr_nb[0], tpr_nb[0], color='orange',\n",
    "         lw=lw, label='GNB (AUC=%0.3f)' % roc_auc_nb[0])\n",
    "plt.plot(fpr_b[0], tpr_b[0], color='blue',\n",
    "         lw=lw, label='Base (AUC=%0.3f)' % roc_auc_b[0])\n",
    "plt.plot(fpr_h[0], tpr_h[0], color='red',\n",
    "         lw=lw, label='HPS (AUC=%0.3f)' % roc_auc_h[0])\n",
    "plt.plot([0, 1], [0, 1], color='grey', lw=lw, linestyle='--')\n",
    "plt.xlim([-0.05, 1.00])\n",
    "plt.ylim([0.0, 1.05])\n",
    "plt.xlabel('FPR', fontdict={'size': 40})\n",
    "plt.ylabel('TPR', fontdict={'size': 40})\n",
    "plt.title('ADNI2 pMCI vs sMCI', fontdict={'size': 40})\n",
    "plt.legend(loc=\"lower right\", prop={'size': 25})\n",
    "#ax.legend(loc='center left', bbox_to_anchor=(1,0.5), prop={'size': 30})\n",
    "plt.show()\n",
    "fig.savefig(path_results + 'adni2_mci_roc_multi.pdf', bbox_inches='tight')"
   ]
  },
  {
   "cell_type": "code",
   "execution_count": null,
   "metadata": {},
   "outputs": [],
   "source": []
  },
  {
   "cell_type": "code",
   "execution_count": null,
   "metadata": {},
   "outputs": [],
   "source": []
  },
  {
   "cell_type": "code",
   "execution_count": null,
   "metadata": {},
   "outputs": [],
   "source": []
  }
 ],
 "metadata": {
  "anaconda-cloud": {},
  "kernelspec": {
   "display_name": "Python [default]",
   "language": "python",
   "name": "python3"
  },
  "language_info": {
   "codemirror_mode": {
    "name": "ipython",
    "version": 3
   },
   "file_extension": ".py",
   "mimetype": "text/x-python",
   "name": "python",
   "nbconvert_exporter": "python",
   "pygments_lexer": "ipython3",
   "version": "3.5.6"
  }
 },
 "nbformat": 4,
 "nbformat_minor": 2
}
