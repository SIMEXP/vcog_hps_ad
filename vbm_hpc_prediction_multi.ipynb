{
 "cells": [
  {
   "cell_type": "code",
   "execution_count": 1,
   "metadata": {},
   "outputs": [
    {
     "name": "stderr",
     "output_type": "stream",
     "text": [
      "/home/angela/anaconda3/envs/vcog_paper_py35/lib/python3.5/site-packages/sklearn/ensemble/weight_boosting.py:29: DeprecationWarning: numpy.core.umath_tests is an internal NumPy module and should not be imported. It will be removed in a future NumPy release.\n",
      "  from numpy.core.umath_tests import inner1d\n",
      "/home/angela/anaconda3/envs/vcog_paper_py35/lib/python3.5/site-packages/statsmodels/compat/pandas.py:56: FutureWarning: The pandas.core.datetools module is deprecated and will be removed in a future version. Please use the pandas.tseries module instead.\n",
      "  from pandas.core import datetools\n"
     ]
    }
   ],
   "source": [
    "import pandas as pd\n",
    "import scipy.io\n",
    "from os import listdir\n",
    "from sklearn.utils import shuffle\n",
    "from sklearn import preprocessing\n",
    "#from nilearn import plotting\n",
    "#from proteus.io import util\n",
    "from proteus.visu import sbp_visu\n",
    "\n",
    "import glob,os\n",
    "#import nibabel as nib\n",
    "\n",
    "\n",
    "import pickle\n",
    "from proteus.predic import high_confidence_at\n",
    "import numpy as np\n",
    "import pandas as pd\n",
    "from proteus.predic import prediction\n",
    "from sklearn import preprocessing\n",
    "from sklearn.model_selection import StratifiedKFold\n",
    "\n",
    "from sklearn.svm import SVC\n",
    "from sklearn.neighbors import KNeighborsClassifier\n",
    "from sklearn.ensemble import RandomForestClassifier\n",
    "from sklearn.naive_bayes import GaussianNB\n",
    "from sklearn.model_selection import GridSearchCV\n",
    "from sklearn.model_selection import StratifiedShuffleSplit\n",
    "\n",
    "from sklearn import metrics\n",
    "\n",
    "import matplotlib.pyplot as plt\n",
    "from matplotlib import cm\n",
    "import seaborn as sns\n",
    "\n",
    "import statsmodels.formula.api as smf\n",
    "import statsmodels.api as sm\n",
    "from statsmodels.stats.multicomp import pairwise_tukeyhsd\n",
    "\n",
    "from copy import deepcopy\n",
    "\n",
    "from itertools import cycle\n",
    "from sklearn.metrics import roc_curve, auc\n",
    "from sklearn.model_selection import train_test_split\n",
    "from sklearn.preprocessing import label_binarize\n",
    "from sklearn.multiclass import OneVsRestClassifier\n",
    "from scipy import interp\n",
    "\n",
    "from sklearn.metrics import average_precision_score\n",
    "from sklearn.metrics import precision_recall_curve"
   ]
  },
  {
   "cell_type": "code",
   "execution_count": 2,
   "metadata": {},
   "outputs": [],
   "source": [
    "def stats_mask(y_true, y_pred, mask_selected=None):\n",
    "    if mask_selected is None:\n",
    "        mask_selected = np.ones(y_pred.shape).astype(bool)\n",
    "    print('------------------------')\n",
    "    print('Ratio:', y_true[mask_selected].sum()/y_true.sum()) \n",
    "    print('#    : ', y_true[mask_selected].sum()) \n",
    "    print('# true values: ',mask_selected.sum())\n",
    "    print('ACC  : ', np.mean((y_true == y_pred)[mask_selected])) "
   ]
  },
  {
   "cell_type": "code",
   "execution_count": 3,
   "metadata": {},
   "outputs": [],
   "source": [
    "def predic_stats(y_, y_pred, lr_decision):\n",
    "    # number of AD subjects\n",
    "    n_ad = sum(y_)\n",
    "    print('Total number of TARGET subjects: ', n_ad)\n",
    "\n",
    "    # number of CN subjects\n",
    "    n_cn = len(y_) - sum(y_)\n",
    "    print('Total number of NON-TARGET subjects: ', n_cn)\n",
    "    \n",
    "    # number of subjects predicted as AD at stage 1\n",
    "    n_pos = sum(y_pred)\n",
    "    print('Stage 1 number of hits (true and false positives): ', n_pos)\n",
    "    \n",
    "    # true positives at stage 1\n",
    "    n_pos_ad = sum(y_pred[y_.astype(bool)])\n",
    "    print('Stage 1 TRUE positives: ', n_pos_ad)\n",
    "    \n",
    "    # false positives at stage 1\n",
    "    n_pos_cn = n_pos - n_pos_ad\n",
    "    print('Stage 1 FALSE positives: ', n_pos_cn)\n",
    "    \n",
    "    # number of CN subjects not identified as positive (true negatives)\n",
    "    n_neg1_cn = n_cn - n_pos_cn\n",
    "    print('Stage 1 TRUE negatives: ', n_neg1_cn)\n",
    "\n",
    "    # number of all flagged HPC-AD subjects\n",
    "    n_flag = sum(y_pred[lr_decision>0])\n",
    "    print('Total number of flagged HPC-AD subjects: ', n_flag)\n",
    "\n",
    "    # number of flagged HPC-AD subjects who are actually AD (true positives)\n",
    "    y_pred_true = y_ + y_pred\n",
    "    y_pred_true = y_pred_true==2\n",
    "    n_flag_ad = sum(y_pred_true[lr_decision>0])\n",
    "    print('Number of flagged HPC-AD subjects that are TRUE positives: ', n_flag_ad)\n",
    "\n",
    "    # number of flagged HPC-AD subjects that are actually CN (false positives)\n",
    "    n_flag_cn = n_flag - n_flag_ad\n",
    "    print('Number of flagged HPC-AD subjects that are FALSE positives: ', n_flag_cn)\n",
    "\n",
    "    # number of CN subjects that were not flagged (true negatives)\n",
    "    n_neg_cn = n_cn - n_flag_cn\n",
    "    print('Number of true negatives: ', n_neg_cn)\n",
    "    \n",
    "    print('#############################')\n",
    "    print('Stage 1 stats for TARGET vs NON-TARGET')\n",
    "    print('Precision for AD: ', n_pos_ad/(n_pos_ad + n_pos_cn))\n",
    "    prec = n_pos_ad/(n_pos_ad + n_pos_cn)\n",
    "    print('Recall (or sensitivity)  for AD: ', n_pos_ad/n_ad)\n",
    "    sens = n_pos_ad/n_ad\n",
    "    print('Specificity: ', n_neg1_cn/n_cn)\n",
    "    spec = n_neg1_cn/n_cn\n",
    "    fp = (1-spec)*664\n",
    "    tp = sens*336\n",
    "    adj_prec = tp/(tp+fp)\n",
    "    print('Adjusted precision for 33.6% baseline rate: ', adj_prec)\n",
    "    print('Accuracy: ', (n_pos_ad + n_neg1_cn)/(n_ad + n_cn))\n",
    "    acc = (n_pos_ad + n_neg1_cn)/(n_ad + n_cn)\n",
    "\n",
    "    print('#############################')\n",
    "    print('Stage 2 stats for TARGET vs NON-TARGET')\n",
    "    print('Precision for HPC-AD: ', n_flag_ad/n_flag)\n",
    "    prec_2 = n_flag_ad/n_flag\n",
    "    print('Recall (or sensitivity) for HPC-AD: ', n_flag_ad/n_ad)\n",
    "    sens_2 = n_flag_ad/n_ad\n",
    "    print('Specificity: ', n_neg_cn/n_cn)\n",
    "    spec_2 = n_neg_cn/n_cn\n",
    "    fp_2 = (1-spec_2)*664\n",
    "    tp_2 = sens_2*336\n",
    "    adj_prec_2 = tp_2/(tp_2 + fp_2)\n",
    "    print('Adjusted precision for 33.6% baseline rate: ', adj_prec_2)\n",
    "    print('Accuracy: ', (n_flag_ad + n_neg_cn)/(n_ad + n_cn))\n",
    "    acc_2 = (n_flag_ad + n_neg_cn)/(n_ad + n_cn)\n",
    "    \n",
    "    return sens, spec, prec, acc, sens_2, spec_2, prec_2, acc_2"
   ]
  },
  {
   "cell_type": "code",
   "execution_count": 4,
   "metadata": {},
   "outputs": [],
   "source": [
    "sns.set(font_scale=2)\n",
    "sns.set_style(\"white\")\n",
    "#sns.set_context(\"paper\")\n",
    "#sns.set_palette(\"colorblind\")\n",
    "#sns.set_palette(\"GnBu_d\")\n",
    "\n",
    "#sns.set_palette(sns.cubehelix_palette(n_colors=8))\n",
    "#sns.set_palette(sns.color_palette(\"BrBG\", 6))\n",
    "\n",
    "cpal = [\"#F0DFB2\", \"#CFA255\", \"#995D12\", \"#B3E2DB\", \"#58B0A6\", \"#0D7068\"]\n",
    "sns.set_palette(cpal)\n"
   ]
  },
  {
   "cell_type": "code",
   "execution_count": 5,
   "metadata": {},
   "outputs": [],
   "source": [
    "path_results = '/home/angela/Desktop/vcog_paper/gigascience/third_submission/roc/vbm/'"
   ]
  },
  {
   "cell_type": "markdown",
   "metadata": {},
   "source": [
    "## Load longitudinal data "
   ]
  },
  {
   "cell_type": "code",
   "execution_count": 6,
   "metadata": {},
   "outputs": [],
   "source": [
    "np.random.seed(1)\n",
    "#np.random.RandomState(1)"
   ]
  },
  {
   "cell_type": "code",
   "execution_count": 7,
   "metadata": {},
   "outputs": [
    {
     "name": "stderr",
     "output_type": "stream",
     "text": [
      "/home/angela/anaconda3/envs/vcog_paper_py35/lib/python3.5/site-packages/IPython/core/interactiveshell.py:2785: DtypeWarning: Columns (101) have mixed types. Specify dtype option on import or set low_memory=False.\n",
      "  interactivity=interactivity, compiler=compiler, result=result)\n"
     ]
    }
   ],
   "source": [
    "long_data = pd.read_csv('/home/angela/Documents/adni_csv/adnimerge_upenn_unw_av45_neurobat.csv')"
   ]
  },
  {
   "cell_type": "markdown",
   "metadata": {},
   "source": [
    "# Load data for the training set (ADNI1)"
   ]
  },
  {
   "cell_type": "code",
   "execution_count": 8,
   "metadata": {},
   "outputs": [],
   "source": [
    "data = pd.read_csv('/home/angela/Desktop/vcog_paper/adni1_vbm_adcn_subtypes_20171209/7clus/adni1_model_weights.csv')"
   ]
  },
  {
   "cell_type": "code",
   "execution_count": 9,
   "metadata": {},
   "outputs": [],
   "source": [
    "data.dropna(subset=['sub1','age_scan','gender','mean_gm','tiv'],\n",
    "            inplace=True)"
   ]
  },
  {
   "cell_type": "markdown",
   "metadata": {},
   "source": [
    "# Organize the AD & CN data for classification task"
   ]
  },
  {
   "cell_type": "code",
   "execution_count": 10,
   "metadata": {
    "scrolled": true
   },
   "outputs": [],
   "source": [
    "# Mask of the CN and AD subjects only\n",
    "mask_cnad = data.loc[:,['CN','AD']].values.sum(1).astype(bool)"
   ]
  },
  {
   "cell_type": "code",
   "execution_count": 11,
   "metadata": {},
   "outputs": [
    {
     "data": {
      "text/plain": [
       "((377, 11), (377,), (377, 4))"
      ]
     },
     "execution_count": 11,
     "metadata": {},
     "output_type": "execute_result"
    }
   ],
   "source": [
    "#reload(high_confidence)\n",
    "scalerX = preprocessing.StandardScaler()\n",
    "scaler = preprocessing.StandardScaler()\n",
    "\n",
    "x_ = data.iloc[mask_cnad,data.columns.get_loc(\"sub1\"):data.columns.get_loc(\"sub7\")+1].values\n",
    "#x_ = scalerX.fit_transform(x_)\n",
    "y_ = data[['AD']].values.ravel()[mask_cnad]\n",
    "\n",
    "confounds = data[['gender','age_scan','mean_gm','tiv']].values[mask_cnad,:]\n",
    "#confounds = data[['sex','age_r']].values[mask_cnad,:]\n",
    "#confounds[:, 1:] = scaler.fit_transform(confounds[:, 1:])\n",
    "#confounds[:, 0] = preprocessing.binarize(confounds[:, 0].reshape(-1, 1), threshold=1)[:, 0]\n",
    "\n",
    "#crm = prediction.ConfoundsRm(confounds, x_)\n",
    "#x_ = crm.transform(confounds, x_)\n",
    "\n",
    "x_ = scaler.fit_transform(np.hstack((x_,confounds)))\n",
    "#x_ = np.hstack((x_,confounds))\n",
    "\n",
    "\n",
    "x_.shape, y_.shape, confounds.shape"
   ]
  },
  {
   "cell_type": "markdown",
   "metadata": {},
   "source": [
    "# Cross-validation HPC in ADNI1 AD & CN"
   ]
  },
  {
   "cell_type": "code",
   "execution_count": 12,
   "metadata": {
    "scrolled": true
   },
   "outputs": [
    {
     "name": "stdout",
     "output_type": "stream",
     "text": [
      "Stage 1\n",
      "Proba:\n",
      "[0.9957265  1.         1.         1.         1.         0.65254237\n",
      " 0.98380567 0.50746269 1.         1.         0.56818182 1.\n",
      " 1.         1.         0.93589744 1.         0.99574468 0.71814672\n",
      " 1.         1.         0.04918033 0.98333333 1.         0.88416988\n",
      " 0.608      0.92828685 1.         1.         1.         1.\n",
      " 0.996      0.99607843 1.         1.         1.         0.996139\n",
      " 0.85470085 0.31746032 0.76377953 1.         1.         0.69635628\n",
      " 1.         1.         1.         0.99607843 0.98297872 1.\n",
      " 1.         1.         1.         0.56097561 0.         0.61111111\n",
      " 1.         0.94466403 1.         0.99239544 0.98       1.\n",
      " 0.99596774 1.         0.93495935 1.         1.         0.99193548\n",
      " 1.         1.         0.96186441 0.85098039 1.         1.\n",
      " 1.         0.63559322 1.         0.99618321 1.         1.\n",
      " 1.         1.         0.94023904 1.         1.         0.89105058\n",
      " 0.99595142 1.         0.         1.         1.         0.77205882\n",
      " 1.         1.         0.01321586 1.         1.         0.96875\n",
      " 0.48015873 0.8828125  0.         1.         0.9057377  1.\n",
      " 1.         1.         0.57377049 1.         1.         0.53648069\n",
      " 1.         0.         0.         1.         0.78731343 0.98431373\n",
      " 0.12809917 0.98181818 0.         1.         0.97131148 0.99256506\n",
      " 0.73151751 1.         0.12195122 1.         0.71369295 1.\n",
      " 0.95217391 1.         1.         0.99603175 0.84063745 0.96590909\n",
      " 1.         1.         0.65560166 1.         0.94163424 1.\n",
      " 1.         1.         0.07364341 1.         1.         0.14007782\n",
      " 1.         0.84680851 1.         0.         0.         1.\n",
      " 0.92369478 1.         0.94676806 0.60869565 0.99616858 1.\n",
      " 0.94402985 1.         1.         1.         1.         0.72\n",
      " 0.83613445 0.         1.         1.         0.06273063 0.34920635\n",
      " 0.33962264 0.02380952 1.         1.         0.         1.\n",
      " 1.         1.         1.         1.         1.         0.95983936\n",
      " 0.33807829 1.         1.         0.99107143 0.         1.\n",
      " 1.         1.         1.         0.95850622 1.         0.\n",
      " 0.98333333 0.75502008 1.         1.         0.34412955 0.996\n",
      " 0.49795918 1.         1.         0.99206349 1.         0.\n",
      " 1.         0.95081967 0.99078341 1.         1.         0.53781513\n",
      " 0.30125523 1.         0.82       1.         1.         0.99598394\n",
      " 0.         1.         1.         0.36821705 1.         0.24701195\n",
      " 0.64453125 1.         0.00406504 1.         0.72177419 0.01581028\n",
      " 0.02996255 0.49797571 1.         0.03614458 1.         1.\n",
      " 0.6872428  0.08527132 1.         1.         1.         1.\n",
      " 1.         1.         0.91774892 0.05952381 0.97942387 1.\n",
      " 0.99156118 1.         0.06866953 0.01153846]\n",
      "Average hm score 0.516\n",
      "Stage 2\n",
      "Adjusted gamma:  1.0\n",
      "Adjusted gamma:  1.0\n",
      "Classifying AD vs CN...\n",
      "[0. 0. 1. 0. 1. 0. 0. 0. 1. 0. 0. 0. 1. 0. 0. 0. 0. 0. 1. 0. 0. 0. 0. 0.\n",
      " 0. 0. 1. 0. 1. 0. 0. 1. 1. 1. 1. 0. 0. 0. 1. 1. 1. 0. 0. 0. 1. 1. 0. 0.\n",
      " 1. 0. 1. 0. 1. 1. 0. 0. 0. 0. 0. 0. 0. 0. 0. 1. 0. 0. 1. 1. 0. 0. 1. 1.\n",
      " 0. 1. 0. 0. 0. 0. 0. 0. 1. 0. 0. 1. 0. 0. 0. 1. 0. 0. 0. 0. 0. 0. 0. 1.\n",
      " 0. 0. 0. 1. 1. 1. 1. 0. 1. 0. 0. 1. 0. 1. 1. 1. 1. 1. 1. 1. 1. 1. 1. 1.\n",
      " 1. 1. 1. 1. 1. 1. 1.]\n",
      "Total number of TARGET subjects:  58.0\n",
      "Total number of NON-TARGET subjects:  69.0\n",
      "Stage 1 number of hits (true and false positives):  54.0\n",
      "Stage 1 TRUE positives:  49.0\n",
      "Stage 1 FALSE positives:  5.0\n",
      "Stage 1 TRUE negatives:  64.0\n",
      "Total number of flagged HPC-AD subjects:  35.0\n",
      "Number of flagged HPC-AD subjects that are TRUE positives:  33\n",
      "Number of flagged HPC-AD subjects that are FALSE positives:  2.0\n",
      "Number of true negatives:  67.0\n",
      "#############################\n",
      "Stage 1 stats for TARGET vs NON-TARGET\n",
      "Precision for AD:  0.9074074074074074\n",
      "Recall (or sensitivity)  for AD:  0.8448275862068966\n",
      "Specificity:  0.927536231884058\n",
      "Adjusted precision for 33.6% baseline rate:  0.8550628642998218\n",
      "Accuracy:  0.889763779527559\n",
      "#############################\n",
      "Stage 2 stats for TARGET vs NON-TARGET\n",
      "Precision for HPC-AD:  0.9428571428571428\n",
      "Recall (or sensitivity) for HPC-AD:  0.5689655172413793\n",
      "Specificity:  0.9710144927536232\n",
      "Adjusted precision for 33.6% baseline rate:  0.9085329938629324\n",
      "Accuracy:  0.7874015748031497\n",
      "Stage 1\n",
      "Proba:\n",
      "[0.89344262 1.         1.         1.         0.97692308 1.\n",
      " 1.         1.         0.         1.         0.16595745 0.9958159\n",
      " 0.97131148 0.99619772 1.         0.99206349 1.         1.\n",
      " 1.         0.96047431 1.         1.         0.99193548 1.\n",
      " 1.         1.         0.         1.         1.         0.\n",
      " 1.         0.47881356 1.         0.57429719 1.         1.\n",
      " 1.         0.13168724 1.         1.         0.30327869 1.\n",
      " 0.99621212 0.97142857 1.         1.         0.79475983 1.\n",
      " 0.         1.         1.         1.         1.         1.\n",
      " 0.00396825 1.         0.         0.83461538 0.4488189  0.36051502\n",
      " 1.         0.99619772 1.         1.         0.83529412 1.\n",
      " 1.         0.97285068 1.         1.         0.64092664 0.62645914\n",
      " 0.89772727 1.         0.5        0.81974249 1.         1.\n",
      " 1.         1.         0.98876404 1.         1.         1.\n",
      " 0.92622951 1.         0.04615385 0.66666667 1.         1.\n",
      " 1.         0.69402985 0.98380567 0.86343612 0.99212598 1.\n",
      " 1.         0.         1.         0.68060837 1.         1.\n",
      " 1.         1.         1.         1.         1.         1.\n",
      " 0.         1.         1.         1.         1.         1.\n",
      " 1.         0.98832685 1.         1.         1.         0.99622642\n",
      " 1.         0.96414343 1.         1.         1.         0.94444444\n",
      " 1.         1.         0.06589147 0.99586777 0.96282528 1.\n",
      " 1.         1.         1.         1.         0.93927126 0.16393443\n",
      " 1.         0.95149254 0.99598394 0.94067797 1.         1.\n",
      " 0.98406375 1.         1.         1.         0.94537815 1.\n",
      " 1.         1.         1.         1.         1.         1.\n",
      " 0.23420074 1.         0.87763713 1.         1.         0.88211382\n",
      " 0.93076923 1.         1.         1.         1.         0.54471545\n",
      " 0.01612903 0.32283465 0.31983806 0.00904977 1.         1.\n",
      " 0.         1.         0.99609375 1.         1.         1.\n",
      " 1.         0.83805668 0.1124498  1.         1.         1.\n",
      " 0.         1.         1.         1.         1.         0.97008547\n",
      " 1.         0.         1.         0.84814815 1.         1.\n",
      " 0.31538462 0.99618321 0.55947137 1.         1.         0.95884774\n",
      " 1.         0.00398406 1.         0.81960784 1.         1.\n",
      " 1.         0.28740157 0.79919679 1.         0.61445783 1.\n",
      " 1.         1.         0.         1.         1.         0.15352697\n",
      " 1.         0.79051383 0.66932271 1.         0.00403226 1.\n",
      " 0.67460317 0.00803213 0.08695652 0.46946565 1.         0.01893939\n",
      " 1.         0.99209486 0.42696629 0.1547619  1.         1.\n",
      " 1.         0.99588477 1.         1.         0.67068273 0.00403226\n",
      " 1.         1.         0.890625   1.         0.02553191 0.07083333]\n",
      "Average hm score 0.5912698412698413\n",
      "Stage 2\n",
      "Adjusted gamma:  1.0\n",
      "Adjusted gamma:  1.0\n",
      "Classifying AD vs CN...\n",
      "[0. 0. 0. 0. 0. 0. 0. 0. 0. 0. 1. 0. 0. 0. 0. 0. 0. 0. 0. 0. 1. 0. 0. 0.\n",
      " 0. 0. 0. 0. 0. 0. 0. 0. 0. 0. 0. 0. 0. 1. 0. 0. 1. 0. 0. 1. 0. 1. 0. 0.\n",
      " 0. 1. 0. 0. 1. 1. 1. 0. 0. 1. 0. 0. 1. 0. 0. 0. 0. 0. 1. 0. 0. 0. 1. 1.\n",
      " 0. 1. 1. 0. 1. 0. 1. 1. 0. 1. 0. 1. 0. 1. 1. 0. 1. 1. 1. 1. 0. 1. 0. 1.\n",
      " 1. 1. 0. 1. 1. 0. 0. 1. 1. 0. 0. 0. 1. 1. 1. 1. 1. 0. 0. 0. 1. 1. 1. 1.\n",
      " 1. 1. 0. 1. 1.]\n",
      "Total number of TARGET subjects:  57.0\n",
      "Total number of NON-TARGET subjects:  68.0\n",
      "Stage 1 number of hits (true and false positives):  49.0\n",
      "Stage 1 TRUE positives:  44.0\n",
      "Stage 1 FALSE positives:  5.0\n",
      "Stage 1 TRUE negatives:  63.0\n",
      "Total number of flagged HPC-AD subjects:  32.0\n",
      "Number of flagged HPC-AD subjects that are TRUE positives:  30\n",
      "Number of flagged HPC-AD subjects that are FALSE positives:  2.0\n",
      "Number of true negatives:  66.0\n",
      "#############################\n",
      "Stage 1 stats for TARGET vs NON-TARGET\n",
      "Precision for AD:  0.8979591836734694\n",
      "Recall (or sensitivity)  for AD:  0.7719298245614035\n",
      "Specificity:  0.9264705882352942\n",
      "Adjusted precision for 33.6% baseline rate:  0.8415807767263376\n",
      "Accuracy:  0.856\n",
      "#############################\n",
      "Stage 2 stats for TARGET vs NON-TARGET\n",
      "Precision for HPC-AD:  0.9375\n",
      "Recall (or sensitivity) for HPC-AD:  0.5263157894736842\n",
      "Specificity:  0.9705882352941176\n",
      "Adjusted precision for 33.6% baseline rate:  0.9005486535914737\n",
      "Accuracy:  0.768\n",
      "Stage 1\n"
     ]
    },
    {
     "name": "stdout",
     "output_type": "stream",
     "text": [
      "Proba:\n",
      "[0.28688525 0.99603175 1.         1.         0.91153846 1.\n",
      " 0.99579832 0.86521739 0.0112782  1.         0.28085106 0.9874477\n",
      " 0.99590164 0.90114068 1.         0.8968254  1.         1.\n",
      " 0.98846154 1.         1.         0.94117647 0.93951613 1.\n",
      " 0.97482014 1.         0.         0.92857143 1.         0.\n",
      " 1.         0.8559322  1.         0.21285141 1.         1.\n",
      " 0.99206349 0.22222222 1.         1.         0.13114754 1.\n",
      " 1.         0.9755102  1.         1.         0.99563319 1.\n",
      " 0.         1.         1.         1.         0.98367347 1.\n",
      " 0.05555556 0.94849785 0.01298701 0.99615385 0.14173228 0.3776824\n",
      " 1.         0.40304183 1.         1.         0.90588235 1.\n",
      " 1.         1.         1.         1.         0.96911197 0.91828794\n",
      " 0.67424242 1.         0.64344262 0.89699571 1.         1.\n",
      " 1.         1.         0.99625468 1.         1.         1.\n",
      " 0.97540984 1.         0.26538462 0.58634538 1.         1.\n",
      " 1.         0.76865672 0.65991903 0.66079295 1.         0.98319328\n",
      " 1.         0.         1.         0.9391635  1.         1.\n",
      " 1.         1.         1.         0.88715953 1.         1.\n",
      " 1.         1.         0.         1.         1.         1.\n",
      " 1.         1.         1.         1.         1.         0.82462687\n",
      " 1.         0.75769231 1.         1.         0.96108949 1.\n",
      " 0.6147541  1.         0.99626866 1.         1.         0.96610169\n",
      " 0.99621212 1.         0.99595142 1.         0.86055777 1.\n",
      " 0.99622642 1.         0.03658537 1.         1.         0.97609562\n",
      " 1.         0.97254902 0.77642276 0.98387097 1.         1.\n",
      " 1.         1.         1.         0.8697318  0.99148936 1.\n",
      " 1.         1.         1.         1.         1.         1.\n",
      " 0.83817427 1.         0.10638298 0.7944664  1.         0.99596774\n",
      " 0.91056911 1.         1.         0.98867925 1.         0.90566038\n",
      " 1.         1.         1.         1.         0.72373541 0.\n",
      " 0.75510204 1.         0.93133047 1.         0.99601594 0.99236641\n",
      " 0.99559471 1.         1.         0.99176955 1.         1.\n",
      " 0.97286822 1.         1.         0.91566265 0.92083333 1.\n",
      " 1.         1.         0.87916667 1.         0.92105263 1.\n",
      " 1.         1.         1.         0.93145161 1.         1.\n",
      " 0.85355649 0.99642857 1.         0.         1.         1.\n",
      " 0.94615385 0.94583333 1.         0.04780876 0.98431373 0.\n",
      " 1.         0.87692308 1.         0.25403226 0.16141732 1.\n",
      " 0.         0.         1.         1.         0.         0.56818182\n",
      " 0.80566802 1.         0.93632959 0.76190476 1.         1.\n",
      " 0.03149606 0.         0.00408163 1.         0.91967871 0.94354839\n",
      " 1.         1.         0.9140625  0.         1.         1.        ]\n",
      "Average hm score 0.5436507936507936\n",
      "Stage 2\n",
      "Adjusted gamma:  1.0\n",
      "Adjusted gamma:  1.0\n",
      "Classifying AD vs CN...\n",
      "[0. 1. 0. 0. 0. 0. 0. 0. 0. 1. 1. 0. 0. 0. 1. 0. 0. 0. 0. 0. 0. 0. 0. 0.\n",
      " 0. 0. 0. 0. 0. 0. 0. 0. 0. 0. 0. 1. 0. 0. 0. 0. 0. 0. 0. 0. 1. 1. 1. 0.\n",
      " 0. 1. 0. 1. 0. 0. 1. 1. 1. 1. 0. 1. 1. 1. 1. 1. 1. 1. 1. 1. 1. 1. 0. 1.\n",
      " 0. 1. 0. 1. 0. 0. 0. 1. 1. 0. 0. 1. 0. 1. 0. 1. 1. 0. 1. 1. 1. 1. 0. 0.\n",
      " 0. 1. 1. 0. 0. 1. 0. 1. 1. 0. 0. 1. 1. 0. 0. 1. 1. 1. 1. 1. 1. 1. 0. 1.\n",
      " 1. 1. 1. 0. 0.]\n",
      "Total number of TARGET subjects:  57.0\n",
      "Total number of NON-TARGET subjects:  68.0\n",
      "Stage 1 number of hits (true and false positives):  56.0\n",
      "Stage 1 TRUE positives:  44.0\n",
      "Stage 1 FALSE positives:  12.0\n",
      "Stage 1 TRUE negatives:  56.0\n",
      "Total number of flagged HPC-AD subjects:  35.0\n",
      "Number of flagged HPC-AD subjects that are TRUE positives:  30\n",
      "Number of flagged HPC-AD subjects that are FALSE positives:  5.0\n",
      "Number of true negatives:  63.0\n",
      "#############################\n",
      "Stage 1 stats for TARGET vs NON-TARGET\n",
      "Precision for AD:  0.7857142857142857\n",
      "Recall (or sensitivity)  for AD:  0.7719298245614035\n",
      "Specificity:  0.8235294117647058\n",
      "Adjusted precision for 33.6% baseline rate:  0.6888114187989213\n",
      "Accuracy:  0.8\n",
      "#############################\n",
      "Stage 2 stats for TARGET vs NON-TARGET\n",
      "Precision for HPC-AD:  0.8571428571428571\n",
      "Recall (or sensitivity) for HPC-AD:  0.5263157894736842\n",
      "Specificity:  0.9264705882352942\n",
      "Adjusted precision for 33.6% baseline rate:  0.7836465907531899\n",
      "Accuracy:  0.744\n"
     ]
    }
   ],
   "source": [
    "scores_ad_cn=[]\n",
    "scores_s2 = []\n",
    "ad_precision = []\n",
    "cn_precision = []\n",
    "ad_recall = []\n",
    "cn_recall = []\n",
    "ad_f1_score = []\n",
    "cn_f1_score = []\n",
    "\n",
    "s1_spec = []\n",
    "s1_sens = []\n",
    "s1_prec = []\n",
    "s1_acc = []\n",
    "\n",
    "s2_spec = []\n",
    "s2_sens = []\n",
    "s2_prec = []\n",
    "s2_acc = []\n",
    "\n",
    "\n",
    "skf = StratifiedKFold(n_splits=3)\n",
    "for train_index, val_index in skf.split(x_,y_):\n",
    "    X_training, X_val = x_[train_index], x_[val_index]\n",
    "    y_training, y_val = y_[train_index], y_[val_index]\n",
    "    \n",
    "    hpc = high_confidence_at.TwoStagesPrediction(\n",
    "        n_iter=500,\n",
    "        shuffle_test_split=0.5,\n",
    "        min_gamma=.99,\n",
    "        thresh_ratio=0.1)\n",
    "    \n",
    "    hpc.fit(X_training, X_training, y_training)\n",
    "    \n",
    "    _, dic_results = hpc.predict(X_val, X_val)\n",
    "    \n",
    "    # test in validation sample\n",
    "    acc = metrics.accuracy_score(y_val, (dic_results['s1df'][:,0]>0).astype(float))\n",
    "    tmp_mask = (dic_results['s2df'][:,1]>0)\n",
    "    acc_s2 = metrics.accuracy_score(y_val[tmp_mask], (dic_results['s1df'][:,0]>0).astype(float)[tmp_mask])\n",
    "    scores_ad_cn.append(acc)\n",
    "    scores_s2.append(acc_s2)\n",
    "    print('Classifying AD vs CN...')\n",
    "    print((dic_results['s1df'][:,0]>0).astype(float))\n",
    "    \n",
    "    y_pred = (dic_results['s1df'][:,0]>0).astype(float)\n",
    "    lr_decision = dic_results['s2df'][:,1]\n",
    "    \n",
    "    # BASE SVM PERFORMANCE\n",
    "    ad_p = metrics.precision_score(y_val, y_pred)\n",
    "    ad_precision.append(ad_p)\n",
    "    cn_p = metrics.precision_score(y_val, y_pred, pos_label=0)\n",
    "    cn_precision.append(cn_p)\n",
    "    ad_r = metrics.recall_score(y_val, y_pred)\n",
    "    ad_recall.append(ad_r)\n",
    "    cn_r = metrics.recall_score(y_val, y_pred, pos_label=0)\n",
    "    cn_recall.append(cn_r)\n",
    "    ad_f1 = metrics.f1_score(y_val, y_pred)\n",
    "    ad_f1_score.append(ad_f1)\n",
    "    cn_f1 = metrics.f1_score(y_val, y_pred, pos_label=0)\n",
    "    cn_f1_score.append(cn_f1)\n",
    "    \n",
    "    \n",
    "    sens, spec, prec, acc, sens_2, spec_2, prec_2, acc_2 = predic_stats(y_val, y_pred, lr_decision)\n",
    "    s1_spec.append(spec)\n",
    "    s1_sens.append(sens)\n",
    "    s1_prec.append(prec)\n",
    "    s1_acc.append(acc)\n",
    "    s2_spec.append(spec_2)\n",
    "    s2_sens.append(sens_2)\n",
    "    s2_prec.append(prec_2)\n",
    "    s2_acc.append(acc_2)"
   ]
  },
  {
   "cell_type": "code",
   "execution_count": 13,
   "metadata": {},
   "outputs": [
    {
     "name": "stdout",
     "output_type": "stream",
     "text": [
      "Stage 1\n",
      "Mean sensitivity:  0.7962290784432344\n",
      "Mean specificity:  0.8925120772946858\n",
      "Mean precision:  0.8636936255983875\n",
      "Mean accuracy:  0.8485879265091864\n",
      "##########\n",
      "Stage 2\n",
      "Mean sensitivity:  0.5405323653962492\n",
      "Mean specificity:  0.9560244387610117\n",
      "Mean precision:  0.9125\n",
      "Mean accuracy:  0.7664671916010498\n"
     ]
    }
   ],
   "source": [
    "print('Stage 1')\n",
    "print('Mean sensitivity: ', np.mean(s1_sens))\n",
    "print('Mean specificity: ', np.mean(s1_spec))\n",
    "print('Mean precision: ', np.mean(s1_prec))\n",
    "print('Mean accuracy: ', np.mean(s1_acc))\n",
    "print('#'*10)\n",
    "print('Stage 2')\n",
    "print('Mean sensitivity: ', np.mean(s2_sens))\n",
    "print('Mean specificity: ', np.mean(s2_spec))\n",
    "print('Mean precision: ', np.mean(s2_prec))\n",
    "print('Mean accuracy: ', np.mean(s2_acc))"
   ]
  },
  {
   "cell_type": "markdown",
   "metadata": {},
   "source": [
    "# Train HPC (on whole training set of ADNI1 AD & CN)"
   ]
  },
  {
   "cell_type": "code",
   "execution_count": 14,
   "metadata": {
    "scrolled": true
   },
   "outputs": [
    {
     "name": "stdout",
     "output_type": "stream",
     "text": [
      "Stage 1\n",
      "Proba:\n",
      "[0.648      1.         1.         1.         0.99212598 1.\n",
      " 1.         1.         0.         1.         0.26217228 1.\n",
      " 1.         0.99588477 1.         1.         1.         1.\n",
      " 1.         0.99628253 1.         1.         1.         1.\n",
      " 1.         1.         0.         1.         1.         0.\n",
      " 1.         0.7375     1.         0.54585153 1.         1.\n",
      " 1.         0.1259542  1.         1.         0.16862745 1.\n",
      " 1.         1.         1.         1.         0.97154472 1.\n",
      " 0.         1.         1.         1.         1.         1.\n",
      " 0.         1.         0.         0.99596774 0.29296875 0.3372093\n",
      " 1.         0.97021277 1.         1.         0.9280303  1.\n",
      " 1.         1.         1.         1.         0.87951807 0.856\n",
      " 0.89112903 1.         0.67901235 0.93233083 1.         1.\n",
      " 1.         1.         1.         1.         1.         1.\n",
      " 0.9921875  1.         0.09745763 0.72962963 1.         1.\n",
      " 1.         0.79400749 0.95850622 0.91304348 1.         1.\n",
      " 1.         0.         1.         0.81818182 1.         1.\n",
      " 1.         1.         1.         1.         1.         1.\n",
      " 1.         1.         0.         1.         1.         1.\n",
      " 1.         1.         1.         1.         1.         0.74678112\n",
      " 1.         0.79607843 1.         1.         0.99593496 1.\n",
      " 0.43534483 1.         1.         1.         1.         0.96603774\n",
      " 1.         1.         1.         1.         0.85483871 1.\n",
      " 1.         1.         0.01960784 1.         1.         0.99603175\n",
      " 1.         0.87209302 0.75510204 0.97744361 1.         1.\n",
      " 1.         1.         1.         1.         1.         1.\n",
      " 1.         1.         1.         1.         1.         1.\n",
      " 0.84552846 1.         0.20564516 0.65587045 1.         1.\n",
      " 0.83461538 1.         1.         1.         1.         1.\n",
      " 1.         1.         1.         1.         0.50413223 0.\n",
      " 0.63424125 1.         0.98867925 1.         1.         0.99134199\n",
      " 1.         1.         1.         0.99607843 1.         1.\n",
      " 1.         1.         1.         0.96414343 0.98818898 1.\n",
      " 1.         1.         0.51405622 1.         0.99583333 1.\n",
      " 1.         1.         1.         0.96934866 1.         1.\n",
      " 0.83984375 1.         1.         0.         1.         1.\n",
      " 0.976      1.         1.         0.00826446 1.         1.\n",
      " 0.98425197 0.3619403  0.85258964 0.         1.         0.93145161\n",
      " 1.         1.         1.         0.3385214  1.         1.\n",
      " 0.51818182 1.         0.         0.         1.         0.96832579\n",
      " 1.         0.04958678 1.         0.         1.         1.\n",
      " 1.         0.86746988 1.         0.09311741 1.         0.49382716\n",
      " 1.         0.99212598 1.         1.         0.99578059 0.78688525\n",
      " 0.99245283 1.         1.         0.8245614  0.99606299 0.99264706\n",
      " 1.         1.         1.         0.         1.         1.\n",
      " 0.27799228 1.         0.96666667 1.         0.         0.\n",
      " 1.         0.98418972 1.         0.99616858 0.6798419  1.\n",
      " 1.         0.96484375 1.         1.         1.         1.\n",
      " 0.54661017 0.88256228 0.         1.         1.         0.\n",
      " 0.29296875 0.33744856 0.         1.         1.         0.\n",
      " 1.         1.         1.         1.         1.         1.\n",
      " 0.93442623 0.22131148 1.         1.         1.         0.\n",
      " 1.         1.         1.         1.         1.         1.\n",
      " 0.         0.99224806 0.82113821 1.         1.         0.11788618\n",
      " 0.99607843 0.59848485 1.         1.         0.99606299 1.\n",
      " 0.         1.         0.95419847 1.         1.         1.\n",
      " 0.67636364 0.70916335 1.         0.85714286 1.         1.\n",
      " 1.         0.         1.         1.         0.42857143 1.\n",
      " 0.59656652 0.90039841 1.         0.         1.         0.87795276\n",
      " 0.00727273 0.01132075 0.45864662 1.         0.01239669 1.\n",
      " 1.         0.40377358 0.03292181 1.         1.         1.\n",
      " 1.         1.         1.         0.89767442 0.         1.\n",
      " 1.         0.9921875  1.         0.0334728  0.0125    ]\n",
      "Average hm score 0.6392572944297082\n",
      "Stage 2\n",
      "Adjusted gamma:  1.0\n",
      "Adjusted gamma:  1.0\n"
     ]
    }
   ],
   "source": [
    "#reload(high_confidence)\n",
    "hpc = high_confidence_at.TwoStagesPrediction(\n",
    "    n_iter=500,\n",
    "    shuffle_test_split=0.5,\n",
    "    min_gamma=.99,\n",
    "    thresh_ratio=0.1)\n",
    "\n",
    "hpc.fit(x_, x_, y_)"
   ]
  },
  {
   "cell_type": "code",
   "execution_count": 15,
   "metadata": {},
   "outputs": [
    {
     "name": "stdout",
     "output_type": "stream",
     "text": [
      "Level 1\n",
      "------------------------\n",
      "Ratio: 1.0\n",
      "#    :  172.0\n",
      "# true values:  377\n",
      "ACC  :  0.8647214854111406\n",
      "Level 2\n",
      "------------------------\n",
      "Ratio: 0.622093023255814\n",
      "#    :  107.0\n",
      "# true values:  114\n",
      "ACC  :  0.9385964912280702\n"
     ]
    }
   ],
   "source": [
    "array_results, dic_results = hpc.predict(x_, x_)\n",
    "\n",
    "# Level 1\n",
    "print('Level 1')\n",
    "stats_mask(y_, (dic_results['s1df'][:,0]>0).astype(float))\n",
    "\n",
    "print('Level 2')\n",
    "stats_mask(y_, (dic_results['s1df'][:,0]>0).astype(float), dic_results['s2df'][:,1]>0)\n",
    "#stats_mask(dic_results['s2df'][:,2]>0)\n",
    "#stats_mask(dic_results['s2df'][:,3]>0)"
   ]
  },
  {
   "cell_type": "code",
   "execution_count": 16,
   "metadata": {},
   "outputs": [],
   "source": [
    "y_pred = (dic_results['s1df'][:,0]>0).astype(float)\n",
    "lr_decision = dic_results['s2df'][:,1]"
   ]
  },
  {
   "cell_type": "code",
   "execution_count": 17,
   "metadata": {},
   "outputs": [
    {
     "name": "stdout",
     "output_type": "stream",
     "text": [
      "Stage 1 stats for AD vs CN\n",
      "             precision    recall  f1-score   support\n",
      "\n",
      "        0.0       0.85      0.91      0.88       205\n",
      "        1.0       0.88      0.81      0.85       172\n",
      "\n",
      "avg / total       0.87      0.86      0.86       377\n",
      "\n"
     ]
    }
   ],
   "source": [
    "print('Stage 1 stats for AD vs CN')\n",
    "print(metrics.classification_report(y_, y_pred))"
   ]
  },
  {
   "cell_type": "code",
   "execution_count": 18,
   "metadata": {},
   "outputs": [
    {
     "name": "stdout",
     "output_type": "stream",
     "text": [
      "Total number of TARGET subjects:  172.0\n",
      "Total number of NON-TARGET subjects:  205.0\n",
      "Stage 1 number of hits (true and false positives):  159.0\n",
      "Stage 1 TRUE positives:  140.0\n",
      "Stage 1 FALSE positives:  19.0\n",
      "Stage 1 TRUE negatives:  186.0\n",
      "Total number of flagged HPC-AD subjects:  114.0\n",
      "Number of flagged HPC-AD subjects that are TRUE positives:  107\n",
      "Number of flagged HPC-AD subjects that are FALSE positives:  7.0\n",
      "Number of true negatives:  198.0\n",
      "#############################\n",
      "Stage 1 stats for TARGET vs NON-TARGET\n",
      "Precision for AD:  0.8805031446540881\n",
      "Recall (or sensitivity)  for AD:  0.813953488372093\n",
      "Specificity:  0.9073170731707317\n",
      "Adjusted precision for 33.6% baseline rate:  0.8163104986713116\n",
      "Accuracy:  0.8647214854111406\n",
      "#############################\n",
      "Stage 2 stats for TARGET vs NON-TARGET\n",
      "Precision for HPC-AD:  0.9385964912280702\n",
      "Recall (or sensitivity) for HPC-AD:  0.622093023255814\n",
      "Specificity:  0.9658536585365853\n",
      "Adjusted precision for 33.6% baseline rate:  0.9021427690114199\n",
      "Accuracy:  0.8090185676392573\n"
     ]
    },
    {
     "data": {
      "text/plain": [
       "(0.813953488372093,\n",
       " 0.9073170731707317,\n",
       " 0.8805031446540881,\n",
       " 0.8647214854111406,\n",
       " 0.622093023255814,\n",
       " 0.9658536585365853,\n",
       " 0.9385964912280702,\n",
       " 0.8090185676392573)"
      ]
     },
     "execution_count": 18,
     "metadata": {},
     "output_type": "execute_result"
    }
   ],
   "source": [
    "predic_stats(y_, y_pred, lr_decision)"
   ]
  },
  {
   "cell_type": "markdown",
   "metadata": {},
   "source": [
    "# compare with other methods "
   ]
  },
  {
   "cell_type": "markdown",
   "metadata": {},
   "source": [
    "## ROC curve"
   ]
  },
  {
   "cell_type": "markdown",
   "metadata": {},
   "source": [
    "### base"
   ]
  },
  {
   "cell_type": "code",
   "execution_count": 19,
   "metadata": {},
   "outputs": [
    {
     "data": {
      "text/plain": [
       "(377,)"
      ]
     },
     "execution_count": 19,
     "metadata": {},
     "output_type": "execute_result"
    }
   ],
   "source": [
    "base = high_confidence_at.BaseSvc()\n",
    "base.fit(x_, y_)\n",
    "y_predicted = base.predict(x_)\n",
    "y_score = base.decision_function(x_)\n",
    "y_score.shape"
   ]
  },
  {
   "cell_type": "code",
   "execution_count": 20,
   "metadata": {},
   "outputs": [],
   "source": [
    "y_true = y_.astype(int)\n",
    "y_true = label_binarize(y_true, classes=[0, 1])\n",
    "n_classes = y_true.shape[1]\n",
    "y_score = np.reshape(y_score, (y_score.shape[0],1))\n",
    "\n",
    "# Compute ROC curve and ROC area for each class\n",
    "fpr_b = dict()\n",
    "tpr_b = dict()\n",
    "roc_auc_b = dict()\n",
    "for i in range(n_classes):\n",
    "    fpr_b[i], tpr_b[i], _ = roc_curve(y_true[:, i], y_score[:, i])\n",
    "    roc_auc_b[i] = auc(fpr_b[i], tpr_b[i])\n",
    "    \n",
    "# Compute micro-average ROC curve and ROC area\n",
    "fpr_b[\"micro\"], tpr_b[\"micro\"], _ = roc_curve(y_true.ravel(), y_score.ravel())\n",
    "roc_auc_b[\"micro\"] = auc(fpr_b[\"micro\"], tpr_b[\"micro\"])"
   ]
  },
  {
   "cell_type": "code",
   "execution_count": 21,
   "metadata": {},
   "outputs": [
    {
     "name": "stdout",
     "output_type": "stream",
     "text": [
      "Average precision-recall score: 0.91\n"
     ]
    }
   ],
   "source": [
    "average_precision_b = average_precision_score(y_true, y_score)\n",
    "\n",
    "print('Average precision-recall score: {0:0.2f}'.format(\n",
    "      average_precision_b))\n",
    "\n",
    "precision_b, recall_b, _ = precision_recall_curve(y_true, y_score)"
   ]
  },
  {
   "cell_type": "markdown",
   "metadata": {},
   "source": [
    "### HPS"
   ]
  },
  {
   "cell_type": "code",
   "execution_count": 22,
   "metadata": {},
   "outputs": [],
   "source": [
    "y_true = y_.astype(int)\n",
    "y_true = label_binarize(y_, classes=[0, 1])\n",
    "n_classes = y_true.shape[1]\n",
    "y_score = np.reshape(lr_decision, (y_score.shape[0],1))"
   ]
  },
  {
   "cell_type": "code",
   "execution_count": 23,
   "metadata": {},
   "outputs": [],
   "source": [
    "# Compute ROC curve and ROC area for each class\n",
    "fpr_h = dict()\n",
    "tpr_h = dict()\n",
    "roc_auc_h = dict()\n",
    "for i in range(n_classes):\n",
    "    fpr_h[i], tpr_h[i], _ = roc_curve(y_true[:, i], y_score[:, i])\n",
    "    roc_auc_h[i] = auc(fpr_h[i], tpr_h[i])\n",
    "\n",
    "# Compute micro-average ROC curve and ROC area\n",
    "fpr_h[\"micro\"], tpr_h[\"micro\"], _ = roc_curve(y_true.ravel(), y_score.ravel())\n",
    "roc_auc_h[\"micro\"] = auc(fpr_h[\"micro\"], tpr_h[\"micro\"])"
   ]
  },
  {
   "cell_type": "code",
   "execution_count": 24,
   "metadata": {},
   "outputs": [
    {
     "name": "stdout",
     "output_type": "stream",
     "text": [
      "Average precision-recall score: 0.91\n"
     ]
    }
   ],
   "source": [
    "average_precision_h = average_precision_score(y_true, y_score)\n",
    "\n",
    "print('Average precision-recall score: {0:0.2f}'.format(\n",
    "      average_precision_h))\n",
    "\n",
    "precision_h, recall_h, _ = precision_recall_curve(y_true, y_score)"
   ]
  },
  {
   "cell_type": "markdown",
   "metadata": {},
   "source": [
    "### rbf kernel svm"
   ]
  },
  {
   "cell_type": "code",
   "execution_count": 25,
   "metadata": {},
   "outputs": [
    {
     "data": {
      "text/plain": [
       "(377,)"
      ]
     },
     "execution_count": 25,
     "metadata": {},
     "output_type": "execute_result"
    }
   ],
   "source": [
    "svm_param_grid=dict(C=(np.logspace(-2, 1, 15)))\n",
    "\n",
    "clf_svm = SVC(kernel='rbf', class_weight='balanced', decision_function_shape='ovr', random_state=1)\n",
    "grclf_svm = GridSearchCV(clf_svm, param_grid=svm_param_grid, \n",
    "                         cv=StratifiedShuffleSplit(n_splits=50, test_size=.2, random_state=1))               \n",
    "\n",
    "grclf_svm.fit(x_, y_)\n",
    "y_predicted = grclf_svm.predict(x_)\n",
    "y_score = grclf_svm.decision_function(x_)\n",
    "y_score.shape"
   ]
  },
  {
   "cell_type": "code",
   "execution_count": 26,
   "metadata": {},
   "outputs": [],
   "source": [
    "y_true = y_.astype(int)\n",
    "y_true = label_binarize(y_true, classes=[0, 1])\n",
    "n_classes = y_true.shape[1]\n",
    "y_score = np.reshape(y_score, (y_score.shape[0],1))\n",
    "\n",
    "# Compute ROC curve and ROC area for each class\n",
    "fpr_svcrbf = dict()\n",
    "tpr_svcrbf = dict()\n",
    "roc_auc_svcrbf = dict()\n",
    "for i in range(n_classes):\n",
    "    fpr_svcrbf[i], tpr_svcrbf[i], _ = roc_curve(y_true[:, i], y_score[:, i])\n",
    "    roc_auc_svcrbf[i] = auc(fpr_svcrbf[i], tpr_svcrbf[i])\n",
    "    \n",
    "# Compute micro-average ROC curve and ROC area\n",
    "fpr_svcrbf[\"micro\"], tpr_svcrbf[\"micro\"], _ = roc_curve(y_true.ravel(), y_score.ravel())\n",
    "roc_auc_svcrbf[\"micro\"] = auc(fpr_svcrbf[\"micro\"], tpr_svcrbf[\"micro\"])"
   ]
  },
  {
   "cell_type": "markdown",
   "metadata": {},
   "source": [
    "### k nearest neighbours"
   ]
  },
  {
   "cell_type": "code",
   "execution_count": 27,
   "metadata": {},
   "outputs": [
    {
     "data": {
      "text/plain": [
       "(377,)"
      ]
     },
     "execution_count": 27,
     "metadata": {},
     "output_type": "execute_result"
    }
   ],
   "source": [
    "k_range = list(range(3,7))\n",
    "weight_opt = [\"uniform\", \"distance\"]\n",
    "knn_param_grid = dict(n_neighbors = k_range, weights = weight_opt)\n",
    "\n",
    "clf_knn = KNeighborsClassifier(algorithm='auto')\n",
    "grclf_knn = GridSearchCV(clf_knn, param_grid=knn_param_grid, \n",
    "                         cv=StratifiedShuffleSplit(n_splits=50, test_size=.2, random_state=1))\n",
    "grclf_knn.fit(x_, y_)\n",
    "y_predicted = grclf_knn.predict(x_)\n",
    "#y_score = clf.decision_function(x_)\n",
    "y_score = grclf_knn.predict_proba(x_)\n",
    "y_score = y_score[:,1] # take positive class\n",
    "y_score.shape"
   ]
  },
  {
   "cell_type": "code",
   "execution_count": 28,
   "metadata": {},
   "outputs": [],
   "source": [
    "y_true = y_.astype(int)\n",
    "y_true = label_binarize(y_true, classes=[0, 1])\n",
    "n_classes = y_true.shape[1]\n",
    "y_score = np.reshape(y_score, (y_score.shape[0],1))\n",
    "\n",
    "# Compute ROC curve and ROC area for each class\n",
    "fpr_knn = dict()\n",
    "tpr_knn = dict()\n",
    "roc_auc_knn = dict()\n",
    "for i in range(n_classes):\n",
    "    fpr_knn[i], tpr_knn[i], _ = roc_curve(y_true[:, i], y_score[:, i])\n",
    "    roc_auc_knn[i] = auc(fpr_knn[i], tpr_knn[i])\n",
    "    \n",
    "# Compute micro-average ROC curve and ROC area\n",
    "fpr_knn[\"micro\"], tpr_knn[\"micro\"], _ = roc_curve(y_true.ravel(), y_score.ravel())\n",
    "roc_auc_knn[\"micro\"] = auc(fpr_knn[\"micro\"], tpr_knn[\"micro\"])"
   ]
  },
  {
   "cell_type": "markdown",
   "metadata": {},
   "source": [
    "### random forest"
   ]
  },
  {
   "cell_type": "code",
   "execution_count": 29,
   "metadata": {},
   "outputs": [],
   "source": [
    "n_features = x_.shape[1]"
   ]
  },
  {
   "cell_type": "code",
   "execution_count": 30,
   "metadata": {},
   "outputs": [
    {
     "data": {
      "text/plain": [
       "(377,)"
      ]
     },
     "execution_count": 30,
     "metadata": {},
     "output_type": "execute_result"
    }
   ],
   "source": [
    "rf_param_grid = [\n",
    "{'n_estimators': [10, 25], 'max_features': [5, n_features], \n",
    " 'max_depth': [10, 50, None], 'bootstrap': [True, False]}\n",
    "]\n",
    "\n",
    "clf_rf = RandomForestClassifier(random_state=1)\n",
    "grclf_rf = GridSearchCV(clf_rf, param_grid=rf_param_grid, \n",
    "                       cv=StratifiedShuffleSplit(n_splits=50, test_size=.2, random_state=1))\n",
    "grclf_rf.fit(x_, y_)\n",
    "y_predicted = grclf_rf.predict(x_)\n",
    "#y_score = clf.decision_function(x_)\n",
    "y_score = grclf_rf.predict_proba(x_)\n",
    "y_score = y_score[:,1] # take positive class\n",
    "y_score.shape"
   ]
  },
  {
   "cell_type": "code",
   "execution_count": 31,
   "metadata": {},
   "outputs": [],
   "source": [
    "y_true = y_.astype(int)\n",
    "y_true = label_binarize(y_true, classes=[0, 1])\n",
    "n_classes = y_true.shape[1]\n",
    "y_score = np.reshape(y_score, (y_score.shape[0],1))\n",
    "\n",
    "# Compute ROC curve and ROC area for each class\n",
    "fpr_rf = dict()\n",
    "tpr_rf = dict()\n",
    "roc_auc_rf = dict()\n",
    "for i in range(n_classes):\n",
    "    fpr_rf[i], tpr_rf[i], _ = roc_curve(y_true[:, i], y_score[:, i])\n",
    "    roc_auc_rf[i] = auc(fpr_rf[i], tpr_rf[i])\n",
    "    \n",
    "# Compute micro-average ROC curve and ROC area\n",
    "fpr_rf[\"micro\"], tpr_rf[\"micro\"], _ = roc_curve(y_true.ravel(), y_score.ravel())\n",
    "roc_auc_rf[\"micro\"] = auc(fpr_rf[\"micro\"], tpr_rf[\"micro\"])"
   ]
  },
  {
   "cell_type": "markdown",
   "metadata": {},
   "source": [
    "### gaussian naive bayes"
   ]
  },
  {
   "cell_type": "code",
   "execution_count": 32,
   "metadata": {},
   "outputs": [
    {
     "data": {
      "text/plain": [
       "(377,)"
      ]
     },
     "execution_count": 32,
     "metadata": {},
     "output_type": "execute_result"
    }
   ],
   "source": [
    "clf_gnb = GaussianNB()\n",
    "clf_gnb.fit(x_, y_)\n",
    "y_predicted = clf_gnb.predict(x_)\n",
    "#y_score = clf.decision_function(x_)\n",
    "y_score = clf_gnb.predict_proba(x_)\n",
    "y_score = y_score[:,1] # take positive class\n",
    "y_score.shape"
   ]
  },
  {
   "cell_type": "code",
   "execution_count": 33,
   "metadata": {},
   "outputs": [],
   "source": [
    "y_true = y_.astype(int)\n",
    "y_true = label_binarize(y_true, classes=[0, 1])\n",
    "n_classes = y_true.shape[1]\n",
    "y_score = np.reshape(y_score, (y_score.shape[0],1))\n",
    "\n",
    "# Compute ROC curve and ROC area for each class\n",
    "fpr_nb = dict()\n",
    "tpr_nb = dict()\n",
    "roc_auc_nb = dict()\n",
    "for i in range(n_classes):\n",
    "    fpr_nb[i], tpr_nb[i], _ = roc_curve(y_true[:, i], y_score[:, i])\n",
    "    roc_auc_nb[i] = auc(fpr_nb[i], tpr_nb[i])\n",
    "    \n",
    "# Compute micro-average ROC curve and ROC area\n",
    "fpr_nb[\"micro\"], tpr_nb[\"micro\"], _ = roc_curve(y_true.ravel(), y_score.ravel())\n",
    "roc_auc_nb[\"micro\"] = auc(fpr_nb[\"micro\"], tpr_nb[\"micro\"])"
   ]
  },
  {
   "cell_type": "code",
   "execution_count": 34,
   "metadata": {},
   "outputs": [
    {
     "data": {
      "image/png": "[encoded data removed]",
      "text/plain": [
       "<Figure size 720x576 with 1 Axes>"
      ]
     },
     "metadata": {},
     "output_type": "display_data"
    }
   ],
   "source": [
    "#plt.figure()\n",
    "fig, ax = plt.subplots()\n",
    "fig.set_size_inches(10,8)\n",
    "lw = 4\n",
    "plt.rc('xtick', labelsize=40)\n",
    "plt.rc('ytick', labelsize=40)\n",
    "plt.plot(fpr_svcrbf[0], tpr_svcrbf[0], color='green',\n",
    "         lw=lw, label='RBF SVM (AUC=%0.3f)' % roc_auc_svcrbf[0])\n",
    "plt.plot(fpr_knn[0], tpr_knn[0], color='pink',\n",
    "         lw=lw, label='KNN (AUC=%0.3f)' % roc_auc_knn[0])\n",
    "plt.plot(fpr_rf[0], tpr_rf[0], color='brown',\n",
    "         lw=lw, label='RF (AUC=%0.3f)' % roc_auc_rf[0])\n",
    "plt.plot(fpr_nb[0], tpr_nb[0], color='orange',\n",
    "         lw=lw, label='GNB (AUC=%0.3f)' % roc_auc_nb[0])\n",
    "plt.plot(fpr_b[0], tpr_b[0], color='blue',\n",
    "         lw=lw, label='Base (AUC=%0.3f)' % roc_auc_b[0])\n",
    "plt.plot(fpr_h[0], tpr_h[0], color='red',\n",
    "         lw=lw, label='HPS (AUC=%0.3f)' % roc_auc_h[0])\n",
    "plt.plot([0, 1], [0, 1], color='grey', lw=lw, linestyle='--')\n",
    "plt.xlim([-0.05, 1.00])\n",
    "plt.ylim([0.0, 1.05])\n",
    "plt.xlabel('FPR', fontdict={'size': 40})\n",
    "plt.ylabel('TPR', fontdict={'size': 40})\n",
    "plt.title('ADNI1 AD vs CN', fontdict={'size': 40})\n",
    "plt.legend(loc=\"lower right\", prop={'size': 25})\n",
    "plt.show()\n",
    "fig.savefig(path_results + 'adni1_ad_roc_multi.pdf', bbox_inches='tight')"
   ]
  },
  {
   "cell_type": "markdown",
   "metadata": {},
   "source": [
    "## Test on ADNI1 MCI"
   ]
  },
  {
   "cell_type": "code",
   "execution_count": 35,
   "metadata": {},
   "outputs": [],
   "source": [
    "# load the data\n",
    "adni1_mci = pd.read_csv('/home/angela/Desktop/vcog_paper/adni1_vbm_adcn_subtypes_20171209/7clus/adni1_mci_bl_demog_weights.csv')"
   ]
  },
  {
   "cell_type": "code",
   "execution_count": 36,
   "metadata": {},
   "outputs": [],
   "source": [
    "mask_mci = adni1_mci.loc[:,'MCI'].values.astype(bool)\n",
    "adni1_mci = adni1_mci.iloc[mask_mci]"
   ]
  },
  {
   "cell_type": "code",
   "execution_count": 37,
   "metadata": {},
   "outputs": [],
   "source": [
    "adni1_mci.dropna(subset=['sub1','age_scan','gender','mean_gm','tiv'],inplace=True)"
   ]
  },
  {
   "cell_type": "code",
   "execution_count": 38,
   "metadata": {},
   "outputs": [
    {
     "data": {
      "text/plain": [
       "238"
      ]
     },
     "execution_count": 38,
     "metadata": {},
     "output_type": "execute_result"
    }
   ],
   "source": [
    "len(adni1_mci)"
   ]
  },
  {
   "cell_type": "code",
   "execution_count": 39,
   "metadata": {},
   "outputs": [
    {
     "data": {
      "text/plain": [
       "((238, 11), (238,), (238, 4))"
      ]
     },
     "execution_count": 39,
     "metadata": {},
     "output_type": "execute_result"
    }
   ],
   "source": [
    "x_ = adni1_mci.iloc[:,adni1_mci.columns.get_loc(\"sub1\"):adni1_mci.columns.get_loc(\"sub7\")+1].values\n",
    "#x_ = scalerX.transform(x_)\n",
    "y_ = adni1_mci['conv_2_ad'].values.ravel()\n",
    "\n",
    "\n",
    "confounds = adni1_mci[['gender','age_scan','mean_gm','tiv']].values\n",
    "#confounds = data[['sex','age_r']].values[mask_mci,:]\n",
    "#confounds[:, 1:] = scaler.transform(confounds[:, 1:])\n",
    "#confounds[:, 0] = preprocessing.binarize(confounds[:, 0].reshape(-1, 1), threshold=1)[:, 0]\n",
    "#confounds = scaler.transform(confounds)\n",
    "#x_ = crm.transform(confounds, x_)\n",
    "\n",
    "x_ = scaler.transform(np.hstack((x_,confounds)))\n",
    "\n",
    "x_.shape, y_.shape, confounds.shape"
   ]
  },
  {
   "cell_type": "code",
   "execution_count": 40,
   "metadata": {},
   "outputs": [
    {
     "name": "stdout",
     "output_type": "stream",
     "text": [
      "Level 1\n",
      "------------------------\n",
      "Ratio: 1.0\n",
      "#    :  149.0\n",
      "# true values:  238\n",
      "ACC  :  0.6890756302521008\n",
      "Level 2\n",
      "------------------------\n",
      "Ratio: 0.42953020134228187\n",
      "#    :  64.0\n",
      "# true values:  73\n",
      "ACC  :  0.8767123287671232\n"
     ]
    }
   ],
   "source": [
    "array_results, dic_results = hpc.predict(x_, x_)\n",
    "\n",
    "# Level 1\n",
    "print('Level 1')\n",
    "stats_mask(y_, (dic_results['s1df'][:,0]>0).astype(float))\n",
    "\n",
    "print('Level 2')\n",
    "stats_mask(y_, (dic_results['s1df'][:,0]>0).astype(float), dic_results['s2df'][:,1]>0)\n",
    "#stats_mask(dic_results['s2df'][:,2]>0)\n",
    "#stats_mask(dic_results['s2df'][:,3]>0)"
   ]
  },
  {
   "cell_type": "code",
   "execution_count": 41,
   "metadata": {},
   "outputs": [],
   "source": [
    "y_pred = (dic_results['s1df'][:,0]>0).astype(float)\n",
    "lr_decision = dic_results['s2df'][:,1]"
   ]
  },
  {
   "cell_type": "code",
   "execution_count": 42,
   "metadata": {
    "scrolled": true
   },
   "outputs": [
    {
     "name": "stdout",
     "output_type": "stream",
     "text": [
      "Total number of TARGET subjects:  149.0\n",
      "Total number of NON-TARGET subjects:  89.0\n",
      "Stage 1 number of hits (true and false positives):  123.0\n",
      "Stage 1 TRUE positives:  99.0\n",
      "Stage 1 FALSE positives:  24.0\n",
      "Stage 1 TRUE negatives:  65.0\n",
      "Total number of flagged HPC-AD subjects:  73.0\n",
      "Number of flagged HPC-AD subjects that are TRUE positives:  64\n",
      "Number of flagged HPC-AD subjects that are FALSE positives:  9.0\n",
      "Number of true negatives:  80.0\n",
      "#############################\n",
      "Stage 1 stats for TARGET vs NON-TARGET\n",
      "Precision for AD:  0.8048780487804879\n",
      "Recall (or sensitivity)  for AD:  0.6644295302013423\n",
      "Specificity:  0.7303370786516854\n",
      "Adjusted precision for 33.6% baseline rate:  0.5549237482567817\n",
      "Accuracy:  0.6890756302521008\n",
      "#############################\n",
      "Stage 2 stats for TARGET vs NON-TARGET\n",
      "Precision for HPC-AD:  0.8767123287671232\n",
      "Recall (or sensitivity) for HPC-AD:  0.42953020134228187\n",
      "Specificity:  0.898876404494382\n",
      "Adjusted precision for 33.6% baseline rate:  0.6824767854850442\n",
      "Accuracy:  0.6050420168067226\n"
     ]
    },
    {
     "data": {
      "text/plain": [
       "(0.6644295302013423,\n",
       " 0.7303370786516854,\n",
       " 0.8048780487804879,\n",
       " 0.6890756302521008,\n",
       " 0.42953020134228187,\n",
       " 0.898876404494382,\n",
       " 0.8767123287671232,\n",
       " 0.6050420168067226)"
      ]
     },
     "execution_count": 42,
     "metadata": {},
     "output_type": "execute_result"
    }
   ],
   "source": [
    "predic_stats(y_, y_pred, lr_decision)"
   ]
  },
  {
   "cell_type": "markdown",
   "metadata": {},
   "source": [
    "## ROC curve "
   ]
  },
  {
   "cell_type": "markdown",
   "metadata": {},
   "source": [
    "### base"
   ]
  },
  {
   "cell_type": "code",
   "execution_count": 43,
   "metadata": {},
   "outputs": [
    {
     "data": {
      "text/plain": [
       "(238,)"
      ]
     },
     "execution_count": 43,
     "metadata": {},
     "output_type": "execute_result"
    }
   ],
   "source": [
    "#base = high_confidence_at.BaseSvc()\n",
    "#base.fit(x_, y_)\n",
    "y_predicted = base.predict(x_)\n",
    "y_score = base.decision_function(x_)\n",
    "y_score.shape"
   ]
  },
  {
   "cell_type": "code",
   "execution_count": 44,
   "metadata": {},
   "outputs": [],
   "source": [
    "y_true = y_.astype(int)\n",
    "y_true = label_binarize(y_true, classes=[0, 1])\n",
    "n_classes = y_true.shape[1]\n",
    "y_score = np.reshape(y_score, (y_score.shape[0],1))\n",
    "\n",
    "# Compute ROC curve and ROC area for each class\n",
    "fpr_b = dict()\n",
    "tpr_b = dict()\n",
    "roc_auc_b = dict()\n",
    "for i in range(n_classes):\n",
    "    fpr_b[i], tpr_b[i], _ = roc_curve(y_true[:, i], y_score[:, i])\n",
    "    roc_auc_b[i] = auc(fpr_b[i], tpr_b[i])\n",
    "    \n",
    "# Compute micro-average ROC curve and ROC area\n",
    "fpr_b[\"micro\"], tpr_b[\"micro\"], _ = roc_curve(y_true.ravel(), y_score.ravel())\n",
    "roc_auc_b[\"micro\"] = auc(fpr_b[\"micro\"], tpr_b[\"micro\"])"
   ]
  },
  {
   "cell_type": "code",
   "execution_count": 45,
   "metadata": {},
   "outputs": [
    {
     "name": "stdout",
     "output_type": "stream",
     "text": [
      "Average precision-recall score: 0.84\n"
     ]
    }
   ],
   "source": [
    "average_precision_b = average_precision_score(y_true, y_score)\n",
    "\n",
    "print('Average precision-recall score: {0:0.2f}'.format(\n",
    "      average_precision_b))\n",
    "\n",
    "precision_b, recall_b, _ = precision_recall_curve(y_true, y_score)"
   ]
  },
  {
   "cell_type": "markdown",
   "metadata": {},
   "source": [
    "### HPS "
   ]
  },
  {
   "cell_type": "code",
   "execution_count": 46,
   "metadata": {},
   "outputs": [],
   "source": [
    "y_true = y_.astype(int)\n",
    "y_true = label_binarize(y_, classes=[0, 1])\n",
    "n_classes = y_true.shape[1]\n",
    "y_score = np.reshape(lr_decision, (y_score.shape[0],1))"
   ]
  },
  {
   "cell_type": "code",
   "execution_count": 47,
   "metadata": {},
   "outputs": [],
   "source": [
    "# Compute ROC curve and ROC area for each class\n",
    "fpr_h = dict()\n",
    "tpr_h = dict()\n",
    "roc_auc_h = dict()\n",
    "for i in range(n_classes):\n",
    "    fpr_h[i], tpr_h[i], _ = roc_curve(y_true[:, i], y_score[:, i])\n",
    "    roc_auc_h[i] = auc(fpr_h[i], tpr_h[i])\n",
    "\n",
    "# Compute micro-average ROC curve and ROC area\n",
    "fpr_h[\"micro\"], tpr_h[\"micro\"], _ = roc_curve(y_true.ravel(), y_score.ravel())\n",
    "roc_auc_h[\"micro\"] = auc(fpr_h[\"micro\"], tpr_h[\"micro\"])"
   ]
  },
  {
   "cell_type": "markdown",
   "metadata": {},
   "source": [
    "### rbf kernel svm"
   ]
  },
  {
   "cell_type": "code",
   "execution_count": 48,
   "metadata": {},
   "outputs": [
    {
     "data": {
      "text/plain": [
       "(238,)"
      ]
     },
     "execution_count": 48,
     "metadata": {},
     "output_type": "execute_result"
    }
   ],
   "source": [
    "y_predicted = grclf_svm.predict(x_)\n",
    "y_score = grclf_svm.decision_function(x_)\n",
    "y_score.shape"
   ]
  },
  {
   "cell_type": "code",
   "execution_count": 49,
   "metadata": {},
   "outputs": [],
   "source": [
    "y_true = y_.astype(int)\n",
    "y_true = label_binarize(y_true, classes=[0, 1])\n",
    "n_classes = y_true.shape[1]\n",
    "y_score = np.reshape(y_score, (y_score.shape[0],1))\n",
    "\n",
    "# Compute ROC curve and ROC area for each class\n",
    "fpr_svcrbf = dict()\n",
    "tpr_svcrbf = dict()\n",
    "roc_auc_svcrbf = dict()\n",
    "for i in range(n_classes):\n",
    "    fpr_svcrbf[i], tpr_svcrbf[i], _ = roc_curve(y_true[:, i], y_score[:, i])\n",
    "    roc_auc_svcrbf[i] = auc(fpr_svcrbf[i], tpr_svcrbf[i])\n",
    "    \n",
    "# Compute micro-average ROC curve and ROC area\n",
    "fpr_svcrbf[\"micro\"], tpr_svcrbf[\"micro\"], _ = roc_curve(y_true.ravel(), y_score.ravel())\n",
    "roc_auc_svcrbf[\"micro\"] = auc(fpr_svcrbf[\"micro\"], tpr_svcrbf[\"micro\"])"
   ]
  },
  {
   "cell_type": "markdown",
   "metadata": {},
   "source": [
    "### k nearest neighbours"
   ]
  },
  {
   "cell_type": "code",
   "execution_count": 50,
   "metadata": {},
   "outputs": [
    {
     "data": {
      "text/plain": [
       "(238,)"
      ]
     },
     "execution_count": 50,
     "metadata": {},
     "output_type": "execute_result"
    }
   ],
   "source": [
    "y_predicted = grclf_knn.predict(x_)\n",
    "y_score = grclf_knn.predict_proba(x_)\n",
    "y_score = y_score[:,1] # take positive class\n",
    "y_score.shape"
   ]
  },
  {
   "cell_type": "code",
   "execution_count": 51,
   "metadata": {},
   "outputs": [],
   "source": [
    "y_true = y_.astype(int)\n",
    "y_true = label_binarize(y_true, classes=[0, 1])\n",
    "n_classes = y_true.shape[1]\n",
    "y_score = np.reshape(y_score, (y_score.shape[0],1))\n",
    "\n",
    "# Compute ROC curve and ROC area for each class\n",
    "fpr_knn = dict()\n",
    "tpr_knn = dict()\n",
    "roc_auc_knn = dict()\n",
    "for i in range(n_classes):\n",
    "    fpr_knn[i], tpr_knn[i], _ = roc_curve(y_true[:, i], y_score[:, i])\n",
    "    roc_auc_knn[i] = auc(fpr_knn[i], tpr_knn[i])\n",
    "    \n",
    "# Compute micro-average ROC curve and ROC area\n",
    "fpr_knn[\"micro\"], tpr_knn[\"micro\"], _ = roc_curve(y_true.ravel(), y_score.ravel())\n",
    "roc_auc_knn[\"micro\"] = auc(fpr_knn[\"micro\"], tpr_knn[\"micro\"])"
   ]
  },
  {
   "cell_type": "markdown",
   "metadata": {},
   "source": [
    "### random forest"
   ]
  },
  {
   "cell_type": "code",
   "execution_count": 52,
   "metadata": {},
   "outputs": [
    {
     "data": {
      "text/plain": [
       "(238,)"
      ]
     },
     "execution_count": 52,
     "metadata": {},
     "output_type": "execute_result"
    }
   ],
   "source": [
    "y_predicted = grclf_rf.predict(x_)\n",
    "y_score = grclf_rf.predict_proba(x_)\n",
    "y_score = y_score[:,1] # take positive class\n",
    "y_score.shape"
   ]
  },
  {
   "cell_type": "code",
   "execution_count": 53,
   "metadata": {},
   "outputs": [],
   "source": [
    "y_true = y_.astype(int)\n",
    "y_true = label_binarize(y_true, classes=[0, 1])\n",
    "n_classes = y_true.shape[1]\n",
    "y_score = np.reshape(y_score, (y_score.shape[0],1))\n",
    "\n",
    "# Compute ROC curve and ROC area for each class\n",
    "fpr_rf = dict()\n",
    "tpr_rf = dict()\n",
    "roc_auc_rf = dict()\n",
    "for i in range(n_classes):\n",
    "    fpr_rf[i], tpr_rf[i], _ = roc_curve(y_true[:, i], y_score[:, i])\n",
    "    roc_auc_rf[i] = auc(fpr_rf[i], tpr_rf[i])\n",
    "    \n",
    "# Compute micro-average ROC curve and ROC area\n",
    "fpr_rf[\"micro\"], tpr_rf[\"micro\"], _ = roc_curve(y_true.ravel(), y_score.ravel())\n",
    "roc_auc_rf[\"micro\"] = auc(fpr_rf[\"micro\"], tpr_rf[\"micro\"])"
   ]
  },
  {
   "cell_type": "markdown",
   "metadata": {},
   "source": [
    "### gaussian naive bayes"
   ]
  },
  {
   "cell_type": "code",
   "execution_count": 54,
   "metadata": {},
   "outputs": [
    {
     "data": {
      "text/plain": [
       "(238,)"
      ]
     },
     "execution_count": 54,
     "metadata": {},
     "output_type": "execute_result"
    }
   ],
   "source": [
    "y_predicted = clf_gnb.predict(x_)\n",
    "y_score = clf_gnb.predict_proba(x_)\n",
    "y_score = y_score[:,1] # take positive class\n",
    "y_score.shape"
   ]
  },
  {
   "cell_type": "code",
   "execution_count": 55,
   "metadata": {},
   "outputs": [],
   "source": [
    "y_true = y_.astype(int)\n",
    "y_true = label_binarize(y_true, classes=[0, 1])\n",
    "n_classes = y_true.shape[1]\n",
    "y_score = np.reshape(y_score, (y_score.shape[0],1))\n",
    "\n",
    "# Compute ROC curve and ROC area for each class\n",
    "fpr_nb = dict()\n",
    "tpr_nb = dict()\n",
    "roc_auc_nb = dict()\n",
    "for i in range(n_classes):\n",
    "    fpr_nb[i], tpr_nb[i], _ = roc_curve(y_true[:, i], y_score[:, i])\n",
    "    roc_auc_nb[i] = auc(fpr_nb[i], tpr_nb[i])\n",
    "    \n",
    "# Compute micro-average ROC curve and ROC area\n",
    "fpr_nb[\"micro\"], tpr_nb[\"micro\"], _ = roc_curve(y_true.ravel(), y_score.ravel())\n",
    "roc_auc_nb[\"micro\"] = auc(fpr_nb[\"micro\"], tpr_nb[\"micro\"])"
   ]
  },
  {
   "cell_type": "code",
   "execution_count": 56,
   "metadata": {},
   "outputs": [
    {
     "data": {
      "image/png": "[encoded data removed]",
      "text/plain": [
       "<Figure size 720x576 with 1 Axes>"
      ]
     },
     "metadata": {},
     "output_type": "display_data"
    }
   ],
   "source": [
    "#plt.figure()\n",
    "fig, ax = plt.subplots()\n",
    "fig.set_size_inches(10,8)\n",
    "lw = 4\n",
    "plt.rc('xtick', labelsize=40)\n",
    "plt.rc('ytick', labelsize=40)\n",
    "plt.plot(fpr_svcrbf[0], tpr_svcrbf[0], color='green',\n",
    "         lw=lw, label='RBF SVM (AUC=%0.3f)' % roc_auc_svcrbf[0])\n",
    "plt.plot(fpr_knn[0], tpr_knn[0], color='pink',\n",
    "         lw=lw, label='KNN (AUC=%0.3f)' % roc_auc_knn[0])\n",
    "plt.plot(fpr_rf[0], tpr_rf[0], color='brown',\n",
    "         lw=lw, label='RF (AUC=%0.3f)' % roc_auc_rf[0])\n",
    "plt.plot(fpr_nb[0], tpr_nb[0], color='orange',\n",
    "         lw=lw, label='GNB (AUC=%0.3f)' % roc_auc_nb[0])\n",
    "plt.plot(fpr_b[0], tpr_b[0], color='blue',\n",
    "         lw=lw, label='Base (AUC=%0.3f)' % roc_auc_b[0])\n",
    "plt.plot(fpr_h[0], tpr_h[0], color='red',\n",
    "         lw=lw, label='HPS (AUC=%0.3f)' % roc_auc_h[0])\n",
    "plt.plot([0, 1], [0, 1], color='grey', lw=lw, linestyle='--')\n",
    "plt.xlim([-0.05, 1.00])\n",
    "plt.ylim([0.0, 1.05])\n",
    "plt.xlabel('FPR', fontdict={'size': 40})\n",
    "plt.ylabel('TPR', fontdict={'size': 40})\n",
    "plt.title('ADNI1 pMCI vs sMCI', fontdict={'size': 40})\n",
    "plt.legend(loc=\"lower right\", prop={'size': 25})\n",
    "#ax.legend(loc='center left', bbox_to_anchor=(1,0.5), prop={'size': 30})\n",
    "plt.show()\n",
    "fig.savefig(path_results + 'adni1_mci_roc_multi.pdf', bbox_inches='tight')"
   ]
  },
  {
   "cell_type": "markdown",
   "metadata": {},
   "source": [
    "# REPLICATION IN ADNI2 "
   ]
  },
  {
   "cell_type": "code",
   "execution_count": 57,
   "metadata": {},
   "outputs": [],
   "source": [
    "adni2_df = pd.read_csv('/home/angela/Desktop/vcog_paper/adni1_vbm_adcn_subtypes_20171209/7clus/adni2_model_weights.csv')"
   ]
  },
  {
   "cell_type": "code",
   "execution_count": 58,
   "metadata": {},
   "outputs": [],
   "source": [
    "adni2_df.drop(adni2_df[adni2_df.RID < 2000].index,inplace=True)"
   ]
  },
  {
   "cell_type": "code",
   "execution_count": 59,
   "metadata": {},
   "outputs": [],
   "source": [
    "# get rid of NaNs\n",
    "adni2_df.dropna(axis=0,how='any',subset=['sub1','gender','age_scan','mean_gm','tiv','conv_2_ad'],inplace=True)"
   ]
  },
  {
   "cell_type": "markdown",
   "metadata": {},
   "source": [
    "## AD vs CN "
   ]
  },
  {
   "cell_type": "code",
   "execution_count": 60,
   "metadata": {},
   "outputs": [
    {
     "data": {
      "text/plain": [
       "((278, 11), (278,), (278, 4))"
      ]
     },
     "execution_count": 60,
     "metadata": {},
     "output_type": "execute_result"
    }
   ],
   "source": [
    "# Mask of the AD and CN subjects only\n",
    "mask_cnad = adni2_df.loc[:,['CN','AD']].values.sum(1).astype(bool)\n",
    "\n",
    "x_ = adni2_df.iloc[mask_cnad,adni2_df.columns.get_loc(\"sub1\"):adni2_df.columns.get_loc(\"sub7\")+1].values\n",
    "#x_ = scalerX.transform(x_)\n",
    "y_ = adni2_df[['AD']].values.ravel()[mask_cnad]\n",
    "\n",
    "\n",
    "confounds = adni2_df[['gender','age_scan','mean_gm','tiv']].values[mask_cnad,:]\n",
    "#confounds = data[['sex','age_r']].values[mask_mci,:]\n",
    "#confounds[:, 1:] = scaler.transform(confounds[:, 1:])\n",
    "#confounds[:, 0] = preprocessing.binarize(confounds[:, 0].reshape(-1, 1), threshold=1)[:, 0]\n",
    "#confounds = scaler.transform(confounds)\n",
    "#x_ = crm.transform(confounds, x_)\n",
    "\n",
    "x_ = scaler.transform(np.hstack((x_,confounds)))\n",
    "\n",
    "x_.shape, y_.shape, confounds.shape"
   ]
  },
  {
   "cell_type": "code",
   "execution_count": 61,
   "metadata": {},
   "outputs": [
    {
     "name": "stdout",
     "output_type": "stream",
     "text": [
      "Level 1\n",
      "------------------------\n",
      "Ratio: 1.0\n",
      "#    :  90.0\n",
      "# true values:  278\n",
      "ACC  :  0.7230215827338129\n",
      "Level 2\n",
      "------------------------\n",
      "Ratio: 0.3333333333333333\n",
      "#    :  30.0\n",
      "# true values:  46\n",
      "ACC  :  0.6521739130434783\n"
     ]
    }
   ],
   "source": [
    "array_results, dic_results = hpc.predict(x_, x_)\n",
    "\n",
    "# Level 1\n",
    "print('Level 1')\n",
    "stats_mask(y_, (dic_results['s1df'][:,0]>0).astype(float))\n",
    "\n",
    "print('Level 2')\n",
    "stats_mask(y_, (dic_results['s1df'][:,0]>0).astype(float), dic_results['s2df'][:,1]>0)\n",
    "#stats_mask(dic_results['s2df'][:,2]>0)\n",
    "#stats_mask(dic_results['s2df'][:,3]>0)"
   ]
  },
  {
   "cell_type": "code",
   "execution_count": 62,
   "metadata": {},
   "outputs": [],
   "source": [
    "y_pred = (dic_results['s1df'][:,0]>0).astype(float)\n",
    "lr_decision = dic_results['s2df'][:,1]"
   ]
  },
  {
   "cell_type": "code",
   "execution_count": 63,
   "metadata": {},
   "outputs": [
    {
     "name": "stdout",
     "output_type": "stream",
     "text": [
      "Total number of TARGET subjects:  90.0\n",
      "Total number of NON-TARGET subjects:  188.0\n",
      "Stage 1 number of hits (true and false positives):  89.0\n",
      "Stage 1 TRUE positives:  51.0\n",
      "Stage 1 FALSE positives:  38.0\n",
      "Stage 1 TRUE negatives:  150.0\n",
      "Total number of flagged HPC-AD subjects:  46.0\n",
      "Number of flagged HPC-AD subjects that are TRUE positives:  30\n",
      "Number of flagged HPC-AD subjects that are FALSE positives:  16.0\n",
      "Number of true negatives:  172.0\n",
      "#############################\n",
      "Stage 1 stats for TARGET vs NON-TARGET\n",
      "Precision for AD:  0.5730337078651685\n",
      "Recall (or sensitivity)  for AD:  0.5666666666666667\n",
      "Specificity:  0.7978723404255319\n",
      "Adjusted precision for 33.6% baseline rate:  0.5865450159928688\n",
      "Accuracy:  0.7230215827338129\n",
      "#############################\n",
      "Stage 2 stats for TARGET vs NON-TARGET\n",
      "Precision for HPC-AD:  0.6521739130434783\n",
      "Recall (or sensitivity) for HPC-AD:  0.3333333333333333\n",
      "Specificity:  0.9148936170212766\n",
      "Adjusted precision for 33.6% baseline rate:  0.6646464646464647\n",
      "Accuracy:  0.7266187050359713\n"
     ]
    },
    {
     "data": {
      "text/plain": [
       "(0.5666666666666667,\n",
       " 0.7978723404255319,\n",
       " 0.5730337078651685,\n",
       " 0.7230215827338129,\n",
       " 0.3333333333333333,\n",
       " 0.9148936170212766,\n",
       " 0.6521739130434783,\n",
       " 0.7266187050359713)"
      ]
     },
     "execution_count": 63,
     "metadata": {},
     "output_type": "execute_result"
    }
   ],
   "source": [
    "predic_stats(y_, y_pred, lr_decision)"
   ]
  },
  {
   "cell_type": "markdown",
   "metadata": {},
   "source": [
    "## ROC curve"
   ]
  },
  {
   "cell_type": "markdown",
   "metadata": {},
   "source": [
    "### base"
   ]
  },
  {
   "cell_type": "code",
   "execution_count": 64,
   "metadata": {},
   "outputs": [
    {
     "data": {
      "text/plain": [
       "(278,)"
      ]
     },
     "execution_count": 64,
     "metadata": {},
     "output_type": "execute_result"
    }
   ],
   "source": [
    "y_predicted = base.predict(x_)\n",
    "y_score = base.decision_function(x_)\n",
    "y_score.shape"
   ]
  },
  {
   "cell_type": "code",
   "execution_count": 65,
   "metadata": {},
   "outputs": [],
   "source": [
    "y_true = y_.astype(int)\n",
    "y_true = label_binarize(y_true, classes=[0, 1])\n",
    "n_classes = y_true.shape[1]\n",
    "y_score = np.reshape(y_score, (y_score.shape[0],1))\n",
    "\n",
    "# Compute ROC curve and ROC area for each class\n",
    "fpr_b = dict()\n",
    "tpr_b = dict()\n",
    "roc_auc_b = dict()\n",
    "for i in range(n_classes):\n",
    "    fpr_b[i], tpr_b[i], _ = roc_curve(y_true[:, i], y_score[:, i])\n",
    "    roc_auc_b[i] = auc(fpr_b[i], tpr_b[i])\n",
    "    \n",
    "# Compute micro-average ROC curve and ROC area\n",
    "fpr_b[\"micro\"], tpr_b[\"micro\"], _ = roc_curve(y_true.ravel(), y_score.ravel())\n",
    "roc_auc_b[\"micro\"] = auc(fpr_b[\"micro\"], tpr_b[\"micro\"])"
   ]
  },
  {
   "cell_type": "code",
   "execution_count": 66,
   "metadata": {},
   "outputs": [
    {
     "name": "stdout",
     "output_type": "stream",
     "text": [
      "Average precision-recall score: 0.56\n"
     ]
    }
   ],
   "source": [
    "average_precision_b = average_precision_score(y_true, y_score)\n",
    "\n",
    "print('Average precision-recall score: {0:0.2f}'.format(\n",
    "      average_precision_b))\n",
    "\n",
    "precision_b, recall_b, _ = precision_recall_curve(y_true, y_score)"
   ]
  },
  {
   "cell_type": "markdown",
   "metadata": {},
   "source": [
    "### HPS "
   ]
  },
  {
   "cell_type": "code",
   "execution_count": 67,
   "metadata": {},
   "outputs": [],
   "source": [
    "y_true = y_.astype(int)\n",
    "y_true = label_binarize(y_, classes=[0, 1])\n",
    "n_classes = y_true.shape[1]\n",
    "y_score = np.reshape(lr_decision, (y_score.shape[0],1))"
   ]
  },
  {
   "cell_type": "code",
   "execution_count": 68,
   "metadata": {},
   "outputs": [],
   "source": [
    "# Compute ROC curve and ROC area for each class\n",
    "fpr_h = dict()\n",
    "tpr_h = dict()\n",
    "roc_auc_h = dict()\n",
    "for i in range(n_classes):\n",
    "    fpr_h[i], tpr_h[i], _ = roc_curve(y_true[:, i], y_score[:, i])\n",
    "    roc_auc_h[i] = auc(fpr_h[i], tpr_h[i])\n",
    "\n",
    "# Compute micro-average ROC curve and ROC area\n",
    "fpr_h[\"micro\"], tpr_h[\"micro\"], _ = roc_curve(y_true.ravel(), y_score.ravel())\n",
    "roc_auc_h[\"micro\"] = auc(fpr_h[\"micro\"], tpr_h[\"micro\"])"
   ]
  },
  {
   "cell_type": "code",
   "execution_count": 69,
   "metadata": {},
   "outputs": [
    {
     "name": "stdout",
     "output_type": "stream",
     "text": [
      "Average precision-recall score: 0.52\n"
     ]
    }
   ],
   "source": [
    "average_precision_h = average_precision_score(y_true, y_score)\n",
    "\n",
    "print('Average precision-recall score: {0:0.2f}'.format(\n",
    "      average_precision_h))\n",
    "\n",
    "precision_h, recall_h, _ = precision_recall_curve(y_true, y_score)"
   ]
  },
  {
   "cell_type": "markdown",
   "metadata": {},
   "source": [
    "### rbf kernel svm"
   ]
  },
  {
   "cell_type": "code",
   "execution_count": 70,
   "metadata": {},
   "outputs": [
    {
     "data": {
      "text/plain": [
       "(278,)"
      ]
     },
     "execution_count": 70,
     "metadata": {},
     "output_type": "execute_result"
    }
   ],
   "source": [
    "y_predicted = grclf_svm.predict(x_)\n",
    "y_score = grclf_svm.decision_function(x_)\n",
    "y_score.shape"
   ]
  },
  {
   "cell_type": "code",
   "execution_count": 71,
   "metadata": {},
   "outputs": [],
   "source": [
    "y_true = y_.astype(int)\n",
    "y_true = label_binarize(y_true, classes=[0, 1])\n",
    "n_classes = y_true.shape[1]\n",
    "y_score = np.reshape(y_score, (y_score.shape[0],1))\n",
    "\n",
    "# Compute ROC curve and ROC area for each class\n",
    "fpr_svcrbf = dict()\n",
    "tpr_svcrbf = dict()\n",
    "roc_auc_svcrbf = dict()\n",
    "for i in range(n_classes):\n",
    "    fpr_svcrbf[i], tpr_svcrbf[i], _ = roc_curve(y_true[:, i], y_score[:, i])\n",
    "    roc_auc_svcrbf[i] = auc(fpr_svcrbf[i], tpr_svcrbf[i])\n",
    "    \n",
    "# Compute micro-average ROC curve and ROC area\n",
    "fpr_svcrbf[\"micro\"], tpr_svcrbf[\"micro\"], _ = roc_curve(y_true.ravel(), y_score.ravel())\n",
    "roc_auc_svcrbf[\"micro\"] = auc(fpr_svcrbf[\"micro\"], tpr_svcrbf[\"micro\"])"
   ]
  },
  {
   "cell_type": "markdown",
   "metadata": {},
   "source": [
    "### k nearest neighbours"
   ]
  },
  {
   "cell_type": "code",
   "execution_count": 72,
   "metadata": {},
   "outputs": [
    {
     "data": {
      "text/plain": [
       "(278,)"
      ]
     },
     "execution_count": 72,
     "metadata": {},
     "output_type": "execute_result"
    }
   ],
   "source": [
    "y_predicted = grclf_knn.predict(x_)\n",
    "y_score = grclf_knn.predict_proba(x_)\n",
    "y_score = y_score[:,1] # take positive class\n",
    "y_score.shape"
   ]
  },
  {
   "cell_type": "code",
   "execution_count": 73,
   "metadata": {},
   "outputs": [],
   "source": [
    "y_true = y_.astype(int)\n",
    "y_true = label_binarize(y_true, classes=[0, 1])\n",
    "n_classes = y_true.shape[1]\n",
    "y_score = np.reshape(y_score, (y_score.shape[0],1))\n",
    "\n",
    "# Compute ROC curve and ROC area for each class\n",
    "fpr_knn = dict()\n",
    "tpr_knn = dict()\n",
    "roc_auc_knn = dict()\n",
    "for i in range(n_classes):\n",
    "    fpr_knn[i], tpr_knn[i], _ = roc_curve(y_true[:, i], y_score[:, i])\n",
    "    roc_auc_knn[i] = auc(fpr_knn[i], tpr_knn[i])\n",
    "    \n",
    "# Compute micro-average ROC curve and ROC area\n",
    "fpr_knn[\"micro\"], tpr_knn[\"micro\"], _ = roc_curve(y_true.ravel(), y_score.ravel())\n",
    "roc_auc_knn[\"micro\"] = auc(fpr_knn[\"micro\"], tpr_knn[\"micro\"])"
   ]
  },
  {
   "cell_type": "markdown",
   "metadata": {},
   "source": [
    "### random forest"
   ]
  },
  {
   "cell_type": "code",
   "execution_count": 74,
   "metadata": {},
   "outputs": [
    {
     "data": {
      "text/plain": [
       "(278,)"
      ]
     },
     "execution_count": 74,
     "metadata": {},
     "output_type": "execute_result"
    }
   ],
   "source": [
    "y_predicted = grclf_rf.predict(x_)\n",
    "y_score = grclf_rf.predict_proba(x_)\n",
    "y_score = y_score[:,1] # take positive class\n",
    "y_score.shape"
   ]
  },
  {
   "cell_type": "code",
   "execution_count": 75,
   "metadata": {},
   "outputs": [],
   "source": [
    "y_true = y_.astype(int)\n",
    "y_true = label_binarize(y_true, classes=[0, 1])\n",
    "n_classes = y_true.shape[1]\n",
    "y_score = np.reshape(y_score, (y_score.shape[0],1))\n",
    "\n",
    "# Compute ROC curve and ROC area for each class\n",
    "fpr_rf = dict()\n",
    "tpr_rf = dict()\n",
    "roc_auc_rf = dict()\n",
    "for i in range(n_classes):\n",
    "    fpr_rf[i], tpr_rf[i], _ = roc_curve(y_true[:, i], y_score[:, i])\n",
    "    roc_auc_rf[i] = auc(fpr_rf[i], tpr_rf[i])\n",
    "    \n",
    "# Compute micro-average ROC curve and ROC area\n",
    "fpr_rf[\"micro\"], tpr_rf[\"micro\"], _ = roc_curve(y_true.ravel(), y_score.ravel())\n",
    "roc_auc_rf[\"micro\"] = auc(fpr_rf[\"micro\"], tpr_rf[\"micro\"])"
   ]
  },
  {
   "cell_type": "markdown",
   "metadata": {},
   "source": [
    "### gaussian naive bayes"
   ]
  },
  {
   "cell_type": "code",
   "execution_count": 76,
   "metadata": {},
   "outputs": [
    {
     "data": {
      "text/plain": [
       "(278,)"
      ]
     },
     "execution_count": 76,
     "metadata": {},
     "output_type": "execute_result"
    }
   ],
   "source": [
    "y_predicted = clf_gnb.predict(x_)\n",
    "y_score = clf_gnb.predict_proba(x_)\n",
    "y_score = y_score[:,1] # take positive class\n",
    "y_score.shape"
   ]
  },
  {
   "cell_type": "code",
   "execution_count": 77,
   "metadata": {},
   "outputs": [],
   "source": [
    "y_true = y_.astype(int)\n",
    "y_true = label_binarize(y_true, classes=[0, 1])\n",
    "n_classes = y_true.shape[1]\n",
    "y_score = np.reshape(y_score, (y_score.shape[0],1))\n",
    "\n",
    "# Compute ROC curve and ROC area for each class\n",
    "fpr_nb = dict()\n",
    "tpr_nb = dict()\n",
    "roc_auc_nb = dict()\n",
    "for i in range(n_classes):\n",
    "    fpr_nb[i], tpr_nb[i], _ = roc_curve(y_true[:, i], y_score[:, i])\n",
    "    roc_auc_nb[i] = auc(fpr_nb[i], tpr_nb[i])\n",
    "    \n",
    "# Compute micro-average ROC curve and ROC area\n",
    "fpr_nb[\"micro\"], tpr_nb[\"micro\"], _ = roc_curve(y_true.ravel(), y_score.ravel())\n",
    "roc_auc_nb[\"micro\"] = auc(fpr_nb[\"micro\"], tpr_nb[\"micro\"])"
   ]
  },
  {
   "cell_type": "code",
   "execution_count": 78,
   "metadata": {},
   "outputs": [
    {
     "data": {
      "image/png": "[encoded data removed]",
      "text/plain": [
       "<Figure size 720x576 with 1 Axes>"
      ]
     },
     "metadata": {},
     "output_type": "display_data"
    }
   ],
   "source": [
    "#plt.figure()\n",
    "fig, ax = plt.subplots()\n",
    "fig.set_size_inches(10,8)\n",
    "lw = 4\n",
    "plt.rc('xtick', labelsize=40)\n",
    "plt.rc('ytick', labelsize=40)\n",
    "plt.plot(fpr_svcrbf[0], tpr_svcrbf[0], color='green',\n",
    "         lw=lw, label='RBF SVM (AUC=%0.3f)' % roc_auc_svcrbf[0])\n",
    "plt.plot(fpr_knn[0], tpr_knn[0], color='pink',\n",
    "         lw=lw, label='KNN (AUC=%0.3f)' % roc_auc_knn[0])\n",
    "plt.plot(fpr_rf[0], tpr_rf[0], color='brown',\n",
    "         lw=lw, label='RF (AUC=%0.3f)' % roc_auc_rf[0])\n",
    "plt.plot(fpr_nb[0], tpr_nb[0], color='orange',\n",
    "         lw=lw, label='GNB (AUC=%0.3f)' % roc_auc_nb[0])\n",
    "plt.plot(fpr_b[0], tpr_b[0], color='blue',\n",
    "         lw=lw, label='Base (AUC=%0.3f)' % roc_auc_b[0])\n",
    "plt.plot(fpr_h[0], tpr_h[0], color='red',\n",
    "         lw=lw, label='HPS (AUC=%0.3f)' % roc_auc_h[0])\n",
    "plt.plot([0, 1], [0, 1], color='grey', lw=lw, linestyle='--')\n",
    "plt.xlim([-0.05, 1.00])\n",
    "plt.ylim([0.0, 1.05])\n",
    "plt.xlabel('FPR', fontdict={'size': 40})\n",
    "plt.ylabel('TPR', fontdict={'size': 40})\n",
    "plt.title('ADNI2 AD vs CN', fontdict={'size': 40})\n",
    "plt.legend(loc=\"lower right\", prop={'size': 25})\n",
    "#ax.legend(loc='center left', bbox_to_anchor=(1,0.5), prop={'size': 30})\n",
    "plt.show()\n",
    "fig.savefig(path_results + 'adni2_ad_roc_multi.pdf', bbox_inches='tight')"
   ]
  },
  {
   "cell_type": "markdown",
   "metadata": {},
   "source": [
    "## MCI stable vs converters"
   ]
  },
  {
   "cell_type": "code",
   "execution_count": 79,
   "metadata": {},
   "outputs": [],
   "source": [
    "adni2_mci = pd.read_csv('/home/angela/Desktop/vcog_paper/adni1_vbm_adcn_subtypes_20171209/7clus/adni2_mci_bl_demog_weights.csv')"
   ]
  },
  {
   "cell_type": "code",
   "execution_count": 80,
   "metadata": {},
   "outputs": [],
   "source": [
    "mask_mci = adni2_mci.loc[:,'MCI'].values.astype(bool)\n",
    "adni2_mci = adni2_mci.iloc[mask_mci]"
   ]
  },
  {
   "cell_type": "code",
   "execution_count": 81,
   "metadata": {},
   "outputs": [],
   "source": [
    "adni2_mci.dropna(subset=['sub1','age_scan','gender','mean_gm','tiv'],inplace=True)"
   ]
  },
  {
   "cell_type": "code",
   "execution_count": 82,
   "metadata": {},
   "outputs": [
    {
     "data": {
      "text/plain": [
       "((237, 11), (237,), (237, 4))"
      ]
     },
     "execution_count": 82,
     "metadata": {},
     "output_type": "execute_result"
    }
   ],
   "source": [
    "x_ = adni2_mci.iloc[:, adni2_mci.columns.get_loc(\"sub1\"):adni2_mci.columns.get_loc(\"sub7\")+1].values\n",
    "#x_ = scalerX.transform(x_)\n",
    "y_ = adni2_mci[['conv_2_ad']].values.ravel()\n",
    "\n",
    "\n",
    "confounds = adni2_mci[['gender','age_scan','mean_gm','tiv']].values\n",
    "#confounds = data[['sex','age_r']].values[mask_mci,:]\n",
    "#confounds[:, 1:] = scaler.transform(confounds[:, 1:])\n",
    "#confounds[:, 0] = preprocessing.binarize(confounds[:, 0].reshape(-1, 1), threshold=1)[:, 0]\n",
    "#confounds = scaler.transform(confounds)\n",
    "#x_ = crm.transform(confounds, x_)\n",
    "\n",
    "x_ = scaler.transform(np.hstack((x_,confounds)))\n",
    "\n",
    "x_.shape, y_.shape, confounds.shape"
   ]
  },
  {
   "cell_type": "code",
   "execution_count": 83,
   "metadata": {},
   "outputs": [
    {
     "name": "stdout",
     "output_type": "stream",
     "text": [
      "Level 1\n",
      "------------------------\n",
      "Ratio: 1.0\n",
      "#    :  55.0\n",
      "# true values:  237\n",
      "ACC  :  0.759493670886076\n",
      "Level 2\n",
      "------------------------\n",
      "Ratio: 0.4727272727272727\n",
      "#    :  26.0\n",
      "# true values:  44\n",
      "ACC  :  0.5909090909090909\n"
     ]
    }
   ],
   "source": [
    "array_results, dic_results = hpc.predict(x_, x_)\n",
    "\n",
    "# Level 1\n",
    "print('Level 1')\n",
    "stats_mask(y_, (dic_results['s1df'][:,0]>0).astype(float))\n",
    "\n",
    "print('Level 2')\n",
    "stats_mask(y_, (dic_results['s1df'][:,0]>0).astype(float), dic_results['s2df'][:,1]>0)\n",
    "#stats_mask(dic_results['s2df'][:,2]>0)\n",
    "#stats_mask(dic_results['s2df'][:,3]>0)"
   ]
  },
  {
   "cell_type": "code",
   "execution_count": 84,
   "metadata": {},
   "outputs": [],
   "source": [
    "y_pred = (dic_results['s1df'][:,0]>0).astype(float)\n",
    "lr_decision = dic_results['s2df'][:,1]"
   ]
  },
  {
   "cell_type": "code",
   "execution_count": 85,
   "metadata": {},
   "outputs": [
    {
     "name": "stdout",
     "output_type": "stream",
     "text": [
      "Total number of TARGET subjects:  55.0\n",
      "Total number of NON-TARGET subjects:  182.0\n",
      "Stage 1 number of hits (true and false positives):  76.0\n",
      "Stage 1 TRUE positives:  37.0\n",
      "Stage 1 FALSE positives:  39.0\n",
      "Stage 1 TRUE negatives:  143.0\n",
      "Total number of flagged HPC-AD subjects:  44.0\n",
      "Number of flagged HPC-AD subjects that are TRUE positives:  26\n",
      "Number of flagged HPC-AD subjects that are FALSE positives:  18.0\n",
      "Number of true negatives:  164.0\n",
      "#############################\n",
      "Stage 1 stats for TARGET vs NON-TARGET\n",
      "Precision for AD:  0.4868421052631579\n",
      "Recall (or sensitivity)  for AD:  0.6727272727272727\n",
      "Specificity:  0.7857142857142857\n",
      "Adjusted precision for 33.6% baseline rate:  0.6136921384446137\n",
      "Accuracy:  0.759493670886076\n",
      "#############################\n",
      "Stage 2 stats for TARGET vs NON-TARGET\n",
      "Precision for HPC-AD:  0.5909090909090909\n",
      "Recall (or sensitivity) for HPC-AD:  0.4727272727272727\n",
      "Specificity:  0.9010989010989011\n",
      "Adjusted precision for 33.6% baseline rate:  0.7074905487088575\n",
      "Accuracy:  0.8016877637130801\n"
     ]
    },
    {
     "data": {
      "text/plain": [
       "(0.6727272727272727,\n",
       " 0.7857142857142857,\n",
       " 0.4868421052631579,\n",
       " 0.759493670886076,\n",
       " 0.4727272727272727,\n",
       " 0.9010989010989011,\n",
       " 0.5909090909090909,\n",
       " 0.8016877637130801)"
      ]
     },
     "execution_count": 85,
     "metadata": {},
     "output_type": "execute_result"
    }
   ],
   "source": [
    "predic_stats(y_, y_pred, lr_decision)"
   ]
  },
  {
   "cell_type": "markdown",
   "metadata": {},
   "source": [
    "## ROC curve"
   ]
  },
  {
   "cell_type": "markdown",
   "metadata": {},
   "source": [
    "### base"
   ]
  },
  {
   "cell_type": "code",
   "execution_count": 86,
   "metadata": {},
   "outputs": [
    {
     "data": {
      "text/plain": [
       "(237,)"
      ]
     },
     "execution_count": 86,
     "metadata": {},
     "output_type": "execute_result"
    }
   ],
   "source": [
    "y_predicted = base.predict(x_)\n",
    "y_score = base.decision_function(x_)\n",
    "y_score.shape"
   ]
  },
  {
   "cell_type": "code",
   "execution_count": 87,
   "metadata": {},
   "outputs": [],
   "source": [
    "y_true = y_.astype(int)\n",
    "y_true = label_binarize(y_true, classes=[0, 1])\n",
    "n_classes = y_true.shape[1]\n",
    "y_score = np.reshape(y_score, (y_score.shape[0],1))\n",
    "\n",
    "# Compute ROC curve and ROC area for each class\n",
    "fpr_b = dict()\n",
    "tpr_b = dict()\n",
    "roc_auc_b = dict()\n",
    "for i in range(n_classes):\n",
    "    fpr_b[i], tpr_b[i], _ = roc_curve(y_true[:, i], y_score[:, i])\n",
    "    roc_auc_b[i] = auc(fpr_b[i], tpr_b[i])\n",
    "    \n",
    "# Compute micro-average ROC curve and ROC area\n",
    "fpr_b[\"micro\"], tpr_b[\"micro\"], _ = roc_curve(y_true.ravel(), y_score.ravel())\n",
    "roc_auc_b[\"micro\"] = auc(fpr_b[\"micro\"], tpr_b[\"micro\"])"
   ]
  },
  {
   "cell_type": "code",
   "execution_count": 88,
   "metadata": {},
   "outputs": [
    {
     "name": "stdout",
     "output_type": "stream",
     "text": [
      "Average precision-recall score: 0.54\n"
     ]
    }
   ],
   "source": [
    "average_precision_b = average_precision_score(y_true, y_score)\n",
    "\n",
    "print('Average precision-recall score: {0:0.2f}'.format(\n",
    "      average_precision_b))\n",
    "\n",
    "precision_b, recall_b, _ = precision_recall_curve(y_true, y_score)"
   ]
  },
  {
   "cell_type": "markdown",
   "metadata": {},
   "source": [
    "### HPS "
   ]
  },
  {
   "cell_type": "code",
   "execution_count": 89,
   "metadata": {},
   "outputs": [],
   "source": [
    "y_true = y_.astype(int)\n",
    "y_true = label_binarize(y_, classes=[0, 1])\n",
    "n_classes = y_true.shape[1]\n",
    "y_score = np.reshape(lr_decision, (y_score.shape[0],1))"
   ]
  },
  {
   "cell_type": "code",
   "execution_count": 90,
   "metadata": {},
   "outputs": [],
   "source": [
    "# Compute ROC curve and ROC area for each class\n",
    "fpr_h = dict()\n",
    "tpr_h = dict()\n",
    "roc_auc_h = dict()\n",
    "for i in range(n_classes):\n",
    "    fpr_h[i], tpr_h[i], _ = roc_curve(y_true[:, i], y_score[:, i])\n",
    "    roc_auc_h[i] = auc(fpr_h[i], tpr_h[i])\n",
    "\n",
    "# Compute micro-average ROC curve and ROC area\n",
    "fpr_h[\"micro\"], tpr_h[\"micro\"], _ = roc_curve(y_true.ravel(), y_score.ravel())\n",
    "roc_auc_h[\"micro\"] = auc(fpr_h[\"micro\"], tpr_h[\"micro\"])"
   ]
  },
  {
   "cell_type": "code",
   "execution_count": 91,
   "metadata": {},
   "outputs": [
    {
     "name": "stdout",
     "output_type": "stream",
     "text": [
      "Average precision-recall score: 0.56\n"
     ]
    }
   ],
   "source": [
    "average_precision_h = average_precision_score(y_true, y_score)\n",
    "\n",
    "print('Average precision-recall score: {0:0.2f}'.format(\n",
    "      average_precision_h))\n",
    "\n",
    "precision_h, recall_h, _ = precision_recall_curve(y_true, y_score)"
   ]
  },
  {
   "cell_type": "markdown",
   "metadata": {},
   "source": [
    "### rbf kernel svm"
   ]
  },
  {
   "cell_type": "code",
   "execution_count": 92,
   "metadata": {},
   "outputs": [
    {
     "data": {
      "text/plain": [
       "(237,)"
      ]
     },
     "execution_count": 92,
     "metadata": {},
     "output_type": "execute_result"
    }
   ],
   "source": [
    "y_predicted = grclf_svm.predict(x_)\n",
    "y_score = grclf_svm.decision_function(x_)\n",
    "y_score.shape"
   ]
  },
  {
   "cell_type": "code",
   "execution_count": 93,
   "metadata": {},
   "outputs": [],
   "source": [
    "y_true = y_.astype(int)\n",
    "y_true = label_binarize(y_true, classes=[0, 1])\n",
    "n_classes = y_true.shape[1]\n",
    "y_score = np.reshape(y_score, (y_score.shape[0],1))\n",
    "\n",
    "# Compute ROC curve and ROC area for each class\n",
    "fpr_svcrbf = dict()\n",
    "tpr_svcrbf = dict()\n",
    "roc_auc_svcrbf = dict()\n",
    "for i in range(n_classes):\n",
    "    fpr_svcrbf[i], tpr_svcrbf[i], _ = roc_curve(y_true[:, i], y_score[:, i])\n",
    "    roc_auc_svcrbf[i] = auc(fpr_svcrbf[i], tpr_svcrbf[i])\n",
    "    \n",
    "# Compute micro-average ROC curve and ROC area\n",
    "fpr_svcrbf[\"micro\"], tpr_svcrbf[\"micro\"], _ = roc_curve(y_true.ravel(), y_score.ravel())\n",
    "roc_auc_svcrbf[\"micro\"] = auc(fpr_svcrbf[\"micro\"], tpr_svcrbf[\"micro\"])"
   ]
  },
  {
   "cell_type": "markdown",
   "metadata": {},
   "source": [
    "### k nearest neighbours"
   ]
  },
  {
   "cell_type": "code",
   "execution_count": 94,
   "metadata": {},
   "outputs": [
    {
     "data": {
      "text/plain": [
       "(237,)"
      ]
     },
     "execution_count": 94,
     "metadata": {},
     "output_type": "execute_result"
    }
   ],
   "source": [
    "y_predicted = grclf_knn.predict(x_)\n",
    "y_score = grclf_knn.predict_proba(x_)\n",
    "y_score = y_score[:,1] # take positive class\n",
    "y_score.shape"
   ]
  },
  {
   "cell_type": "code",
   "execution_count": 95,
   "metadata": {},
   "outputs": [],
   "source": [
    "y_true = y_.astype(int)\n",
    "y_true = label_binarize(y_true, classes=[0, 1])\n",
    "n_classes = y_true.shape[1]\n",
    "y_score = np.reshape(y_score, (y_score.shape[0],1))\n",
    "\n",
    "# Compute ROC curve and ROC area for each class\n",
    "fpr_knn = dict()\n",
    "tpr_knn = dict()\n",
    "roc_auc_knn = dict()\n",
    "for i in range(n_classes):\n",
    "    fpr_knn[i], tpr_knn[i], _ = roc_curve(y_true[:, i], y_score[:, i])\n",
    "    roc_auc_knn[i] = auc(fpr_knn[i], tpr_knn[i])\n",
    "    \n",
    "# Compute micro-average ROC curve and ROC area\n",
    "fpr_knn[\"micro\"], tpr_knn[\"micro\"], _ = roc_curve(y_true.ravel(), y_score.ravel())\n",
    "roc_auc_knn[\"micro\"] = auc(fpr_knn[\"micro\"], tpr_knn[\"micro\"])"
   ]
  },
  {
   "cell_type": "markdown",
   "metadata": {},
   "source": [
    "### random forest"
   ]
  },
  {
   "cell_type": "code",
   "execution_count": 96,
   "metadata": {},
   "outputs": [
    {
     "data": {
      "text/plain": [
       "(237,)"
      ]
     },
     "execution_count": 96,
     "metadata": {},
     "output_type": "execute_result"
    }
   ],
   "source": [
    "y_predicted = grclf_rf.predict(x_)\n",
    "y_score = grclf_rf.predict_proba(x_)\n",
    "y_score = y_score[:,1] # take positive class\n",
    "y_score.shape"
   ]
  },
  {
   "cell_type": "code",
   "execution_count": 97,
   "metadata": {},
   "outputs": [],
   "source": [
    "y_true = y_.astype(int)\n",
    "y_true = label_binarize(y_true, classes=[0, 1])\n",
    "n_classes = y_true.shape[1]\n",
    "y_score = np.reshape(y_score, (y_score.shape[0],1))\n",
    "\n",
    "# Compute ROC curve and ROC area for each class\n",
    "fpr_rf = dict()\n",
    "tpr_rf = dict()\n",
    "roc_auc_rf = dict()\n",
    "for i in range(n_classes):\n",
    "    fpr_rf[i], tpr_rf[i], _ = roc_curve(y_true[:, i], y_score[:, i])\n",
    "    roc_auc_rf[i] = auc(fpr_rf[i], tpr_rf[i])\n",
    "    \n",
    "# Compute micro-average ROC curve and ROC area\n",
    "fpr_rf[\"micro\"], tpr_rf[\"micro\"], _ = roc_curve(y_true.ravel(), y_score.ravel())\n",
    "roc_auc_rf[\"micro\"] = auc(fpr_rf[\"micro\"], tpr_rf[\"micro\"])"
   ]
  },
  {
   "cell_type": "markdown",
   "metadata": {},
   "source": [
    "### gaussian naive bayes"
   ]
  },
  {
   "cell_type": "code",
   "execution_count": 98,
   "metadata": {},
   "outputs": [
    {
     "data": {
      "text/plain": [
       "(237,)"
      ]
     },
     "execution_count": 98,
     "metadata": {},
     "output_type": "execute_result"
    }
   ],
   "source": [
    "y_predicted = clf_gnb.predict(x_)\n",
    "y_score = clf_gnb.predict_proba(x_)\n",
    "y_score = y_score[:,1] # take positive class\n",
    "y_score.shape"
   ]
  },
  {
   "cell_type": "code",
   "execution_count": 99,
   "metadata": {},
   "outputs": [],
   "source": [
    "y_true = y_.astype(int)\n",
    "y_true = label_binarize(y_true, classes=[0, 1])\n",
    "n_classes = y_true.shape[1]\n",
    "y_score = np.reshape(y_score, (y_score.shape[0],1))\n",
    "\n",
    "# Compute ROC curve and ROC area for each class\n",
    "fpr_nb = dict()\n",
    "tpr_nb = dict()\n",
    "roc_auc_nb = dict()\n",
    "for i in range(n_classes):\n",
    "    fpr_nb[i], tpr_nb[i], _ = roc_curve(y_true[:, i], y_score[:, i])\n",
    "    roc_auc_nb[i] = auc(fpr_nb[i], tpr_nb[i])\n",
    "    \n",
    "# Compute micro-average ROC curve and ROC area\n",
    "fpr_nb[\"micro\"], tpr_nb[\"micro\"], _ = roc_curve(y_true.ravel(), y_score.ravel())\n",
    "roc_auc_nb[\"micro\"] = auc(fpr_nb[\"micro\"], tpr_nb[\"micro\"])"
   ]
  },
  {
   "cell_type": "code",
   "execution_count": 100,
   "metadata": {},
   "outputs": [
    {
     "data": {
      "image/png": "[encoded data removed]",
      "text/plain": [
       "<Figure size 720x576 with 1 Axes>"
      ]
     },
     "metadata": {},
     "output_type": "display_data"
    }
   ],
   "source": [
    "#plt.figure()\n",
    "fig, ax = plt.subplots()\n",
    "fig.set_size_inches(10,8)\n",
    "lw = 4\n",
    "plt.rc('xtick', labelsize=40)\n",
    "plt.rc('ytick', labelsize=40)\n",
    "plt.plot(fpr_svcrbf[0], tpr_svcrbf[0], color='green',\n",
    "         lw=lw, label='RBF SVM (AUC=%0.3f)' % roc_auc_svcrbf[0])\n",
    "plt.plot(fpr_knn[0], tpr_knn[0], color='pink',\n",
    "         lw=lw, label='KNN (AUC=%0.3f)' % roc_auc_knn[0])\n",
    "plt.plot(fpr_rf[0], tpr_rf[0], color='brown',\n",
    "         lw=lw, label='RF (AUC=%0.3f)' % roc_auc_rf[0])\n",
    "plt.plot(fpr_nb[0], tpr_nb[0], color='orange',\n",
    "         lw=lw, label='GNB (AUC=%0.3f)' % roc_auc_nb[0])\n",
    "plt.plot(fpr_b[0], tpr_b[0], color='blue',\n",
    "         lw=lw, label='Base (AUC=%0.3f)' % roc_auc_b[0])\n",
    "plt.plot(fpr_h[0], tpr_h[0], color='red',\n",
    "         lw=lw, label='HPS (AUC=%0.3f)' % roc_auc_h[0])\n",
    "plt.plot([0, 1], [0, 1], color='grey', lw=lw, linestyle='--')\n",
    "plt.xlim([-0.05, 1.00])\n",
    "plt.ylim([0.0, 1.05])\n",
    "plt.xlabel('FPR', fontdict={'size': 40})\n",
    "plt.ylabel('TPR', fontdict={'size': 40})\n",
    "plt.title('ADNI2 pMCI vs sMCI', fontdict={'size': 40})\n",
    "plt.legend(loc=\"lower right\", prop={'size': 25})\n",
    "#ax.legend(loc='center left', bbox_to_anchor=(1,0.5), prop={'size': 30})\n",
    "plt.show()\n",
    "fig.savefig(path_results + 'adni2_mci_roc_multi.pdf', bbox_inches='tight')"
   ]
  },
  {
   "cell_type": "code",
   "execution_count": null,
   "metadata": {},
   "outputs": [],
   "source": []
  },
  {
   "cell_type": "code",
   "execution_count": null,
   "metadata": {},
   "outputs": [],
   "source": []
  },
  {
   "cell_type": "code",
   "execution_count": null,
   "metadata": {},
   "outputs": [],
   "source": []
  }
 ],
 "metadata": {
  "anaconda-cloud": {},
  "kernelspec": {
   "display_name": "Python [default]",
   "language": "python",
   "name": "python3"
  },
  "language_info": {
   "codemirror_mode": {
    "name": "ipython",
    "version": 3
   },
   "file_extension": ".py",
   "mimetype": "text/x-python",
   "name": "python",
   "nbconvert_exporter": "python",
   "pygments_lexer": "ipython3",
   "version": "3.5.6"
  }
 },
 "nbformat": 4,
 "nbformat_minor": 2
}
