{
 "cells": [
  {
   "cell_type": "code",
   "execution_count": 1,
   "metadata": {},
   "outputs": [
    {
     "name": "stderr",
     "output_type": "stream",
     "text": [
      "/home/angela/anaconda3/envs/vcog_paper_py35/lib/python3.5/site-packages/sklearn/ensemble/weight_boosting.py:29: DeprecationWarning: numpy.core.umath_tests is an internal NumPy module and should not be imported. It will be removed in a future NumPy release.\n",
      "  from numpy.core.umath_tests import inner1d\n",
      "/home/angela/anaconda3/envs/vcog_paper_py35/lib/python3.5/site-packages/statsmodels/compat/pandas.py:56: FutureWarning: The pandas.core.datetools module is deprecated and will be removed in a future version. Please use the pandas.tseries module instead.\n",
      "  from pandas.core import datetools\n"
     ]
    }
   ],
   "source": [
    "import pandas as pd\n",
    "import scipy.io\n",
    "from os import listdir\n",
    "from sklearn.utils import shuffle\n",
    "from sklearn import preprocessing\n",
    "#from nilearn import plotting\n",
    "#from proteus.io import util\n",
    "from proteus.visu import sbp_visu\n",
    "\n",
    "import glob,os\n",
    "#import nibabel as nib\n",
    "\n",
    "\n",
    "import pickle\n",
    "from proteus.predic import high_confidence_at\n",
    "import numpy as np\n",
    "import pandas as pd\n",
    "from proteus.predic import prediction\n",
    "from sklearn import preprocessing\n",
    "from sklearn.model_selection import StratifiedKFold\n",
    "\n",
    "from sklearn.svm import SVC\n",
    "from sklearn.neighbors import KNeighborsClassifier\n",
    "from sklearn.ensemble import RandomForestClassifier\n",
    "from sklearn.naive_bayes import GaussianNB\n",
    "from sklearn.model_selection import GridSearchCV\n",
    "from sklearn.model_selection import StratifiedShuffleSplit\n",
    "\n",
    "from sklearn import metrics\n",
    "\n",
    "import matplotlib.pyplot as plt\n",
    "from matplotlib import cm\n",
    "import seaborn as sns\n",
    "\n",
    "import statsmodels.formula.api as smf\n",
    "import statsmodels.api as sm\n",
    "from statsmodels.stats.multicomp import pairwise_tukeyhsd\n",
    "\n",
    "from copy import deepcopy\n",
    "\n",
    "from itertools import cycle\n",
    "from sklearn.metrics import roc_curve, auc\n",
    "from sklearn.model_selection import train_test_split\n",
    "from sklearn.preprocessing import label_binarize\n",
    "from sklearn.multiclass import OneVsRestClassifier\n",
    "from scipy import interp\n",
    "\n",
    "from sklearn.metrics import average_precision_score\n",
    "from sklearn.metrics import precision_recall_curve"
   ]
  },
  {
   "cell_type": "code",
   "execution_count": 2,
   "metadata": {},
   "outputs": [],
   "source": [
    "def stats_mask(y_true, y_pred, mask_selected=None):\n",
    "    if mask_selected is None:\n",
    "        mask_selected = np.ones(y_pred.shape).astype(bool)\n",
    "    print('------------------------')\n",
    "    print('Ratio:', y_true[mask_selected].sum()/y_true.sum()) \n",
    "    print('#    : ', y_true[mask_selected].sum()) \n",
    "    print('# true values: ',mask_selected.sum())\n",
    "    print('ACC  : ', np.mean((y_true == y_pred)[mask_selected])) "
   ]
  },
  {
   "cell_type": "code",
   "execution_count": 3,
   "metadata": {},
   "outputs": [],
   "source": [
    "def predic_stats(y_, y_pred, lr_decision):\n",
    "    # number of AD subjects\n",
    "    n_ad = sum(y_)\n",
    "    print('Total number of TARGET subjects: ', n_ad)\n",
    "\n",
    "    # number of CN subjects\n",
    "    n_cn = len(y_) - sum(y_)\n",
    "    print('Total number of NON-TARGET subjects: ', n_cn)\n",
    "    \n",
    "    # number of subjects predicted as AD at stage 1\n",
    "    n_pos = sum(y_pred)\n",
    "    print('Stage 1 number of hits (true and false positives): ', n_pos)\n",
    "    \n",
    "    # true positives at stage 1\n",
    "    n_pos_ad = sum(y_pred[y_.astype(bool)])\n",
    "    print('Stage 1 TRUE positives: ', n_pos_ad)\n",
    "    \n",
    "    # false positives at stage 1\n",
    "    n_pos_cn = n_pos - n_pos_ad\n",
    "    print('Stage 1 FALSE positives: ', n_pos_cn)\n",
    "    \n",
    "    # number of CN subjects not identified as positive (true negatives)\n",
    "    n_neg1_cn = n_cn - n_pos_cn\n",
    "    print('Stage 1 TRUE negatives: ', n_neg1_cn)\n",
    "\n",
    "    # number of all flagged HPC-AD subjects\n",
    "    n_flag = sum(y_pred[lr_decision>0])\n",
    "    print('Total number of flagged HPC-AD subjects: ', n_flag)\n",
    "\n",
    "    # number of flagged HPC-AD subjects who are actually AD (true positives)\n",
    "    y_pred_true = y_ + y_pred\n",
    "    y_pred_true = y_pred_true==2\n",
    "    n_flag_ad = sum(y_pred_true[lr_decision>0])\n",
    "    print('Number of flagged HPC-AD subjects that are TRUE positives: ', n_flag_ad)\n",
    "\n",
    "    # number of flagged HPC-AD subjects that are actually CN (false positives)\n",
    "    n_flag_cn = n_flag - n_flag_ad\n",
    "    print('Number of flagged HPC-AD subjects that are FALSE positives: ', n_flag_cn)\n",
    "\n",
    "    # number of CN subjects that were not flagged (true negatives)\n",
    "    n_neg_cn = n_cn - n_flag_cn\n",
    "    print('Number of true negatives: ', n_neg_cn)\n",
    "    \n",
    "    print('#############################')\n",
    "    print('Stage 1 stats for TARGET vs NON-TARGET')\n",
    "    print('Precision for AD: ', n_pos_ad/(n_pos_ad + n_pos_cn))\n",
    "    prec = n_pos_ad/(n_pos_ad + n_pos_cn)\n",
    "    print('Recall (or sensitivity)  for AD: ', n_pos_ad/n_ad)\n",
    "    sens = n_pos_ad/n_ad\n",
    "    print('Specificity: ', n_neg1_cn/n_cn)\n",
    "    spec = n_neg1_cn/n_cn\n",
    "    fp = (1-spec)*664\n",
    "    tp = sens*336\n",
    "    adj_prec = tp/(tp+fp)\n",
    "    print('Adjusted precision for 33.6% baseline rate: ', adj_prec)\n",
    "    print('Accuracy: ', (n_pos_ad + n_neg1_cn)/(n_ad + n_cn))\n",
    "    acc = (n_pos_ad + n_neg1_cn)/(n_ad + n_cn)\n",
    "\n",
    "    print('#############################')\n",
    "    print('Stage 2 stats for TARGET vs NON-TARGET')\n",
    "    print('Precision for HPC-AD: ', n_flag_ad/n_flag)\n",
    "    prec_2 = n_flag_ad/n_flag\n",
    "    print('Recall (or sensitivity) for HPC-AD: ', n_flag_ad/n_ad)\n",
    "    sens_2 = n_flag_ad/n_ad\n",
    "    print('Specificity: ', n_neg_cn/n_cn)\n",
    "    spec_2 = n_neg_cn/n_cn\n",
    "    fp_2 = (1-spec_2)*664\n",
    "    tp_2 = sens_2*336\n",
    "    adj_prec_2 = tp_2/(tp_2 + fp_2)\n",
    "    print('Adjusted precision for 33.6% baseline rate: ', adj_prec_2)\n",
    "    print('Accuracy: ', (n_flag_ad + n_neg_cn)/(n_ad + n_cn))\n",
    "    acc_2 = (n_flag_ad + n_neg_cn)/(n_ad + n_cn)\n",
    "    \n",
    "    return sens, spec, prec, acc, sens_2, spec_2, prec_2, acc_2"
   ]
  },
  {
   "cell_type": "code",
   "execution_count": 4,
   "metadata": {},
   "outputs": [],
   "source": [
    "sns.set(font_scale=2)\n",
    "sns.set_style(\"white\")\n",
    "#sns.set_context(\"paper\")\n",
    "#sns.set_palette(\"colorblind\")\n",
    "#sns.set_palette(\"GnBu_d\")\n",
    "\n",
    "#sns.set_palette(sns.cubehelix_palette(n_colors=8))\n",
    "#sns.set_palette(sns.color_palette(\"BrBG\", 6))\n",
    "\n",
    "cpal = [\"#F0DFB2\", \"#CFA255\", \"#995D12\", \"#B3E2DB\", \"#58B0A6\", \"#0D7068\"]\n",
    "sns.set_palette(cpal)\n"
   ]
  },
  {
   "cell_type": "code",
   "execution_count": 5,
   "metadata": {},
   "outputs": [],
   "source": [
    "path_results = '/home/angela/Desktop/vcog_paper/gigascience/third_submission/roc/cog/'"
   ]
  },
  {
   "cell_type": "markdown",
   "metadata": {},
   "source": [
    "## Load longitudinal data "
   ]
  },
  {
   "cell_type": "code",
   "execution_count": 6,
   "metadata": {},
   "outputs": [],
   "source": [
    "np.random.seed(1)\n",
    "#np.random.RandomState(1)"
   ]
  },
  {
   "cell_type": "code",
   "execution_count": 7,
   "metadata": {},
   "outputs": [
    {
     "name": "stderr",
     "output_type": "stream",
     "text": [
      "/home/angela/anaconda3/envs/vcog_paper_py35/lib/python3.5/site-packages/IPython/core/interactiveshell.py:2785: DtypeWarning: Columns (101) have mixed types. Specify dtype option on import or set low_memory=False.\n",
      "  interactivity=interactivity, compiler=compiler, result=result)\n"
     ]
    }
   ],
   "source": [
    "long_data = pd.read_csv('/home/angela/Documents/adni_csv/adnimerge_upenn_unw_av45_neurobat.csv')"
   ]
  },
  {
   "cell_type": "markdown",
   "metadata": {},
   "source": [
    "# Load data for the training set (ADNI1)"
   ]
  },
  {
   "cell_type": "code",
   "execution_count": 8,
   "metadata": {},
   "outputs": [],
   "source": [
    "data = pd.read_csv('/home/angela/Desktop/vcog_paper/adni1_vbm_adcn_subtypes_20171209/7clus/adni1_model_weights.csv')"
   ]
  },
  {
   "cell_type": "code",
   "execution_count": 9,
   "metadata": {},
   "outputs": [],
   "source": [
    "data.dropna(subset=['sub1','age_scan','gender','mean_gm','tiv', 'ADAS13','ADNI_MEM','ADNI_EF','BNTTOTAL','CLOCKSCOR'],\n",
    "            inplace=True)"
   ]
  },
  {
   "cell_type": "code",
   "execution_count": 10,
   "metadata": {},
   "outputs": [],
   "source": [
    "data = data[['RID','age_scan','gender','mean_gm','tiv',\n",
    "             'ADAS13','ADNI_MEM','ADNI_EF','BNTTOTAL','CLOCKSCOR',\n",
    "             'sub1','sub2','sub3','sub4','sub5','sub6','sub7',\n",
    "             'ABETA','TAU','conv_2_ad','AD','MCI','CN','APOE4_bin','DX']]"
   ]
  },
  {
   "cell_type": "markdown",
   "metadata": {},
   "source": [
    "# Organize the AD & CN data for classification task"
   ]
  },
  {
   "cell_type": "code",
   "execution_count": 11,
   "metadata": {
    "scrolled": true
   },
   "outputs": [],
   "source": [
    "# Mask of the CN and AD subjects only\n",
    "mask_cnad = data.loc[:,['CN','AD']].values.sum(1).astype(bool)"
   ]
  },
  {
   "cell_type": "code",
   "execution_count": 12,
   "metadata": {},
   "outputs": [
    {
     "data": {
      "text/plain": [
       "((370, 9), (370,), (370, 4))"
      ]
     },
     "execution_count": 12,
     "metadata": {},
     "output_type": "execute_result"
    }
   ],
   "source": [
    "#reload(high_confidence)\n",
    "scalerX = preprocessing.StandardScaler()\n",
    "scaler = preprocessing.StandardScaler()\n",
    "\n",
    "x_ = data.iloc[mask_cnad,data.columns.get_loc(\"ADAS13\"):data.columns.get_loc(\"CLOCKSCOR\")+1].values\n",
    "#x_ = scalerX.fit_transform(x_)\n",
    "y_ = data[['AD']].values.ravel()[mask_cnad]\n",
    "\n",
    "confounds = data[['gender','age_scan','mean_gm','tiv']].values[mask_cnad,:]\n",
    "#confounds = data[['sex','age_r']].values[mask_cnad,:]\n",
    "#confounds[:, 1:] = scaler.fit_transform(confounds[:, 1:])\n",
    "#confounds[:, 0] = preprocessing.binarize(confounds[:, 0].reshape(-1, 1), threshold=1)[:, 0]\n",
    "\n",
    "#crm = prediction.ConfoundsRm(confounds, x_)\n",
    "#x_ = crm.transform(confounds, x_)\n",
    "\n",
    "x_ = scaler.fit_transform(np.hstack((x_,confounds)))\n",
    "#x_ = np.hstack((x_,confounds))\n",
    "\n",
    "\n",
    "x_.shape, y_.shape, confounds.shape"
   ]
  },
  {
   "cell_type": "markdown",
   "metadata": {},
   "source": [
    "# Cross-validation HPC in ADNI1 AD & CN"
   ]
  },
  {
   "cell_type": "code",
   "execution_count": 13,
   "metadata": {
    "scrolled": true
   },
   "outputs": [
    {
     "name": "stdout",
     "output_type": "stream",
     "text": [
      "Stage 1\n",
      "Proba:\n",
      "[1.         1.         1.         1.         1.         0.98755187\n",
      " 1.         1.         1.         1.         0.87649402 1.\n",
      " 1.         1.         1.         1.         1.         1.\n",
      " 1.         1.         1.         1.         1.         1.\n",
      " 1.         1.         1.         1.         1.         1.\n",
      " 0.99595142 1.         1.         1.         1.         1.\n",
      " 1.         1.         1.         1.         1.         1.\n",
      " 1.         1.         1.         1.         1.         1.\n",
      " 1.         1.         1.         1.         1.         1.\n",
      " 1.         1.         1.         1.         0.9958159  1.\n",
      " 0.98387097 1.         1.         1.         1.         1.\n",
      " 1.         1.         1.         1.         1.         1.\n",
      " 1.         1.         1.         1.         1.         1.\n",
      " 1.         1.         1.         1.         1.         1.\n",
      " 1.         1.         1.         1.         1.         1.\n",
      " 1.         1.         1.         1.         1.         0.84063745\n",
      " 1.         1.         0.06995885 1.         1.         1.\n",
      " 1.         1.         0.99242424 0.26848249 1.         1.\n",
      " 1.         0.93562232 0.93951613 1.         0.06934307 1.\n",
      " 0.61666667 0.30379747 1.         1.         1.         1.\n",
      " 1.         1.         0.8458498  1.         1.         1.\n",
      " 1.         1.         1.         1.         1.         1.\n",
      " 1.         1.         0.91304348 1.         1.         1.\n",
      " 1.         1.         0.         1.         1.         1.\n",
      " 1.         1.         1.         1.         1.         1.\n",
      " 1.         1.         1.         0.95801527 1.         1.\n",
      " 0.50420168 1.         1.         1.         1.         1.\n",
      " 1.         1.         1.         1.         1.         1.\n",
      " 0.98418972 1.         1.         1.         0.67916667 1.\n",
      " 1.         1.         1.         1.         1.         1.\n",
      " 1.         1.         1.         1.         1.         1.\n",
      " 1.         1.         1.         1.         1.         1.\n",
      " 1.         1.         1.         1.         1.         1.\n",
      " 1.         1.         1.         1.         1.         1.\n",
      " 1.         1.         1.         1.         1.         1.\n",
      " 1.         0.98275862 1.         1.         1.         1.\n",
      " 1.         1.         1.         1.         1.         1.\n",
      " 1.         1.         1.         1.         1.         1.\n",
      " 1.         1.         1.         0.99615385 1.         1.\n",
      " 1.         1.         1.         1.         1.         1.\n",
      " 1.         1.         1.         1.         1.         1.        ]\n",
      "Average hm score 0.9065040650406504\n",
      "Stage 2\n",
      "Adjusted gamma:  1.0\n",
      "Adjusted gamma:  1.0\n",
      "Classifying AD vs CN...\n",
      "[0. 0. 0. 1. 0. 0. 0. 0. 0. 0. 0. 1. 0. 0. 0. 0. 0. 1. 0. 0. 0. 0. 0. 0.\n",
      " 0. 0. 0. 1. 1. 0. 1. 1. 0. 1. 0. 0. 1. 1. 1. 0. 0. 0. 0. 1. 1. 0. 0. 0.\n",
      " 0. 1. 0. 1. 1. 1. 0. 1. 0. 0. 0. 0. 0. 0. 1. 0. 0. 1. 1. 0. 0. 1. 1. 0.\n",
      " 1. 0. 0. 0. 0. 0. 0. 1. 0. 0. 1. 0. 0. 1. 1. 0. 0. 1. 0. 0. 0. 0. 1. 0.\n",
      " 1. 0. 1. 1. 1. 1. 0. 1. 0. 0. 1. 1. 1. 1. 1. 1. 1. 1. 1. 1. 1. 1. 1. 1.\n",
      " 1. 0. 1. 1.]\n",
      "Total number of TARGET subjects:  55.0\n",
      "Total number of NON-TARGET subjects:  69.0\n",
      "Stage 1 number of hits (true and false positives):  53.0\n",
      "Stage 1 TRUE positives:  52.0\n",
      "Stage 1 FALSE positives:  1.0\n",
      "Stage 1 TRUE negatives:  68.0\n",
      "Total number of flagged HPC-AD subjects:  48.0\n",
      "Number of flagged HPC-AD subjects that are TRUE positives:  48\n",
      "Number of flagged HPC-AD subjects that are FALSE positives:  0.0\n",
      "Number of true negatives:  69.0\n",
      "#############################\n",
      "Stage 1 stats for TARGET vs NON-TARGET\n",
      "Precision for AD:  0.9811320754716981\n",
      "Recall (or sensitivity)  for AD:  0.9454545454545454\n",
      "Specificity:  0.9855072463768116\n",
      "Adjusted precision for 33.6% baseline rate:  0.9705978964453406\n",
      "Accuracy:  0.967741935483871\n",
      "#############################\n",
      "Stage 2 stats for TARGET vs NON-TARGET\n",
      "Precision for HPC-AD:  1.0\n",
      "Recall (or sensitivity) for HPC-AD:  0.8727272727272727\n",
      "Specificity:  1.0\n",
      "Adjusted precision for 33.6% baseline rate:  1.0\n",
      "Accuracy:  0.9435483870967742\n",
      "Stage 1\n",
      "Proba:\n",
      "[0.47808765 1.         1.         1.         1.         1.\n",
      " 1.         1.         1.         1.         1.         1.\n",
      " 1.         1.         1.         1.         1.         1.\n",
      " 1.         1.         1.         1.         1.         1.\n",
      " 1.         0.99173554 1.         1.         1.         1.\n",
      " 1.         1.         1.         1.         1.         1.\n",
      " 0.99595142 1.         1.         1.         1.         1.\n",
      " 1.         1.         1.         1.         1.         1.\n",
      " 1.         1.         1.         1.         1.         1.\n",
      " 1.         1.         1.         0.07630522 1.         1.\n",
      " 1.         1.         1.         1.         1.         1.\n",
      " 1.         1.         1.         1.         0.9922179  1.\n",
      " 1.         1.         1.         0.66666667 1.         1.\n",
      " 1.         0.98015873 1.         1.         1.         1.\n",
      " 1.         1.         0.27667984 1.         1.         0.76226415\n",
      " 0.         1.         1.         1.         1.         1.\n",
      " 1.         1.         1.         1.         1.         1.\n",
      " 1.         1.         1.         1.         1.         0.8\n",
      " 1.         0.02521008 1.         1.         1.         1.\n",
      " 1.         1.         1.         1.         1.         1.\n",
      " 1.         0.         1.         1.         1.         1.\n",
      " 1.         0.34008097 1.         1.         0.22510823 1.\n",
      " 1.         0.1902834  0.83921569 1.         1.         1.\n",
      " 1.         1.         1.         1.         1.         1.\n",
      " 1.         1.         1.         1.         1.         1.\n",
      " 1.         1.         1.         1.         1.         1.\n",
      " 1.         1.         1.         0.70881226 1.         1.\n",
      " 1.         1.         1.         1.         1.         1.\n",
      " 1.         0.99588477 1.         1.         1.         0.66945607\n",
      " 1.         1.         1.         1.         1.         0.9916318\n",
      " 1.         0.99570815 1.         1.         1.         1.\n",
      " 1.         1.         1.         1.         1.         1.\n",
      " 1.         1.         1.         1.         1.         1.\n",
      " 1.         1.         1.         1.         1.         1.\n",
      " 1.         1.         1.         1.         1.         1.\n",
      " 1.         1.         0.90041494 1.         1.         1.\n",
      " 1.         1.         1.         1.         1.         1.\n",
      " 0.9561753  1.         1.         1.         1.         1.\n",
      " 1.         1.         1.         1.         0.80237154 1.\n",
      " 1.         1.         1.         1.         1.         1.\n",
      " 1.         1.         1.         1.         1.         1.\n",
      " 1.        ]\n",
      "Average hm score 0.8987854251012146\n",
      "Stage 2\n",
      "Adjusted gamma:  1.0\n",
      "Adjusted gamma:  1.0\n",
      "Classifying AD vs CN...\n",
      "[0. 0. 0. 0. 0. 0. 0. 0. 0. 0. 0. 0. 0. 0. 0. 0. 0. 0. 0. 0. 0. 0. 0. 0.\n",
      " 0. 0. 0. 0. 0. 0. 0. 0. 0. 0. 0. 0. 0. 1. 0. 0. 0. 1. 0. 0. 1. 0. 1. 0.\n",
      " 0. 0. 1. 0. 1. 0. 1. 1. 0. 0. 1. 0. 0. 1. 0. 0. 0. 0. 0. 1. 0. 0. 0. 1.\n",
      " 1. 0. 1. 0. 1. 0. 1. 1. 0. 1. 0. 1. 0. 1. 0. 0. 1. 1. 1. 1. 1. 1. 0. 1.\n",
      " 1. 1. 1. 1. 1. 1. 1. 1. 0. 1. 1. 1. 1. 1. 1. 1. 1. 0. 1. 1. 1. 1. 1. 1.\n",
      " 1. 1. 1.]\n",
      "Total number of TARGET subjects:  55.0\n",
      "Total number of NON-TARGET subjects:  68.0\n",
      "Stage 1 number of hits (true and false positives):  52.0\n",
      "Stage 1 TRUE positives:  52.0\n",
      "Stage 1 FALSE positives:  0.0\n",
      "Stage 1 TRUE negatives:  68.0\n",
      "Total number of flagged HPC-AD subjects:  45.0\n",
      "Number of flagged HPC-AD subjects that are TRUE positives:  45\n",
      "Number of flagged HPC-AD subjects that are FALSE positives:  0.0\n",
      "Number of true negatives:  68.0\n",
      "#############################\n",
      "Stage 1 stats for TARGET vs NON-TARGET\n",
      "Precision for AD:  1.0\n",
      "Recall (or sensitivity)  for AD:  0.9454545454545454\n",
      "Specificity:  1.0\n",
      "Adjusted precision for 33.6% baseline rate:  1.0\n",
      "Accuracy:  0.975609756097561\n",
      "#############################\n",
      "Stage 2 stats for TARGET vs NON-TARGET\n",
      "Precision for HPC-AD:  1.0\n",
      "Recall (or sensitivity) for HPC-AD:  0.8181818181818182\n",
      "Specificity:  1.0\n",
      "Adjusted precision for 33.6% baseline rate:  1.0\n",
      "Accuracy:  0.9186991869918699\n",
      "Stage 1\n",
      "Proba:\n",
      "[0.54581673 1.         1.         1.         1.         1.\n",
      " 1.         1.         1.         1.         1.         1.\n",
      " 1.         1.         1.         1.         1.         1.\n",
      " 1.         1.         1.         1.         1.         1.\n",
      " 0.91696751 0.97107438 0.99578059 1.         1.         1.\n",
      " 1.         1.         1.         1.         1.         1.\n",
      " 0.99190283 1.         1.         1.         1.         1.\n",
      " 1.         1.         1.         1.         1.         1.\n",
      " 1.         1.         1.         1.         1.         1.\n",
      " 1.         0.76893939 1.         0.65863454 1.         1.\n",
      " 1.         1.         1.         1.         1.         1.\n",
      " 1.         1.         1.         1.         0.99610895 1.\n",
      " 1.         1.         1.         0.61382114 1.         1.\n",
      " 1.         1.         1.         1.         1.         1.\n",
      " 1.         1.         0.24505929 1.         1.         0.23018868\n",
      " 0.044      0.97142857 1.         1.         1.         1.\n",
      " 1.         1.         1.         1.         1.         1.\n",
      " 1.         1.         1.         1.         1.         1.\n",
      " 1.         0.9245283  1.         0.81512605 1.         1.\n",
      " 1.         1.         1.         1.         0.99264706 1.\n",
      " 1.         1.         1.         1.         1.         0.10196078\n",
      " 1.         1.         1.         1.         1.         1.\n",
      " 1.         1.         1.         1.         1.         1.\n",
      " 1.         1.         1.         1.         1.         1.\n",
      " 1.         1.         0.99579832 1.         1.         1.\n",
      " 1.         0.99095023 0.         1.         1.         1.\n",
      " 1.         1.         1.         1.         1.         1.\n",
      " 1.         0.99137931 1.         1.         1.         1.\n",
      " 1.         1.         1.         1.         1.         1.\n",
      " 1.         1.         1.         1.         0.99601594 1.\n",
      " 1.         1.         0.99166667 1.         0.98367347 1.\n",
      " 1.         1.         1.         1.         1.         1.\n",
      " 1.         1.         1.         1.         1.         1.\n",
      " 1.         1.         1.         1.         1.         1.\n",
      " 1.         1.         1.         1.         1.         1.\n",
      " 1.         1.         1.         1.         1.         1.\n",
      " 1.         1.         0.48790323 1.         1.         1.\n",
      " 1.         1.         1.         1.         1.         1.\n",
      " 0.675      1.         1.         1.         1.         1.\n",
      " 0.98076923 1.         1.         0.         1.         1.\n",
      " 1.         1.         0.925      1.         1.         1.\n",
      " 1.        ]\n"
     ]
    },
    {
     "name": "stdout",
     "output_type": "stream",
     "text": [
      "Average hm score 0.8825910931174089\n",
      "Stage 2\n",
      "Adjusted gamma:  1.0\n",
      "Adjusted gamma:  1.0\n",
      "Classifying AD vs CN...\n",
      "[0. 0. 0. 1. 0. 0. 1. 0. 0. 1. 0. 0. 0. 0. 0. 0. 0. 0. 0. 0. 0. 0. 0. 0.\n",
      " 0. 0. 0. 0. 0. 0. 0. 0. 0. 0. 0. 0. 0. 0. 0. 0. 0. 1. 1. 1. 1. 1. 0. 1.\n",
      " 1. 1. 0. 1. 0. 1. 0. 0. 1. 1. 1. 1. 0. 0. 1. 1. 1. 1. 1. 1. 0. 1. 1. 1.\n",
      " 0. 0. 0. 0. 1. 0. 0. 1. 1. 1. 0. 0. 1. 0. 0. 0. 1. 1. 0. 1. 0. 1. 1. 0.\n",
      " 0. 0. 1. 1. 0. 1. 1. 0. 1. 0. 1. 1. 1. 1. 1. 1. 1. 1. 1. 1. 1. 1. 1. 1.\n",
      " 1. 1. 1.]\n",
      "Total number of TARGET subjects:  55.0\n",
      "Total number of NON-TARGET subjects:  68.0\n",
      "Stage 1 number of hits (true and false positives):  58.0\n",
      "Stage 1 TRUE positives:  55.0\n",
      "Stage 1 FALSE positives:  3.0\n",
      "Stage 1 TRUE negatives:  65.0\n",
      "Total number of flagged HPC-AD subjects:  51.0\n",
      "Number of flagged HPC-AD subjects that are TRUE positives:  51\n",
      "Number of flagged HPC-AD subjects that are FALSE positives:  0.0\n",
      "Number of true negatives:  68.0\n",
      "#############################\n",
      "Stage 1 stats for TARGET vs NON-TARGET\n",
      "Precision for AD:  0.9482758620689655\n",
      "Recall (or sensitivity)  for AD:  1.0\n",
      "Specificity:  0.9558823529411765\n",
      "Adjusted precision for 33.6% baseline rate:  0.9198067632850243\n",
      "Accuracy:  0.975609756097561\n",
      "#############################\n",
      "Stage 2 stats for TARGET vs NON-TARGET\n",
      "Precision for HPC-AD:  1.0\n",
      "Recall (or sensitivity) for HPC-AD:  0.9272727272727272\n",
      "Specificity:  1.0\n",
      "Adjusted precision for 33.6% baseline rate:  1.0\n",
      "Accuracy:  0.967479674796748\n"
     ]
    }
   ],
   "source": [
    "scores_ad_cn=[]\n",
    "scores_s2 = []\n",
    "ad_precision = []\n",
    "cn_precision = []\n",
    "ad_recall = []\n",
    "cn_recall = []\n",
    "ad_f1_score = []\n",
    "cn_f1_score = []\n",
    "\n",
    "s1_spec = []\n",
    "s1_sens = []\n",
    "s1_prec = []\n",
    "s1_acc = []\n",
    "\n",
    "s2_spec = []\n",
    "s2_sens = []\n",
    "s2_prec = []\n",
    "s2_acc = []\n",
    "\n",
    "\n",
    "skf = StratifiedKFold(n_splits=3)\n",
    "for train_index, val_index in skf.split(x_,y_):\n",
    "    X_training, X_val = x_[train_index], x_[val_index]\n",
    "    y_training, y_val = y_[train_index], y_[val_index]\n",
    "    \n",
    "    hpc = high_confidence_at.TwoStagesPrediction(\n",
    "        n_iter=500,\n",
    "        shuffle_test_split=0.5,\n",
    "        min_gamma=.99,\n",
    "        thresh_ratio=0.1)\n",
    "    \n",
    "    hpc.fit(X_training, X_training, y_training)\n",
    "    \n",
    "    _, dic_results = hpc.predict(X_val, X_val)\n",
    "    \n",
    "    # test in validation sample\n",
    "    acc = metrics.accuracy_score(y_val, (dic_results['s1df'][:,0]>0).astype(float))\n",
    "    tmp_mask = (dic_results['s2df'][:,1]>0)\n",
    "    acc_s2 = metrics.accuracy_score(y_val[tmp_mask], (dic_results['s1df'][:,0]>0).astype(float)[tmp_mask])\n",
    "    scores_ad_cn.append(acc)\n",
    "    scores_s2.append(acc_s2)\n",
    "    print('Classifying AD vs CN...')\n",
    "    print((dic_results['s1df'][:,0]>0).astype(float))\n",
    "    \n",
    "    y_pred = (dic_results['s1df'][:,0]>0).astype(float)\n",
    "    lr_decision = dic_results['s2df'][:,1]\n",
    "    \n",
    "    # BASE SVM PERFORMANCE\n",
    "    ad_p = metrics.precision_score(y_val, y_pred)\n",
    "    ad_precision.append(ad_p)\n",
    "    cn_p = metrics.precision_score(y_val, y_pred, pos_label=0)\n",
    "    cn_precision.append(cn_p)\n",
    "    ad_r = metrics.recall_score(y_val, y_pred)\n",
    "    ad_recall.append(ad_r)\n",
    "    cn_r = metrics.recall_score(y_val, y_pred, pos_label=0)\n",
    "    cn_recall.append(cn_r)\n",
    "    ad_f1 = metrics.f1_score(y_val, y_pred)\n",
    "    ad_f1_score.append(ad_f1)\n",
    "    cn_f1 = metrics.f1_score(y_val, y_pred, pos_label=0)\n",
    "    cn_f1_score.append(cn_f1)\n",
    "    \n",
    "    \n",
    "    sens, spec, prec, acc, sens_2, spec_2, prec_2, acc_2 = predic_stats(y_val, y_pred, lr_decision)\n",
    "    s1_spec.append(spec)\n",
    "    s1_sens.append(sens)\n",
    "    s1_prec.append(prec)\n",
    "    s1_acc.append(acc)\n",
    "    s2_spec.append(spec_2)\n",
    "    s2_sens.append(sens_2)\n",
    "    s2_prec.append(prec_2)\n",
    "    s2_acc.append(acc_2)"
   ]
  },
  {
   "cell_type": "code",
   "execution_count": 14,
   "metadata": {},
   "outputs": [
    {
     "name": "stdout",
     "output_type": "stream",
     "text": [
      "Stage 1\n",
      "Mean sensitivity:  0.9636363636363635\n",
      "Mean specificity:  0.9804631997726627\n",
      "Mean precision:  0.9764693125135545\n",
      "Mean accuracy:  0.972987149226331\n",
      "##########\n",
      "Stage 2\n",
      "Mean sensitivity:  0.8727272727272727\n",
      "Mean specificity:  1.0\n",
      "Mean precision:  1.0\n",
      "Mean accuracy:  0.9432424162951308\n"
     ]
    }
   ],
   "source": [
    "print('Stage 1')\n",
    "print('Mean sensitivity: ', np.mean(s1_sens))\n",
    "print('Mean specificity: ', np.mean(s1_spec))\n",
    "print('Mean precision: ', np.mean(s1_prec))\n",
    "print('Mean accuracy: ', np.mean(s1_acc))\n",
    "print('#'*10)\n",
    "print('Stage 2')\n",
    "print('Mean sensitivity: ', np.mean(s2_sens))\n",
    "print('Mean specificity: ', np.mean(s2_spec))\n",
    "print('Mean precision: ', np.mean(s2_prec))\n",
    "print('Mean accuracy: ', np.mean(s2_acc))"
   ]
  },
  {
   "cell_type": "markdown",
   "metadata": {},
   "source": [
    "# Train HPC (on whole training set of ADNI1 AD & CN)"
   ]
  },
  {
   "cell_type": "code",
   "execution_count": 15,
   "metadata": {
    "scrolled": true
   },
   "outputs": [
    {
     "name": "stdout",
     "output_type": "stream",
     "text": [
      "Stage 1\n",
      "Proba:\n",
      "[0.70416667 1.         1.         1.         1.         1.\n",
      " 1.         1.         1.         1.         1.         1.\n",
      " 1.         1.         1.         1.         1.         1.\n",
      " 1.         1.         1.         1.         1.         1.\n",
      " 0.9766537  0.95454545 1.         1.         1.         1.\n",
      " 1.         1.         1.         1.         1.         1.\n",
      " 1.         1.         1.         1.         1.         1.\n",
      " 1.         1.         1.         1.         1.         1.\n",
      " 1.         1.         1.         1.         1.         1.\n",
      " 1.         0.97165992 1.         0.36       1.         1.\n",
      " 1.         1.         1.         1.         1.         1.\n",
      " 1.         1.         1.         1.         1.         1.\n",
      " 1.         1.         1.         0.47983871 1.         1.\n",
      " 1.         1.         1.         1.         1.         1.\n",
      " 1.         1.         0.63052209 1.         1.         0.12840467\n",
      " 0.         1.         1.         1.         1.         1.\n",
      " 1.         1.         1.         1.         1.         1.\n",
      " 1.         1.         1.         1.         1.         1.\n",
      " 1.         0.97233202 1.         0.68379447 1.         1.\n",
      " 1.         1.         1.         1.         1.         1.\n",
      " 1.         1.         1.         1.         1.         0.58364312\n",
      " 1.         1.         1.         1.         1.         1.\n",
      " 1.         1.         1.         1.         1.         1.\n",
      " 1.         1.         1.         1.         1.         1.\n",
      " 1.         1.         1.         0.99578059 1.         1.\n",
      " 1.         1.         0.         1.         1.         1.\n",
      " 1.         1.         1.         1.         1.         1.\n",
      " 1.         1.         1.         1.         1.         1.\n",
      " 1.         1.         1.         1.         1.         1.\n",
      " 1.         1.         1.         1.         1.         1.\n",
      " 1.         1.         1.         1.         0.97647059 1.\n",
      " 1.         1.         1.         1.         1.         1.\n",
      " 1.         1.         1.         1.         1.         1.\n",
      " 1.         1.         1.         1.         1.         1.\n",
      " 1.         1.         1.         1.         1.         1.\n",
      " 1.         1.         1.         1.         1.         1.\n",
      " 1.         1.         1.         0.49367089 1.         1.\n",
      " 0.29365079 1.         1.         1.         1.         1.\n",
      " 1.         0.1042471  1.         1.         1.         1.\n",
      " 1.         1.         0.01626016 1.         0.82170543 0.61316872\n",
      " 1.         1.         1.         1.         1.         1.\n",
      " 1.         1.         1.         1.         1.         1.\n",
      " 1.         1.         1.         1.         1.         1.\n",
      " 0.95256917 1.         1.         1.         1.         1.\n",
      " 0.         1.         1.         1.         1.         1.\n",
      " 1.         1.         1.         1.         1.         1.\n",
      " 1.         0.96124031 1.         1.         0.92765957 1.\n",
      " 1.         1.         1.         1.         1.         1.\n",
      " 1.         1.         1.         1.         1.         1.\n",
      " 1.         1.         0.94488189 1.         1.         1.\n",
      " 1.         1.         0.99111111 1.         0.99601594 1.\n",
      " 1.         1.         1.         1.         1.         1.\n",
      " 1.         1.         1.         1.         1.         1.\n",
      " 1.         1.         1.         1.         1.         1.\n",
      " 1.         1.         1.         1.         1.         1.\n",
      " 1.         1.         1.         1.         1.         0.99607843\n",
      " 1.         1.         1.         1.         1.         1.\n",
      " 1.         1.         1.         1.         1.         1.\n",
      " 1.         1.         1.         1.         1.         1.\n",
      " 1.         0.99606299 1.         1.         1.         1.\n",
      " 1.         1.         1.         1.         1.         1.\n",
      " 1.         1.         1.         1.        ]\n",
      "Average hm score 0.918918918918919\n",
      "Stage 2\n",
      "Adjusted gamma:  1.0\n",
      "Adjusted gamma:  1.0\n"
     ]
    }
   ],
   "source": [
    "#reload(high_confidence)\n",
    "hpc = high_confidence_at.TwoStagesPrediction(\n",
    "    n_iter=500,\n",
    "    shuffle_test_split=0.5,\n",
    "    min_gamma=.99,\n",
    "    thresh_ratio=0.1)\n",
    "\n",
    "hpc.fit(x_, x_, y_)"
   ]
  },
  {
   "cell_type": "code",
   "execution_count": 16,
   "metadata": {},
   "outputs": [
    {
     "name": "stdout",
     "output_type": "stream",
     "text": [
      "Level 1\n",
      "------------------------\n",
      "Ratio: 1.0\n",
      "#    :  165.0\n",
      "# true values:  370\n",
      "ACC  :  0.9756756756756757\n",
      "Level 2\n",
      "------------------------\n",
      "Ratio: 0.9090909090909091\n",
      "#    :  150.0\n",
      "# true values:  150\n",
      "ACC  :  1.0\n"
     ]
    }
   ],
   "source": [
    "array_results, dic_results = hpc.predict(x_, x_)\n",
    "\n",
    "# Level 1\n",
    "print('Level 1')\n",
    "stats_mask(y_, (dic_results['s1df'][:,0]>0).astype(float))\n",
    "\n",
    "print('Level 2')\n",
    "stats_mask(y_, (dic_results['s1df'][:,0]>0).astype(float), dic_results['s2df'][:,1]>0)\n",
    "#stats_mask(dic_results['s2df'][:,2]>0)\n",
    "#stats_mask(dic_results['s2df'][:,3]>0)"
   ]
  },
  {
   "cell_type": "code",
   "execution_count": 17,
   "metadata": {},
   "outputs": [],
   "source": [
    "y_pred = (dic_results['s1df'][:,0]>0).astype(float)\n",
    "lr_decision = dic_results['s2df'][:,1]"
   ]
  },
  {
   "cell_type": "code",
   "execution_count": 18,
   "metadata": {},
   "outputs": [
    {
     "name": "stdout",
     "output_type": "stream",
     "text": [
      "Stage 1 stats for AD vs CN\n",
      "             precision    recall  f1-score   support\n",
      "\n",
      "        0.0       0.98      0.98      0.98       205\n",
      "        1.0       0.98      0.97      0.97       165\n",
      "\n",
      "avg / total       0.98      0.98      0.98       370\n",
      "\n"
     ]
    }
   ],
   "source": [
    "print('Stage 1 stats for AD vs CN')\n",
    "print(metrics.classification_report(y_, y_pred))"
   ]
  },
  {
   "cell_type": "code",
   "execution_count": 19,
   "metadata": {},
   "outputs": [
    {
     "name": "stdout",
     "output_type": "stream",
     "text": [
      "Total number of TARGET subjects:  165.0\n",
      "Total number of NON-TARGET subjects:  205.0\n",
      "Stage 1 number of hits (true and false positives):  164.0\n",
      "Stage 1 TRUE positives:  160.0\n",
      "Stage 1 FALSE positives:  4.0\n",
      "Stage 1 TRUE negatives:  201.0\n",
      "Total number of flagged HPC-AD subjects:  150.0\n",
      "Number of flagged HPC-AD subjects that are TRUE positives:  150\n",
      "Number of flagged HPC-AD subjects that are FALSE positives:  0.0\n",
      "Number of true negatives:  205.0\n",
      "#############################\n",
      "Stage 1 stats for TARGET vs NON-TARGET\n",
      "Precision for AD:  0.975609756097561\n",
      "Recall (or sensitivity)  for AD:  0.9696969696969697\n",
      "Specificity:  0.9804878048780488\n",
      "Adjusted precision for 33.6% baseline rate:  0.9617559586143343\n",
      "Accuracy:  0.9756756756756757\n",
      "#############################\n",
      "Stage 2 stats for TARGET vs NON-TARGET\n",
      "Precision for HPC-AD:  1.0\n",
      "Recall (or sensitivity) for HPC-AD:  0.9090909090909091\n",
      "Specificity:  1.0\n",
      "Adjusted precision for 33.6% baseline rate:  1.0\n",
      "Accuracy:  0.9594594594594594\n"
     ]
    },
    {
     "data": {
      "text/plain": [
       "(0.9696969696969697,\n",
       " 0.9804878048780488,\n",
       " 0.975609756097561,\n",
       " 0.9756756756756757,\n",
       " 0.9090909090909091,\n",
       " 1.0,\n",
       " 1.0,\n",
       " 0.9594594594594594)"
      ]
     },
     "execution_count": 19,
     "metadata": {},
     "output_type": "execute_result"
    }
   ],
   "source": [
    "predic_stats(y_, y_pred, lr_decision)"
   ]
  },
  {
   "cell_type": "markdown",
   "metadata": {},
   "source": [
    "# compare with other methods "
   ]
  },
  {
   "cell_type": "markdown",
   "metadata": {},
   "source": [
    "## ROC curve"
   ]
  },
  {
   "cell_type": "markdown",
   "metadata": {},
   "source": [
    "### base"
   ]
  },
  {
   "cell_type": "code",
   "execution_count": 20,
   "metadata": {},
   "outputs": [
    {
     "data": {
      "text/plain": [
       "(370,)"
      ]
     },
     "execution_count": 20,
     "metadata": {},
     "output_type": "execute_result"
    }
   ],
   "source": [
    "base = high_confidence_at.BaseSvc()\n",
    "base.fit(x_, y_)\n",
    "y_predicted = base.predict(x_)\n",
    "y_score = base.decision_function(x_)\n",
    "y_score.shape"
   ]
  },
  {
   "cell_type": "code",
   "execution_count": 21,
   "metadata": {},
   "outputs": [],
   "source": [
    "y_true = y_.astype(int)\n",
    "y_true = label_binarize(y_true, classes=[0, 1])\n",
    "n_classes = y_true.shape[1]\n",
    "y_score = np.reshape(y_score, (y_score.shape[0],1))\n",
    "\n",
    "# Compute ROC curve and ROC area for each class\n",
    "fpr_b = dict()\n",
    "tpr_b = dict()\n",
    "roc_auc_b = dict()\n",
    "for i in range(n_classes):\n",
    "    fpr_b[i], tpr_b[i], _ = roc_curve(y_true[:, i], y_score[:, i])\n",
    "    roc_auc_b[i] = auc(fpr_b[i], tpr_b[i])\n",
    "    \n",
    "# Compute micro-average ROC curve and ROC area\n",
    "fpr_b[\"micro\"], tpr_b[\"micro\"], _ = roc_curve(y_true.ravel(), y_score.ravel())\n",
    "roc_auc_b[\"micro\"] = auc(fpr_b[\"micro\"], tpr_b[\"micro\"])"
   ]
  },
  {
   "cell_type": "code",
   "execution_count": 22,
   "metadata": {},
   "outputs": [
    {
     "name": "stdout",
     "output_type": "stream",
     "text": [
      "Average precision-recall score: 1.00\n"
     ]
    }
   ],
   "source": [
    "average_precision_b = average_precision_score(y_true, y_score)\n",
    "\n",
    "print('Average precision-recall score: {0:0.2f}'.format(\n",
    "      average_precision_b))\n",
    "\n",
    "precision_b, recall_b, _ = precision_recall_curve(y_true, y_score)"
   ]
  },
  {
   "cell_type": "markdown",
   "metadata": {},
   "source": [
    "### HPS"
   ]
  },
  {
   "cell_type": "code",
   "execution_count": 23,
   "metadata": {},
   "outputs": [],
   "source": [
    "y_true = y_.astype(int)\n",
    "y_true = label_binarize(y_, classes=[0, 1])\n",
    "n_classes = y_true.shape[1]\n",
    "y_score = np.reshape(lr_decision, (y_score.shape[0],1))"
   ]
  },
  {
   "cell_type": "code",
   "execution_count": 24,
   "metadata": {},
   "outputs": [],
   "source": [
    "# Compute ROC curve and ROC area for each class\n",
    "fpr_h = dict()\n",
    "tpr_h = dict()\n",
    "roc_auc_h = dict()\n",
    "for i in range(n_classes):\n",
    "    fpr_h[i], tpr_h[i], _ = roc_curve(y_true[:, i], y_score[:, i])\n",
    "    roc_auc_h[i] = auc(fpr_h[i], tpr_h[i])\n",
    "\n",
    "# Compute micro-average ROC curve and ROC area\n",
    "fpr_h[\"micro\"], tpr_h[\"micro\"], _ = roc_curve(y_true.ravel(), y_score.ravel())\n",
    "roc_auc_h[\"micro\"] = auc(fpr_h[\"micro\"], tpr_h[\"micro\"])"
   ]
  },
  {
   "cell_type": "code",
   "execution_count": 25,
   "metadata": {},
   "outputs": [
    {
     "name": "stdout",
     "output_type": "stream",
     "text": [
      "Average precision-recall score: 1.00\n"
     ]
    }
   ],
   "source": [
    "average_precision_h = average_precision_score(y_true, y_score)\n",
    "\n",
    "print('Average precision-recall score: {0:0.2f}'.format(\n",
    "      average_precision_h))\n",
    "\n",
    "precision_h, recall_h, _ = precision_recall_curve(y_true, y_score)"
   ]
  },
  {
   "cell_type": "markdown",
   "metadata": {},
   "source": [
    "### rbf kernel svm"
   ]
  },
  {
   "cell_type": "code",
   "execution_count": 26,
   "metadata": {},
   "outputs": [
    {
     "data": {
      "text/plain": [
       "(370,)"
      ]
     },
     "execution_count": 26,
     "metadata": {},
     "output_type": "execute_result"
    }
   ],
   "source": [
    "svm_param_grid=dict(C=(np.logspace(-2, 1, 15)))\n",
    "\n",
    "clf_svm = SVC(kernel='rbf', class_weight='balanced', decision_function_shape='ovr', random_state=1)\n",
    "grclf_svm = GridSearchCV(clf_svm, param_grid=svm_param_grid, \n",
    "                         cv=StratifiedShuffleSplit(n_splits=50, test_size=.2, random_state=1))               \n",
    "\n",
    "grclf_svm.fit(x_, y_)\n",
    "y_predicted = grclf_svm.predict(x_)\n",
    "y_score = grclf_svm.decision_function(x_)\n",
    "y_score.shape"
   ]
  },
  {
   "cell_type": "code",
   "execution_count": 27,
   "metadata": {},
   "outputs": [],
   "source": [
    "y_true = y_.astype(int)\n",
    "y_true = label_binarize(y_true, classes=[0, 1])\n",
    "n_classes = y_true.shape[1]\n",
    "y_score = np.reshape(y_score, (y_score.shape[0],1))\n",
    "\n",
    "# Compute ROC curve and ROC area for each class\n",
    "fpr_svcrbf = dict()\n",
    "tpr_svcrbf = dict()\n",
    "roc_auc_svcrbf = dict()\n",
    "for i in range(n_classes):\n",
    "    fpr_svcrbf[i], tpr_svcrbf[i], _ = roc_curve(y_true[:, i], y_score[:, i])\n",
    "    roc_auc_svcrbf[i] = auc(fpr_svcrbf[i], tpr_svcrbf[i])\n",
    "    \n",
    "# Compute micro-average ROC curve and ROC area\n",
    "fpr_svcrbf[\"micro\"], tpr_svcrbf[\"micro\"], _ = roc_curve(y_true.ravel(), y_score.ravel())\n",
    "roc_auc_svcrbf[\"micro\"] = auc(fpr_svcrbf[\"micro\"], tpr_svcrbf[\"micro\"])"
   ]
  },
  {
   "cell_type": "markdown",
   "metadata": {},
   "source": [
    "### k nearest neighbours"
   ]
  },
  {
   "cell_type": "code",
   "execution_count": 28,
   "metadata": {},
   "outputs": [
    {
     "data": {
      "text/plain": [
       "(370,)"
      ]
     },
     "execution_count": 28,
     "metadata": {},
     "output_type": "execute_result"
    }
   ],
   "source": [
    "k_range = list(range(3,7))\n",
    "weight_opt = [\"uniform\", \"distance\"]\n",
    "knn_param_grid = dict(n_neighbors = k_range, weights = weight_opt)\n",
    "\n",
    "clf_knn = KNeighborsClassifier(algorithm='auto')\n",
    "grclf_knn = GridSearchCV(clf_knn, param_grid=knn_param_grid, \n",
    "                         cv=StratifiedShuffleSplit(n_splits=50, test_size=.2, random_state=1))\n",
    "grclf_knn.fit(x_, y_)\n",
    "y_predicted = grclf_knn.predict(x_)\n",
    "#y_score = clf.decision_function(x_)\n",
    "y_score = grclf_knn.predict_proba(x_)\n",
    "y_score = y_score[:,1] # take positive class\n",
    "y_score.shape"
   ]
  },
  {
   "cell_type": "code",
   "execution_count": 29,
   "metadata": {},
   "outputs": [],
   "source": [
    "y_true = y_.astype(int)\n",
    "y_true = label_binarize(y_true, classes=[0, 1])\n",
    "n_classes = y_true.shape[1]\n",
    "y_score = np.reshape(y_score, (y_score.shape[0],1))\n",
    "\n",
    "# Compute ROC curve and ROC area for each class\n",
    "fpr_knn = dict()\n",
    "tpr_knn = dict()\n",
    "roc_auc_knn = dict()\n",
    "for i in range(n_classes):\n",
    "    fpr_knn[i], tpr_knn[i], _ = roc_curve(y_true[:, i], y_score[:, i])\n",
    "    roc_auc_knn[i] = auc(fpr_knn[i], tpr_knn[i])\n",
    "    \n",
    "# Compute micro-average ROC curve and ROC area\n",
    "fpr_knn[\"micro\"], tpr_knn[\"micro\"], _ = roc_curve(y_true.ravel(), y_score.ravel())\n",
    "roc_auc_knn[\"micro\"] = auc(fpr_knn[\"micro\"], tpr_knn[\"micro\"])"
   ]
  },
  {
   "cell_type": "markdown",
   "metadata": {},
   "source": [
    "### random forest"
   ]
  },
  {
   "cell_type": "code",
   "execution_count": 30,
   "metadata": {},
   "outputs": [
    {
     "data": {
      "text/plain": [
       "(370,)"
      ]
     },
     "execution_count": 30,
     "metadata": {},
     "output_type": "execute_result"
    }
   ],
   "source": [
    "rf_param_grid = [\n",
    "{'n_estimators': [10, 25], 'max_features': [5, 9], \n",
    " 'max_depth': [10, 50, None], 'bootstrap': [True, False]}\n",
    "]\n",
    "\n",
    "clf_rf = RandomForestClassifier(random_state=1)\n",
    "grclf_rf = GridSearchCV(clf_rf, param_grid=rf_param_grid, \n",
    "                       cv=StratifiedShuffleSplit(n_splits=50, test_size=.2, random_state=1))\n",
    "grclf_rf.fit(x_, y_)\n",
    "y_predicted = grclf_rf.predict(x_)\n",
    "#y_score = clf.decision_function(x_)\n",
    "y_score = grclf_rf.predict_proba(x_)\n",
    "y_score = y_score[:,1] # take positive class\n",
    "y_score.shape"
   ]
  },
  {
   "cell_type": "code",
   "execution_count": 31,
   "metadata": {},
   "outputs": [],
   "source": [
    "y_true = y_.astype(int)\n",
    "y_true = label_binarize(y_true, classes=[0, 1])\n",
    "n_classes = y_true.shape[1]\n",
    "y_score = np.reshape(y_score, (y_score.shape[0],1))\n",
    "\n",
    "# Compute ROC curve and ROC area for each class\n",
    "fpr_rf = dict()\n",
    "tpr_rf = dict()\n",
    "roc_auc_rf = dict()\n",
    "for i in range(n_classes):\n",
    "    fpr_rf[i], tpr_rf[i], _ = roc_curve(y_true[:, i], y_score[:, i])\n",
    "    roc_auc_rf[i] = auc(fpr_rf[i], tpr_rf[i])\n",
    "    \n",
    "# Compute micro-average ROC curve and ROC area\n",
    "fpr_rf[\"micro\"], tpr_rf[\"micro\"], _ = roc_curve(y_true.ravel(), y_score.ravel())\n",
    "roc_auc_rf[\"micro\"] = auc(fpr_rf[\"micro\"], tpr_rf[\"micro\"])"
   ]
  },
  {
   "cell_type": "markdown",
   "metadata": {},
   "source": [
    "### gaussian naive bayes"
   ]
  },
  {
   "cell_type": "code",
   "execution_count": 32,
   "metadata": {},
   "outputs": [
    {
     "data": {
      "text/plain": [
       "(370,)"
      ]
     },
     "execution_count": 32,
     "metadata": {},
     "output_type": "execute_result"
    }
   ],
   "source": [
    "clf_gnb = GaussianNB()\n",
    "clf_gnb.fit(x_, y_)\n",
    "y_predicted = clf_gnb.predict(x_)\n",
    "#y_score = clf.decision_function(x_)\n",
    "y_score = clf_gnb.predict_proba(x_)\n",
    "y_score = y_score[:,1] # take positive class\n",
    "y_score.shape"
   ]
  },
  {
   "cell_type": "code",
   "execution_count": 33,
   "metadata": {},
   "outputs": [],
   "source": [
    "y_true = y_.astype(int)\n",
    "y_true = label_binarize(y_true, classes=[0, 1])\n",
    "n_classes = y_true.shape[1]\n",
    "y_score = np.reshape(y_score, (y_score.shape[0],1))\n",
    "\n",
    "# Compute ROC curve and ROC area for each class\n",
    "fpr_nb = dict()\n",
    "tpr_nb = dict()\n",
    "roc_auc_nb = dict()\n",
    "for i in range(n_classes):\n",
    "    fpr_nb[i], tpr_nb[i], _ = roc_curve(y_true[:, i], y_score[:, i])\n",
    "    roc_auc_nb[i] = auc(fpr_nb[i], tpr_nb[i])\n",
    "    \n",
    "# Compute micro-average ROC curve and ROC area\n",
    "fpr_nb[\"micro\"], tpr_nb[\"micro\"], _ = roc_curve(y_true.ravel(), y_score.ravel())\n",
    "roc_auc_nb[\"micro\"] = auc(fpr_nb[\"micro\"], tpr_nb[\"micro\"])"
   ]
  },
  {
   "cell_type": "code",
   "execution_count": 34,
   "metadata": {},
   "outputs": [
    {
     "data": {
      "image/png": "[encoded data removed]",
      "text/plain": [
       "<Figure size 720x576 with 1 Axes>"
      ]
     },
     "metadata": {},
     "output_type": "display_data"
    }
   ],
   "source": [
    "#plt.figure()\n",
    "fig, ax = plt.subplots()\n",
    "fig.set_size_inches(10,8)\n",
    "lw = 4\n",
    "plt.rc('xtick', labelsize=40)\n",
    "plt.rc('ytick', labelsize=40)\n",
    "plt.plot(fpr_svcrbf[0], tpr_svcrbf[0], color='green',\n",
    "         lw=lw, label='RBF SVM (AUC=%0.3f)' % roc_auc_svcrbf[0])\n",
    "plt.plot(fpr_knn[0], tpr_knn[0], color='pink',\n",
    "         lw=lw, label='KNN (AUC=%0.3f)' % roc_auc_knn[0])\n",
    "plt.plot(fpr_rf[0], tpr_rf[0], color='brown',\n",
    "         lw=lw, label='RF (AUC=%0.3f)' % roc_auc_rf[0])\n",
    "plt.plot(fpr_nb[0], tpr_nb[0], color='orange',\n",
    "         lw=lw, label='GNB (AUC=%0.3f)' % roc_auc_nb[0])\n",
    "plt.plot(fpr_b[0], tpr_b[0], color='blue',\n",
    "         lw=lw, label='Base (AUC=%0.3f)' % roc_auc_b[0])\n",
    "plt.plot(fpr_h[0], tpr_h[0], color='red',\n",
    "         lw=lw, label='HPS (AUC=%0.3f)' % roc_auc_h[0])\n",
    "plt.plot([0, 1], [0, 1], color='grey', lw=lw, linestyle='--')\n",
    "plt.xlim([-0.05, 1.00])\n",
    "plt.ylim([0.0, 1.05])\n",
    "plt.xlabel('FPR', fontdict={'size': 40})\n",
    "plt.ylabel('TPR', fontdict={'size': 40})\n",
    "plt.title('ADNI1 AD vs CN', fontdict={'size': 40})\n",
    "plt.legend(loc=\"lower right\", prop={'size': 25})\n",
    "plt.show()\n",
    "fig.savefig(path_results + 'adni1_ad_roc_multi.pdf', bbox_inches='tight')"
   ]
  },
  {
   "cell_type": "markdown",
   "metadata": {},
   "source": [
    "## Test on ADNI1 MCI"
   ]
  },
  {
   "cell_type": "code",
   "execution_count": 35,
   "metadata": {},
   "outputs": [],
   "source": [
    "# load the data\n",
    "adni1_mci = pd.read_csv('/home/angela/Desktop/vcog_paper/adni1_vbm_adcn_subtypes_20171209/7clus/adni1_mci_bl_demog_weights.csv')"
   ]
  },
  {
   "cell_type": "code",
   "execution_count": 36,
   "metadata": {},
   "outputs": [],
   "source": [
    "mask_mci = adni1_mci.loc[:,'MCI'].values.astype(bool)\n",
    "adni1_mci = adni1_mci.iloc[mask_mci]"
   ]
  },
  {
   "cell_type": "code",
   "execution_count": 37,
   "metadata": {},
   "outputs": [],
   "source": [
    "adni1_mci.dropna(subset=['sub1','age_scan','gender','mean_gm','tiv',\n",
    "                         'ADAS13','ADNI_MEM','ADNI_EF','BNTTOTAL','CLOCKSCOR'],inplace=True)"
   ]
  },
  {
   "cell_type": "code",
   "execution_count": 38,
   "metadata": {},
   "outputs": [],
   "source": [
    "adni1_mci = adni1_mci[['RID','age_scan','gender','mean_gm','tiv',\n",
    "             'ADAS13','ADNI_MEM','ADNI_EF','BNTTOTAL','CLOCKSCOR',\n",
    "             'sub1','sub2','sub3','sub4','sub5','sub6','sub7',\n",
    "             'ABETA','TAU','conv_2_ad','AD','MCI','CN','APOE4_bin','DX','Month_conv']]"
   ]
  },
  {
   "cell_type": "code",
   "execution_count": 39,
   "metadata": {},
   "outputs": [
    {
     "data": {
      "text/plain": [
       "235"
      ]
     },
     "execution_count": 39,
     "metadata": {},
     "output_type": "execute_result"
    }
   ],
   "source": [
    "len(adni1_mci)"
   ]
  },
  {
   "cell_type": "code",
   "execution_count": 40,
   "metadata": {},
   "outputs": [
    {
     "data": {
      "text/plain": [
       "((235, 9), (235,), (235, 4))"
      ]
     },
     "execution_count": 40,
     "metadata": {},
     "output_type": "execute_result"
    }
   ],
   "source": [
    "x_ = adni1_mci.iloc[:,adni1_mci.columns.get_loc(\"ADAS13\"):adni1_mci.columns.get_loc(\"CLOCKSCOR\")+1].values\n",
    "#x_ = scalerX.transform(x_)\n",
    "y_ = adni1_mci['conv_2_ad'].values.ravel()\n",
    "\n",
    "\n",
    "confounds = adni1_mci[['gender','age_scan','mean_gm','tiv']].values\n",
    "#confounds = data[['sex','age_r']].values[mask_mci,:]\n",
    "#confounds[:, 1:] = scaler.transform(confounds[:, 1:])\n",
    "#confounds[:, 0] = preprocessing.binarize(confounds[:, 0].reshape(-1, 1), threshold=1)[:, 0]\n",
    "#confounds = scaler.transform(confounds)\n",
    "#x_ = crm.transform(confounds, x_)\n",
    "\n",
    "x_ = scaler.transform(np.hstack((x_,confounds)))\n",
    "\n",
    "x_.shape, y_.shape, confounds.shape"
   ]
  },
  {
   "cell_type": "code",
   "execution_count": 41,
   "metadata": {},
   "outputs": [
    {
     "name": "stdout",
     "output_type": "stream",
     "text": [
      "Level 1\n",
      "------------------------\n",
      "Ratio: 1.0\n",
      "#    :  147.0\n",
      "# true values:  235\n",
      "ACC  :  0.7617021276595745\n",
      "Level 2\n",
      "------------------------\n",
      "Ratio: 0.6462585034013606\n",
      "#    :  95.0\n",
      "# true values:  106\n",
      "ACC  :  0.8962264150943396\n"
     ]
    }
   ],
   "source": [
    "array_results, dic_results = hpc.predict(x_, x_)\n",
    "\n",
    "# Level 1\n",
    "print('Level 1')\n",
    "stats_mask(y_, (dic_results['s1df'][:,0]>0).astype(float))\n",
    "\n",
    "print('Level 2')\n",
    "stats_mask(y_, (dic_results['s1df'][:,0]>0).astype(float), dic_results['s2df'][:,1]>0)\n",
    "#stats_mask(dic_results['s2df'][:,2]>0)\n",
    "#stats_mask(dic_results['s2df'][:,3]>0)"
   ]
  },
  {
   "cell_type": "code",
   "execution_count": 42,
   "metadata": {},
   "outputs": [],
   "source": [
    "y_pred = (dic_results['s1df'][:,0]>0).astype(float)\n",
    "lr_decision = dic_results['s2df'][:,1]"
   ]
  },
  {
   "cell_type": "code",
   "execution_count": 43,
   "metadata": {
    "scrolled": true
   },
   "outputs": [
    {
     "name": "stdout",
     "output_type": "stream",
     "text": [
      "Total number of TARGET subjects:  147.0\n",
      "Total number of NON-TARGET subjects:  88.0\n",
      "Stage 1 number of hits (true and false positives):  143.0\n",
      "Stage 1 TRUE positives:  117.0\n",
      "Stage 1 FALSE positives:  26.0\n",
      "Stage 1 TRUE negatives:  62.0\n",
      "Total number of flagged HPC-AD subjects:  106.0\n",
      "Number of flagged HPC-AD subjects that are TRUE positives:  95\n",
      "Number of flagged HPC-AD subjects that are FALSE positives:  11.0\n",
      "Number of true negatives:  77.0\n",
      "#############################\n",
      "Stage 1 stats for TARGET vs NON-TARGET\n",
      "Precision for AD:  0.8181818181818182\n",
      "Recall (or sensitivity)  for AD:  0.7959183673469388\n",
      "Specificity:  0.7045454545454546\n",
      "Adjusted precision for 33.6% baseline rate:  0.5768390386016025\n",
      "Accuracy:  0.7617021276595745\n",
      "#############################\n",
      "Stage 2 stats for TARGET vs NON-TARGET\n",
      "Precision for HPC-AD:  0.8962264150943396\n",
      "Recall (or sensitivity) for HPC-AD:  0.6462585034013606\n",
      "Specificity:  0.875\n",
      "Adjusted precision for 33.6% baseline rate:  0.723465016658734\n",
      "Accuracy:  0.7319148936170212\n"
     ]
    },
    {
     "data": {
      "text/plain": [
       "(0.7959183673469388,\n",
       " 0.7045454545454546,\n",
       " 0.8181818181818182,\n",
       " 0.7617021276595745,\n",
       " 0.6462585034013606,\n",
       " 0.875,\n",
       " 0.8962264150943396,\n",
       " 0.7319148936170212)"
      ]
     },
     "execution_count": 43,
     "metadata": {},
     "output_type": "execute_result"
    }
   ],
   "source": [
    "predic_stats(y_, y_pred, lr_decision)"
   ]
  },
  {
   "cell_type": "markdown",
   "metadata": {},
   "source": [
    "## ROC curve "
   ]
  },
  {
   "cell_type": "markdown",
   "metadata": {},
   "source": [
    "### base"
   ]
  },
  {
   "cell_type": "code",
   "execution_count": 44,
   "metadata": {},
   "outputs": [
    {
     "data": {
      "text/plain": [
       "(235,)"
      ]
     },
     "execution_count": 44,
     "metadata": {},
     "output_type": "execute_result"
    }
   ],
   "source": [
    "#base = high_confidence_at.BaseSvc()\n",
    "#base.fit(x_, y_)\n",
    "y_predicted = base.predict(x_)\n",
    "y_score = base.decision_function(x_)\n",
    "y_score.shape"
   ]
  },
  {
   "cell_type": "code",
   "execution_count": 45,
   "metadata": {},
   "outputs": [],
   "source": [
    "y_true = y_.astype(int)\n",
    "y_true = label_binarize(y_true, classes=[0, 1])\n",
    "n_classes = y_true.shape[1]\n",
    "y_score = np.reshape(y_score, (y_score.shape[0],1))\n",
    "\n",
    "# Compute ROC curve and ROC area for each class\n",
    "fpr_b = dict()\n",
    "tpr_b = dict()\n",
    "roc_auc_b = dict()\n",
    "for i in range(n_classes):\n",
    "    fpr_b[i], tpr_b[i], _ = roc_curve(y_true[:, i], y_score[:, i])\n",
    "    roc_auc_b[i] = auc(fpr_b[i], tpr_b[i])\n",
    "    \n",
    "# Compute micro-average ROC curve and ROC area\n",
    "fpr_b[\"micro\"], tpr_b[\"micro\"], _ = roc_curve(y_true.ravel(), y_score.ravel())\n",
    "roc_auc_b[\"micro\"] = auc(fpr_b[\"micro\"], tpr_b[\"micro\"])"
   ]
  },
  {
   "cell_type": "code",
   "execution_count": 46,
   "metadata": {},
   "outputs": [
    {
     "name": "stdout",
     "output_type": "stream",
     "text": [
      "Average precision-recall score: 0.89\n"
     ]
    }
   ],
   "source": [
    "average_precision_b = average_precision_score(y_true, y_score)\n",
    "\n",
    "print('Average precision-recall score: {0:0.2f}'.format(\n",
    "      average_precision_b))\n",
    "\n",
    "precision_b, recall_b, _ = precision_recall_curve(y_true, y_score)"
   ]
  },
  {
   "cell_type": "markdown",
   "metadata": {},
   "source": [
    "### HPS "
   ]
  },
  {
   "cell_type": "code",
   "execution_count": 47,
   "metadata": {},
   "outputs": [],
   "source": [
    "y_true = y_.astype(int)\n",
    "y_true = label_binarize(y_, classes=[0, 1])\n",
    "n_classes = y_true.shape[1]\n",
    "y_score = np.reshape(lr_decision, (y_score.shape[0],1))"
   ]
  },
  {
   "cell_type": "code",
   "execution_count": 48,
   "metadata": {},
   "outputs": [],
   "source": [
    "# Compute ROC curve and ROC area for each class\n",
    "fpr_h = dict()\n",
    "tpr_h = dict()\n",
    "roc_auc_h = dict()\n",
    "for i in range(n_classes):\n",
    "    fpr_h[i], tpr_h[i], _ = roc_curve(y_true[:, i], y_score[:, i])\n",
    "    roc_auc_h[i] = auc(fpr_h[i], tpr_h[i])\n",
    "\n",
    "# Compute micro-average ROC curve and ROC area\n",
    "fpr_h[\"micro\"], tpr_h[\"micro\"], _ = roc_curve(y_true.ravel(), y_score.ravel())\n",
    "roc_auc_h[\"micro\"] = auc(fpr_h[\"micro\"], tpr_h[\"micro\"])"
   ]
  },
  {
   "cell_type": "markdown",
   "metadata": {},
   "source": [
    "### rbf kernel svm"
   ]
  },
  {
   "cell_type": "code",
   "execution_count": 49,
   "metadata": {},
   "outputs": [
    {
     "data": {
      "text/plain": [
       "(235,)"
      ]
     },
     "execution_count": 49,
     "metadata": {},
     "output_type": "execute_result"
    }
   ],
   "source": [
    "y_predicted = grclf_svm.predict(x_)\n",
    "y_score = grclf_svm.decision_function(x_)\n",
    "y_score.shape"
   ]
  },
  {
   "cell_type": "code",
   "execution_count": 50,
   "metadata": {},
   "outputs": [],
   "source": [
    "y_true = y_.astype(int)\n",
    "y_true = label_binarize(y_true, classes=[0, 1])\n",
    "n_classes = y_true.shape[1]\n",
    "y_score = np.reshape(y_score, (y_score.shape[0],1))\n",
    "\n",
    "# Compute ROC curve and ROC area for each class\n",
    "fpr_svcrbf = dict()\n",
    "tpr_svcrbf = dict()\n",
    "roc_auc_svcrbf = dict()\n",
    "for i in range(n_classes):\n",
    "    fpr_svcrbf[i], tpr_svcrbf[i], _ = roc_curve(y_true[:, i], y_score[:, i])\n",
    "    roc_auc_svcrbf[i] = auc(fpr_svcrbf[i], tpr_svcrbf[i])\n",
    "    \n",
    "# Compute micro-average ROC curve and ROC area\n",
    "fpr_svcrbf[\"micro\"], tpr_svcrbf[\"micro\"], _ = roc_curve(y_true.ravel(), y_score.ravel())\n",
    "roc_auc_svcrbf[\"micro\"] = auc(fpr_svcrbf[\"micro\"], tpr_svcrbf[\"micro\"])"
   ]
  },
  {
   "cell_type": "markdown",
   "metadata": {},
   "source": [
    "### k nearest neighbours"
   ]
  },
  {
   "cell_type": "code",
   "execution_count": 51,
   "metadata": {},
   "outputs": [
    {
     "data": {
      "text/plain": [
       "(235,)"
      ]
     },
     "execution_count": 51,
     "metadata": {},
     "output_type": "execute_result"
    }
   ],
   "source": [
    "y_predicted = grclf_knn.predict(x_)\n",
    "y_score = grclf_knn.predict_proba(x_)\n",
    "y_score = y_score[:,1] # take positive class\n",
    "y_score.shape"
   ]
  },
  {
   "cell_type": "code",
   "execution_count": 52,
   "metadata": {},
   "outputs": [],
   "source": [
    "y_true = y_.astype(int)\n",
    "y_true = label_binarize(y_true, classes=[0, 1])\n",
    "n_classes = y_true.shape[1]\n",
    "y_score = np.reshape(y_score, (y_score.shape[0],1))\n",
    "\n",
    "# Compute ROC curve and ROC area for each class\n",
    "fpr_knn = dict()\n",
    "tpr_knn = dict()\n",
    "roc_auc_knn = dict()\n",
    "for i in range(n_classes):\n",
    "    fpr_knn[i], tpr_knn[i], _ = roc_curve(y_true[:, i], y_score[:, i])\n",
    "    roc_auc_knn[i] = auc(fpr_knn[i], tpr_knn[i])\n",
    "    \n",
    "# Compute micro-average ROC curve and ROC area\n",
    "fpr_knn[\"micro\"], tpr_knn[\"micro\"], _ = roc_curve(y_true.ravel(), y_score.ravel())\n",
    "roc_auc_knn[\"micro\"] = auc(fpr_knn[\"micro\"], tpr_knn[\"micro\"])"
   ]
  },
  {
   "cell_type": "markdown",
   "metadata": {},
   "source": [
    "### random forest"
   ]
  },
  {
   "cell_type": "code",
   "execution_count": 53,
   "metadata": {},
   "outputs": [
    {
     "data": {
      "text/plain": [
       "(235,)"
      ]
     },
     "execution_count": 53,
     "metadata": {},
     "output_type": "execute_result"
    }
   ],
   "source": [
    "y_predicted = grclf_rf.predict(x_)\n",
    "y_score = grclf_rf.predict_proba(x_)\n",
    "y_score = y_score[:,1] # take positive class\n",
    "y_score.shape"
   ]
  },
  {
   "cell_type": "code",
   "execution_count": 54,
   "metadata": {},
   "outputs": [],
   "source": [
    "y_true = y_.astype(int)\n",
    "y_true = label_binarize(y_true, classes=[0, 1])\n",
    "n_classes = y_true.shape[1]\n",
    "y_score = np.reshape(y_score, (y_score.shape[0],1))\n",
    "\n",
    "# Compute ROC curve and ROC area for each class\n",
    "fpr_rf = dict()\n",
    "tpr_rf = dict()\n",
    "roc_auc_rf = dict()\n",
    "for i in range(n_classes):\n",
    "    fpr_rf[i], tpr_rf[i], _ = roc_curve(y_true[:, i], y_score[:, i])\n",
    "    roc_auc_rf[i] = auc(fpr_rf[i], tpr_rf[i])\n",
    "    \n",
    "# Compute micro-average ROC curve and ROC area\n",
    "fpr_rf[\"micro\"], tpr_rf[\"micro\"], _ = roc_curve(y_true.ravel(), y_score.ravel())\n",
    "roc_auc_rf[\"micro\"] = auc(fpr_rf[\"micro\"], tpr_rf[\"micro\"])"
   ]
  },
  {
   "cell_type": "markdown",
   "metadata": {},
   "source": [
    "### gaussian naive bayes"
   ]
  },
  {
   "cell_type": "code",
   "execution_count": 55,
   "metadata": {},
   "outputs": [
    {
     "data": {
      "text/plain": [
       "(235,)"
      ]
     },
     "execution_count": 55,
     "metadata": {},
     "output_type": "execute_result"
    }
   ],
   "source": [
    "y_predicted = clf_gnb.predict(x_)\n",
    "y_score = clf_gnb.predict_proba(x_)\n",
    "y_score = y_score[:,1] # take positive class\n",
    "y_score.shape"
   ]
  },
  {
   "cell_type": "code",
   "execution_count": 56,
   "metadata": {},
   "outputs": [],
   "source": [
    "y_true = y_.astype(int)\n",
    "y_true = label_binarize(y_true, classes=[0, 1])\n",
    "n_classes = y_true.shape[1]\n",
    "y_score = np.reshape(y_score, (y_score.shape[0],1))\n",
    "\n",
    "# Compute ROC curve and ROC area for each class\n",
    "fpr_nb = dict()\n",
    "tpr_nb = dict()\n",
    "roc_auc_nb = dict()\n",
    "for i in range(n_classes):\n",
    "    fpr_nb[i], tpr_nb[i], _ = roc_curve(y_true[:, i], y_score[:, i])\n",
    "    roc_auc_nb[i] = auc(fpr_nb[i], tpr_nb[i])\n",
    "    \n",
    "# Compute micro-average ROC curve and ROC area\n",
    "fpr_nb[\"micro\"], tpr_nb[\"micro\"], _ = roc_curve(y_true.ravel(), y_score.ravel())\n",
    "roc_auc_nb[\"micro\"] = auc(fpr_nb[\"micro\"], tpr_nb[\"micro\"])"
   ]
  },
  {
   "cell_type": "code",
   "execution_count": 57,
   "metadata": {},
   "outputs": [
    {
     "data": {
      "image/png": "[encoded data removed]",
      "text/plain": [
       "<Figure size 720x576 with 1 Axes>"
      ]
     },
     "metadata": {},
     "output_type": "display_data"
    }
   ],
   "source": [
    "#plt.figure()\n",
    "fig, ax = plt.subplots()\n",
    "fig.set_size_inches(10,8)\n",
    "lw = 4\n",
    "plt.rc('xtick', labelsize=40)\n",
    "plt.rc('ytick', labelsize=40)\n",
    "plt.plot(fpr_svcrbf[0], tpr_svcrbf[0], color='green',\n",
    "         lw=lw, label='RBF SVM (AUC=%0.3f)' % roc_auc_svcrbf[0])\n",
    "plt.plot(fpr_knn[0], tpr_knn[0], color='pink',\n",
    "         lw=lw, label='KNN (AUC=%0.3f)' % roc_auc_knn[0])\n",
    "plt.plot(fpr_rf[0], tpr_rf[0], color='brown',\n",
    "         lw=lw, label='RF (AUC=%0.3f)' % roc_auc_rf[0])\n",
    "plt.plot(fpr_nb[0], tpr_nb[0], color='orange',\n",
    "         lw=lw, label='GNB (AUC=%0.3f)' % roc_auc_nb[0])\n",
    "plt.plot(fpr_b[0], tpr_b[0], color='blue',\n",
    "         lw=lw, label='Base (AUC=%0.3f)' % roc_auc_b[0])\n",
    "plt.plot(fpr_h[0], tpr_h[0], color='red',\n",
    "         lw=lw, label='HPS (AUC=%0.3f)' % roc_auc_h[0])\n",
    "plt.plot([0, 1], [0, 1], color='grey', lw=lw, linestyle='--')\n",
    "plt.xlim([-0.05, 1.00])\n",
    "plt.ylim([0.0, 1.05])\n",
    "plt.xlabel('FPR', fontdict={'size': 40})\n",
    "plt.ylabel('TPR', fontdict={'size': 40})\n",
    "plt.title('ADNI1 pMCI vs sMCI', fontdict={'size': 40})\n",
    "plt.legend(loc=\"lower right\", prop={'size': 25})\n",
    "#ax.legend(loc='center left', bbox_to_anchor=(1,0.5), prop={'size': 30})\n",
    "plt.show()\n",
    "fig.savefig(path_results + 'adni1_mci_roc_multi.pdf', bbox_inches='tight')"
   ]
  },
  {
   "cell_type": "markdown",
   "metadata": {},
   "source": [
    "# REPLICATION IN ADNI2 "
   ]
  },
  {
   "cell_type": "code",
   "execution_count": 58,
   "metadata": {},
   "outputs": [],
   "source": [
    "adni2_df = pd.read_csv('/home/angela/Desktop/vcog_paper/adni1_vbm_adcn_subtypes_20171209/7clus/adni2_model_weights.csv')"
   ]
  },
  {
   "cell_type": "code",
   "execution_count": 59,
   "metadata": {},
   "outputs": [],
   "source": [
    "adni2_df.drop(adni2_df[adni2_df.RID < 2000].index,inplace=True)"
   ]
  },
  {
   "cell_type": "code",
   "execution_count": 60,
   "metadata": {},
   "outputs": [],
   "source": [
    "# get rid of NaNs\n",
    "adni2_df.dropna(axis=0,how='any',subset=['sub1','gender','age_scan','mean_gm','tiv','conv_2_ad',\n",
    "                                        'ADAS13','ADNI_MEM','ADNI_EF','BNTTOTAL','CLOCKSCOR'],inplace=True)"
   ]
  },
  {
   "cell_type": "code",
   "execution_count": 61,
   "metadata": {},
   "outputs": [],
   "source": [
    "adni2_df = adni2_df[['RID','age_scan','gender','mean_gm','tiv',\n",
    "             'ADAS13','ADNI_MEM','ADNI_EF','BNTTOTAL','CLOCKSCOR',\n",
    "             'sub1','sub2','sub3','sub4','sub5','sub6','sub7',\n",
    "             'ABETA','TAU','conv_2_ad','AD','MCI','CN','APOE4_bin','DX']]"
   ]
  },
  {
   "cell_type": "markdown",
   "metadata": {},
   "source": [
    "## AD vs CN "
   ]
  },
  {
   "cell_type": "code",
   "execution_count": 62,
   "metadata": {},
   "outputs": [
    {
     "data": {
      "text/plain": [
       "((276, 9), (276,), (276, 4))"
      ]
     },
     "execution_count": 62,
     "metadata": {},
     "output_type": "execute_result"
    }
   ],
   "source": [
    "# Mask of the AD and CN subjects only\n",
    "mask_cnad = adni2_df.loc[:,['CN','AD']].values.sum(1).astype(bool)\n",
    "\n",
    "x_ = adni2_df.iloc[mask_cnad,adni2_df.columns.get_loc(\"ADAS13\"):adni2_df.columns.get_loc(\"CLOCKSCOR\")+1].values\n",
    "#x_ = scalerX.transform(x_)\n",
    "y_ = adni2_df[['AD']].values.ravel()[mask_cnad]\n",
    "\n",
    "\n",
    "confounds = adni2_df[['gender','age_scan','mean_gm','tiv']].values[mask_cnad,:]\n",
    "#confounds = data[['sex','age_r']].values[mask_mci,:]\n",
    "#confounds[:, 1:] = scaler.transform(confounds[:, 1:])\n",
    "#confounds[:, 0] = preprocessing.binarize(confounds[:, 0].reshape(-1, 1), threshold=1)[:, 0]\n",
    "#confounds = scaler.transform(confounds)\n",
    "#x_ = crm.transform(confounds, x_)\n",
    "\n",
    "x_ = scaler.transform(np.hstack((x_,confounds)))\n",
    "\n",
    "x_.shape, y_.shape, confounds.shape"
   ]
  },
  {
   "cell_type": "code",
   "execution_count": 63,
   "metadata": {},
   "outputs": [
    {
     "name": "stdout",
     "output_type": "stream",
     "text": [
      "Level 1\n",
      "------------------------\n",
      "Ratio: 1.0\n",
      "#    :  88.0\n",
      "# true values:  276\n",
      "ACC  :  0.9565217391304348\n",
      "Level 2\n",
      "------------------------\n",
      "Ratio: 0.8863636363636364\n",
      "#    :  78.0\n",
      "# true values:  79\n",
      "ACC  :  0.9873417721518988\n"
     ]
    }
   ],
   "source": [
    "array_results, dic_results = hpc.predict(x_, x_)\n",
    "\n",
    "# Level 1\n",
    "print('Level 1')\n",
    "stats_mask(y_, (dic_results['s1df'][:,0]>0).astype(float))\n",
    "\n",
    "print('Level 2')\n",
    "stats_mask(y_, (dic_results['s1df'][:,0]>0).astype(float), dic_results['s2df'][:,1]>0)\n",
    "#stats_mask(dic_results['s2df'][:,2]>0)\n",
    "#stats_mask(dic_results['s2df'][:,3]>0)"
   ]
  },
  {
   "cell_type": "code",
   "execution_count": 64,
   "metadata": {},
   "outputs": [],
   "source": [
    "y_pred = (dic_results['s1df'][:,0]>0).astype(float)\n",
    "lr_decision = dic_results['s2df'][:,1]"
   ]
  },
  {
   "cell_type": "code",
   "execution_count": 65,
   "metadata": {},
   "outputs": [
    {
     "name": "stdout",
     "output_type": "stream",
     "text": [
      "Total number of TARGET subjects:  88.0\n",
      "Total number of NON-TARGET subjects:  188.0\n",
      "Stage 1 number of hits (true and false positives):  90.0\n",
      "Stage 1 TRUE positives:  83.0\n",
      "Stage 1 FALSE positives:  7.0\n",
      "Stage 1 TRUE negatives:  181.0\n",
      "Total number of flagged HPC-AD subjects:  79.0\n",
      "Number of flagged HPC-AD subjects that are TRUE positives:  78\n",
      "Number of flagged HPC-AD subjects that are FALSE positives:  1.0\n",
      "Number of true negatives:  187.0\n",
      "#############################\n",
      "Stage 1 stats for TARGET vs NON-TARGET\n",
      "Precision for AD:  0.9222222222222223\n",
      "Recall (or sensitivity)  for AD:  0.9431818181818182\n",
      "Specificity:  0.9627659574468085\n",
      "Adjusted precision for 33.6% baseline rate:  0.9276315789473684\n",
      "Accuracy:  0.9565217391304348\n",
      "#############################\n",
      "Stage 2 stats for TARGET vs NON-TARGET\n",
      "Precision for HPC-AD:  0.9873417721518988\n",
      "Recall (or sensitivity) for HPC-AD:  0.8863636363636364\n",
      "Specificity:  0.9946808510638298\n",
      "Adjusted precision for 33.6% baseline rate:  0.9882796955031514\n",
      "Accuracy:  0.9601449275362319\n"
     ]
    },
    {
     "data": {
      "text/plain": [
       "(0.9431818181818182,\n",
       " 0.9627659574468085,\n",
       " 0.9222222222222223,\n",
       " 0.9565217391304348,\n",
       " 0.8863636363636364,\n",
       " 0.9946808510638298,\n",
       " 0.9873417721518988,\n",
       " 0.9601449275362319)"
      ]
     },
     "execution_count": 65,
     "metadata": {},
     "output_type": "execute_result"
    }
   ],
   "source": [
    "predic_stats(y_, y_pred, lr_decision)"
   ]
  },
  {
   "cell_type": "markdown",
   "metadata": {},
   "source": [
    "## ROC curve"
   ]
  },
  {
   "cell_type": "markdown",
   "metadata": {},
   "source": [
    "### base"
   ]
  },
  {
   "cell_type": "code",
   "execution_count": 66,
   "metadata": {},
   "outputs": [
    {
     "data": {
      "text/plain": [
       "(276,)"
      ]
     },
     "execution_count": 66,
     "metadata": {},
     "output_type": "execute_result"
    }
   ],
   "source": [
    "y_predicted = base.predict(x_)\n",
    "y_score = base.decision_function(x_)\n",
    "y_score.shape"
   ]
  },
  {
   "cell_type": "code",
   "execution_count": 67,
   "metadata": {},
   "outputs": [],
   "source": [
    "y_true = y_.astype(int)\n",
    "y_true = label_binarize(y_true, classes=[0, 1])\n",
    "n_classes = y_true.shape[1]\n",
    "y_score = np.reshape(y_score, (y_score.shape[0],1))\n",
    "\n",
    "# Compute ROC curve and ROC area for each class\n",
    "fpr_b = dict()\n",
    "tpr_b = dict()\n",
    "roc_auc_b = dict()\n",
    "for i in range(n_classes):\n",
    "    fpr_b[i], tpr_b[i], _ = roc_curve(y_true[:, i], y_score[:, i])\n",
    "    roc_auc_b[i] = auc(fpr_b[i], tpr_b[i])\n",
    "    \n",
    "# Compute micro-average ROC curve and ROC area\n",
    "fpr_b[\"micro\"], tpr_b[\"micro\"], _ = roc_curve(y_true.ravel(), y_score.ravel())\n",
    "roc_auc_b[\"micro\"] = auc(fpr_b[\"micro\"], tpr_b[\"micro\"])"
   ]
  },
  {
   "cell_type": "code",
   "execution_count": 68,
   "metadata": {},
   "outputs": [
    {
     "name": "stdout",
     "output_type": "stream",
     "text": [
      "Average precision-recall score: 0.99\n"
     ]
    }
   ],
   "source": [
    "average_precision_b = average_precision_score(y_true, y_score)\n",
    "\n",
    "print('Average precision-recall score: {0:0.2f}'.format(\n",
    "      average_precision_b))\n",
    "\n",
    "precision_b, recall_b, _ = precision_recall_curve(y_true, y_score)"
   ]
  },
  {
   "cell_type": "markdown",
   "metadata": {},
   "source": [
    "### HPS "
   ]
  },
  {
   "cell_type": "code",
   "execution_count": 69,
   "metadata": {},
   "outputs": [],
   "source": [
    "y_true = y_.astype(int)\n",
    "y_true = label_binarize(y_, classes=[0, 1])\n",
    "n_classes = y_true.shape[1]\n",
    "y_score = np.reshape(lr_decision, (y_score.shape[0],1))"
   ]
  },
  {
   "cell_type": "code",
   "execution_count": 70,
   "metadata": {},
   "outputs": [],
   "source": [
    "# Compute ROC curve and ROC area for each class\n",
    "fpr_h = dict()\n",
    "tpr_h = dict()\n",
    "roc_auc_h = dict()\n",
    "for i in range(n_classes):\n",
    "    fpr_h[i], tpr_h[i], _ = roc_curve(y_true[:, i], y_score[:, i])\n",
    "    roc_auc_h[i] = auc(fpr_h[i], tpr_h[i])\n",
    "\n",
    "# Compute micro-average ROC curve and ROC area\n",
    "fpr_h[\"micro\"], tpr_h[\"micro\"], _ = roc_curve(y_true.ravel(), y_score.ravel())\n",
    "roc_auc_h[\"micro\"] = auc(fpr_h[\"micro\"], tpr_h[\"micro\"])"
   ]
  },
  {
   "cell_type": "code",
   "execution_count": 71,
   "metadata": {},
   "outputs": [
    {
     "name": "stdout",
     "output_type": "stream",
     "text": [
      "Average precision-recall score: 0.99\n"
     ]
    }
   ],
   "source": [
    "average_precision_h = average_precision_score(y_true, y_score)\n",
    "\n",
    "print('Average precision-recall score: {0:0.2f}'.format(\n",
    "      average_precision_h))\n",
    "\n",
    "precision_h, recall_h, _ = precision_recall_curve(y_true, y_score)"
   ]
  },
  {
   "cell_type": "markdown",
   "metadata": {},
   "source": [
    "### rbf kernel svm"
   ]
  },
  {
   "cell_type": "code",
   "execution_count": 72,
   "metadata": {},
   "outputs": [
    {
     "data": {
      "text/plain": [
       "(276,)"
      ]
     },
     "execution_count": 72,
     "metadata": {},
     "output_type": "execute_result"
    }
   ],
   "source": [
    "y_predicted = grclf_svm.predict(x_)\n",
    "y_score = grclf_svm.decision_function(x_)\n",
    "y_score.shape"
   ]
  },
  {
   "cell_type": "code",
   "execution_count": 73,
   "metadata": {},
   "outputs": [],
   "source": [
    "y_true = y_.astype(int)\n",
    "y_true = label_binarize(y_true, classes=[0, 1])\n",
    "n_classes = y_true.shape[1]\n",
    "y_score = np.reshape(y_score, (y_score.shape[0],1))\n",
    "\n",
    "# Compute ROC curve and ROC area for each class\n",
    "fpr_svcrbf = dict()\n",
    "tpr_svcrbf = dict()\n",
    "roc_auc_svcrbf = dict()\n",
    "for i in range(n_classes):\n",
    "    fpr_svcrbf[i], tpr_svcrbf[i], _ = roc_curve(y_true[:, i], y_score[:, i])\n",
    "    roc_auc_svcrbf[i] = auc(fpr_svcrbf[i], tpr_svcrbf[i])\n",
    "    \n",
    "# Compute micro-average ROC curve and ROC area\n",
    "fpr_svcrbf[\"micro\"], tpr_svcrbf[\"micro\"], _ = roc_curve(y_true.ravel(), y_score.ravel())\n",
    "roc_auc_svcrbf[\"micro\"] = auc(fpr_svcrbf[\"micro\"], tpr_svcrbf[\"micro\"])"
   ]
  },
  {
   "cell_type": "markdown",
   "metadata": {},
   "source": [
    "### k nearest neighbours"
   ]
  },
  {
   "cell_type": "code",
   "execution_count": 74,
   "metadata": {},
   "outputs": [
    {
     "data": {
      "text/plain": [
       "(276,)"
      ]
     },
     "execution_count": 74,
     "metadata": {},
     "output_type": "execute_result"
    }
   ],
   "source": [
    "y_predicted = grclf_knn.predict(x_)\n",
    "y_score = grclf_knn.predict_proba(x_)\n",
    "y_score = y_score[:,1] # take positive class\n",
    "y_score.shape"
   ]
  },
  {
   "cell_type": "code",
   "execution_count": 75,
   "metadata": {},
   "outputs": [],
   "source": [
    "y_true = y_.astype(int)\n",
    "y_true = label_binarize(y_true, classes=[0, 1])\n",
    "n_classes = y_true.shape[1]\n",
    "y_score = np.reshape(y_score, (y_score.shape[0],1))\n",
    "\n",
    "# Compute ROC curve and ROC area for each class\n",
    "fpr_knn = dict()\n",
    "tpr_knn = dict()\n",
    "roc_auc_knn = dict()\n",
    "for i in range(n_classes):\n",
    "    fpr_knn[i], tpr_knn[i], _ = roc_curve(y_true[:, i], y_score[:, i])\n",
    "    roc_auc_knn[i] = auc(fpr_knn[i], tpr_knn[i])\n",
    "    \n",
    "# Compute micro-average ROC curve and ROC area\n",
    "fpr_knn[\"micro\"], tpr_knn[\"micro\"], _ = roc_curve(y_true.ravel(), y_score.ravel())\n",
    "roc_auc_knn[\"micro\"] = auc(fpr_knn[\"micro\"], tpr_knn[\"micro\"])"
   ]
  },
  {
   "cell_type": "markdown",
   "metadata": {},
   "source": [
    "### random forest"
   ]
  },
  {
   "cell_type": "code",
   "execution_count": 76,
   "metadata": {},
   "outputs": [
    {
     "data": {
      "text/plain": [
       "(276,)"
      ]
     },
     "execution_count": 76,
     "metadata": {},
     "output_type": "execute_result"
    }
   ],
   "source": [
    "y_predicted = grclf_rf.predict(x_)\n",
    "y_score = grclf_rf.predict_proba(x_)\n",
    "y_score = y_score[:,1] # take positive class\n",
    "y_score.shape"
   ]
  },
  {
   "cell_type": "code",
   "execution_count": 77,
   "metadata": {},
   "outputs": [],
   "source": [
    "y_true = y_.astype(int)\n",
    "y_true = label_binarize(y_true, classes=[0, 1])\n",
    "n_classes = y_true.shape[1]\n",
    "y_score = np.reshape(y_score, (y_score.shape[0],1))\n",
    "\n",
    "# Compute ROC curve and ROC area for each class\n",
    "fpr_rf = dict()\n",
    "tpr_rf = dict()\n",
    "roc_auc_rf = dict()\n",
    "for i in range(n_classes):\n",
    "    fpr_rf[i], tpr_rf[i], _ = roc_curve(y_true[:, i], y_score[:, i])\n",
    "    roc_auc_rf[i] = auc(fpr_rf[i], tpr_rf[i])\n",
    "    \n",
    "# Compute micro-average ROC curve and ROC area\n",
    "fpr_rf[\"micro\"], tpr_rf[\"micro\"], _ = roc_curve(y_true.ravel(), y_score.ravel())\n",
    "roc_auc_rf[\"micro\"] = auc(fpr_rf[\"micro\"], tpr_rf[\"micro\"])"
   ]
  },
  {
   "cell_type": "markdown",
   "metadata": {},
   "source": [
    "### gaussian naive bayes"
   ]
  },
  {
   "cell_type": "code",
   "execution_count": 78,
   "metadata": {},
   "outputs": [
    {
     "data": {
      "text/plain": [
       "(276,)"
      ]
     },
     "execution_count": 78,
     "metadata": {},
     "output_type": "execute_result"
    }
   ],
   "source": [
    "y_predicted = clf_gnb.predict(x_)\n",
    "y_score = clf_gnb.predict_proba(x_)\n",
    "y_score = y_score[:,1] # take positive class\n",
    "y_score.shape"
   ]
  },
  {
   "cell_type": "code",
   "execution_count": 79,
   "metadata": {},
   "outputs": [],
   "source": [
    "y_true = y_.astype(int)\n",
    "y_true = label_binarize(y_true, classes=[0, 1])\n",
    "n_classes = y_true.shape[1]\n",
    "y_score = np.reshape(y_score, (y_score.shape[0],1))\n",
    "\n",
    "# Compute ROC curve and ROC area for each class\n",
    "fpr_nb = dict()\n",
    "tpr_nb = dict()\n",
    "roc_auc_nb = dict()\n",
    "for i in range(n_classes):\n",
    "    fpr_nb[i], tpr_nb[i], _ = roc_curve(y_true[:, i], y_score[:, i])\n",
    "    roc_auc_nb[i] = auc(fpr_nb[i], tpr_nb[i])\n",
    "    \n",
    "# Compute micro-average ROC curve and ROC area\n",
    "fpr_nb[\"micro\"], tpr_nb[\"micro\"], _ = roc_curve(y_true.ravel(), y_score.ravel())\n",
    "roc_auc_nb[\"micro\"] = auc(fpr_nb[\"micro\"], tpr_nb[\"micro\"])"
   ]
  },
  {
   "cell_type": "code",
   "execution_count": 80,
   "metadata": {},
   "outputs": [
    {
     "data": {
      "image/png": "[encoded data removed]",
      "text/plain": [
       "<Figure size 720x576 with 1 Axes>"
      ]
     },
     "metadata": {},
     "output_type": "display_data"
    }
   ],
   "source": [
    "#plt.figure()\n",
    "fig, ax = plt.subplots()\n",
    "fig.set_size_inches(10,8)\n",
    "lw = 4\n",
    "plt.rc('xtick', labelsize=40)\n",
    "plt.rc('ytick', labelsize=40)\n",
    "plt.plot(fpr_svcrbf[0], tpr_svcrbf[0], color='green',\n",
    "         lw=lw, label='RBF SVM (AUC=%0.3f)' % roc_auc_svcrbf[0])\n",
    "plt.plot(fpr_knn[0], tpr_knn[0], color='pink',\n",
    "         lw=lw, label='KNN (AUC=%0.3f)' % roc_auc_knn[0])\n",
    "plt.plot(fpr_rf[0], tpr_rf[0], color='brown',\n",
    "         lw=lw, label='RF (AUC=%0.3f)' % roc_auc_rf[0])\n",
    "plt.plot(fpr_nb[0], tpr_nb[0], color='orange',\n",
    "         lw=lw, label='GNB (AUC=%0.3f)' % roc_auc_nb[0])\n",
    "plt.plot(fpr_b[0], tpr_b[0], color='blue',\n",
    "         lw=lw, label='Base (AUC=%0.3f)' % roc_auc_b[0])\n",
    "plt.plot(fpr_h[0], tpr_h[0], color='red',\n",
    "         lw=lw, label='HPS (AUC=%0.3f)' % roc_auc_h[0])\n",
    "plt.plot([0, 1], [0, 1], color='grey', lw=lw, linestyle='--')\n",
    "plt.xlim([-0.05, 1.00])\n",
    "plt.ylim([0.0, 1.05])\n",
    "plt.xlabel('FPR', fontdict={'size': 40})\n",
    "plt.ylabel('TPR', fontdict={'size': 40})\n",
    "plt.title('ADNI2 AD vs CN', fontdict={'size': 40})\n",
    "plt.legend(loc=\"lower right\", prop={'size': 25})\n",
    "#ax.legend(loc='center left', bbox_to_anchor=(1,0.5), prop={'size': 30})\n",
    "plt.show()\n",
    "fig.savefig(path_results + 'adni2_ad_roc_multi.pdf', bbox_inches='tight')"
   ]
  },
  {
   "cell_type": "markdown",
   "metadata": {},
   "source": [
    "## MCI stable vs converters"
   ]
  },
  {
   "cell_type": "code",
   "execution_count": 81,
   "metadata": {},
   "outputs": [],
   "source": [
    "adni2_mci = pd.read_csv('/home/angela/Desktop/vcog_paper/adni1_vbm_adcn_subtypes_20171209/7clus/adni2_mci_bl_demog_weights.csv')"
   ]
  },
  {
   "cell_type": "code",
   "execution_count": 82,
   "metadata": {},
   "outputs": [],
   "source": [
    "mask_mci = adni2_mci.loc[:,'MCI'].values.astype(bool)\n",
    "adni2_mci = adni2_mci.iloc[mask_mci]"
   ]
  },
  {
   "cell_type": "code",
   "execution_count": 83,
   "metadata": {},
   "outputs": [],
   "source": [
    "adni2_mci.dropna(subset=['sub1','age_scan','gender','mean_gm','tiv',\n",
    "                        'ADAS13','ADNI_MEM','ADNI_EF','BNTTOTAL','CLOCKSCOR'],inplace=True)"
   ]
  },
  {
   "cell_type": "code",
   "execution_count": 84,
   "metadata": {},
   "outputs": [],
   "source": [
    "adni2_mci = adni2_mci[['RID','age_scan','gender','mean_gm','tiv',\n",
    "             'ADAS13','ADNI_MEM','ADNI_EF','BNTTOTAL','CLOCKSCOR',\n",
    "             'sub1','sub2','sub3','sub4','sub5','sub6','sub7',\n",
    "             'ABETA','TAU','conv_2_ad','AD','MCI','CN','APOE4_bin','DX','SUMMARYSUVR_WHOLECEREBNORM_1.11CUTOFF',\n",
    "                       'Month_conv']]"
   ]
  },
  {
   "cell_type": "code",
   "execution_count": 85,
   "metadata": {},
   "outputs": [
    {
     "data": {
      "text/plain": [
       "((235, 9), (235,), (235, 4))"
      ]
     },
     "execution_count": 85,
     "metadata": {},
     "output_type": "execute_result"
    }
   ],
   "source": [
    "x_ = adni2_mci.iloc[:, adni2_mci.columns.get_loc(\"ADAS13\"):adni2_mci.columns.get_loc(\"CLOCKSCOR\")+1].values\n",
    "#x_ = scalerX.transform(x_)\n",
    "y_ = adni2_mci[['conv_2_ad']].values.ravel()\n",
    "\n",
    "\n",
    "confounds = adni2_mci[['gender','age_scan','mean_gm','tiv']].values\n",
    "#confounds = data[['sex','age_r']].values[mask_mci,:]\n",
    "#confounds[:, 1:] = scaler.transform(confounds[:, 1:])\n",
    "#confounds[:, 0] = preprocessing.binarize(confounds[:, 0].reshape(-1, 1), threshold=1)[:, 0]\n",
    "#confounds = scaler.transform(confounds)\n",
    "#x_ = crm.transform(confounds, x_)\n",
    "\n",
    "x_ = scaler.transform(np.hstack((x_,confounds)))\n",
    "\n",
    "x_.shape, y_.shape, confounds.shape"
   ]
  },
  {
   "cell_type": "code",
   "execution_count": 86,
   "metadata": {},
   "outputs": [
    {
     "name": "stdout",
     "output_type": "stream",
     "text": [
      "Level 1\n",
      "------------------------\n",
      "Ratio: 1.0\n",
      "#    :  55.0\n",
      "# true values:  235\n",
      "ACC  :  0.8425531914893617\n",
      "Level 2\n",
      "------------------------\n",
      "Ratio: 0.5636363636363636\n",
      "#    :  31.0\n",
      "# true values:  40\n",
      "ACC  :  0.775\n"
     ]
    }
   ],
   "source": [
    "array_results, dic_results = hpc.predict(x_, x_)\n",
    "\n",
    "# Level 1\n",
    "print('Level 1')\n",
    "stats_mask(y_, (dic_results['s1df'][:,0]>0).astype(float))\n",
    "\n",
    "print('Level 2')\n",
    "stats_mask(y_, (dic_results['s1df'][:,0]>0).astype(float), dic_results['s2df'][:,1]>0)\n",
    "#stats_mask(dic_results['s2df'][:,2]>0)\n",
    "#stats_mask(dic_results['s2df'][:,3]>0)"
   ]
  },
  {
   "cell_type": "code",
   "execution_count": 87,
   "metadata": {},
   "outputs": [],
   "source": [
    "y_pred = (dic_results['s1df'][:,0]>0).astype(float)\n",
    "lr_decision = dic_results['s2df'][:,1]"
   ]
  },
  {
   "cell_type": "code",
   "execution_count": 88,
   "metadata": {},
   "outputs": [
    {
     "name": "stdout",
     "output_type": "stream",
     "text": [
      "Total number of TARGET subjects:  55.0\n",
      "Total number of NON-TARGET subjects:  180.0\n",
      "Stage 1 number of hits (true and false positives):  60.0\n",
      "Stage 1 TRUE positives:  39.0\n",
      "Stage 1 FALSE positives:  21.0\n",
      "Stage 1 TRUE negatives:  159.0\n",
      "Total number of flagged HPC-AD subjects:  40.0\n",
      "Number of flagged HPC-AD subjects that are TRUE positives:  31\n",
      "Number of flagged HPC-AD subjects that are FALSE positives:  9.0\n",
      "Number of true negatives:  171.0\n",
      "#############################\n",
      "Stage 1 stats for TARGET vs NON-TARGET\n",
      "Precision for AD:  0.65\n",
      "Recall (or sensitivity)  for AD:  0.7090909090909091\n",
      "Specificity:  0.8833333333333333\n",
      "Adjusted precision for 33.6% baseline rate:  0.7546358505778016\n",
      "Accuracy:  0.8425531914893617\n",
      "#############################\n",
      "Stage 2 stats for TARGET vs NON-TARGET\n",
      "Precision for HPC-AD:  0.775\n",
      "Recall (or sensitivity) for HPC-AD:  0.5636363636363636\n",
      "Specificity:  0.95\n",
      "Adjusted precision for 33.6% baseline rate:  0.8508413657899034\n",
      "Accuracy:  0.8595744680851064\n"
     ]
    },
    {
     "data": {
      "text/plain": [
       "(0.7090909090909091,\n",
       " 0.8833333333333333,\n",
       " 0.65,\n",
       " 0.8425531914893617,\n",
       " 0.5636363636363636,\n",
       " 0.95,\n",
       " 0.775,\n",
       " 0.8595744680851064)"
      ]
     },
     "execution_count": 88,
     "metadata": {},
     "output_type": "execute_result"
    }
   ],
   "source": [
    "predic_stats(y_, y_pred, lr_decision)"
   ]
  },
  {
   "cell_type": "markdown",
   "metadata": {},
   "source": [
    "## ROC curve"
   ]
  },
  {
   "cell_type": "markdown",
   "metadata": {},
   "source": [
    "### base"
   ]
  },
  {
   "cell_type": "code",
   "execution_count": 89,
   "metadata": {},
   "outputs": [
    {
     "data": {
      "text/plain": [
       "(235,)"
      ]
     },
     "execution_count": 89,
     "metadata": {},
     "output_type": "execute_result"
    }
   ],
   "source": [
    "y_predicted = base.predict(x_)\n",
    "y_score = base.decision_function(x_)\n",
    "y_score.shape"
   ]
  },
  {
   "cell_type": "code",
   "execution_count": 90,
   "metadata": {},
   "outputs": [],
   "source": [
    "y_true = y_.astype(int)\n",
    "y_true = label_binarize(y_true, classes=[0, 1])\n",
    "n_classes = y_true.shape[1]\n",
    "y_score = np.reshape(y_score, (y_score.shape[0],1))\n",
    "\n",
    "# Compute ROC curve and ROC area for each class\n",
    "fpr_b = dict()\n",
    "tpr_b = dict()\n",
    "roc_auc_b = dict()\n",
    "for i in range(n_classes):\n",
    "    fpr_b[i], tpr_b[i], _ = roc_curve(y_true[:, i], y_score[:, i])\n",
    "    roc_auc_b[i] = auc(fpr_b[i], tpr_b[i])\n",
    "    \n",
    "# Compute micro-average ROC curve and ROC area\n",
    "fpr_b[\"micro\"], tpr_b[\"micro\"], _ = roc_curve(y_true.ravel(), y_score.ravel())\n",
    "roc_auc_b[\"micro\"] = auc(fpr_b[\"micro\"], tpr_b[\"micro\"])"
   ]
  },
  {
   "cell_type": "code",
   "execution_count": 91,
   "metadata": {},
   "outputs": [
    {
     "name": "stdout",
     "output_type": "stream",
     "text": [
      "Average precision-recall score: 0.76\n"
     ]
    }
   ],
   "source": [
    "average_precision_b = average_precision_score(y_true, y_score)\n",
    "\n",
    "print('Average precision-recall score: {0:0.2f}'.format(\n",
    "      average_precision_b))\n",
    "\n",
    "precision_b, recall_b, _ = precision_recall_curve(y_true, y_score)"
   ]
  },
  {
   "cell_type": "markdown",
   "metadata": {},
   "source": [
    "### HPS "
   ]
  },
  {
   "cell_type": "code",
   "execution_count": 92,
   "metadata": {},
   "outputs": [],
   "source": [
    "y_true = y_.astype(int)\n",
    "y_true = label_binarize(y_, classes=[0, 1])\n",
    "n_classes = y_true.shape[1]\n",
    "y_score = np.reshape(lr_decision, (y_score.shape[0],1))"
   ]
  },
  {
   "cell_type": "code",
   "execution_count": 93,
   "metadata": {},
   "outputs": [],
   "source": [
    "# Compute ROC curve and ROC area for each class\n",
    "fpr_h = dict()\n",
    "tpr_h = dict()\n",
    "roc_auc_h = dict()\n",
    "for i in range(n_classes):\n",
    "    fpr_h[i], tpr_h[i], _ = roc_curve(y_true[:, i], y_score[:, i])\n",
    "    roc_auc_h[i] = auc(fpr_h[i], tpr_h[i])\n",
    "\n",
    "# Compute micro-average ROC curve and ROC area\n",
    "fpr_h[\"micro\"], tpr_h[\"micro\"], _ = roc_curve(y_true.ravel(), y_score.ravel())\n",
    "roc_auc_h[\"micro\"] = auc(fpr_h[\"micro\"], tpr_h[\"micro\"])"
   ]
  },
  {
   "cell_type": "code",
   "execution_count": 94,
   "metadata": {},
   "outputs": [
    {
     "name": "stdout",
     "output_type": "stream",
     "text": [
      "Average precision-recall score: 0.71\n"
     ]
    }
   ],
   "source": [
    "average_precision_h = average_precision_score(y_true, y_score)\n",
    "\n",
    "print('Average precision-recall score: {0:0.2f}'.format(\n",
    "      average_precision_h))\n",
    "\n",
    "precision_h, recall_h, _ = precision_recall_curve(y_true, y_score)"
   ]
  },
  {
   "cell_type": "markdown",
   "metadata": {},
   "source": [
    "### rbf kernel svm"
   ]
  },
  {
   "cell_type": "code",
   "execution_count": 95,
   "metadata": {},
   "outputs": [
    {
     "data": {
      "text/plain": [
       "(235,)"
      ]
     },
     "execution_count": 95,
     "metadata": {},
     "output_type": "execute_result"
    }
   ],
   "source": [
    "y_predicted = grclf_svm.predict(x_)\n",
    "y_score = grclf_svm.decision_function(x_)\n",
    "y_score.shape"
   ]
  },
  {
   "cell_type": "code",
   "execution_count": 96,
   "metadata": {},
   "outputs": [],
   "source": [
    "y_true = y_.astype(int)\n",
    "y_true = label_binarize(y_true, classes=[0, 1])\n",
    "n_classes = y_true.shape[1]\n",
    "y_score = np.reshape(y_score, (y_score.shape[0],1))\n",
    "\n",
    "# Compute ROC curve and ROC area for each class\n",
    "fpr_svcrbf = dict()\n",
    "tpr_svcrbf = dict()\n",
    "roc_auc_svcrbf = dict()\n",
    "for i in range(n_classes):\n",
    "    fpr_svcrbf[i], tpr_svcrbf[i], _ = roc_curve(y_true[:, i], y_score[:, i])\n",
    "    roc_auc_svcrbf[i] = auc(fpr_svcrbf[i], tpr_svcrbf[i])\n",
    "    \n",
    "# Compute micro-average ROC curve and ROC area\n",
    "fpr_svcrbf[\"micro\"], tpr_svcrbf[\"micro\"], _ = roc_curve(y_true.ravel(), y_score.ravel())\n",
    "roc_auc_svcrbf[\"micro\"] = auc(fpr_svcrbf[\"micro\"], tpr_svcrbf[\"micro\"])"
   ]
  },
  {
   "cell_type": "markdown",
   "metadata": {},
   "source": [
    "### k nearest neighbours"
   ]
  },
  {
   "cell_type": "code",
   "execution_count": 97,
   "metadata": {},
   "outputs": [
    {
     "data": {
      "text/plain": [
       "(235,)"
      ]
     },
     "execution_count": 97,
     "metadata": {},
     "output_type": "execute_result"
    }
   ],
   "source": [
    "y_predicted = grclf_knn.predict(x_)\n",
    "y_score = grclf_knn.predict_proba(x_)\n",
    "y_score = y_score[:,1] # take positive class\n",
    "y_score.shape"
   ]
  },
  {
   "cell_type": "code",
   "execution_count": 98,
   "metadata": {},
   "outputs": [],
   "source": [
    "y_true = y_.astype(int)\n",
    "y_true = label_binarize(y_true, classes=[0, 1])\n",
    "n_classes = y_true.shape[1]\n",
    "y_score = np.reshape(y_score, (y_score.shape[0],1))\n",
    "\n",
    "# Compute ROC curve and ROC area for each class\n",
    "fpr_knn = dict()\n",
    "tpr_knn = dict()\n",
    "roc_auc_knn = dict()\n",
    "for i in range(n_classes):\n",
    "    fpr_knn[i], tpr_knn[i], _ = roc_curve(y_true[:, i], y_score[:, i])\n",
    "    roc_auc_knn[i] = auc(fpr_knn[i], tpr_knn[i])\n",
    "    \n",
    "# Compute micro-average ROC curve and ROC area\n",
    "fpr_knn[\"micro\"], tpr_knn[\"micro\"], _ = roc_curve(y_true.ravel(), y_score.ravel())\n",
    "roc_auc_knn[\"micro\"] = auc(fpr_knn[\"micro\"], tpr_knn[\"micro\"])"
   ]
  },
  {
   "cell_type": "markdown",
   "metadata": {},
   "source": [
    "### random forest"
   ]
  },
  {
   "cell_type": "code",
   "execution_count": 99,
   "metadata": {},
   "outputs": [
    {
     "data": {
      "text/plain": [
       "(235,)"
      ]
     },
     "execution_count": 99,
     "metadata": {},
     "output_type": "execute_result"
    }
   ],
   "source": [
    "y_predicted = grclf_rf.predict(x_)\n",
    "y_score = grclf_rf.predict_proba(x_)\n",
    "y_score = y_score[:,1] # take positive class\n",
    "y_score.shape"
   ]
  },
  {
   "cell_type": "code",
   "execution_count": 100,
   "metadata": {},
   "outputs": [],
   "source": [
    "y_true = y_.astype(int)\n",
    "y_true = label_binarize(y_true, classes=[0, 1])\n",
    "n_classes = y_true.shape[1]\n",
    "y_score = np.reshape(y_score, (y_score.shape[0],1))\n",
    "\n",
    "# Compute ROC curve and ROC area for each class\n",
    "fpr_rf = dict()\n",
    "tpr_rf = dict()\n",
    "roc_auc_rf = dict()\n",
    "for i in range(n_classes):\n",
    "    fpr_rf[i], tpr_rf[i], _ = roc_curve(y_true[:, i], y_score[:, i])\n",
    "    roc_auc_rf[i] = auc(fpr_rf[i], tpr_rf[i])\n",
    "    \n",
    "# Compute micro-average ROC curve and ROC area\n",
    "fpr_rf[\"micro\"], tpr_rf[\"micro\"], _ = roc_curve(y_true.ravel(), y_score.ravel())\n",
    "roc_auc_rf[\"micro\"] = auc(fpr_rf[\"micro\"], tpr_rf[\"micro\"])"
   ]
  },
  {
   "cell_type": "markdown",
   "metadata": {},
   "source": [
    "### gaussian naive bayes"
   ]
  },
  {
   "cell_type": "code",
   "execution_count": 101,
   "metadata": {},
   "outputs": [
    {
     "data": {
      "text/plain": [
       "(235,)"
      ]
     },
     "execution_count": 101,
     "metadata": {},
     "output_type": "execute_result"
    }
   ],
   "source": [
    "y_predicted = clf_gnb.predict(x_)\n",
    "y_score = clf_gnb.predict_proba(x_)\n",
    "y_score = y_score[:,1] # take positive class\n",
    "y_score.shape"
   ]
  },
  {
   "cell_type": "code",
   "execution_count": 102,
   "metadata": {},
   "outputs": [],
   "source": [
    "y_true = y_.astype(int)\n",
    "y_true = label_binarize(y_true, classes=[0, 1])\n",
    "n_classes = y_true.shape[1]\n",
    "y_score = np.reshape(y_score, (y_score.shape[0],1))\n",
    "\n",
    "# Compute ROC curve and ROC area for each class\n",
    "fpr_nb = dict()\n",
    "tpr_nb = dict()\n",
    "roc_auc_nb = dict()\n",
    "for i in range(n_classes):\n",
    "    fpr_nb[i], tpr_nb[i], _ = roc_curve(y_true[:, i], y_score[:, i])\n",
    "    roc_auc_nb[i] = auc(fpr_nb[i], tpr_nb[i])\n",
    "    \n",
    "# Compute micro-average ROC curve and ROC area\n",
    "fpr_nb[\"micro\"], tpr_nb[\"micro\"], _ = roc_curve(y_true.ravel(), y_score.ravel())\n",
    "roc_auc_nb[\"micro\"] = auc(fpr_nb[\"micro\"], tpr_nb[\"micro\"])"
   ]
  },
  {
   "cell_type": "code",
   "execution_count": 103,
   "metadata": {},
   "outputs": [
    {
     "data": {
      "image/png": "[encoded data removed]",
      "text/plain": [
       "<Figure size 720x576 with 1 Axes>"
      ]
     },
     "metadata": {},
     "output_type": "display_data"
    }
   ],
   "source": [
    "#plt.figure()\n",
    "fig, ax = plt.subplots()\n",
    "fig.set_size_inches(10,8)\n",
    "lw = 4\n",
    "plt.rc('xtick', labelsize=40)\n",
    "plt.rc('ytick', labelsize=40)\n",
    "plt.plot(fpr_svcrbf[0], tpr_svcrbf[0], color='green',\n",
    "         lw=lw, label='RBF SVM (AUC=%0.3f)' % roc_auc_svcrbf[0])\n",
    "plt.plot(fpr_knn[0], tpr_knn[0], color='pink',\n",
    "         lw=lw, label='KNN (AUC=%0.3f)' % roc_auc_knn[0])\n",
    "plt.plot(fpr_rf[0], tpr_rf[0], color='brown',\n",
    "         lw=lw, label='RF (AUC=%0.3f)' % roc_auc_rf[0])\n",
    "plt.plot(fpr_nb[0], tpr_nb[0], color='orange',\n",
    "         lw=lw, label='GNB (AUC=%0.3f)' % roc_auc_nb[0])\n",
    "plt.plot(fpr_b[0], tpr_b[0], color='blue',\n",
    "         lw=lw, label='Base (AUC=%0.3f)' % roc_auc_b[0])\n",
    "plt.plot(fpr_h[0], tpr_h[0], color='red',\n",
    "         lw=lw, label='HPS (AUC=%0.3f)' % roc_auc_h[0])\n",
    "plt.plot([0, 1], [0, 1], color='grey', lw=lw, linestyle='--')\n",
    "plt.xlim([-0.05, 1.00])\n",
    "plt.ylim([0.0, 1.05])\n",
    "plt.xlabel('FPR', fontdict={'size': 40})\n",
    "plt.ylabel('TPR', fontdict={'size': 40})\n",
    "plt.title('ADNI2 pMCI vs sMCI', fontdict={'size': 40})\n",
    "plt.legend(loc=\"lower right\", prop={'size': 25})\n",
    "#ax.legend(loc='center left', bbox_to_anchor=(1,0.5), prop={'size': 30})\n",
    "plt.show()\n",
    "fig.savefig(path_results + 'adni2_mci_roc_multi.pdf', bbox_inches='tight')"
   ]
  },
  {
   "cell_type": "code",
   "execution_count": null,
   "metadata": {},
   "outputs": [],
   "source": []
  },
  {
   "cell_type": "code",
   "execution_count": null,
   "metadata": {},
   "outputs": [],
   "source": []
  },
  {
   "cell_type": "code",
   "execution_count": null,
   "metadata": {},
   "outputs": [],
   "source": []
  }
 ],
 "metadata": {
  "anaconda-cloud": {},
  "kernelspec": {
   "display_name": "Python [default]",
   "language": "python",
   "name": "python3"
  },
  "language_info": {
   "codemirror_mode": {
    "name": "ipython",
    "version": 3
   },
   "file_extension": ".py",
   "mimetype": "text/x-python",
   "name": "python",
   "nbconvert_exporter": "python",
   "pygments_lexer": "ipython3",
   "version": "3.5.6"
  }
 },
 "nbformat": 4,
 "nbformat_minor": 2
}
