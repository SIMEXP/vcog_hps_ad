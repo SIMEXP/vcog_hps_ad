{
 "cells": [
  {
   "cell_type": "markdown",
   "metadata": {},
   "source": [
    "# A highly predictive signature (HPS) of Alzheimer's disease dementia from cognitive and structural brain features"
   ]
  },
  {
   "cell_type": "markdown",
   "metadata": {},
   "source": [
    "This notebook uses simulated data from the Alzheimer's Disease Neuroimaging Initiative (ADNI) to make high confidence predictions to classify patients with mild cognitive impairment (MCI) who will progress to Alzheimer's disease dementia within three years from those who will remain cognitively stable.\n",
    "\n",
    "This notebook is associated with the following preprint [A signature of cognitive deficits and brain atrophy that is highly predictive of progression to Alzheimer's dementia](https://doi.org/10.1101/352344)"
   ]
  },
  {
   "cell_type": "markdown",
   "metadata": {},
   "source": [
    "#### import packages"
   ]
  },
  {
   "cell_type": "code",
   "execution_count": 1,
   "metadata": {},
   "outputs": [
    {
     "name": "stderr",
     "output_type": "stream",
     "text": [
      "/home/angela/anaconda3/envs/vcog_paper_py35/lib/python3.5/site-packages/sklearn/ensemble/weight_boosting.py:29: DeprecationWarning: numpy.core.umath_tests is an internal NumPy module and should not be imported. It will be removed in a future NumPy release.\n",
      "  from numpy.core.umath_tests import inner1d\n"
     ]
    }
   ],
   "source": [
    "import urllib.request\n",
    "import numpy as np\n",
    "import pandas as pd\n",
    "import scipy.io\n",
    "import matplotlib.pyplot as plt\n",
    "from matplotlib import cm\n",
    "import seaborn as sns\n",
    "from copy import deepcopy\n",
    "\n",
    "# import sklearn modules\n",
    "from sklearn.utils import shuffle\n",
    "from sklearn import preprocessing\n",
    "from sklearn.model_selection import StratifiedKFold\n",
    "from sklearn import metrics\n",
    "from sklearn.preprocessing import label_binarize\n",
    "from sklearn.metrics import roc_curve, auc\n",
    "from sklearn.metrics import average_precision_score\n",
    "from sklearn.metrics import precision_recall_curve\n",
    "\n",
    "# import proteus modules\n",
    "from Proteus.proteus.visu import sbp_visu\n",
    "from Proteus.proteus.predic import high_confidence_at\n",
    "from Proteus.proteus.predic import prediction"
   ]
  },
  {
   "cell_type": "markdown",
   "metadata": {},
   "source": [
    "#### function for stats of prediction"
   ]
  },
  {
   "cell_type": "code",
   "execution_count": 2,
   "metadata": {},
   "outputs": [],
   "source": [
    "def predic_stats(y_, y_pred, lr_decision):\n",
    "    # number of AD subjects\n",
    "    n_ad = sum(y_)\n",
    "    print('Total number of TARGET subjects: ', n_ad)\n",
    "\n",
    "    # number of CN subjects\n",
    "    n_cn = len(y_) - sum(y_)\n",
    "    print('Total number of NON-TARGET subjects: ', n_cn)\n",
    "    \n",
    "    # number of subjects predicted as AD at stage 1\n",
    "    n_pos = sum(y_pred)\n",
    "    print('Stage 1 number of hits (true and false positives): ', n_pos)\n",
    "    \n",
    "    # true positives at stage 1\n",
    "    n_pos_ad = sum(y_pred[y_.astype(bool)])\n",
    "    print('Stage 1 TRUE positives: ', n_pos_ad)\n",
    "    \n",
    "    # false positives at stage 1\n",
    "    n_pos_cn = n_pos - n_pos_ad\n",
    "    print('Stage 1 FALSE positives: ', n_pos_cn)\n",
    "    \n",
    "    # number of CN subjects not identified as positive (true negatives)\n",
    "    n_neg1_cn = n_cn - n_pos_cn\n",
    "    print('Stage 1 TRUE negatives: ', n_neg1_cn)\n",
    "\n",
    "    # number of all flagged HPC-AD subjects\n",
    "    n_flag = sum(y_pred[lr_decision>0])\n",
    "    print('Total number of flagged HPC-AD subjects: ', n_flag)\n",
    "\n",
    "    # number of flagged HPC-AD subjects who are actually AD (true positives)\n",
    "    y_pred_true = y_ + y_pred\n",
    "    y_pred_true = y_pred_true==2\n",
    "    n_flag_ad = sum(y_pred_true[lr_decision>0])\n",
    "    print('Number of flagged HPC-AD subjects that are TRUE positives: ', n_flag_ad)\n",
    "\n",
    "    # number of flagged HPC-AD subjects that are actually CN (false positives)\n",
    "    n_flag_cn = n_flag - n_flag_ad\n",
    "    print('Number of flagged HPC-AD subjects that are FALSE positives: ', n_flag_cn)\n",
    "\n",
    "    # number of CN subjects that were not flagged (true negatives)\n",
    "    n_neg_cn = n_cn - n_flag_cn\n",
    "    print('Number of true negatives: ', n_neg_cn)\n",
    "    \n",
    "    print('#############################')\n",
    "    print('Stage 1 stats for TARGET vs NON-TARGET')\n",
    "    print('Precision for AD: ', n_pos_ad/(n_pos_ad + n_pos_cn))\n",
    "    prec = n_pos_ad/(n_pos_ad + n_pos_cn)\n",
    "    print('Recall (or sensitivity)  for AD: ', n_pos_ad/n_ad)\n",
    "    sens = n_pos_ad/n_ad\n",
    "    print('Specificity: ', n_neg1_cn/n_cn)\n",
    "    spec = n_neg1_cn/n_cn\n",
    "    fp = (1-spec)*664\n",
    "    tp = sens*336\n",
    "    adj_prec = tp/(tp+fp)\n",
    "    print('Adjusted precision for 33.6% baseline rate: ', adj_prec)\n",
    "    print('Accuracy: ', (n_pos_ad + n_neg1_cn)/(n_ad + n_cn))\n",
    "    acc = (n_pos_ad + n_neg1_cn)/(n_ad + n_cn)\n",
    "\n",
    "    print('#############################')\n",
    "    print('Stage 2 stats for TARGET vs NON-TARGET')\n",
    "    print('Precision for HPC-AD: ', n_flag_ad/n_flag)\n",
    "    prec_2 = n_flag_ad/n_flag\n",
    "    print('Recall (or sensitivity) for HPC-AD: ', n_flag_ad/n_ad)\n",
    "    sens_2 = n_flag_ad/n_ad\n",
    "    print('Specificity: ', n_neg_cn/n_cn)\n",
    "    spec_2 = n_neg_cn/n_cn\n",
    "    fp_2 = (1-spec_2)*664\n",
    "    tp_2 = sens_2*336\n",
    "    adj_prec_2 = tp_2/(tp_2 + fp_2)\n",
    "    print('Adjusted precision for 33.6% baseline rate: ', adj_prec_2)\n",
    "    print('Accuracy: ', (n_flag_ad + n_neg_cn)/(n_ad + n_cn))\n",
    "    acc_2 = (n_flag_ad + n_neg_cn)/(n_ad + n_cn)\n",
    "    \n",
    "    return sens, spec, prec, acc, sens_2, spec_2, prec_2, acc_2"
   ]
  },
  {
   "cell_type": "markdown",
   "metadata": {},
   "source": [
    "#### set the random seed"
   ]
  },
  {
   "cell_type": "code",
   "execution_count": 3,
   "metadata": {},
   "outputs": [],
   "source": [
    "np.random.seed(1)"
   ]
  },
  {
   "cell_type": "markdown",
   "metadata": {},
   "source": [
    "# Load simulated data"
   ]
  },
  {
   "cell_type": "markdown",
   "metadata": {},
   "source": [
    "We created simulated data derived from the ADNI dataset and hosted it on [Figshare](https://figshare.com/articles/Simulated_cognitive_and_structural_MRI_data_from_ADNI/7132757). The following URL request will retrieve these data and load them using pandas."
   ]
  },
  {
   "cell_type": "code",
   "execution_count": 4,
   "metadata": {},
   "outputs": [
    {
     "data": {
      "text/plain": [
       "('simulated_data.csv', <http.client.HTTPMessage at 0x7f3941ce5278>)"
      ]
     },
     "execution_count": 4,
     "metadata": {},
     "output_type": "execute_result"
    }
   ],
   "source": [
    "# Download the csv file from the web\n",
    "urllib.request.urlretrieve(\"https://ndownloader.figshare.com/files/13123139\",\"simulated_data.csv\")"
   ]
  },
  {
   "cell_type": "code",
   "execution_count": 5,
   "metadata": {},
   "outputs": [],
   "source": [
    "# read the data with pandas\n",
    "data = pd.read_csv('simulated_data.csv')"
   ]
  },
  {
   "cell_type": "code",
   "execution_count": 6,
   "metadata": {},
   "outputs": [],
   "source": [
    "# create 1-hot variable for initial AD diagnosis\n",
    "for i,row in data.iterrows():\n",
    "    dx = row['DX']\n",
    "    if dx == 'Dementia':\n",
    "        data.loc[i,'AD'] = 1\n",
    "    else:\n",
    "        data.loc[i,'AD'] = 0"
   ]
  },
  {
   "cell_type": "markdown",
   "metadata": {},
   "source": [
    "# Train a model to classify patients with AD dementia vs cognitively normal (CN) subjects"
   ]
  },
  {
   "cell_type": "markdown",
   "metadata": {},
   "source": [
    "In this section, we will train a machine learning model to classify patients with AD dementia from cognitively normal subjects in ADNI1. This section displays the code that was used to generate the results presented in *\"Prediction of AD dementia vs cognitively normal individuals\"* and *\"Identification of easy AD cases for prediction\"* in the *Results* section of the preprint.\n",
    "\n",
    "We used [Proteus](https://github.com/SIMEXP/vcog_hps_ad/tree/master/Proteus) which is built on top of [scikitlearn](http://scikit-learn.org) to generate our predictive models."
   ]
  },
  {
   "cell_type": "markdown",
   "metadata": {},
   "source": [
    "#### Organize the data for the training set"
   ]
  },
  {
   "cell_type": "code",
   "execution_count": 7,
   "metadata": {},
   "outputs": [],
   "source": [
    "# grab only adni1 subjects\n",
    "train_set = data[data.dataset != 'ADNI2']"
   ]
  },
  {
   "cell_type": "code",
   "execution_count": 8,
   "metadata": {},
   "outputs": [],
   "source": [
    "# grab only Dementia & CN subjects\n",
    "train_set = train_set[train_set.DX != 'pMCI']\n",
    "train_set = train_set[train_set.DX != 'sMCI']"
   ]
  },
  {
   "cell_type": "code",
   "execution_count": 9,
   "metadata": {},
   "outputs": [],
   "source": [
    "# set instance of standard scaler\n",
    "scaler = preprocessing.StandardScaler()\n",
    "\n",
    "# define the x and y variables\n",
    "x_ = train_set.iloc[:,train_set.columns.get_loc(\"ADAS13\"):train_set.columns.get_loc(\"sub7\")+1].values\n",
    "y_ = train_set[['AD']].values.ravel()\n",
    "\n",
    "# add these variables to the x\n",
    "confounds = train_set[['gender','age_scan','mean_gm','tiv']].values\n",
    "\n",
    "# scale the x variables\n",
    "x_ = scaler.fit_transform(np.hstack((x_,confounds)))"
   ]
  },
  {
   "cell_type": "markdown",
   "metadata": {},
   "source": [
    "#### Cross-validation of the classifier in ADNI1 AD & CN"
   ]
  },
  {
   "cell_type": "code",
   "execution_count": 10,
   "metadata": {
    "scrolled": true
   },
   "outputs": [
    {
     "name": "stdout",
     "output_type": "stream",
     "text": [
      "Stage 1\n",
      "Proba:\n",
      "[1.         0.93076923 1.         1.         1.         1.\n",
      " 1.         1.         1.         1.         1.         1.\n",
      " 1.         1.         1.         1.         1.         1.\n",
      " 1.         1.         1.         1.         1.         1.\n",
      " 1.         1.         1.         1.         1.         1.\n",
      " 1.         1.         1.         1.         1.         1.\n",
      " 1.         1.         1.         0.85062241 1.         1.\n",
      " 1.         1.         1.         0.99579832 1.         1.\n",
      " 1.         1.         0.90725806 1.         1.         1.\n",
      " 1.         1.         1.         1.         1.         1.\n",
      " 1.         1.         1.         1.         1.         1.\n",
      " 1.         1.         1.         1.         1.         1.\n",
      " 1.         0.996139   1.         1.         1.         1.\n",
      " 1.         1.         1.         1.         1.         1.\n",
      " 1.         1.         1.         1.         1.         1.\n",
      " 1.         1.         1.         1.         1.         1.\n",
      " 1.         1.         1.         1.         1.         1.\n",
      " 1.         1.         1.         1.         1.         1.\n",
      " 1.         0.99176955 1.         1.         1.         0.85887097\n",
      " 1.         1.         0.91935484 1.         0.9921875  1.\n",
      " 1.         1.         1.         0.996139   1.         1.\n",
      " 0.88655462 0.99190283 1.         1.         1.         0.82758621\n",
      " 1.         0.99585062 1.         1.         0.65182186 0.61354582\n",
      " 1.         1.         1.         1.         0.95149254 1.\n",
      " 0.99593496 1.         1.         1.         1.         1.\n",
      " 0.90225564 1.         1.         1.         1.         1.\n",
      " 1.         1.         1.         1.         1.         1.\n",
      " 0.7892562  1.         1.         1.         1.         1.\n",
      " 0.94067797 1.         1.         1.         0.79775281 1.\n",
      " 1.         1.         1.         1.         0.76171875 1.\n",
      " 1.         1.         1.         1.         0.9254902  0.98850575\n",
      " 1.         1.         1.         1.         1.         1.\n",
      " 1.         1.         1.         1.         0.996      1.\n",
      " 1.         1.         1.         1.         1.         1.\n",
      " 0.35849057 1.         1.         1.         1.         1.\n",
      " 0.94186047 1.         1.         1.         0.99239544 1.\n",
      " 1.         1.         1.         1.         1.         1.\n",
      " 1.         1.         1.         1.         1.         0.98449612\n",
      " 1.         1.         1.         1.         1.         0.75\n",
      " 1.         1.         1.         0.99583333 1.         1.\n",
      " 1.         1.         1.         0.81568627 1.        ]\n",
      "Average hm score 0.8653061224489796\n",
      "Stage 2\n",
      "Adjusted gamma:  1.0\n",
      "Adjusted gamma:  1.0\n",
      "Classifying AD vs CN at stage 2...\n",
      "[0. 0. 0. 0. 0. 0. 0. 0. 0. 1. 0. 0. 0. 0. 0. 0. 0. 0. 0. 0. 0. 0. 0. 0.\n",
      " 0. 0. 0. 0. 0. 0. 0. 0. 0. 0. 0. 0. 0. 0. 0. 0. 0. 0. 0. 0. 0. 0. 0. 0.\n",
      " 0. 0. 0. 0. 0. 0. 0. 0. 0. 0. 0. 0. 0. 0. 0. 0. 0. 0. 0. 0. 0. 1. 1. 0.\n",
      " 1. 0. 1. 1. 0. 0. 1. 0. 0. 0. 1. 0. 1. 0. 0. 0. 0. 0. 0. 1. 1. 1. 0. 1.\n",
      " 0. 0. 0. 1. 1. 1. 0. 1. 1. 1. 1. 0. 1. 1. 1. 1. 1. 0. 1. 0. 1. 1. 1. 1.\n",
      " 1. 1. 1. 1.]\n",
      "Total number of TARGET subjects:  55.0\n",
      "Total number of NON-TARGET subjects:  69.0\n",
      "Stage 1 number of hits (true and false positives):  34.0\n",
      "Stage 1 TRUE positives:  33.0\n",
      "Stage 1 FALSE positives:  1.0\n",
      "Stage 1 TRUE negatives:  68.0\n",
      "Total number of flagged HPC-AD subjects:  29.0\n",
      "Number of flagged HPC-AD subjects that are TRUE positives:  29\n",
      "Number of flagged HPC-AD subjects that are FALSE positives:  0.0\n",
      "Number of true negatives:  69.0\n",
      "#############################\n",
      "Stage 1 stats for TARGET vs NON-TARGET\n",
      "Precision for AD:  0.9705882352941176\n",
      "Recall (or sensitivity)  for AD:  0.6\n",
      "Specificity:  0.9855072463768116\n",
      "Adjusted precision for 33.6% baseline rate:  0.95444066308047\n",
      "Accuracy:  0.8145161290322581\n",
      "#############################\n",
      "Stage 2 stats for TARGET vs NON-TARGET\n",
      "Precision for HPC-AD:  1.0\n",
      "Recall (or sensitivity) for HPC-AD:  0.5272727272727272\n",
      "Specificity:  1.0\n",
      "Adjusted precision for 33.6% baseline rate:  1.0\n",
      "Accuracy:  0.7903225806451613\n",
      "------------------------------------------------------\n",
      "Stage 1\n",
      "Proba:\n",
      "[1.         1.         1.         1.         0.08520179 1.\n",
      " 1.         1.         1.         0.53333333 1.         0.97285068\n",
      " 1.         1.         1.         1.         1.         1.\n",
      " 1.         1.         1.         0.7480315  1.         1.\n",
      " 1.         1.         1.         1.         1.         1.\n",
      " 1.         1.         1.         1.         1.         1.\n",
      " 1.         1.         1.         1.         1.         1.\n",
      " 1.         1.         1.         1.         1.         0.94468085\n",
      " 1.         1.         1.         1.         1.         1.\n",
      " 1.         1.         1.         1.         1.         1.\n",
      " 1.         1.         1.         1.         1.         1.\n",
      " 0.97107438 1.         1.         1.         1.         1.\n",
      " 1.         1.         1.         1.         1.         1.\n",
      " 1.         1.         1.         1.         1.         1.\n",
      " 1.         1.         1.         1.         1.         1.\n",
      " 1.         1.         1.         1.         1.         1.\n",
      " 1.         1.         0.89795918 1.         1.         0.96525097\n",
      " 1.         1.         1.         1.         1.         1.\n",
      " 1.         1.         0.50607287 1.         1.         1.\n",
      " 0.99616858 1.         1.         0.92887029 1.         1.\n",
      " 1.         1.         1.         1.         0.99203187 1.\n",
      " 1.         0.5766129  0.99595142 1.         1.         1.\n",
      " 0.18461538 1.         1.         1.         1.         1.\n",
      " 1.         0.00409836 1.         0.9488189  1.         1.\n",
      " 1.         0.04150943 1.         0.33603239 1.         1.\n",
      " 1.         0.21544715 1.         0.828      0.9924812  1.\n",
      " 1.         0.         1.         1.         1.         1.\n",
      " 0.17509728 1.         1.         0.70817121 0.20392157 1.\n",
      " 1.         1.         0.91735537 0.98804781 1.         1.\n",
      " 0.87250996 0.056      1.         0.93877551 1.         1.\n",
      " 1.         1.         1.         0.9755102  1.         1.\n",
      " 1.         1.         1.         1.         1.         0.9962963\n",
      " 1.         1.         1.         1.         1.         1.\n",
      " 1.         1.         1.         1.         1.         1.\n",
      " 1.         0.68510638 1.         1.         1.         1.\n",
      " 1.         0.98496241 1.         1.         1.         0.76734694\n",
      " 1.         1.         1.         1.         1.         1.\n",
      " 1.         1.         1.         1.         1.         1.\n",
      " 1.         1.         1.         1.         1.         1.\n",
      " 0.94650206 1.         1.         1.         1.         1.\n",
      " 1.         1.         1.         1.         0.99183673 0.99180328]\n",
      "Average hm score 0.8414634146341463\n",
      "Stage 2\n",
      "Adjusted gamma:  1.0\n",
      "Adjusted gamma:  1.0\n",
      "Classifying AD vs CN at stage 2...\n",
      "[0. 1. 0. 0. 0. 0. 0. 0. 0. 0. 0. 0. 0. 0. 0. 0. 0. 0. 0. 0. 0. 0. 0. 0.\n",
      " 0. 0. 0. 0. 0. 0. 0. 0. 0. 0. 0. 0. 0. 0. 0. 0. 0. 0. 0. 0. 0. 0. 0. 0.\n",
      " 0. 0. 1. 0. 0. 0. 0. 0. 0. 0. 0. 0. 0. 0. 0. 0. 0. 0. 0. 0. 1. 1. 1. 1.\n",
      " 1. 1. 1. 1. 1. 1. 1. 1. 1. 1. 1. 1. 1. 1. 1. 1. 1. 1. 1. 1. 1. 1. 1. 1.\n",
      " 1. 1. 1. 1. 1. 1. 1. 1. 0. 1. 1. 1. 1. 1. 1. 1. 1. 1. 1. 1. 1. 1. 1. 1.\n",
      " 1. 1. 1.]\n",
      "Total number of TARGET subjects:  55.0\n",
      "Total number of NON-TARGET subjects:  68.0\n",
      "Stage 1 number of hits (true and false positives):  56.0\n",
      "Stage 1 TRUE positives:  54.0\n",
      "Stage 1 FALSE positives:  2.0\n",
      "Stage 1 TRUE negatives:  66.0\n",
      "Total number of flagged HPC-AD subjects:  46.0\n",
      "Number of flagged HPC-AD subjects that are TRUE positives:  46\n",
      "Number of flagged HPC-AD subjects that are FALSE positives:  0.0\n",
      "Number of true negatives:  68.0\n",
      "#############################\n",
      "Stage 1 stats for TARGET vs NON-TARGET\n",
      "Precision for AD:  0.9642857142857143\n",
      "Recall (or sensitivity)  for AD:  0.9818181818181818\n",
      "Specificity:  0.9705882352941176\n",
      "Adjusted precision for 33.6% baseline rate:  0.9441091127245124\n",
      "Accuracy:  0.975609756097561\n",
      "#############################\n",
      "Stage 2 stats for TARGET vs NON-TARGET\n",
      "Precision for HPC-AD:  1.0\n",
      "Recall (or sensitivity) for HPC-AD:  0.8363636363636363\n",
      "Specificity:  1.0\n",
      "Adjusted precision for 33.6% baseline rate:  1.0\n",
      "Accuracy:  0.926829268292683\n",
      "------------------------------------------------------\n",
      "Stage 1\n",
      "Proba:\n",
      "[1.         0.99583333 1.         1.         0.         1.\n",
      " 1.         1.         1.         0.08130081 1.         0.99541284\n",
      " 1.         1.         1.         1.         1.         1.\n",
      " 1.         1.         1.         0.97111913 1.         1.\n",
      " 1.         1.         1.         1.         1.         1.\n",
      " 1.         1.         1.         1.         1.         1.\n",
      " 1.         1.         1.         1.         1.         1.\n",
      " 1.         1.         1.         1.         1.         0.9561753\n",
      " 1.         1.         1.         1.         0.98828125 1.\n",
      " 1.         1.         1.         1.         1.         1.\n",
      " 1.         1.         1.         1.         1.         1.\n",
      " 0.97222222 1.         1.         1.         0.87596899 1.\n",
      " 1.         1.         1.         1.         1.         1.\n",
      " 1.         1.         1.         1.         1.         1.\n",
      " 1.         0.52083333 1.         1.         0.99591837 1.\n",
      " 1.         1.         1.         1.         1.         1.\n",
      " 1.         1.         1.         1.         1.         1.\n",
      " 1.         1.         1.         1.         1.         1.\n",
      " 0.88492063 1.         1.         1.         0.99606299 1.\n",
      " 0.94979079 1.         1.         1.         1.         0.63673469\n",
      " 1.         1.         1.         1.         1.         1.\n",
      " 1.         1.         1.         1.         1.         1.\n",
      " 1.         1.         1.         1.         1.         1.\n",
      " 1.         0.0122449  1.         0.87603306 1.         1.\n",
      " 1.         0.         1.         0.04       1.         1.\n",
      " 1.         0.23170732 1.         0.63059701 1.         1.\n",
      " 0.99170124 0.         1.         1.         1.         1.\n",
      " 0.37301587 1.         1.         0.60869565 0.092      1.\n",
      " 1.         1.         1.         0.9921875  1.         1.\n",
      " 0.95983936 0.01132075 1.         0.99159664 1.         1.\n",
      " 1.         0.99586777 1.         0.99568966 1.         1.\n",
      " 1.         1.         1.         1.         0.98755187 1.\n",
      " 1.         0.76245211 1.         1.         1.         1.\n",
      " 1.         1.         1.         1.         1.         1.\n",
      " 1.         1.         1.         1.         1.         1.\n",
      " 1.         1.         1.         1.         1.         1.\n",
      " 1.         1.         1.         1.         1.         1.\n",
      " 1.         1.         0.97491039 1.         1.         1.\n",
      " 0.99583333 1.         1.         1.         1.         1.\n",
      " 0.76923077 1.         1.         1.         1.         1.\n",
      " 1.         1.         1.         1.         1.         1.\n",
      " 1.        ]\n"
     ]
    },
    {
     "name": "stdout",
     "output_type": "stream",
     "text": [
      "Average hm score 0.8502024291497976\n",
      "Stage 2\n",
      "Adjusted gamma:  1.0\n",
      "Adjusted gamma:  1.0\n",
      "Classifying AD vs CN at stage 2...\n",
      "[0. 0. 0. 0. 0. 0. 0. 0. 0. 0. 0. 0. 0. 0. 0. 0. 0. 0. 0. 0. 0. 0. 0. 0.\n",
      " 0. 0. 0. 0. 0. 0. 0. 0. 0. 0. 0. 0. 0. 0. 0. 0. 0. 1. 0. 0. 0. 0. 0. 0.\n",
      " 0. 0. 0. 0. 0. 0. 0. 0. 0. 0. 1. 0. 0. 0. 0. 1. 0. 0. 0. 0. 1. 1. 1. 1.\n",
      " 1. 1. 1. 1. 1. 1. 1. 1. 1. 1. 1. 1. 1. 1. 1. 1. 1. 1. 1. 1. 1. 1. 1. 1.\n",
      " 1. 1. 1. 1. 1. 1. 1. 1. 1. 1. 1. 1. 1. 1. 1. 1. 1. 1. 1. 1. 1. 1. 1. 1.\n",
      " 1. 1.]\n",
      "Total number of TARGET subjects:  54.0\n",
      "Total number of NON-TARGET subjects:  68.0\n",
      "Stage 1 number of hits (true and false positives):  57.0\n",
      "Stage 1 TRUE positives:  54.0\n",
      "Stage 1 FALSE positives:  3.0\n",
      "Stage 1 TRUE negatives:  65.0\n",
      "Total number of flagged HPC-AD subjects:  50.0\n",
      "Number of flagged HPC-AD subjects that are TRUE positives:  49\n",
      "Number of flagged HPC-AD subjects that are FALSE positives:  1.0\n",
      "Number of true negatives:  67.0\n",
      "#############################\n",
      "Stage 1 stats for TARGET vs NON-TARGET\n",
      "Precision for AD:  0.9473684210526315\n",
      "Recall (or sensitivity)  for AD:  1.0\n",
      "Specificity:  0.9558823529411765\n",
      "Adjusted precision for 33.6% baseline rate:  0.9198067632850243\n",
      "Accuracy:  0.9754098360655737\n",
      "#############################\n",
      "Stage 2 stats for TARGET vs NON-TARGET\n",
      "Precision for HPC-AD:  0.98\n",
      "Recall (or sensitivity) for HPC-AD:  0.9074074074074074\n",
      "Specificity:  0.9852941176470589\n",
      "Adjusted precision for 33.6% baseline rate:  0.9689668065306801\n",
      "Accuracy:  0.9508196721311475\n",
      "------------------------------------------------------\n"
     ]
    }
   ],
   "source": [
    "s1_spec = []\n",
    "s1_sens = []\n",
    "s1_prec = []\n",
    "s1_acc = []\n",
    "\n",
    "s2_spec = []\n",
    "s2_sens = []\n",
    "s2_prec = []\n",
    "s2_acc = []\n",
    "\n",
    "skf = StratifiedKFold(n_splits=3)\n",
    "for train_index, val_index in skf.split(x_,y_):\n",
    "    X_training, X_val = x_[train_index], x_[val_index]\n",
    "    y_training, y_val = y_[train_index], y_[val_index]\n",
    "    \n",
    "    # parameters of classifier\n",
    "    hpc = high_confidence_at.TwoStagesPrediction(\n",
    "        n_iter=500,\n",
    "        shuffle_test_split=0.5,\n",
    "        min_gamma=.99,\n",
    "        thresh_ratio=0.1)\n",
    "    \n",
    "    # train the model\n",
    "    hpc.fit(X_training, X_training, y_training)\n",
    "    \n",
    "    # test in separate sample\n",
    "    _, dic_results = hpc.predict(X_val, X_val)\n",
    "    \n",
    "    print('Classifying AD vs CN at stage 2...')\n",
    "    print((dic_results['s1df'][:,0]>0).astype(float))\n",
    "    # get the predicted labels from stage 2\n",
    "    y_pred = (dic_results['s1df'][:,0]>0).astype(float)\n",
    "    lr_decision = dic_results['s2df'][:,1]\n",
    "    \n",
    "    # print statistics of prediction\n",
    "    sens, spec, prec, acc, sens_2, spec_2, prec_2, acc_2 = predic_stats(y_val, y_pred, lr_decision)\n",
    "    s1_spec.append(spec)\n",
    "    s1_sens.append(sens)\n",
    "    s1_prec.append(prec)\n",
    "    s1_acc.append(acc)\n",
    "    s2_spec.append(spec_2)\n",
    "    s2_sens.append(sens_2)\n",
    "    s2_prec.append(prec_2)\n",
    "    s2_acc.append(acc_2)\n",
    "    \n",
    "    print('------------------------------------------------------')"
   ]
  },
  {
   "cell_type": "markdown",
   "metadata": {},
   "source": [
    "#### Mean stats of prediction across the k folds from cross-validation"
   ]
  },
  {
   "cell_type": "markdown",
   "metadata": {},
   "source": [
    "These average cross-validated statistics are presented as the results of the AD vs CN classification in ADNI1. Stage 1 represents the basic support vector machine (SVM) with a linear kernel, while Stage 2 represents the two-stage classifier that makes high confidence predictions. The statistics for Stage 1 are reported under *\"Prediction of AD dementia vs cognitively normal individuals\"* in the *Results* section of the paper. The statistics for Stage 2 are reported under *\"Identification of easy AD cases for prediction\"* in the *Results* section of the paper."
   ]
  },
  {
   "cell_type": "code",
   "execution_count": 11,
   "metadata": {},
   "outputs": [
    {
     "name": "stdout",
     "output_type": "stream",
     "text": [
      "Stage 1\n",
      "Mean sensitivity:  0.8606060606060607\n",
      "Mean specificity:  0.9706592782040353\n",
      "Mean precision:  0.9607474568774879\n",
      "Mean accuracy:  0.9218452403984642\n",
      "##########\n",
      "Stage 2\n",
      "Mean sensitivity:  0.7570145903479236\n",
      "Mean specificity:  0.9950980392156863\n",
      "Mean precision:  0.9933333333333333\n",
      "Mean accuracy:  0.8893238403563307\n"
     ]
    }
   ],
   "source": [
    "print('Stage 1')\n",
    "print('Mean sensitivity: ', np.mean(s1_sens))\n",
    "print('Mean specificity: ', np.mean(s1_spec))\n",
    "print('Mean precision: ', np.mean(s1_prec))\n",
    "print('Mean accuracy: ', np.mean(s1_acc))\n",
    "print('#'*10)\n",
    "print('Stage 2')\n",
    "print('Mean sensitivity: ', np.mean(s2_sens))\n",
    "print('Mean specificity: ', np.mean(s2_spec))\n",
    "print('Mean precision: ', np.mean(s2_prec))\n",
    "print('Mean accuracy: ', np.mean(s2_acc))"
   ]
  },
  {
   "cell_type": "markdown",
   "metadata": {},
   "source": [
    "#### Train highly predictive model on whole training set of ADNI1 AD & CN"
   ]
  },
  {
   "cell_type": "markdown",
   "metadata": {},
   "source": [
    "We will train the highly predictive classifier on the entire set of AD and CN subjects in ADNI1. The resulting model is what we will use for the rest of the classifications in other samples."
   ]
  },
  {
   "cell_type": "code",
   "execution_count": 12,
   "metadata": {
    "scrolled": true
   },
   "outputs": [
    {
     "name": "stdout",
     "output_type": "stream",
     "text": [
      "Stage 1\n",
      "Proba:\n",
      "[1.         1.         1.         1.         0.28404669 1.\n",
      " 1.         1.         1.         0.47257384 1.         1.\n",
      " 1.         1.         1.         1.         1.         1.\n",
      " 1.         1.         1.         1.         1.         1.\n",
      " 1.         1.         1.         1.         1.         1.\n",
      " 1.         1.         1.         1.         1.         1.\n",
      " 1.         1.         1.         1.         1.         1.\n",
      " 1.         1.         1.         1.         1.         1.\n",
      " 1.         1.         1.         1.         1.         1.\n",
      " 1.         1.         1.         1.         1.         1.\n",
      " 1.         1.         1.         1.         1.         1.\n",
      " 1.         1.         1.         1.         0.99215686 1.\n",
      " 1.         1.         1.         1.         1.         1.\n",
      " 1.         1.         1.         1.         1.         1.\n",
      " 1.         0.86770428 1.         1.         1.         1.\n",
      " 1.         1.         1.         1.         1.         1.\n",
      " 1.         1.         1.         1.         1.         1.\n",
      " 1.         1.         1.         1.         1.         1.\n",
      " 1.         1.         1.         1.         1.         1.\n",
      " 1.         1.         1.         1.         1.         0.99186992\n",
      " 1.         1.         1.         1.         1.         1.\n",
      " 1.         1.         1.         1.         1.         1.\n",
      " 1.         1.         1.         1.         1.         1.\n",
      " 1.         1.         1.         1.         1.         1.\n",
      " 1.         1.         1.         1.         1.         1.\n",
      " 1.         1.         1.         1.         1.         1.\n",
      " 1.         1.         1.         1.         1.         1.\n",
      " 1.         1.         1.         1.         0.94323144 1.\n",
      " 1.         1.         1.         1.         1.         1.\n",
      " 1.         1.         1.         1.         0.94067797 1.\n",
      " 1.         1.         0.93385214 1.         1.         1.\n",
      " 1.         1.         1.         1.         1.         1.\n",
      " 1.         1.         1.         0.27799228 1.         1.\n",
      " 1.         1.         0.00746269 1.         1.         1.\n",
      " 1.         1.         1.         0.         1.         0.61382114\n",
      " 1.         1.         1.         0.         1.         0.\n",
      " 1.         1.         1.         0.         1.         0.1417004\n",
      " 0.95471698 1.         0.99621212 0.         1.         1.\n",
      " 1.         1.         0.         1.         1.         0.59274194\n",
      " 0.00806452 1.         1.         1.         0.99145299 0.99173554\n",
      " 1.         1.         0.95275591 0.         1.         0.96062992\n",
      " 1.         1.         1.         1.         1.         0.99590164\n",
      " 1.         1.         1.         1.         1.         1.\n",
      " 0.99180328 1.         1.         0.54347826 1.         1.\n",
      " 1.         1.         1.         1.         1.         1.\n",
      " 1.         1.         1.         1.         1.         1.\n",
      " 1.         1.         1.         1.         1.         1.\n",
      " 1.         1.         1.         1.         0.99193548 1.\n",
      " 1.         1.         1.         1.         0.97735849 1.\n",
      " 1.         1.         0.98418972 1.         1.         1.\n",
      " 1.         1.         0.83404255 1.         1.         1.\n",
      " 1.         1.         1.         1.         1.         1.\n",
      " 1.         1.         1.         1.         1.         1.\n",
      " 1.         1.         1.         1.         1.         1.\n",
      " 1.         1.         1.         1.         0.62992126 1.\n",
      " 1.         1.         1.         1.         1.         1.\n",
      " 1.         1.         0.93360996 1.         1.         1.\n",
      " 1.         1.         1.         1.         1.         1.\n",
      " 1.         1.         1.         1.         1.         1.\n",
      " 1.         1.         1.         0.975      1.         1.\n",
      " 1.         1.         1.         1.         1.         1.\n",
      " 1.         0.91935484 1.        ]\n",
      "Average hm score 0.8970189701897019\n",
      "Stage 2\n",
      "Adjusted gamma:  1.0\n",
      "Adjusted gamma:  1.0\n"
     ]
    }
   ],
   "source": [
    "# create instance of classifier\n",
    "hpc = high_confidence_at.TwoStagesPrediction(\n",
    "    n_iter=500,\n",
    "    shuffle_test_split=0.5,\n",
    "    min_gamma=.99,\n",
    "    thresh_ratio=0.1)\n",
    "\n",
    "# train on the data\n",
    "hpc.fit(x_, x_, y_)"
   ]
  },
  {
   "cell_type": "markdown",
   "metadata": {},
   "source": [
    "#### Print the coefficients of each feature in the highly predictive model"
   ]
  },
  {
   "cell_type": "code",
   "execution_count": 13,
   "metadata": {},
   "outputs": [
    {
     "data": {
      "text/plain": [
       "array([[ 8.43851668, -5.22286411, -3.53234506, -3.13500374, -1.88113384,\n",
       "         0.        ,  0.08946603, -1.66361914,  0.10769513,  0.        ,\n",
       "         0.80499281, -1.58166452, -0.03631993, -0.22931601, -0.93913661,\n",
       "        -1.10079405]])"
      ]
     },
     "execution_count": 13,
     "metadata": {},
     "output_type": "execute_result"
    }
   ],
   "source": [
    "hpc.confidencemodel.clfs[1].coef_"
   ]
  },
  {
   "cell_type": "markdown",
   "metadata": {},
   "source": [
    "#### Plot the model weights"
   ]
  },
  {
   "cell_type": "markdown",
   "metadata": {},
   "source": [
    "The following plot is presented in Figure 4 of the paper."
   ]
  },
  {
   "cell_type": "code",
   "execution_count": 14,
   "metadata": {},
   "outputs": [],
   "source": [
    "# plot weights from the model\n",
    "w_df = pd.DataFrame(data=np.transpose(hpc.confidencemodel.clfs[1].coef_),columns=['Coefficient'])\n",
    "w_df['Factor'] = ['ADAS13','MEM','EXEC','BNT','CLOCK',\n",
    "                  'VBM 1','VBM 2','VBM 3','VBM 4','VBM 5','VBM 6','VBM 7',\n",
    "                  'sex','age','GMV','TIV']"
   ]
  },
  {
   "cell_type": "code",
   "execution_count": 15,
   "metadata": {
    "scrolled": true
   },
   "outputs": [
    {
     "name": "stderr",
     "output_type": "stream",
     "text": [
      "/home/angela/anaconda3/envs/vcog_paper_py35/lib/python3.5/site-packages/seaborn/categorical.py:3666: UserWarning: The `factorplot` function has been renamed to `catplot`. The original name will be removed in a future release. Please update your code. Note that the default `kind` in `factorplot` (`'point'`) has changed `'strip'` in `catplot`.\n",
      "  warnings.warn(msg)\n"
     ]
    },
    {
     "data": {
      "image/png": "[encoded data removed]",
      "text/plain": [
       "<Figure size 1152x595.44 with 1 Axes>"
      ]
     },
     "metadata": {
      "needs_background": "light"
     },
     "output_type": "display_data"
    }
   ],
   "source": [
    "fig, ax = plt.subplots()\n",
    "fig.set_size_inches(16, 8.27)\n",
    "\n",
    "sns.factorplot(ax=ax, y='Coefficient', x='Factor', data=w_df, kind='bar', palette=\"Greys_d\")\n",
    "for item in ax.get_xticklabels():\n",
    "    item.set_rotation(50)\n",
    "ax.set_ylim(-9,9)\n",
    "plt.close()\n",
    "plt.show()"
   ]
  },
  {
   "cell_type": "markdown",
   "metadata": {},
   "source": [
    "#### Get the predicted labels from HPS model"
   ]
  },
  {
   "cell_type": "code",
   "execution_count": 16,
   "metadata": {},
   "outputs": [],
   "source": [
    "array_results, dic_results = hpc.predict(x_, x_)\n",
    "y_pred = (dic_results['s1df'][:,0]>0).astype(float)\n",
    "lr_decision = dic_results['s2df'][:,1]"
   ]
  },
  {
   "cell_type": "markdown",
   "metadata": {},
   "source": [
    "### Generate ROC curves for classifiying AD vs CN in ADNI1"
   ]
  },
  {
   "cell_type": "markdown",
   "metadata": {},
   "source": [
    "The following section of code was used to generate the ROC curves in Supplementary Figure 1 for the AD vs CN classification in the ADNI1 dataset."
   ]
  },
  {
   "cell_type": "markdown",
   "metadata": {},
   "source": [
    "#### Set up ROC curve for base SVM"
   ]
  },
  {
   "cell_type": "code",
   "execution_count": 17,
   "metadata": {},
   "outputs": [],
   "source": [
    "# set the classifer and learn to predict AD vs CN\n",
    "base = high_confidence_at.BaseSvc()\n",
    "base.fit(x_, y_)\n",
    "y_predicted = base.predict(x_)\n",
    "y_score = base.decision_function(x_)\n",
    "\n",
    "# make sure to binarize the actual outputs\n",
    "y_true = y_.astype(int)\n",
    "y_true = label_binarize(y_true, classes=[0, 1])\n",
    "y_score = np.reshape(y_score, (y_score.shape[0],1))\n",
    "\n",
    "# Compute ROC curve\n",
    "fpr_b, tpr_b, thresholds_b = metrics.roc_curve(y_true, y_score, pos_label=1)\n",
    "# Compute the AUC\n",
    "roc_auc_b = auc(fpr_b, tpr_b)"
   ]
  },
  {
   "cell_type": "markdown",
   "metadata": {},
   "source": [
    "#### Set up ROC curve for HPS model"
   ]
  },
  {
   "cell_type": "code",
   "execution_count": 18,
   "metadata": {},
   "outputs": [],
   "source": [
    "# get the predicted output from HPS\n",
    "y_score = np.reshape(lr_decision, (y_score.shape[0],1))\n",
    "\n",
    "# Compute the ROC curve\n",
    "fpr_h, tpr_h, thresholds_h = metrics.roc_curve(y_true, y_score, pos_label=1)\n",
    "# Compute the AUC\n",
    "roc_auc_h = auc(fpr_h, tpr_h)"
   ]
  },
  {
   "cell_type": "markdown",
   "metadata": {},
   "source": [
    "#### Plot both ROC curves for base SVM and HPS models"
   ]
  },
  {
   "cell_type": "code",
   "execution_count": 19,
   "metadata": {},
   "outputs": [
    {
     "data": {
      "image/png": "[encoded data removed]",
      "text/plain": [
       "<Figure size 720x576 with 1 Axes>"
      ]
     },
     "metadata": {
      "needs_background": "light"
     },
     "output_type": "display_data"
    }
   ],
   "source": [
    "fig, ax = plt.subplots()\n",
    "fig.set_size_inches(10, 8)\n",
    "lw = 1\n",
    "plt.plot(fpr_b, tpr_b, color='blue',\n",
    "         lw=lw, label='Base (area = %0.4f)' % roc_auc_b)\n",
    "plt.plot(fpr_h, tpr_h, color='red',\n",
    "         lw=lw, label='HPS (area = %0.4f)' % roc_auc_h)\n",
    "plt.plot([0, 1], [0, 1], color='grey', lw=lw, linestyle='--')\n",
    "plt.xlim([-0.05, 1.00])\n",
    "plt.ylim([0.0, 1.05])\n",
    "plt.xlabel('False Positive Rate')\n",
    "plt.ylabel('True Positive Rate')\n",
    "plt.title('ADNI1 AD vs CN')\n",
    "plt.legend(loc=\"lower right\")\n",
    "plt.show()"
   ]
  },
  {
   "cell_type": "markdown",
   "metadata": {},
   "source": [
    "# Test on ADNI1 MCI stable vs progressors"
   ]
  },
  {
   "cell_type": "markdown",
   "metadata": {},
   "source": [
    "In this section, we will test our model on a new sample. This time, we will try to classify different types of patients with mild cognitive impairment (MCI). The task will be to distinguish between MCI patients who will progress to dementia within three years of follow-up from patients who will remain cognitvely stable. For now, we will do this in the MCI patients from the ADNI1 sample.\n",
    "\n",
    "The followig code was used to generate the section of the paper titled *\"High confidence prediction of progression to AD dementia\"* in the *Results* for the ADNI1 subjects."
   ]
  },
  {
   "cell_type": "markdown",
   "metadata": {},
   "source": [
    "#### Organize the data"
   ]
  },
  {
   "cell_type": "code",
   "execution_count": 20,
   "metadata": {},
   "outputs": [],
   "source": [
    "# grab only adni1\n",
    "adni1_mci = data[data.dataset != 'ADNI2']"
   ]
  },
  {
   "cell_type": "code",
   "execution_count": 21,
   "metadata": {},
   "outputs": [],
   "source": [
    "# grab only MCI\n",
    "adni1_mci = adni1_mci[adni1_mci.DX != 'Dementia']\n",
    "adni1_mci = adni1_mci[adni1_mci.DX != 'CN']"
   ]
  },
  {
   "cell_type": "code",
   "execution_count": 22,
   "metadata": {},
   "outputs": [],
   "source": [
    "# set up the x variables\n",
    "x_ = adni1_mci.iloc[:,adni1_mci.columns.get_loc(\"ADAS13\"):adni1_mci.columns.get_loc(\"sub7\")+1].values\n",
    "# set up the y \n",
    "y_ = adni1_mci['conv_2_ad'].values.ravel()\n",
    "# add these variables to the x\n",
    "confounds = adni1_mci[['gender','age_scan','mean_gm','tiv']].values\n",
    "# scale the x\n",
    "x_ = scaler.transform(np.hstack((x_,confounds)))"
   ]
  },
  {
   "cell_type": "markdown",
   "metadata": {},
   "source": [
    "#### Do the prediction"
   ]
  },
  {
   "cell_type": "code",
   "execution_count": 23,
   "metadata": {},
   "outputs": [],
   "source": [
    "array_results, dic_results = hpc.predict(x_, x_)\n",
    "y_pred = (dic_results['s1df'][:,0]>0).astype(float)\n",
    "lr_decision = dic_results['s2df'][:,1]"
   ]
  },
  {
   "cell_type": "markdown",
   "metadata": {},
   "source": [
    "#### Get the stats of the prediction"
   ]
  },
  {
   "cell_type": "markdown",
   "metadata": {},
   "source": [
    "These stats are presented in the paper for the classification of stable MCI (non-target subjects) vs progressor MCI (target subjects) in the ADNI1 sample under the section *\"High confidence prediction of progression to AD dementia\"* in the *Results* of the paper. Stage 1 refers to the basic linear SVM model, while Stage 2 refers to the highly predictive signature (HPS) model."
   ]
  },
  {
   "cell_type": "code",
   "execution_count": 24,
   "metadata": {
    "scrolled": true
   },
   "outputs": [
    {
     "name": "stdout",
     "output_type": "stream",
     "text": [
      "Total number of TARGET subjects:  147\n",
      "Total number of NON-TARGET subjects:  88\n",
      "Stage 1 number of hits (true and false positives):  129.0\n",
      "Stage 1 TRUE positives:  117.0\n",
      "Stage 1 FALSE positives:  12.0\n",
      "Stage 1 TRUE negatives:  76.0\n",
      "Total number of flagged HPC-AD subjects:  75.0\n",
      "Number of flagged HPC-AD subjects that are TRUE positives:  70\n",
      "Number of flagged HPC-AD subjects that are FALSE positives:  5.0\n",
      "Number of true negatives:  83.0\n",
      "#############################\n",
      "Stage 1 stats for TARGET vs NON-TARGET\n",
      "Precision for AD:  0.9069767441860465\n",
      "Recall (or sensitivity)  for AD:  0.7959183673469388\n",
      "Specificity:  0.8636363636363636\n",
      "Adjusted precision for 33.6% baseline rate:  0.7470613844144537\n",
      "Accuracy:  0.8212765957446808\n",
      "#############################\n",
      "Stage 2 stats for TARGET vs NON-TARGET\n",
      "Precision for HPC-AD:  0.9333333333333333\n",
      "Recall (or sensitivity) for HPC-AD:  0.47619047619047616\n",
      "Specificity:  0.9431818181818182\n",
      "Adjusted precision for 33.6% baseline rate:  0.8091954022988507\n",
      "Accuracy:  0.6510638297872341\n"
     ]
    },
    {
     "data": {
      "text/plain": [
       "(0.7959183673469388,\n",
       " 0.8636363636363636,\n",
       " 0.9069767441860465,\n",
       " 0.8212765957446808,\n",
       " 0.47619047619047616,\n",
       " 0.9431818181818182,\n",
       " 0.9333333333333333,\n",
       " 0.6510638297872341)"
      ]
     },
     "execution_count": 24,
     "metadata": {},
     "output_type": "execute_result"
    }
   ],
   "source": [
    "predic_stats(y_, y_pred, lr_decision)"
   ]
  },
  {
   "cell_type": "markdown",
   "metadata": {},
   "source": [
    "### ROC curve for classification of stable vs progressor MCI in ADNI1"
   ]
  },
  {
   "cell_type": "markdown",
   "metadata": {},
   "source": [
    "The following section of code was used to generate the ROC curves in Supplementary Figure 1 for the progressive MCI (pMCI) vs stable MCI (sMCI) classification in the ADNI1 dataset."
   ]
  },
  {
   "cell_type": "markdown",
   "metadata": {},
   "source": [
    "#### Set up for base SVM ROC curve"
   ]
  },
  {
   "cell_type": "code",
   "execution_count": 25,
   "metadata": {},
   "outputs": [],
   "source": [
    "# set up the classifier\n",
    "base = high_confidence_at.BaseSvc()\n",
    "base.fit(x_, y_)\n",
    "y_predicted = base.predict(x_)\n",
    "y_score = base.decision_function(x_)\n",
    "\n",
    "# make sure to binarize the outputs\n",
    "y_true = y_.astype(int)\n",
    "y_true = label_binarize(y_true, classes=[0, 1])\n",
    "y_score = np.reshape(y_score, (y_score.shape[0],1))\n",
    "\n",
    "# Compute ROC curve\n",
    "fpr_b, tpr_b, thresholds_b = metrics.roc_curve(y_true, y_score, pos_label=1)\n",
    "# Compute AUC\n",
    "roc_auc_b = auc(fpr_b, tpr_b)"
   ]
  },
  {
   "cell_type": "markdown",
   "metadata": {},
   "source": [
    "#### Set up the ROC curve for HPS model"
   ]
  },
  {
   "cell_type": "code",
   "execution_count": 26,
   "metadata": {},
   "outputs": [],
   "source": [
    "# get the output of HPS model\n",
    "y_score = np.reshape(lr_decision, (y_score.shape[0],1))\n",
    "\n",
    "# compute ROC curve\n",
    "fpr_h, tpr_h, thresholds_h = metrics.roc_curve(y_true, y_score, pos_label=1)\n",
    "# compute AUC\n",
    "roc_auc_h = auc(fpr_h, tpr_h)"
   ]
  },
  {
   "cell_type": "markdown",
   "metadata": {},
   "source": [
    "#### Plot the two ROC curves "
   ]
  },
  {
   "cell_type": "code",
   "execution_count": 27,
   "metadata": {},
   "outputs": [
    {
     "data": {
      "image/png": "[encoded data removed]",
      "text/plain": [
       "<Figure size 720x576 with 1 Axes>"
      ]
     },
     "metadata": {
      "needs_background": "light"
     },
     "output_type": "display_data"
    }
   ],
   "source": [
    "fig, ax = plt.subplots()\n",
    "fig.set_size_inches(10, 8)\n",
    "lw = 1\n",
    "plt.plot(fpr_b, tpr_b, color='blue',\n",
    "         lw=lw, label='Base (area = %0.4f)' % roc_auc_b)\n",
    "plt.plot(fpr_h, tpr_h, color='red',\n",
    "         lw=lw, label='HPS (area = %0.4f)' % roc_auc_h)\n",
    "plt.plot([0, 1], [0, 1], color='grey', lw=lw, linestyle='--')\n",
    "plt.xlim([-0.05, 1.00])\n",
    "plt.ylim([0.0, 1.05])\n",
    "plt.xlabel('False Positive Rate')\n",
    "plt.ylabel('True Positive Rate')\n",
    "plt.title('ADNI1 pMCI vs sMCI')\n",
    "plt.legend(loc=\"lower right\")\n",
    "plt.show()"
   ]
  },
  {
   "cell_type": "markdown",
   "metadata": {},
   "source": [
    "# Replication in ADNI2 "
   ]
  },
  {
   "cell_type": "markdown",
   "metadata": {},
   "source": [
    "In this section, we will replicate our results in a new independent sample: the ADNI2 cohort."
   ]
  },
  {
   "cell_type": "markdown",
   "metadata": {},
   "source": [
    "# Classify AD vs CN in ADNI2 with the model that was trained in ADNI1"
   ]
  },
  {
   "cell_type": "markdown",
   "metadata": {},
   "source": [
    "First, we will classify AD vs CN in ADNI2 with the same model that had been trained to classify AD vs CN in ADNI1. These results are represented in the paper's sections *\"Prediction of AD dementia vs cognitively normal individuals\"* for the Stage 1 (basic linear SVM) model and *\"Identification of easy AD cases for prediction\"* for the Stage 2 (highly predictive signature/HPS) model."
   ]
  },
  {
   "cell_type": "markdown",
   "metadata": {},
   "source": [
    "#### Organize the data"
   ]
  },
  {
   "cell_type": "code",
   "execution_count": 28,
   "metadata": {},
   "outputs": [],
   "source": [
    "# grab only adni2\n",
    "adni2_adcn = data[data.dataset != 'ADNI1']"
   ]
  },
  {
   "cell_type": "code",
   "execution_count": 29,
   "metadata": {},
   "outputs": [],
   "source": [
    "# grab only AD and CN\n",
    "adni2_adcn = adni2_adcn[adni2_adcn.DX != 'pMCI']\n",
    "adni2_adcn = adni2_adcn[adni2_adcn.DX != 'sMCI']"
   ]
  },
  {
   "cell_type": "code",
   "execution_count": 30,
   "metadata": {},
   "outputs": [],
   "source": [
    "# set the x\n",
    "x_ = adni2_adcn.iloc[:,adni2_adcn.columns.get_loc(\"ADAS13\"):adni2_adcn.columns.get_loc(\"sub7\")+1].values\n",
    "# set the y\n",
    "y_ = adni2_adcn[['AD']].values.ravel()\n",
    "# add these variables to the x\n",
    "confounds = adni2_adcn[['gender','age_scan','mean_gm','tiv']].values\n",
    "# scale the x\n",
    "x_ = scaler.transform(np.hstack((x_,confounds)))"
   ]
  },
  {
   "cell_type": "markdown",
   "metadata": {},
   "source": [
    "#### Do the prediction"
   ]
  },
  {
   "cell_type": "code",
   "execution_count": 31,
   "metadata": {},
   "outputs": [],
   "source": [
    "# get the predicted labels\n",
    "array_results, dic_results = hpc.predict(x_, x_)\n",
    "y_pred = (dic_results['s1df'][:,0]>0).astype(float)\n",
    "lr_decision = dic_results['s2df'][:,1]"
   ]
  },
  {
   "cell_type": "markdown",
   "metadata": {},
   "source": [
    "#### Get the stats of the classifcation of AD vs CN in ADNI2"
   ]
  },
  {
   "cell_type": "markdown",
   "metadata": {},
   "source": [
    "These stats are presented in the paper for the classification of AD (target subjects) vs CN (non-target subjects) in ADNI2 under the *Results* section of the preprint. See \"Prediction of AD dementia vs cognitively normal individuals\" for the Stage 1 (basic linear SVM) model and \"Identification of easy AD cases for prediction\" for the Stage 2 (highly predictive signature/HPS) model."
   ]
  },
  {
   "cell_type": "code",
   "execution_count": 32,
   "metadata": {},
   "outputs": [
    {
     "name": "stdout",
     "output_type": "stream",
     "text": [
      "Total number of TARGET subjects:  88.0\n",
      "Total number of NON-TARGET subjects:  188.0\n",
      "Stage 1 number of hits (true and false positives):  88.0\n",
      "Stage 1 TRUE positives:  82.0\n",
      "Stage 1 FALSE positives:  6.0\n",
      "Stage 1 TRUE negatives:  182.0\n",
      "Total number of flagged HPC-AD subjects:  70.0\n",
      "Number of flagged HPC-AD subjects that are TRUE positives:  70\n",
      "Number of flagged HPC-AD subjects that are FALSE positives:  0.0\n",
      "Number of true negatives:  188.0\n",
      "#############################\n",
      "Stage 1 stats for TARGET vs NON-TARGET\n",
      "Precision for AD:  0.9318181818181818\n",
      "Recall (or sensitivity)  for AD:  0.9318181818181818\n",
      "Specificity:  0.9680851063829787\n",
      "Adjusted precision for 33.6% baseline rate:  0.9366060269407027\n",
      "Accuracy:  0.9565217391304348\n",
      "#############################\n",
      "Stage 2 stats for TARGET vs NON-TARGET\n",
      "Precision for HPC-AD:  1.0\n",
      "Recall (or sensitivity) for HPC-AD:  0.7954545454545454\n",
      "Specificity:  1.0\n",
      "Adjusted precision for 33.6% baseline rate:  1.0\n",
      "Accuracy:  0.9347826086956522\n"
     ]
    },
    {
     "data": {
      "text/plain": [
       "(0.9318181818181818,\n",
       " 0.9680851063829787,\n",
       " 0.9318181818181818,\n",
       " 0.9565217391304348,\n",
       " 0.7954545454545454,\n",
       " 1.0,\n",
       " 1.0,\n",
       " 0.9347826086956522)"
      ]
     },
     "execution_count": 32,
     "metadata": {},
     "output_type": "execute_result"
    }
   ],
   "source": [
    "predic_stats(y_, y_pred, lr_decision)"
   ]
  },
  {
   "cell_type": "markdown",
   "metadata": {},
   "source": [
    "### Generate ROC curves for AD vs CN in ADNI2"
   ]
  },
  {
   "cell_type": "markdown",
   "metadata": {},
   "source": [
    "This section of code will generate the ROC curves presented in Supplementary Figure 1 for the classifcation of AD vs CN in the ADNI2 sample"
   ]
  },
  {
   "cell_type": "markdown",
   "metadata": {},
   "source": [
    "#### Set up the ROC curve for base SVM"
   ]
  },
  {
   "cell_type": "code",
   "execution_count": 33,
   "metadata": {},
   "outputs": [],
   "source": [
    "# set up classifier\n",
    "base = high_confidence_at.BaseSvc()\n",
    "base.fit(x_, y_)\n",
    "y_predicted = base.predict(x_)\n",
    "y_score = base.decision_function(x_)\n",
    "\n",
    "# make sure to binarize the outputs\n",
    "y_true = y_.astype(int)\n",
    "y_true = label_binarize(y_true, classes=[0, 1])\n",
    "y_score = np.reshape(y_score, (y_score.shape[0],1))\n",
    "\n",
    "# Compute ROC curve\n",
    "fpr_b, tpr_b, thresholds_b = metrics.roc_curve(y_true, y_score, pos_label=1)\n",
    "# Compute AUC\n",
    "roc_auc_b = auc(fpr_b, tpr_b)"
   ]
  },
  {
   "cell_type": "markdown",
   "metadata": {},
   "source": [
    "#### Set up the ROC curve for the HPS model"
   ]
  },
  {
   "cell_type": "code",
   "execution_count": 34,
   "metadata": {},
   "outputs": [],
   "source": [
    "# get the outputs from HPS model\n",
    "y_score = np.reshape(lr_decision, (y_score.shape[0],1))\n",
    "\n",
    "# compute ROC curve\n",
    "fpr_h, tpr_h, thresholds_h = metrics.roc_curve(y_true, y_score, pos_label=1)\n",
    "# compute AUC\n",
    "roc_auc_h = auc(fpr_h, tpr_h)"
   ]
  },
  {
   "cell_type": "markdown",
   "metadata": {},
   "source": [
    "#### Plot the two curves"
   ]
  },
  {
   "cell_type": "code",
   "execution_count": 35,
   "metadata": {},
   "outputs": [
    {
     "data": {
      "image/png": "[encoded data removed]",
      "text/plain": [
       "<Figure size 720x576 with 1 Axes>"
      ]
     },
     "metadata": {
      "needs_background": "light"
     },
     "output_type": "display_data"
    }
   ],
   "source": [
    "fig, ax = plt.subplots()\n",
    "fig.set_size_inches(10, 8)\n",
    "lw = 1\n",
    "plt.plot(fpr_b, tpr_b, color='blue',\n",
    "         lw=lw, label='Base (area = %0.4f)' % roc_auc_b)\n",
    "plt.plot(fpr_h, tpr_h, color='red',\n",
    "         lw=lw, label='HPS (area = %0.4f)' % roc_auc_h)\n",
    "plt.plot([0, 1], [0, 1], color='grey', lw=lw, linestyle='--')\n",
    "plt.xlim([-0.05, 1.00])\n",
    "plt.ylim([0.0, 1.05])\n",
    "plt.xlabel('False Positive Rate')\n",
    "plt.ylabel('True Positive Rate')\n",
    "plt.title('ADNI2 AD vs CN')\n",
    "plt.legend(loc=\"lower right\")\n",
    "plt.show()"
   ]
  },
  {
   "cell_type": "markdown",
   "metadata": {},
   "source": [
    "# Classification of MCI stable vs progressors in ADNI2"
   ]
  },
  {
   "cell_type": "markdown",
   "metadata": {},
   "source": [
    "We will now use the model we trained in ADNI1 on AD vs CN to classify stable MCI vs progressive MCI patients in the ADNI2 sample. This section displays the code that was used to generate the results within the section titled *\"High confidence prediction of progression to AD dementia\"* for ADNI2 subjects."
   ]
  },
  {
   "cell_type": "markdown",
   "metadata": {},
   "source": [
    "#### Organize the data"
   ]
  },
  {
   "cell_type": "code",
   "execution_count": 36,
   "metadata": {},
   "outputs": [],
   "source": [
    "# grab adni2 subjects only\n",
    "adni2_mci = data[data.dataset != 'ADNI1']"
   ]
  },
  {
   "cell_type": "code",
   "execution_count": 37,
   "metadata": {},
   "outputs": [],
   "source": [
    "# grab the mci only\n",
    "adni2_mci = adni2_mci[adni2_mci.DX != 'Dementia']\n",
    "adni2_mci = adni2_mci[adni2_mci.DX != 'CN']"
   ]
  },
  {
   "cell_type": "code",
   "execution_count": 38,
   "metadata": {},
   "outputs": [],
   "source": [
    "# set up the x\n",
    "x_ = adni2_mci.iloc[:, adni2_mci.columns.get_loc(\"ADAS13\"):adni2_mci.columns.get_loc(\"sub7\")+1].values\n",
    "# set up the y\n",
    "y_ = adni2_mci[['conv_2_ad']].values.ravel()\n",
    "# add these variables to the x\n",
    "confounds = adni2_mci[['gender','age_scan','mean_gm','tiv']].values\n",
    "# scale the x\n",
    "x_ = scaler.transform(np.hstack((x_,confounds)))"
   ]
  },
  {
   "cell_type": "markdown",
   "metadata": {},
   "source": [
    "#### Do the prediction"
   ]
  },
  {
   "cell_type": "code",
   "execution_count": 39,
   "metadata": {},
   "outputs": [],
   "source": [
    "# get the predicted labels\n",
    "array_results, dic_results = hpc.predict(x_, x_)\n",
    "y_pred = (dic_results['s1df'][:,0]>0).astype(float)\n",
    "lr_decision = dic_results['s2df'][:,1]"
   ]
  },
  {
   "cell_type": "markdown",
   "metadata": {},
   "source": [
    "#### Stats for the prediction of stable vs progressor MCI in ADNI2"
   ]
  },
  {
   "cell_type": "markdown",
   "metadata": {},
   "source": [
    "These stats are presented in the paper for the classification of stable MCI (non-target subjects) vs progressor MCI (target subjects) in the ADNI2 sample under the section \"High confidence prediction of progression to AD dementia\" in the Results of the paper. Stage 1 refers to the basic linear SVM model, while Stage 2 refers to the highly predictive signature (HPS) model."
   ]
  },
  {
   "cell_type": "code",
   "execution_count": 40,
   "metadata": {},
   "outputs": [
    {
     "name": "stdout",
     "output_type": "stream",
     "text": [
      "Total number of TARGET subjects:  55\n",
      "Total number of NON-TARGET subjects:  180\n",
      "Stage 1 number of hits (true and false positives):  68.0\n",
      "Stage 1 TRUE positives:  42.0\n",
      "Stage 1 FALSE positives:  26.0\n",
      "Stage 1 TRUE negatives:  154.0\n",
      "Total number of flagged HPC-AD subjects:  37.0\n",
      "Number of flagged HPC-AD subjects that are TRUE positives:  28\n",
      "Number of flagged HPC-AD subjects that are FALSE positives:  9.0\n",
      "Number of true negatives:  171.0\n",
      "#############################\n",
      "Stage 1 stats for TARGET vs NON-TARGET\n",
      "Precision for AD:  0.6176470588235294\n",
      "Recall (or sensitivity)  for AD:  0.7636363636363637\n",
      "Specificity:  0.8555555555555555\n",
      "Adjusted precision for 33.6% baseline rate:  0.727906283670709\n",
      "Accuracy:  0.8340425531914893\n",
      "#############################\n",
      "Stage 2 stats for TARGET vs NON-TARGET\n",
      "Precision for HPC-AD:  0.7567567567567568\n",
      "Recall (or sensitivity) for HPC-AD:  0.509090909090909\n",
      "Specificity:  0.95\n",
      "Adjusted precision for 33.6% baseline rate:  0.8374577176428698\n",
      "Accuracy:  0.8468085106382979\n"
     ]
    },
    {
     "data": {
      "text/plain": [
       "(0.7636363636363637,\n",
       " 0.8555555555555555,\n",
       " 0.6176470588235294,\n",
       " 0.8340425531914893,\n",
       " 0.509090909090909,\n",
       " 0.95,\n",
       " 0.7567567567567568,\n",
       " 0.8468085106382979)"
      ]
     },
     "execution_count": 40,
     "metadata": {},
     "output_type": "execute_result"
    }
   ],
   "source": [
    "predic_stats(y_, y_pred, lr_decision)"
   ]
  },
  {
   "cell_type": "markdown",
   "metadata": {},
   "source": [
    "#### These stats are presented in the paper for the classification of stable MCI (non-target subjects) vs progressor MCI (target subjects) in the ADNI2 sample"
   ]
  },
  {
   "cell_type": "markdown",
   "metadata": {},
   "source": [
    "### Generate ROC curves"
   ]
  },
  {
   "cell_type": "markdown",
   "metadata": {},
   "source": [
    "The following code will generate ROC curves for the sMCI vs pMCI classification in ADNI2. These curves are displayed in Supplementary Figure 1 of the preprint."
   ]
  },
  {
   "cell_type": "markdown",
   "metadata": {},
   "source": [
    "#### Set up the ROC curve for base SVM "
   ]
  },
  {
   "cell_type": "code",
   "execution_count": 41,
   "metadata": {},
   "outputs": [],
   "source": [
    "# set the classifier\n",
    "base = high_confidence_at.BaseSvc()\n",
    "base.fit(x_, y_)\n",
    "y_predicted = base.predict(x_)\n",
    "y_score = base.decision_function(x_)\n",
    "\n",
    "# make sure to binarize outputs\n",
    "y_true = y_.astype(int)\n",
    "y_true = label_binarize(y_true, classes=[0, 1])\n",
    "y_score = np.reshape(y_score, (y_score.shape[0],1))\n",
    "\n",
    "# Compute ROC curve\n",
    "fpr_b, tpr_b, thresholds_b = metrics.roc_curve(y_true, y_score, pos_label=1)\n",
    "# Compute AUC\n",
    "roc_auc_b = auc(fpr_b, tpr_b)"
   ]
  },
  {
   "cell_type": "markdown",
   "metadata": {},
   "source": [
    "#### Set up the ROC curves for HPS model"
   ]
  },
  {
   "cell_type": "code",
   "execution_count": 42,
   "metadata": {},
   "outputs": [],
   "source": [
    "# get the output for HPS model\n",
    "y_score = np.reshape(lr_decision, (y_score.shape[0],1))\n",
    "\n",
    "# Compute ROC curve\n",
    "fpr_h, tpr_h, thresholds_h = metrics.roc_curve(y_true, y_score, pos_label=1)\n",
    "# Compute AUC\n",
    "roc_auc_h = auc(fpr_h, tpr_h)"
   ]
  },
  {
   "cell_type": "markdown",
   "metadata": {},
   "source": [
    "#### Plot the figure"
   ]
  },
  {
   "cell_type": "code",
   "execution_count": 43,
   "metadata": {},
   "outputs": [
    {
     "data": {
      "image/png": "[encoded data removed]",
      "text/plain": [
       "<Figure size 720x576 with 1 Axes>"
      ]
     },
     "metadata": {
      "needs_background": "light"
     },
     "output_type": "display_data"
    }
   ],
   "source": [
    "fig, ax = plt.subplots()\n",
    "fig.set_size_inches(10, 8)\n",
    "lw = 1\n",
    "plt.plot(fpr_b, tpr_b, color='blue',\n",
    "         lw=lw, label='Base (area = %0.4f)' % roc_auc_b)\n",
    "plt.plot(fpr_h, tpr_h, color='red',\n",
    "         lw=lw, label='HPS (area = %0.4f)' % roc_auc_h)\n",
    "plt.plot([0, 1], [0, 1], color='grey', lw=lw, linestyle='--')\n",
    "plt.xlim([-0.05, 1.00])\n",
    "plt.ylim([0.0, 1.05])\n",
    "plt.xlabel('False Positive Rate')\n",
    "plt.ylabel('True Positive Rate')\n",
    "plt.title('ADNI2 pMCI vs sMCI')\n",
    "plt.legend(loc=\"lower right\")\n",
    "plt.show()"
   ]
  }
 ],
 "metadata": {
  "anaconda-cloud": {},
  "kernelspec": {
   "display_name": "Python [default]",
   "language": "python",
   "name": "python3"
  },
  "language_info": {
   "codemirror_mode": {
    "name": "ipython",
    "version": 3
   },
   "file_extension": ".py",
   "mimetype": "text/x-python",
   "name": "python",
   "nbconvert_exporter": "python",
   "pygments_lexer": "ipython3",
   "version": "3.5.6"
  }
 },
 "nbformat": 4,
 "nbformat_minor": 2
}
