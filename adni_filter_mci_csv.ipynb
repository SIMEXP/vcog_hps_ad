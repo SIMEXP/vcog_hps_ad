{
 "cells": [
  {
   "cell_type": "markdown",
   "metadata": {},
   "source": [
    "### this notebook will filter out individuals with MCI in the ADNI dataset based on the length of their follow up"
   ]
  },
  {
   "cell_type": "code",
   "execution_count": 1,
   "metadata": {
    "collapsed": true
   },
   "outputs": [],
   "source": [
    "import pandas as pd\n",
    "import numpy as np"
   ]
  },
  {
   "cell_type": "code",
   "execution_count": 146,
   "metadata": {},
   "outputs": [
    {
     "name": "stderr",
     "output_type": "stream",
     "text": [
      "/Users/AngelaTam/anaconda3/lib/python3.5/site-packages/IPython/core/interactiveshell.py:2698: DtypeWarning: Columns (101) have mixed types. Specify dtype option on import or set low_memory=False.\n",
      "  interactivity=interactivity, compiler=compiler, result=result)\n"
     ]
    }
   ],
   "source": [
    "longit = pd.read_csv('/Users/AngelaTam/Desktop/adsf/adni_csv/adnimerge_upenn_unw_av45_neurobat.csv')"
   ]
  },
  {
   "cell_type": "code",
   "execution_count": 147,
   "metadata": {
    "collapsed": true
   },
   "outputs": [],
   "source": [
    "adni1 = pd.read_csv('/Users/AngelaTam/Desktop/adsf/adni1_vbm_adcn_subtypes_20171209/7clus/adni1_model_weights.csv')\n",
    "adni2 = pd.read_csv('/Users/AngelaTam/Desktop/adsf/adni1_vbm_adcn_subtypes_20171209/7clus/adni2_model_weights.csv')"
   ]
  },
  {
   "cell_type": "code",
   "execution_count": 148,
   "metadata": {
    "collapsed": true
   },
   "outputs": [],
   "source": [
    "# in adni2 drop people who rolled over from adni1\n",
    "adni2.drop(adni2[adni2.RID < 2000].index,inplace=True)"
   ]
  },
  {
   "cell_type": "code",
   "execution_count": 149,
   "metadata": {
    "collapsed": true
   },
   "outputs": [],
   "source": [
    "# get adni1 subjects longitudinal data\n",
    "adni1_longit = longit.drop(longit[longit.RID>=2000].index)"
   ]
  },
  {
   "cell_type": "code",
   "execution_count": 150,
   "metadata": {
    "collapsed": true
   },
   "outputs": [],
   "source": [
    "# get adni2 subjects longitudinal data\n",
    "adni2_longit = longit.drop(longit[longit.RID<2000].index)\n",
    "adni2_longit.drop(adni2_longit[adni2_longit.RID>=6000].index, inplace=True)"
   ]
  },
  {
   "cell_type": "code",
   "execution_count": 151,
   "metadata": {
    "collapsed": true
   },
   "outputs": [],
   "source": [
    "list_df = [longit, adni1, adni2, adni1_longit, adni2_longit]\n",
    "for df in list_df:\n",
    "    df.set_index('RID',inplace=True)"
   ]
  },
  {
   "cell_type": "code",
   "execution_count": 152,
   "metadata": {
    "collapsed": true
   },
   "outputs": [],
   "source": [
    "# get rid of subjects who don't pass QC\n",
    "adni1.dropna(axis=0, how='any', subset=['sub1','mean_gm','gender'], inplace=True)\n",
    "adni2.dropna(axis=0, how='any', subset=['sub1','mean_gm','gender'], inplace=True)"
   ]
  },
  {
   "cell_type": "markdown",
   "metadata": {},
   "source": [
    "# ADNI1 "
   ]
  },
  {
   "cell_type": "code",
   "execution_count": 153,
   "metadata": {},
   "outputs": [
    {
     "data": {
      "text/plain": [
       "722"
      ]
     },
     "execution_count": 153,
     "metadata": {},
     "output_type": "execute_result"
    }
   ],
   "source": [
    "# number of subjects that passed QC in adni1\n",
    "len(adni1.index.unique())"
   ]
  },
  {
   "cell_type": "code",
   "execution_count": 154,
   "metadata": {},
   "outputs": [
    {
     "data": {
      "text/plain": [
       "348"
      ]
     },
     "execution_count": 154,
     "metadata": {},
     "output_type": "execute_result"
    }
   ],
   "source": [
    "# number of MCI subjects that passed QC in adni1\n",
    "len(adni1[(adni1['DX_bl'] == 'EMCI') | (adni1['DX_bl'] == 'LMCI')].index.unique())"
   ]
  },
  {
   "cell_type": "code",
   "execution_count": 155,
   "metadata": {},
   "outputs": [
    {
     "data": {
      "text/plain": [
       "169"
      ]
     },
     "execution_count": 155,
     "metadata": {},
     "output_type": "execute_result"
    }
   ],
   "source": [
    "# number of AD subjects that passed QC in adni1\n",
    "len(adni1[adni1['DX_bl'] == 'AD'].index.unique())"
   ]
  },
  {
   "cell_type": "code",
   "execution_count": 156,
   "metadata": {},
   "outputs": [
    {
     "data": {
      "text/plain": [
       "205"
      ]
     },
     "execution_count": 156,
     "metadata": {},
     "output_type": "execute_result"
    }
   ],
   "source": [
    "# number of CN subjects that passed QC in adni1\n",
    "len(adni1[adni1['DX_bl'] == 'CN'].index.unique())"
   ]
  },
  {
   "cell_type": "code",
   "execution_count": 157,
   "metadata": {},
   "outputs": [
    {
     "data": {
      "text/plain": [
       "194"
      ]
     },
     "execution_count": 157,
     "metadata": {},
     "output_type": "execute_result"
    }
   ],
   "source": [
    "# number of MCI subjects that convert\n",
    "len(adni1[(adni1['conv_2_ad']==1) & ((adni1['DX_bl'] == 'EMCI') | (adni1['DX_bl'] == 'LMCI'))].index.unique())"
   ]
  },
  {
   "cell_type": "code",
   "execution_count": 158,
   "metadata": {},
   "outputs": [
    {
     "data": {
      "text/plain": [
       "154"
      ]
     },
     "execution_count": 158,
     "metadata": {},
     "output_type": "execute_result"
    }
   ],
   "source": [
    "# number of MCI subjects that are stable\n",
    "len(adni1[(adni1['conv_2_ad']==0) & ((adni1['DX_bl'] == 'EMCI') | (adni1['DX_bl'] == 'LMCI'))].index.unique())"
   ]
  },
  {
   "cell_type": "markdown",
   "metadata": {},
   "source": [
    "## filter out the stable MCI without enough follow-up "
   ]
  },
  {
   "cell_type": "code",
   "execution_count": 159,
   "metadata": {
    "collapsed": true
   },
   "outputs": [],
   "source": [
    "adni1_mci = adni1_longit[(adni1_longit['DX_bl'] == 'EMCI') | (adni1_longit['DX_bl'] == 'LMCI')]"
   ]
  },
  {
   "cell_type": "code",
   "execution_count": 161,
   "metadata": {
    "collapsed": true
   },
   "outputs": [],
   "source": [
    "todrop = []\n",
    "for sub in adni1_mci[adni1_mci['conv_2_ad']==0].index.unique():\n",
    "    fu = adni1_mci.loc[sub]\n",
    "    try:\n",
    "        vis = list(fu['Years_bl'])\n",
    "    except:\n",
    "        vis = [fu['Years_bl']]\n",
    "    if any([x >= 2.7 for x in vis]):\n",
    "        pass\n",
    "    else:\n",
    "        todrop.append(sub)"
   ]
  },
  {
   "cell_type": "code",
   "execution_count": 162,
   "metadata": {},
   "outputs": [
    {
     "data": {
      "text/plain": [
       "78"
      ]
     },
     "execution_count": 162,
     "metadata": {},
     "output_type": "execute_result"
    }
   ],
   "source": [
    "len(todrop)"
   ]
  },
  {
   "cell_type": "markdown",
   "metadata": {},
   "source": [
    "## filter out the converter MCI who don't convert within 3 years "
   ]
  },
  {
   "cell_type": "code",
   "execution_count": 163,
   "metadata": {},
   "outputs": [],
   "source": [
    "drop_conv = []\n",
    "for sub in adni1_mci[adni1_mci['conv_2_ad']==1].index.unique():\n",
    "    tmp = adni1_mci.loc[sub]\n",
    "    tmp.reset_index(inplace=True)\n",
    "    for i,row in tmp.iterrows():\n",
    "        ad_dx = row[tmp.columns.get_loc('AD')]\n",
    "        vis = row[tmp.columns.get_loc('Years_bl')]\n",
    "        if vis >= 2.7 and ad_dx == 0:\n",
    "            drop_conv.append(sub)\n",
    "            break\n",
    "        else:\n",
    "            pass\n",
    "    "
   ]
  },
  {
   "cell_type": "code",
   "execution_count": 20,
   "metadata": {},
   "outputs": [
    {
     "data": {
      "text/plain": [
       "43"
      ]
     },
     "execution_count": 20,
     "metadata": {},
     "output_type": "execute_result"
    }
   ],
   "source": [
    "len(drop_conv)"
   ]
  },
  {
   "cell_type": "code",
   "execution_count": 22,
   "metadata": {
    "collapsed": true
   },
   "outputs": [],
   "source": [
    "adni1_mci_bl = adni1[(adni1['DX_bl'] == 'EMCI') | (adni1['DX_bl'] == 'LMCI')]"
   ]
  },
  {
   "cell_type": "code",
   "execution_count": 23,
   "metadata": {},
   "outputs": [
    {
     "data": {
      "text/plain": [
       "348"
      ]
     },
     "execution_count": 23,
     "metadata": {},
     "output_type": "execute_result"
    }
   ],
   "source": [
    "len(adni1_mci_bl)"
   ]
  },
  {
   "cell_type": "code",
   "execution_count": 24,
   "metadata": {
    "collapsed": true
   },
   "outputs": [],
   "source": [
    "adni1_mci_bl.reset_index(inplace=True)"
   ]
  },
  {
   "cell_type": "code",
   "execution_count": 25,
   "metadata": {},
   "outputs": [
    {
     "name": "stderr",
     "output_type": "stream",
     "text": [
      "/Users/AngelaTam/anaconda3/lib/python3.5/site-packages/ipykernel/__main__.py:5: SettingWithCopyWarning: \n",
      "A value is trying to be set on a copy of a slice from a DataFrame\n",
      "\n",
      "See the caveats in the documentation: http://pandas.pydata.org/pandas-docs/stable/indexing.html#indexing-view-versus-copy\n"
     ]
    }
   ],
   "source": [
    "# drop the MCI people listed in todrop from the adni_data\n",
    "for i,row in adni1_mci_bl.iterrows():\n",
    "    sub = row[adni1_mci_bl.columns.get_loc(\"RID\")]\n",
    "    if sub in todrop:\n",
    "        adni1_mci_bl.drop(i,axis=0,inplace=True)"
   ]
  },
  {
   "cell_type": "code",
   "execution_count": 26,
   "metadata": {},
   "outputs": [
    {
     "name": "stderr",
     "output_type": "stream",
     "text": [
      "/Users/AngelaTam/anaconda3/lib/python3.5/site-packages/ipykernel/__main__.py:5: SettingWithCopyWarning: \n",
      "A value is trying to be set on a copy of a slice from a DataFrame\n",
      "\n",
      "See the caveats in the documentation: http://pandas.pydata.org/pandas-docs/stable/indexing.html#indexing-view-versus-copy\n"
     ]
    }
   ],
   "source": [
    "# drop the MCI people listed in todrop from the adni_data\n",
    "for i,row in adni1_mci_bl.iterrows():\n",
    "    sub = row[adni1_mci_bl.columns.get_loc(\"RID\")]\n",
    "    if sub in drop_conv:\n",
    "        adni1_mci_bl.drop(i,axis=0,inplace=True)"
   ]
  },
  {
   "cell_type": "code",
   "execution_count": 27,
   "metadata": {},
   "outputs": [
    {
     "data": {
      "text/plain": [
       "248"
      ]
     },
     "execution_count": 27,
     "metadata": {},
     "output_type": "execute_result"
    }
   ],
   "source": [
    "len(adni1_mci_bl)"
   ]
  },
  {
   "cell_type": "code",
   "execution_count": 28,
   "metadata": {},
   "outputs": [
    {
     "data": {
      "text/plain": [
       "159"
      ]
     },
     "execution_count": 28,
     "metadata": {},
     "output_type": "execute_result"
    }
   ],
   "source": [
    "len(adni1_mci_bl[adni1_mci_bl['conv_2_ad']==1].index.unique())"
   ]
  },
  {
   "cell_type": "code",
   "execution_count": 29,
   "metadata": {},
   "outputs": [
    {
     "data": {
      "text/plain": [
       "89"
      ]
     },
     "execution_count": 29,
     "metadata": {},
     "output_type": "execute_result"
    }
   ],
   "source": [
    "len(adni1_mci_bl[adni1_mci_bl['conv_2_ad']==0].index.unique())"
   ]
  },
  {
   "cell_type": "code",
   "execution_count": 110,
   "metadata": {
    "collapsed": true
   },
   "outputs": [],
   "source": [
    "#adni1_mci_bl.to_csv('/Users/AngelaTam/Desktop/adsf/adni1_vbm_adcn_subtypes_20171209/7clus/adni1_mci_filter_model_weights.csv',\n",
    "                   index=False)"
   ]
  },
  {
   "cell_type": "code",
   "execution_count": 40,
   "metadata": {},
   "outputs": [],
   "source": [
    "adni1_mci.reset_index(inplace=True)"
   ]
  },
  {
   "cell_type": "code",
   "execution_count": 41,
   "metadata": {},
   "outputs": [],
   "source": [
    "# get longitudinal data from filtered MCI subjects\n",
    "adni1_conv = pd.merge(adni1_mci_bl[['RID']], adni1_mci[['RID','Month','conv_2_ad','DX','DX_bl']],\n",
    "                      how='left', on='RID')\n"
   ]
  },
  {
   "cell_type": "code",
   "execution_count": 48,
   "metadata": {
    "collapsed": true
   },
   "outputs": [],
   "source": [
    "from copy import deepcopy"
   ]
  },
  {
   "cell_type": "code",
   "execution_count": 49,
   "metadata": {},
   "outputs": [],
   "source": [
    "test = deepcopy(adni1_conv)"
   ]
  },
  {
   "cell_type": "code",
   "execution_count": 80,
   "metadata": {
    "collapsed": true
   },
   "outputs": [],
   "source": [
    "test_bl = deepcopy(adni1_mci_bl)"
   ]
  },
  {
   "cell_type": "code",
   "execution_count": 141,
   "metadata": {},
   "outputs": [],
   "source": [
    "conv_dict = {}\n",
    "for sid in test.RID.unique():\n",
    "    # compare baseline and final DX to determine point of conversion\n",
    "    conv = test[test.RID == sid]['conv_2_ad']\n",
    "    if sum(conv) != 0:\n",
    "        tmp_df = test[test.RID == sid]\n",
    "        bl_dx = test[test.RID == sid]['DX'].values[0]\n",
    "        for i,row in tmp_df.iterrows():\n",
    "            dx = row[tmp_df.columns.get_loc(\"DX\")]\n",
    "            month = row[tmp_df.columns.get_loc(\"Month\")]\n",
    "            if dx != bl_dx:\n",
    "                #test[test.RID == sid]['Month_conv'] == month\n",
    "                conv_dict.update({sid: month})\n",
    "                break"
   ]
  },
  {
   "cell_type": "code",
   "execution_count": 84,
   "metadata": {},
   "outputs": [],
   "source": [
    "for i,row in test_bl.iterrows():\n",
    "    sid = row['RID']\n",
    "    conv = row['conv_2_ad']\n",
    "    if conv == 1:\n",
    "        try:\n",
    "            test_bl.ix[i, 'Month_conv'] = conv_dict[sid]\n",
    "        except:\n",
    "            pass"
   ]
  },
  {
   "cell_type": "code",
   "execution_count": 87,
   "metadata": {
    "collapsed": true
   },
   "outputs": [],
   "source": [
    "import matplotlib.pyplot as plt"
   ]
  },
  {
   "cell_type": "code",
   "execution_count": 104,
   "metadata": {},
   "outputs": [
    {
     "data": {
      "image/png": "[encoded data removed]",
      "text/plain": [
       "<matplotlib.figure.Figure at 0x114baef28>"
      ]
     },
     "metadata": {},
     "output_type": "display_data"
    }
   ],
   "source": [
    "plt.hist(test_bl.dropna(subset=['Month_conv'])['Month_conv'].values)\n",
    "plt.xlabel('Months')\n",
    "plt.title('Conversion time in ADNI1')\n",
    "plt.show()"
   ]
  },
  {
   "cell_type": "code",
   "execution_count": 181,
   "metadata": {},
   "outputs": [
    {
     "data": {
      "text/plain": [
       "248"
      ]
     },
     "execution_count": 181,
     "metadata": {},
     "output_type": "execute_result"
    }
   ],
   "source": [
    "len(test_bl)"
   ]
  },
  {
   "cell_type": "code",
   "execution_count": 183,
   "metadata": {},
   "outputs": [
    {
     "data": {
      "text/plain": [
       "242"
      ]
     },
     "execution_count": 183,
     "metadata": {},
     "output_type": "execute_result"
    }
   ],
   "source": [
    "len(test_bl.drop(test_bl[test_bl.Month_conv > 36].index))"
   ]
  },
  {
   "cell_type": "code",
   "execution_count": 184,
   "metadata": {
    "collapsed": true
   },
   "outputs": [],
   "source": [
    "test_bl.drop(test_bl[test_bl.Month_conv > 36].index, inplace=True)"
   ]
  },
  {
   "cell_type": "code",
   "execution_count": 191,
   "metadata": {},
   "outputs": [
    {
     "data": {
      "image/png": "[encoded data removed]",
      "text/plain": [
       "<matplotlib.figure.Figure at 0x103bc69b0>"
      ]
     },
     "metadata": {},
     "output_type": "display_data"
    }
   ],
   "source": [
    "plt.hist(test_bl.dropna(subset=['Month_conv'])['Month_conv'].values)\n",
    "plt.xlabel('Months')\n",
    "plt.title('Conversion time in ADNI1')\n",
    "plt.show()"
   ]
  },
  {
   "cell_type": "code",
   "execution_count": 185,
   "metadata": {
    "collapsed": true
   },
   "outputs": [],
   "source": [
    "test_bl.to_csv('/Users/AngelaTam/Desktop/adsf/adni1_vbm_adcn_subtypes_20171209/7clus/adni1_mci_bl_demog_weights.csv',\n",
    "              index=False)"
   ]
  },
  {
   "cell_type": "markdown",
   "metadata": {},
   "source": [
    "# ADNI2 "
   ]
  },
  {
   "cell_type": "code",
   "execution_count": 105,
   "metadata": {},
   "outputs": [
    {
     "data": {
      "text/plain": [
       "585"
      ]
     },
     "execution_count": 105,
     "metadata": {},
     "output_type": "execute_result"
    }
   ],
   "source": [
    "# number of subjects that passed QC in adni1\n",
    "len(adni2.index.unique())"
   ]
  },
  {
   "cell_type": "code",
   "execution_count": 106,
   "metadata": {},
   "outputs": [
    {
     "data": {
      "text/plain": [
       "314"
      ]
     },
     "execution_count": 106,
     "metadata": {},
     "output_type": "execute_result"
    }
   ],
   "source": [
    "# number of MCI subjects that passed QC in adni1\n",
    "len(adni2[(adni2['DX_bl'] == 'EMCI') | (adni2['DX_bl'] == 'LMCI')].index.unique())"
   ]
  },
  {
   "cell_type": "code",
   "execution_count": 107,
   "metadata": {},
   "outputs": [
    {
     "data": {
      "text/plain": [
       "89"
      ]
     },
     "execution_count": 107,
     "metadata": {},
     "output_type": "execute_result"
    }
   ],
   "source": [
    "# number of AD subjects that passed QC in adni1\n",
    "len(adni2[adni2['DX_bl'] == 'AD'].index.unique())"
   ]
  },
  {
   "cell_type": "code",
   "execution_count": 108,
   "metadata": {},
   "outputs": [
    {
     "data": {
      "text/plain": [
       "117"
      ]
     },
     "execution_count": 108,
     "metadata": {},
     "output_type": "execute_result"
    }
   ],
   "source": [
    "# number of CN subjects that passed QC in adni1\n",
    "len(adni2[adni2['DX_bl'] == 'CN'].index.unique())"
   ]
  },
  {
   "cell_type": "code",
   "execution_count": 109,
   "metadata": {},
   "outputs": [
    {
     "data": {
      "text/plain": [
       "64"
      ]
     },
     "execution_count": 109,
     "metadata": {},
     "output_type": "execute_result"
    }
   ],
   "source": [
    "# number of MCI subjects that convert\n",
    "len(adni2[(adni2['conv_2_ad']==1) & ((adni2['DX_bl'] == 'EMCI') | (adni2['DX_bl'] == 'LMCI'))].index.unique())"
   ]
  },
  {
   "cell_type": "code",
   "execution_count": 110,
   "metadata": {},
   "outputs": [
    {
     "data": {
      "text/plain": [
       "250"
      ]
     },
     "execution_count": 110,
     "metadata": {},
     "output_type": "execute_result"
    }
   ],
   "source": [
    "# number of MCI subjects that are stable\n",
    "len(adni2[(adni2['conv_2_ad']==0) & ((adni2['DX_bl'] == 'EMCI') | (adni2['DX_bl'] == 'LMCI'))].index.unique())"
   ]
  },
  {
   "cell_type": "markdown",
   "metadata": {},
   "source": [
    "## filter out the stable MCI without enough follow-up"
   ]
  },
  {
   "cell_type": "code",
   "execution_count": 111,
   "metadata": {
    "collapsed": true
   },
   "outputs": [],
   "source": [
    "adni2_mci = adni2_longit[(adni2_longit['DX_bl'] == 'EMCI') | (adni2_longit['DX_bl'] == 'LMCI')]"
   ]
  },
  {
   "cell_type": "code",
   "execution_count": 113,
   "metadata": {
    "collapsed": true
   },
   "outputs": [],
   "source": [
    "todrop = []\n",
    "for sub in adni2_mci[adni2_mci['conv_2_ad']==0].index.unique():\n",
    "    fu = adni2_mci.loc[sub]\n",
    "    try:\n",
    "        vis = list(fu['Years_bl'])\n",
    "    except:\n",
    "        vis = [fu['Years_bl']]\n",
    "    if any([x >= 2.7 for x in vis]):\n",
    "        pass\n",
    "    else:\n",
    "        todrop.append(sub)"
   ]
  },
  {
   "cell_type": "code",
   "execution_count": 114,
   "metadata": {},
   "outputs": [
    {
     "data": {
      "text/plain": [
       "101"
      ]
     },
     "execution_count": 114,
     "metadata": {},
     "output_type": "execute_result"
    }
   ],
   "source": [
    "len(todrop)"
   ]
  },
  {
   "cell_type": "markdown",
   "metadata": {},
   "source": [
    "## filter out the converter MCI who don't convert within 3 years "
   ]
  },
  {
   "cell_type": "code",
   "execution_count": 115,
   "metadata": {
    "collapsed": true
   },
   "outputs": [],
   "source": [
    "drop_conv = []\n",
    "for sub in adni2_mci[adni2_mci['conv_2_ad']==1].index.unique():\n",
    "    tmp = adni2_mci.loc[sub]\n",
    "    tmp.reset_index(inplace=True)\n",
    "    for i,row in tmp.iterrows():\n",
    "        ad_dx = row[tmp.columns.get_loc('AD')]\n",
    "        vis = row[tmp.columns.get_loc('Years_bl')]\n",
    "        if vis >= 2.7 and ad_dx == 0:\n",
    "            drop_conv.append(sub)\n",
    "            break\n",
    "        else:\n",
    "            pass"
   ]
  },
  {
   "cell_type": "code",
   "execution_count": 116,
   "metadata": {},
   "outputs": [
    {
     "data": {
      "text/plain": [
       "13"
      ]
     },
     "execution_count": 116,
     "metadata": {},
     "output_type": "execute_result"
    }
   ],
   "source": [
    "len(drop_conv)"
   ]
  },
  {
   "cell_type": "code",
   "execution_count": 117,
   "metadata": {
    "collapsed": true
   },
   "outputs": [],
   "source": [
    "adni2_mci_bl = adni2[(adni2['DX_bl'] == 'EMCI') | (adni2['DX_bl'] == 'LMCI')]"
   ]
  },
  {
   "cell_type": "code",
   "execution_count": 118,
   "metadata": {},
   "outputs": [
    {
     "data": {
      "text/plain": [
       "314"
      ]
     },
     "execution_count": 118,
     "metadata": {},
     "output_type": "execute_result"
    }
   ],
   "source": [
    "len(adni2_mci_bl)"
   ]
  },
  {
   "cell_type": "code",
   "execution_count": 119,
   "metadata": {
    "collapsed": true
   },
   "outputs": [],
   "source": [
    "adni2_mci_bl.reset_index(inplace=True)"
   ]
  },
  {
   "cell_type": "code",
   "execution_count": 120,
   "metadata": {},
   "outputs": [
    {
     "name": "stderr",
     "output_type": "stream",
     "text": [
      "/Users/AngelaTam/anaconda3/lib/python3.5/site-packages/ipykernel/__main__.py:5: SettingWithCopyWarning: \n",
      "A value is trying to be set on a copy of a slice from a DataFrame\n",
      "\n",
      "See the caveats in the documentation: http://pandas.pydata.org/pandas-docs/stable/indexing.html#indexing-view-versus-copy\n"
     ]
    }
   ],
   "source": [
    "# drop the MCI people listed in todrop from the adni_data\n",
    "for i,row in adni2_mci_bl.iterrows():\n",
    "    sub = row[adni2_mci_bl.columns.get_loc(\"RID\")]\n",
    "    if sub in todrop:\n",
    "        adni2_mci_bl.drop(i,axis=0,inplace=True)"
   ]
  },
  {
   "cell_type": "code",
   "execution_count": 121,
   "metadata": {},
   "outputs": [
    {
     "name": "stderr",
     "output_type": "stream",
     "text": [
      "/Users/AngelaTam/anaconda3/lib/python3.5/site-packages/ipykernel/__main__.py:5: SettingWithCopyWarning: \n",
      "A value is trying to be set on a copy of a slice from a DataFrame\n",
      "\n",
      "See the caveats in the documentation: http://pandas.pydata.org/pandas-docs/stable/indexing.html#indexing-view-versus-copy\n"
     ]
    }
   ],
   "source": [
    "# drop the MCI people listed in todrop from the adni_data\n",
    "for i,row in adni2_mci_bl.iterrows():\n",
    "    sub = row[adni2_mci_bl.columns.get_loc(\"RID\")]\n",
    "    if sub in drop_conv:\n",
    "        adni2_mci_bl.drop(i,axis=0,inplace=True)"
   ]
  },
  {
   "cell_type": "code",
   "execution_count": 122,
   "metadata": {},
   "outputs": [
    {
     "data": {
      "text/plain": [
       "241"
      ]
     },
     "execution_count": 122,
     "metadata": {},
     "output_type": "execute_result"
    }
   ],
   "source": [
    "len(adni2_mci_bl)"
   ]
  },
  {
   "cell_type": "code",
   "execution_count": 123,
   "metadata": {},
   "outputs": [
    {
     "data": {
      "text/plain": [
       "56"
      ]
     },
     "execution_count": 123,
     "metadata": {},
     "output_type": "execute_result"
    }
   ],
   "source": [
    "len(adni2_mci_bl[adni2_mci_bl['conv_2_ad']==1].index.unique())"
   ]
  },
  {
   "cell_type": "code",
   "execution_count": 124,
   "metadata": {},
   "outputs": [
    {
     "data": {
      "text/plain": [
       "185"
      ]
     },
     "execution_count": 124,
     "metadata": {},
     "output_type": "execute_result"
    }
   ],
   "source": [
    "len(adni2_mci_bl[adni2_mci_bl['conv_2_ad']==0].index.unique())"
   ]
  },
  {
   "cell_type": "code",
   "execution_count": 132,
   "metadata": {
    "collapsed": true
   },
   "outputs": [],
   "source": [
    "#adni2_mci_bl.to_csv('/Users/AngelaTam/Desktop/adsf/adni1_vbm_adcn_subtypes_20171209/7clus/adni2_mci_filter_model_weights.csv',\n",
    "                    index=False)"
   ]
  },
  {
   "cell_type": "code",
   "execution_count": 129,
   "metadata": {
    "collapsed": true
   },
   "outputs": [],
   "source": [
    "adni2_mci.reset_index(inplace=True)"
   ]
  },
  {
   "cell_type": "code",
   "execution_count": 130,
   "metadata": {},
   "outputs": [],
   "source": [
    "# get longitudinal data from filtered MCI subjects\n",
    "adni2_conv = pd.merge(adni2_mci_bl[['RID']], adni2_mci[['RID','Month','conv_2_ad','DX','DX_bl']],\n",
    "                      how='left', on='RID')"
   ]
  },
  {
   "cell_type": "code",
   "execution_count": 132,
   "metadata": {
    "collapsed": true
   },
   "outputs": [],
   "source": [
    "conv_dict = {}\n",
    "for sid in adni2_conv.RID.unique():\n",
    "    # compare baseline and final DX to determine point of conversion\n",
    "    conv = adni2_conv[adni2_conv.RID == sid]['conv_2_ad']\n",
    "    if sum(conv) != 0:\n",
    "        tmp_df = adni2_conv[adni2_conv.RID == sid]\n",
    "        bl_dx = adni2_conv[adni2_conv.RID == sid]['DX'].values[0]\n",
    "        for i,row in tmp_df.iterrows():\n",
    "            dx = row[tmp_df.columns.get_loc(\"DX\")]\n",
    "            month = row[tmp_df.columns.get_loc(\"Month\")]\n",
    "            if dx != bl_dx:\n",
    "                #test[test.RID == sid]['Month_conv'] == month\n",
    "                conv_dict.update({sid: month})\n",
    "                break"
   ]
  },
  {
   "cell_type": "code",
   "execution_count": 134,
   "metadata": {},
   "outputs": [
    {
     "name": "stderr",
     "output_type": "stream",
     "text": [
      "/Users/AngelaTam/anaconda3/lib/python3.5/site-packages/ipykernel/__main__.py:6: DeprecationWarning: \n",
      ".ix is deprecated. Please use\n",
      ".loc for label based indexing or\n",
      ".iloc for positional indexing\n",
      "\n",
      "See the documentation here:\n",
      "http://pandas.pydata.org/pandas-docs/stable/indexing.html#ix-indexer-is-deprecated\n",
      "/Users/AngelaTam/anaconda3/lib/python3.5/site-packages/pandas/core/indexing.py:337: SettingWithCopyWarning: \n",
      "A value is trying to be set on a copy of a slice from a DataFrame.\n",
      "Try using .loc[row_indexer,col_indexer] = value instead\n",
      "\n",
      "See the caveats in the documentation: http://pandas.pydata.org/pandas-docs/stable/indexing.html#indexing-view-versus-copy\n",
      "  self.obj[key] = _infer_fill_value(value)\n",
      "/Users/AngelaTam/anaconda3/lib/python3.5/site-packages/pandas/core/indexing.py:517: SettingWithCopyWarning: \n",
      "A value is trying to be set on a copy of a slice from a DataFrame.\n",
      "Try using .loc[row_indexer,col_indexer] = value instead\n",
      "\n",
      "See the caveats in the documentation: http://pandas.pydata.org/pandas-docs/stable/indexing.html#indexing-view-versus-copy\n",
      "  self.obj[item] = s\n"
     ]
    }
   ],
   "source": [
    "for i,row in adni2_mci_bl.iterrows():\n",
    "    sid = row['RID']\n",
    "    conv = row['conv_2_ad']\n",
    "    if conv == 1:\n",
    "        try:\n",
    "            adni2_mci_bl.ix[i, 'Month_conv'] = conv_dict[sid]\n",
    "        except:\n",
    "            pass"
   ]
  },
  {
   "cell_type": "code",
   "execution_count": 136,
   "metadata": {},
   "outputs": [
    {
     "data": {
      "image/png": "[encoded data removed]",
      "text/plain": [
       "<matplotlib.figure.Figure at 0x10b4766d8>"
      ]
     },
     "metadata": {},
     "output_type": "display_data"
    }
   ],
   "source": [
    "plt.hist(adni2_mci_bl.dropna(subset=['Month_conv'])['Month_conv'].values)\n",
    "plt.xlabel('Months')\n",
    "plt.title('Conversion time in ADNI2')\n",
    "plt.show()"
   ]
  },
  {
   "cell_type": "code",
   "execution_count": 186,
   "metadata": {},
   "outputs": [
    {
     "data": {
      "text/plain": [
       "241"
      ]
     },
     "execution_count": 186,
     "metadata": {},
     "output_type": "execute_result"
    }
   ],
   "source": [
    "len(adni2_mci_bl)"
   ]
  },
  {
   "cell_type": "code",
   "execution_count": 188,
   "metadata": {},
   "outputs": [
    {
     "data": {
      "text/plain": [
       "240"
      ]
     },
     "execution_count": 188,
     "metadata": {},
     "output_type": "execute_result"
    }
   ],
   "source": [
    "len(adni2_mci_bl.drop(adni2_mci_bl[adni2_mci_bl.Month_conv > 36].index))"
   ]
  },
  {
   "cell_type": "code",
   "execution_count": 189,
   "metadata": {
    "collapsed": true
   },
   "outputs": [],
   "source": [
    "adni2_mci_bl.drop(adni2_mci_bl[adni2_mci_bl.Month_conv > 36].index, inplace=True)"
   ]
  },
  {
   "cell_type": "code",
   "execution_count": 192,
   "metadata": {},
   "outputs": [
    {
     "data": {
      "image/png": "[encoded data removed]",
      "text/plain": [
       "<matplotlib.figure.Figure at 0x108802080>"
      ]
     },
     "metadata": {},
     "output_type": "display_data"
    }
   ],
   "source": [
    "plt.hist(adni2_mci_bl.dropna(subset=['Month_conv'])['Month_conv'].values)\n",
    "plt.xlabel('Months')\n",
    "plt.title('Conversion time in ADNI2')\n",
    "plt.show()"
   ]
  },
  {
   "cell_type": "code",
   "execution_count": 180,
   "metadata": {},
   "outputs": [],
   "source": [
    "adni2_mci_bl.to_csv('/Users/AngelaTam/Desktop/adsf/adni1_vbm_adcn_subtypes_20171209/7clus/adni2_mci_bl_demog_weights.csv',\n",
    "                   index=False)"
   ]
  },
  {
   "cell_type": "code",
   "execution_count": null,
   "metadata": {
    "collapsed": true
   },
   "outputs": [],
   "source": []
  }
 ],
 "metadata": {
  "anaconda-cloud": {},
  "kernelspec": {
   "display_name": "Python 3",
   "language": "python",
   "name": "python3"
  },
  "language_info": {
   "codemirror_mode": {
    "name": "ipython",
    "version": 3
   },
   "file_extension": ".py",
   "mimetype": "text/x-python",
   "name": "python",
   "nbconvert_exporter": "python",
   "pygments_lexer": "ipython3",
   "version": "3.6.5"
  }
 },
 "nbformat": 4,
 "nbformat_minor": 2
}
